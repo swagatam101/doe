{
 "cells": [
  {
   "cell_type": "markdown",
   "id": "ab42dc72-66ea-429f-a81f-82d37e2b5d96",
   "metadata": {},
   "source": [
    "# Create HAdamard encoding "
   ]
  },
  {
   "cell_type": "code",
   "execution_count": 1,
   "id": "8b8f6a95-680c-4fb5-b175-59082213effc",
   "metadata": {},
   "outputs": [],
   "source": [
    "import numpy as np\n",
    "import pandas as pd\n",
    "import matplotlib\n",
    "import matplotlib.pyplot as plt\n",
    "from Bio.Data import IUPACData\n",
    "from collections import defaultdict\n",
    "from itertools import product, combinations\n",
    "from scipy.spatial.distance import hamming\n",
    "import scipy.stats as ss\n",
    "import cvxpy as cp\n",
    "import sys\n",
    "import scipy.linalg as sl\n",
    "\n",
    "sys.path.append(\"../\") \n",
    "import doe_utils\n",
    "\n",
    "# TEST MAKE AMINO ACID WORLD SMALL \n",
    "\n",
    "AMINO_ACIDS = doe_utils.AMINO_ACIDS\n"
   ]
  },
  {
   "cell_type": "markdown",
   "id": "e2455bfe-4504-4cdd-8ea2-d787c6e4b000",
   "metadata": {},
   "source": [
    "# For simulation, create a random parent amino acid sequence to create SOLD libraries from\n",
    "\n",
    "This is an example of a fully in silico path to test and understand the simulator. The functions in the simulator are written such that we can develop models from a given SOLD matrix.\n",
    "Deep mutational scan at multiple locaitons also conform to the SOLD matrix abstraction "
   ]
  },
  {
   "cell_type": "markdown",
   "id": "07d7e3ff-75c6-49a5-8f54-064a25dbaf76",
   "metadata": {},
   "source": [
    "## Pretend that a set of positions in the protein is mutated--create a sythesis SOLD matrix"
   ]
  },
  {
   "cell_type": "code",
   "execution_count": 2,
   "id": "4c7fee6e-7eb1-4a25-aca9-43f58df9dd74",
   "metadata": {},
   "outputs": [
    {
     "name": "stdout",
     "output_type": "stream",
     "text": [
      "Parent protein: GVTSIFGDYCVKPVCLALGVGFYILHDWTYRRAHNKNAYCPAVSSFYSAAHVTHQYNYEFSAKAQEVLHNECFTIILVINWTFTAWDYKNVVCWKDKVTL\n",
      "Random mutaed positions [ 9 14 36 61 90]\n"
     ]
    },
    {
     "data": {
      "text/html": [
       "<div>\n",
       "<style scoped>\n",
       "    .dataframe tbody tr th:only-of-type {\n",
       "        vertical-align: middle;\n",
       "    }\n",
       "\n",
       "    .dataframe tbody tr th {\n",
       "        vertical-align: top;\n",
       "    }\n",
       "\n",
       "    .dataframe thead th {\n",
       "        text-align: right;\n",
       "    }\n",
       "</style>\n",
       "<table border=\"1\" class=\"dataframe\">\n",
       "  <thead>\n",
       "    <tr style=\"text-align: right;\">\n",
       "      <th></th>\n",
       "      <th>0</th>\n",
       "      <th>1</th>\n",
       "      <th>2</th>\n",
       "      <th>3</th>\n",
       "      <th>4</th>\n",
       "      <th>5</th>\n",
       "      <th>6</th>\n",
       "      <th>7</th>\n",
       "      <th>8</th>\n",
       "      <th>9</th>\n",
       "      <th>...</th>\n",
       "      <th>90</th>\n",
       "      <th>91</th>\n",
       "      <th>92</th>\n",
       "      <th>93</th>\n",
       "      <th>94</th>\n",
       "      <th>95</th>\n",
       "      <th>96</th>\n",
       "      <th>97</th>\n",
       "      <th>98</th>\n",
       "      <th>99</th>\n",
       "    </tr>\n",
       "  </thead>\n",
       "  <tbody>\n",
       "    <tr>\n",
       "      <th>A</th>\n",
       "      <td>0.0</td>\n",
       "      <td>0.0</td>\n",
       "      <td>0.0</td>\n",
       "      <td>0.0</td>\n",
       "      <td>0.0</td>\n",
       "      <td>0.0</td>\n",
       "      <td>0.0</td>\n",
       "      <td>0.0</td>\n",
       "      <td>0.0</td>\n",
       "      <td>0.2</td>\n",
       "      <td>...</td>\n",
       "      <td>0.2</td>\n",
       "      <td>0.0</td>\n",
       "      <td>0.0</td>\n",
       "      <td>0.0</td>\n",
       "      <td>0.0</td>\n",
       "      <td>0.0</td>\n",
       "      <td>0.0</td>\n",
       "      <td>0.0</td>\n",
       "      <td>0.0</td>\n",
       "      <td>0.0</td>\n",
       "    </tr>\n",
       "    <tr>\n",
       "      <th>C</th>\n",
       "      <td>0.0</td>\n",
       "      <td>0.0</td>\n",
       "      <td>0.0</td>\n",
       "      <td>0.0</td>\n",
       "      <td>0.0</td>\n",
       "      <td>0.0</td>\n",
       "      <td>0.0</td>\n",
       "      <td>0.0</td>\n",
       "      <td>0.0</td>\n",
       "      <td>0.2</td>\n",
       "      <td>...</td>\n",
       "      <td>0.0</td>\n",
       "      <td>0.0</td>\n",
       "      <td>0.0</td>\n",
       "      <td>0.0</td>\n",
       "      <td>0.0</td>\n",
       "      <td>0.0</td>\n",
       "      <td>0.0</td>\n",
       "      <td>0.0</td>\n",
       "      <td>0.0</td>\n",
       "      <td>0.0</td>\n",
       "    </tr>\n",
       "    <tr>\n",
       "      <th>D</th>\n",
       "      <td>0.0</td>\n",
       "      <td>0.0</td>\n",
       "      <td>0.0</td>\n",
       "      <td>0.0</td>\n",
       "      <td>0.0</td>\n",
       "      <td>0.0</td>\n",
       "      <td>0.0</td>\n",
       "      <td>0.0</td>\n",
       "      <td>0.0</td>\n",
       "      <td>0.0</td>\n",
       "      <td>...</td>\n",
       "      <td>0.0</td>\n",
       "      <td>0.0</td>\n",
       "      <td>0.0</td>\n",
       "      <td>0.0</td>\n",
       "      <td>0.0</td>\n",
       "      <td>0.0</td>\n",
       "      <td>0.0</td>\n",
       "      <td>0.0</td>\n",
       "      <td>0.0</td>\n",
       "      <td>0.0</td>\n",
       "    </tr>\n",
       "    <tr>\n",
       "      <th>E</th>\n",
       "      <td>0.0</td>\n",
       "      <td>0.0</td>\n",
       "      <td>0.0</td>\n",
       "      <td>0.0</td>\n",
       "      <td>0.0</td>\n",
       "      <td>0.0</td>\n",
       "      <td>0.0</td>\n",
       "      <td>0.0</td>\n",
       "      <td>0.0</td>\n",
       "      <td>0.2</td>\n",
       "      <td>...</td>\n",
       "      <td>0.0</td>\n",
       "      <td>0.0</td>\n",
       "      <td>0.0</td>\n",
       "      <td>0.0</td>\n",
       "      <td>0.0</td>\n",
       "      <td>0.0</td>\n",
       "      <td>0.0</td>\n",
       "      <td>0.0</td>\n",
       "      <td>0.0</td>\n",
       "      <td>0.0</td>\n",
       "    </tr>\n",
       "    <tr>\n",
       "      <th>F</th>\n",
       "      <td>0.0</td>\n",
       "      <td>0.0</td>\n",
       "      <td>0.0</td>\n",
       "      <td>0.0</td>\n",
       "      <td>0.0</td>\n",
       "      <td>0.0</td>\n",
       "      <td>0.0</td>\n",
       "      <td>0.0</td>\n",
       "      <td>0.0</td>\n",
       "      <td>0.0</td>\n",
       "      <td>...</td>\n",
       "      <td>0.0</td>\n",
       "      <td>0.0</td>\n",
       "      <td>0.0</td>\n",
       "      <td>0.0</td>\n",
       "      <td>0.0</td>\n",
       "      <td>0.0</td>\n",
       "      <td>0.0</td>\n",
       "      <td>0.0</td>\n",
       "      <td>0.0</td>\n",
       "      <td>0.0</td>\n",
       "    </tr>\n",
       "  </tbody>\n",
       "</table>\n",
       "<p>5 rows × 100 columns</p>\n",
       "</div>"
      ],
      "text/plain": [
       "    0    1    2    3    4    5    6    7    8    9   ...   90   91   92   93  \\\n",
       "A  0.0  0.0  0.0  0.0  0.0  0.0  0.0  0.0  0.0  0.2  ...  0.2  0.0  0.0  0.0   \n",
       "C  0.0  0.0  0.0  0.0  0.0  0.0  0.0  0.0  0.0  0.2  ...  0.0  0.0  0.0  0.0   \n",
       "D  0.0  0.0  0.0  0.0  0.0  0.0  0.0  0.0  0.0  0.0  ...  0.0  0.0  0.0  0.0   \n",
       "E  0.0  0.0  0.0  0.0  0.0  0.0  0.0  0.0  0.0  0.2  ...  0.0  0.0  0.0  0.0   \n",
       "F  0.0  0.0  0.0  0.0  0.0  0.0  0.0  0.0  0.0  0.0  ...  0.0  0.0  0.0  0.0   \n",
       "\n",
       "    94   95   96   97   98   99  \n",
       "A  0.0  0.0  0.0  0.0  0.0  0.0  \n",
       "C  0.0  0.0  0.0  0.0  0.0  0.0  \n",
       "D  0.0  0.0  0.0  0.0  0.0  0.0  \n",
       "E  0.0  0.0  0.0  0.0  0.0  0.0  \n",
       "F  0.0  0.0  0.0  0.0  0.0  0.0  \n",
       "\n",
       "[5 rows x 100 columns]"
      ]
     },
     "execution_count": 2,
     "metadata": {},
     "output_type": "execute_result"
    }
   ],
   "source": [
    "length_of_protein = 100\n",
    "num_mutated = 5\n",
    "sold_mat_df, parent, mut_dict = doe_utils.create_synthetic_SOLD_matrix(num_mutated, length_of_protein, mut_probs = [0.20, 0.20, 0.20, 0.20], parent_prob=0.20) #6 postions mutated, pprtein length is 100 \n",
    "sold_mat_df.head() \n",
    "    "
   ]
  },
  {
   "cell_type": "markdown",
   "id": "96dbdfa2-f20e-4f04-8331-b915c758301d",
   "metadata": {},
   "source": [
    "# Plot the SOLD matrix "
   ]
  },
  {
   "cell_type": "code",
   "execution_count": 3,
   "id": "39946f90-bda6-4cdf-a9a4-309d9d5969a9",
   "metadata": {},
   "outputs": [
    {
     "data": {
      "image/png": "[encoded data removed]",
      "text/plain": [
       "<Figure size 1800x500 with 1 Axes>"
      ]
     },
     "metadata": {},
     "output_type": "display_data"
    }
   ],
   "source": [
    "plt.figure(figsize = (18,5))\n",
    "plt.imshow(sold_mat_df, aspect = 'auto', cmap = 'grey_r') \n",
    "_  = plt.xticks(range(length_of_protein), rotation = 90)\n",
    "_  = plt.yticks(range(len(AMINO_ACIDS)), AMINO_ACIDS)\n"
   ]
  },
  {
   "cell_type": "markdown",
   "id": "e8bba3a2-d854-4c7f-a637-51aab707bebb",
   "metadata": {},
   "source": [
    "# Now let's try to draw mutated sequences from this matrix \n",
    "\n",
    "Above I have created a simple SOLD mat, but I want to make tools such that everything below will work with any experimentalist provided SOLD mat"
   ]
  },
  {
   "cell_type": "code",
   "execution_count": 4,
   "id": "092fa79c-2ec5-405a-b31f-ba4e3635671c",
   "metadata": {},
   "outputs": [],
   "source": [
    "S = doe_utils.SOLD(sold_mat_df)\n",
    "seqs, mutations = S.generate_sequences(10000)"
   ]
  },
  {
   "cell_type": "code",
   "execution_count": 5,
   "id": "2b0670e0-2122-4dee-a309-79cb275df39f",
   "metadata": {},
   "outputs": [
    {
     "data": {
      "text/plain": [
       "'RCIKW'"
      ]
     },
     "execution_count": 5,
     "metadata": {},
     "output_type": "execute_result"
    }
   ],
   "source": [
    "seqs[0]"
   ]
  },
  {
   "cell_type": "code",
   "execution_count": 6,
   "id": "6a88fa1b-185a-42b9-992b-b989199dda0a",
   "metadata": {},
   "outputs": [],
   "source": [
    "probs = S.compute_prob_n_mutations(num_mutated+1)"
   ]
  },
  {
   "cell_type": "code",
   "execution_count": 7,
   "id": "7e6d36df-bccc-4639-a380-95e1bb47c0ed",
   "metadata": {},
   "outputs": [
    {
     "data": {
      "text/plain": [
       "Text(0.5, 1.0, 'Sanity check: theory vs empirical counts \\n of mutations observed in sampling using a SOLD mat')"
      ]
     },
     "execution_count": 7,
     "metadata": {},
     "output_type": "execute_result"
    },
    {
     "data": {
      "image/png": "[encoded data removed]",
      "text/plain": [
       "<Figure size 640x480 with 1 Axes>"
      ]
     },
     "metadata": {},
     "output_type": "display_data"
    }
   ],
   "source": [
    "plt.hist(mutations, bins= np.array(range(10)) - 0.25, density = True, align = \"mid\", width = 0.5) \n",
    "plt.ylabel('probability')\n",
    "plt.xlabel('count of mutations') \n",
    "plt.plot(probs)\n",
    "plt.title(\"Sanity check: theory vs empirical counts \\n of mutations observed in sampling using a SOLD mat\")"
   ]
  },
  {
   "cell_type": "markdown",
   "id": "408bd93e-caac-4322-8306-a4d920ef218c",
   "metadata": {},
   "source": [
    "# Now I need to provide weights to the independent and pairwise contributions\n",
    "\n",
    "I create a mixture of pdfs to draw from, with a zero component (meaning not all independent and pairwise contributions have differential activity compared to parent, some have no effect, and one can control this effect size or model complexity in these simulations) \n",
    "Create a mixture of weigthts with random components and some sparse components "
   ]
  },
  {
   "cell_type": "code",
   "execution_count": 14,
   "id": "32e2c442-a387-441f-95ed-8374ae12f793",
   "metadata": {},
   "outputs": [],
   "source": [
    "from doe_utils import create_masked_features, H_20\n",
    "\n",
    "class create_in_silico_model: \n",
    "    \"\"\"\n",
    "    Create an in silico model for simulation with independent and pairwise (epistatic) contributions \n",
    "    \"\"\"\n",
    "    def __init__(self, mutated_region_length, mutation_probs_variable_region_dict, independent_params = None, pairwise_params = None): \n",
    "        \"\"\"\n",
    "        Args:\n",
    "            mutated_region_length: the length of ONLY the variable region (mutated region) of the protein, NOT the whole protein length! \n",
    "            mutation_probs ..  : pass the dict of mutation probs (this is generated by SOLD matrix class, attribute dict is called mutation_probs_variable_region_indexed) \n",
    "                example:\n",
    "                {0: {'D': 0.05, 'K': 0.85, 'M': 0.05, 'Y': 0.05},\n",
    "                 1: {'C': 0.05, 'G': 0.05, 'I': 0.05, 'P': 0.85},\n",
    "                 2: {'F': 0.05, 'N': 0.05, 'R': 0.85, 'Y': 0.05},\n",
    "                 3: {'G': 0.05, 'I': 0.05, 'L': 0.85, 'Q': 0.05},\n",
    "                 4: {'A': 0.05, 'E': 0.05, 'R': 0.05, 'W': 0.85},\n",
    "                 5: {'A': 0.05, 'D': 0.05, 'I': 0.85, 'K': 0.05}}\n",
    "                where the keys are the index of the mutated regions and the values are dicts of probs of each amino acid\n",
    "            idependent_params: {'rho':[0.2, 0.2], 'sparse_pdf_names': ['norm', 'norm'], 'noise_sigma' : 0.01, 'sparse_params': [{'loc': 1, 'scale': 0.2}, {'loc': -1, 'scale': 0.2}]} \n",
    "            pairwise_params: {'rho':[0.1, 0.1], 'sparse_pdf_names': ['norm', 'norm'], 'noise_sigma' : 0.01, 'sparse_params': [{'loc': 0.75, 'scale': 0.2}, {'loc': -0.75, 'scale': 0.2}]} \n",
    "            \n",
    "        \"\"\"\n",
    "        # independent params pdf default --- \n",
    "        I_defaults = {'rho':[0.2, 0.2], 'sparse_pdf_names': ['norm', 'norm'], 'noise_sigma' : 0.01, 'sparse_params': [{'loc': 1, 'scale': 0.2}, {'loc': -1, 'scale': 0.2}]} \n",
    "        #pairwise params pdf default ---\n",
    "        P_defaults = {'rho':[0.2, 0.2], 'sparse_pdf_names': ['norm', 'norm'], 'noise_sigma' : 0.01, 'sparse_params': [{'loc': 0.75, 'scale': 0.2}, {'loc': -0.75, 'scale': 0.2}]} \n",
    "\n",
    "        self.mutated_region_length = mutated_region_length \n",
    "\n",
    "        if independent_params is not None: \n",
    "            I_defaults.update(independent_params) \n",
    "        self.independent_params = I_defaults.copy()  \n",
    "\n",
    "        if pairwise_params is not None: \n",
    "            P_defaults.update(pairwise_params) \n",
    "        # see the create mixture function\n",
    "        self.pairwise_params = P_defaults.copy() \n",
    "\n",
    "        assert len(mutation_probs_variable_region_dict) == self.mutated_region_length, \"The dict passed is invalid, length mismatch\" \n",
    "        self.mutation_probs_variable_region_dict = mutation_probs_variable_region_dict\n",
    "        self.independent_mask, self.pairwise_mask, self.feature_names_independent, self.feature_names_pairwise = \\\n",
    "        create_masked_features(self.mutated_region_length, self.mutation_probs_variable_region_dict)\n",
    "        # These are the possibe features in combination \n",
    "        self.amino_product = [''.join(x) for x in product(AMINO_ACIDS, AMINO_ACIDS)]\n",
    "        self.pos_product = [np.asarray(x) for x in combinations(np.arange(mutated_region_length), 2)]\n",
    "\n",
    "        # Now I need to create the codes for the amino acids, using Hadamard matrix, drom the first column which is constant \n",
    "        single_base_code_mat = H_20[:, 1:] # these are the codes for AMINO_ACIDS \n",
    "        double_base_code_mat = np.kron(single_base_code_mat, single_base_code_mat) # for AMINO_ACID pairs \n",
    "        # Notice that order in maintained in itertools.product and np.kron --- I checked--- this double_base_code_mat should now be assigned to the products \n",
    "        # This is truly how we genralize to other interaction combinations \n",
    "\n",
    "        # Now I need to collect all of this in codes for every position that actually appear in the \n",
    "\n",
    "        \n",
    "        # Note, i need to drop the constant first column and only take 20 other columns --- you ca\n",
    "        \n",
    "        # now create weights \n",
    "        # self.Prob_I = create_mixture(**self.independent_params)\n",
    "        # I_samples, _ = self.Prob_I.samples(np.prod(self.shape_independent_weights))         \n",
    "\n",
    "        # Now create the pairwise component weights! \n",
    "        \n",
    "       \n",
    "        #self.shape_pairwise_weights  = (len(self.amino_product), len(self.pos_product))\n",
    "        \n",
    "        \n",
    "        \n",
    "        # now create weights \n",
    "        # self.Prob_P = create_mixture(**self.pairwise_params)\n",
    "        # P_samples, _ = self.Prob_P.samples(np.prod(self.shape_pairwise_weights))             \n",
    "\n",
    "        \n",
    "        # zero out independent weights not in mask \n",
    "\n",
    "        self.independent_weights = np.copy(self.raw_independent_weights)\n",
    "        self.independent_weights[~self.independent_mask] = 0 # only keep the masked weights \n",
    "        independent_vals = _create_zero_mean_indepedent_feature_weights(self.raw_independent_weights[self.independent_mask], self.feature_names_independent) \n",
    "        self.independent_weights[self.independent_mask] = independent_vals\n",
    "        \n",
    "        # now normalize pairwise masks \n",
    "        pairwise_vals, _ = _create_zero_mean_pairwise_weights(self.raw_pairwise_weights[self.pairwise_mask], self.feature_names_pairwise, self.feature_names_independent)\n",
    "\n",
    "        self.pairwise_weights = np.copy(self.raw_pairwise_weights) \n",
    "        self.pairwise_weights[self.pairwise_mask] = pairwise_vals\n",
    "        self.pairwise_weights[~self.pairwise_mask] = 0 \n",
    "\n",
    "        self.ground_truth_params = np.concatenate((np.ravel(self.independent_weights[self.independent_mask]), np.ravel(self.pairwise_weights[self.pairwise_mask])))\n",
    "        \n",
    "\n",
    "    def model(self, independent_codes, pairwise_codes, masked = False): \n",
    "        \"\"\"\n",
    "        Args: \n",
    "            independent_codes: the result of encoding my sequence encoder to independent codes --- these are tensors--- N seqs times A amino acids time L positions (shape_independet_weights) etc. \n",
    "            pairwise_codes: similar \n",
    "            masked: ignore the weights of independent and pairwise positions that are not variable! \n",
    "        \"\"\"\n",
    "        ans1 = np.einsum('ijk, jk -> i', independent_codes, self.independent_weights) \n",
    "        ans2 = np.einsum('ijk, jk -> i', pairwise_codes, self.pairwise_weights)\n",
    "        return ans1 + ans2 \n",
    "        \n",
    "    def plot_weights(self): \n",
    "        \"\"\"\n",
    "        Plotting functions \n",
    "        \"\"\"\n",
    "        I_samples = np.ravel(self.raw_independent_weights) \n",
    "        GRID_SIZE = 1000\n",
    "        x = np.linspace(np.min(I_samples), np.max(I_samples), GRID_SIZE)\n",
    "        plt.figure() \n",
    "        plt.plot(x, self.Prob_I.pdf()(x))\n",
    "        _ = plt.hist(I_samples, density=True, bins = 50)        \n",
    "        plt.title('Distribution of unmaked independent weights') \n",
    "\n",
    "        P_samples = np.ravel(self.raw_pairwise_weights) \n",
    "        x = np.linspace(np.min(P_samples), np.max(P_samples), GRID_SIZE)\n",
    "        plt.figure() \n",
    "        plt.plot(x, self.Prob_P.pdf()(x))\n",
    "        _ = plt.hist(P_samples, density=True, bins = 50)        \n",
    "        plt.title('Distribution of unmasked pairwise weights') \n",
    "        # weights \n",
    "        plt.figure() \n",
    "        plt.imshow(self.independent_weights, vmin = -1, vmax = 1, cmap = 'RdBu') \n",
    "        _  = plt.xticks(range(self.mutated_region_length), rotation = 90)\n",
    "        _  = plt.yticks(range(len(AMINO_ACIDS)), AMINO_ACIDS)\n",
    "        plt.title(\"Independent weights\") \n",
    "        plt.colorbar() \n",
    "        plt.figure(figsize = (5, 70))\n",
    "        plt.imshow(self.pairwise_weights, vmin = -1, vmax = 1, cmap = 'RdBu', aspect = 'auto') \n",
    "        _  = plt.xticks(range(len(self.pos_product)), self.pos_product, rotation = 90)\n",
    "        _  = plt.yticks(range(len(self.amino_product)), self.amino_product)\n",
    "        plt.title(\"Pairwise weights\") \n",
    "        #plt.colorbar\n",
    "\n",
    "\n"
   ]
  },
  {
   "cell_type": "code",
   "execution_count": 16,
   "id": "85816cc9-caaf-4482-aea7-f7c0c9344b63",
   "metadata": {},
   "outputs": [],
   "source": [
    "single_base_code_mat = H_20[:, 1:] \n",
    "double_base_code_mat = np.kron(single_base_code_mat, single_base_code_mat)\n",
    "\n"
   ]
  },
  {
   "cell_type": "code",
   "execution_count": 19,
   "id": "91a02a45-fb96-44de-988d-845e750c139d",
   "metadata": {},
   "outputs": [
    {
     "data": {
      "text/plain": [
       "array([-1,  1, -1, -1, -1, -1,  1,  1, -1, -1,  1, -1, -1,  1,  1,  1,  1,\n",
       "       -1,  1, -1,  1, -1, -1, -1, -1,  1,  1, -1, -1,  1, -1, -1,  1,  1,\n",
       "        1,  1, -1,  1, -1,  1, -1, -1, -1, -1,  1,  1, -1, -1,  1, -1, -1,\n",
       "        1,  1,  1,  1, -1,  1, -1,  1, -1, -1, -1, -1,  1,  1, -1, -1,  1,\n",
       "       -1, -1,  1,  1,  1,  1, -1,  1, -1,  1, -1, -1, -1, -1,  1,  1, -1,\n",
       "       -1,  1, -1, -1,  1,  1,  1,  1, -1,  1, -1,  1, -1, -1, -1, -1,  1,\n",
       "        1, -1, -1,  1, -1, -1,  1,  1,  1,  1, -1,  1, -1,  1, -1, -1, -1,\n",
       "       -1,  1,  1, -1, -1,  1, -1, -1,  1,  1,  1,  1, -1,  1, -1,  1, -1,\n",
       "       -1, -1, -1,  1,  1, -1, -1,  1, -1, -1,  1,  1,  1,  1, -1,  1, -1,\n",
       "        1, -1, -1, -1, -1,  1,  1, -1, -1,  1, -1, -1,  1,  1,  1,  1, -1,\n",
       "        1, -1,  1, -1, -1, -1, -1,  1,  1, -1, -1,  1, -1, -1,  1,  1,  1,\n",
       "        1, -1,  1, -1,  1, -1, -1, -1, -1,  1,  1, -1, -1,  1, -1, -1,  1,\n",
       "        1,  1,  1, -1,  1, -1,  1, -1, -1, -1, -1,  1,  1, -1, -1,  1, -1,\n",
       "       -1,  1,  1,  1,  1, -1,  1, -1,  1, -1, -1, -1, -1,  1,  1, -1, -1,\n",
       "        1, -1, -1,  1,  1,  1,  1, -1,  1, -1,  1, -1, -1, -1, -1,  1,  1,\n",
       "       -1, -1,  1, -1, -1,  1,  1,  1,  1, -1,  1, -1,  1, -1, -1, -1, -1,\n",
       "        1,  1, -1, -1,  1, -1, -1,  1,  1,  1,  1, -1,  1, -1,  1, -1, -1,\n",
       "       -1, -1,  1,  1, -1, -1,  1, -1, -1,  1,  1,  1,  1, -1,  1, -1,  1,\n",
       "       -1, -1, -1, -1,  1,  1, -1, -1,  1, -1, -1,  1,  1,  1,  1, -1,  1,\n",
       "       -1,  1, -1, -1, -1, -1,  1,  1, -1, -1,  1, -1, -1,  1,  1,  1,  1,\n",
       "       -1,  1, -1,  1, -1, -1, -1, -1,  1,  1, -1, -1,  1, -1, -1,  1,  1,\n",
       "        1,  1, -1,  1])"
      ]
     },
     "execution_count": 19,
     "metadata": {},
     "output_type": "execute_result"
    }
   ],
   "source": [
    "double_base_code_mat[10]"
   ]
  },
  {
   "cell_type": "code",
   "execution_count": 32,
   "id": "69e6c08d-9d5b-46de-80ac-9a9221cd33ef",
   "metadata": {},
   "outputs": [
    {
     "data": {
      "text/plain": [
       "'MA'"
      ]
     },
     "execution_count": 32,
     "metadata": {},
     "output_type": "execute_result"
    }
   ],
   "source": [
    "amino_product = [''.join(x) for x in product(AMINO_ACIDS, AMINO_ACIDS)]\n",
    "amino_product[200]"
   ]
  },
  {
   "cell_type": "code",
   "execution_count": 33,
   "id": "67df1299-5289-4db5-abf4-c8d8745218c4",
   "metadata": {},
   "outputs": [
    {
     "data": {
      "text/plain": [
       "'M'"
      ]
     },
     "execution_count": 33,
     "metadata": {},
     "output_type": "execute_result"
    }
   ],
   "source": [
    "AMINO_ACIDS[10]"
   ]
  },
  {
   "cell_type": "code",
   "execution_count": null,
   "id": "aee85cb5-610a-420a-9040-bfd9c8bb0e02",
   "metadata": {},
   "outputs": [],
   "source": []
  },
  {
   "cell_type": "code",
   "execution_count": 34,
   "id": "4ee3055c-8b3a-44e0-969e-851f6b62ae1b",
   "metadata": {},
   "outputs": [
    {
     "data": {
      "text/plain": [
       "np.True_"
      ]
     },
     "execution_count": 34,
     "metadata": {},
     "output_type": "execute_result"
    }
   ],
   "source": [
    "np.all(np.kron(single_base_code_mat[10], single_base_code_mat[0]) == double_base_code_mat[200])"
   ]
  },
  {
   "cell_type": "code",
   "execution_count": 13,
   "id": "0032f0ed-0de9-4c52-b167-996148ce8d52",
   "metadata": {},
   "outputs": [
    {
     "ename": "NameError",
     "evalue": "name '_create_zero_mean_indepedent_feature_weights' is not defined",
     "output_type": "error",
     "traceback": [
      "\u001b[31m---------------------------------------------------------------------------\u001b[39m",
      "\u001b[31mNameError\u001b[39m                                 Traceback (most recent call last)",
      "\u001b[36mCell\u001b[39m\u001b[36m \u001b[39m\u001b[32mIn[13]\u001b[39m\u001b[32m, line 5\u001b[39m\n\u001b[32m      1\u001b[39m I_params = {\u001b[33m'\u001b[39m\u001b[33mrho\u001b[39m\u001b[33m'\u001b[39m:[\u001b[32m0.49\u001b[39m, \u001b[32m0.49\u001b[39m], \u001b[33m'\u001b[39m\u001b[33msparse_pdf_names\u001b[39m\u001b[33m'\u001b[39m: [\u001b[33m'\u001b[39m\u001b[33mnorm\u001b[39m\u001b[33m'\u001b[39m, \u001b[33m'\u001b[39m\u001b[33mnorm\u001b[39m\u001b[33m'\u001b[39m], \u001b[33m'\u001b[39m\u001b[33mnoise_sigma\u001b[39m\u001b[33m'\u001b[39m : \u001b[32m0.01\u001b[39m, \u001b[33m'\u001b[39m\u001b[33msparse_params\u001b[39m\u001b[33m'\u001b[39m: [{\u001b[33m'\u001b[39m\u001b[33mloc\u001b[39m\u001b[33m'\u001b[39m: \u001b[32m1\u001b[39m, \u001b[33m'\u001b[39m\u001b[33mscale\u001b[39m\u001b[33m'\u001b[39m: \u001b[32m0.2\u001b[39m}, {\u001b[33m'\u001b[39m\u001b[33mloc\u001b[39m\u001b[33m'\u001b[39m: -\u001b[32m1\u001b[39m, \u001b[33m'\u001b[39m\u001b[33mscale\u001b[39m\u001b[33m'\u001b[39m: \u001b[32m0.2\u001b[39m}]} \n\u001b[32m      2\u001b[39m P_params = {\u001b[33m'\u001b[39m\u001b[33mrho\u001b[39m\u001b[33m'\u001b[39m:[\u001b[32m0.49\u001b[39m, \u001b[32m0.49\u001b[39m], \u001b[33m'\u001b[39m\u001b[33msparse_pdf_names\u001b[39m\u001b[33m'\u001b[39m: [\u001b[33m'\u001b[39m\u001b[33mnorm\u001b[39m\u001b[33m'\u001b[39m, \u001b[33m'\u001b[39m\u001b[33mnorm\u001b[39m\u001b[33m'\u001b[39m], \u001b[33m'\u001b[39m\u001b[33mnoise_sigma\u001b[39m\u001b[33m'\u001b[39m : \u001b[32m0.01\u001b[39m, \u001b[33m'\u001b[39m\u001b[33msparse_params\u001b[39m\u001b[33m'\u001b[39m: [{\u001b[33m'\u001b[39m\u001b[33mloc\u001b[39m\u001b[33m'\u001b[39m: \u001b[32m0.75\u001b[39m, \u001b[33m'\u001b[39m\u001b[33mscale\u001b[39m\u001b[33m'\u001b[39m: \u001b[32m0.2\u001b[39m}, {\u001b[33m'\u001b[39m\u001b[33mloc\u001b[39m\u001b[33m'\u001b[39m: -\u001b[32m0.75\u001b[39m, \u001b[33m'\u001b[39m\u001b[33mscale\u001b[39m\u001b[33m'\u001b[39m: \u001b[32m0.2\u001b[39m}]} \n\u001b[32m----> \u001b[39m\u001b[32m5\u001b[39m Model_in_silico = \u001b[43mdoe_utils\u001b[49m\u001b[43m.\u001b[49m\u001b[43mcreate_in_silico_model\u001b[49m\u001b[43m(\u001b[49m\u001b[43mnum_mutated\u001b[49m\u001b[43m,\u001b[49m\u001b[43m \u001b[49m\u001b[43mS\u001b[49m\u001b[43m.\u001b[49m\u001b[43mmutation_probs_variable_region_indexed\u001b[49m\u001b[43m,\u001b[49m\u001b[43m \u001b[49m\u001b[43mindependent_params\u001b[49m\u001b[43m=\u001b[49m\u001b[43mI_params\u001b[49m\u001b[43m,\u001b[49m\u001b[43m \u001b[49m\u001b[43mpairwise_params\u001b[49m\u001b[43m=\u001b[49m\u001b[43mP_params\u001b[49m\u001b[43m)\u001b[49m\n\u001b[32m      6\u001b[39m Model_in_silico.plot_weights()\n",
      "\u001b[36mFile \u001b[39m\u001b[32m~/PythonProjects/doe/doe_utils.py:447\u001b[39m, in \u001b[36mcreate_in_silico_model.__init__\u001b[39m\u001b[34m(self, mutated_region_length, mutation_probs_variable_region_dict, independent_params, pairwise_params)\u001b[39m\n\u001b[32m    445\u001b[39m \u001b[38;5;28mself\u001b[39m.independent_weights = np.copy(\u001b[38;5;28mself\u001b[39m.raw_independent_weights)\n\u001b[32m    446\u001b[39m \u001b[38;5;28mself\u001b[39m.independent_weights[~\u001b[38;5;28mself\u001b[39m.independent_mask] = \u001b[32m0\u001b[39m \u001b[38;5;66;03m# only keep the masked weights \u001b[39;00m\n\u001b[32m--> \u001b[39m\u001b[32m447\u001b[39m independent_vals = \u001b[43m_create_zero_mean_indepedent_feature_weights\u001b[49m(\u001b[38;5;28mself\u001b[39m.raw_independent_weights[\u001b[38;5;28mself\u001b[39m.independent_mask], \u001b[38;5;28mself\u001b[39m.feature_names_independent) \n\u001b[32m    448\u001b[39m \u001b[38;5;28mself\u001b[39m.independent_weights[\u001b[38;5;28mself\u001b[39m.independent_mask] = independent_vals\n\u001b[32m    450\u001b[39m \u001b[38;5;66;03m# now normalize pairwise masks \u001b[39;00m\n",
      "\u001b[31mNameError\u001b[39m: name '_create_zero_mean_indepedent_feature_weights' is not defined"
     ]
    }
   ],
   "source": [
    "I_params = {'rho':[0.49, 0.49], 'sparse_pdf_names': ['norm', 'norm'], 'noise_sigma' : 0.01, 'sparse_params': [{'loc': 1, 'scale': 0.2}, {'loc': -1, 'scale': 0.2}]} \n",
    "P_params = {'rho':[0.49, 0.49], 'sparse_pdf_names': ['norm', 'norm'], 'noise_sigma' : 0.01, 'sparse_params': [{'loc': 0.75, 'scale': 0.2}, {'loc': -0.75, 'scale': 0.2}]} \n",
    "\n",
    "\n",
    "Model_in_silico = doe_utils.create_in_silico_model(num_mutated, S.mutation_probs_variable_region_indexed, independent_params=I_params, pairwise_params=P_params)\n",
    "Model_in_silico.plot_weights()"
   ]
  },
  {
   "cell_type": "code",
   "execution_count": null,
   "id": "5af3d362-acf7-42ee-8047-25e5872475ff",
   "metadata": {},
   "outputs": [],
   "source": [
    "Model_in_silico.independent_params"
   ]
  },
  {
   "cell_type": "markdown",
   "id": "9647d771-029c-47e9-a490-0d97f51aabac",
   "metadata": {},
   "source": [
    "# Now compute respose for a bunch of seqs\n",
    "\n",
    "Need to eocnde the sequeces into pairwise and independent features \n"
   ]
  },
  {
   "cell_type": "markdown",
   "id": "fc5b790b-c9a0-45fd-ac4f-94f5345f3914",
   "metadata": {},
   "source": [
    "# ENCODE"
   ]
  },
  {
   "cell_type": "code",
   "execution_count": null,
   "id": "97e1bdb3-0672-46d4-ab64-b7e2312bcd09",
   "metadata": {},
   "outputs": [],
   "source": [
    "Encoder = doe_utils.sequence_encoder(num_mutated)\n",
    "encodings = Encoder.encode_seqs(seqs) # this produces two lists --- the first 1 is the independent encodings, the second one is pairwise encodings "
   ]
  },
  {
   "cell_type": "code",
   "execution_count": null,
   "id": "7194cc23-c05f-4ffc-a227-d78b8622f7bb",
   "metadata": {},
   "outputs": [],
   "source": [
    "responses = Model_in_silico.model(encodings[0], encodings[1], masked= True) "
   ]
  },
  {
   "cell_type": "code",
   "execution_count": null,
   "id": "d87f6b03-cba5-4162-a53b-27abdb7d92bf",
   "metadata": {},
   "outputs": [],
   "source": [
    "_ = plt.hist(responses, bins = 25)\n",
    "plt.title(\"in silico responses (indel activity)\") "
   ]
  },
  {
   "cell_type": "markdown",
   "id": "420ff8c3-93a4-43ac-8a37-7bd5f4f843ce",
   "metadata": {},
   "source": [
    "# Now do sparse (elastic net) linear regression to learn back the weights "
   ]
  },
  {
   "cell_type": "code",
   "execution_count": null,
   "id": "89a57c64-2544-4ae4-9b64-b57c2e410814",
   "metadata": {},
   "outputs": [],
   "source": [
    "fit_model = doe_utils.fitting_model(S.mutation_probs_variable_region_indexed)\n",
    "fitted_params, fit_responses = fit_model.fit(seqs, responses)\n",
    "\n",
    "plt.figure() \n",
    "plt.imshow(fit_model.constraints, aspect = 'auto', cmap = 'Greys', interpolation = 'None') \n",
    "plt.figure() \n",
    "plt.scatter(Model_in_silico.ground_truth_params, fitted_params)\n",
    "plt.xlabel(\"ground truth\") \n",
    "plt.ylabel(\"fitted params\") \n",
    "\n"
   ]
  },
  {
   "cell_type": "code",
   "execution_count": null,
   "id": "5c6a8fb1-3667-4a02-97ef-075535f2f040",
   "metadata": {},
   "outputs": [],
   "source": [
    "np.sum(Model_in_silico.pairwise_weights, axis =1)"
   ]
  },
  {
   "cell_type": "code",
   "execution_count": null,
   "id": "dec71ea0-6142-4cc0-8a8e-4d544792a7f7",
   "metadata": {},
   "outputs": [],
   "source": [
    "import scipy \n",
    "\n",
    "plt.plot(scipy.linalg.svdvals(fit_model.features.T.dot(fit_model.features)))\n",
    "\n",
    "plt.title('Null space problem, we have zero eigenvalues in feature matrix')\n",
    "plt.yscale('log')"
   ]
  },
  {
   "cell_type": "code",
   "execution_count": null,
   "id": "c4016a23-02f8-46e1-9742-a8e065591ce2",
   "metadata": {},
   "outputs": [],
   "source": [
    "plt.scatter(fitted_params[fit_model.pairwise_indices], Model_in_silico.pairwise_weights[Model_in_silico.pairwise_mask])\n",
    "plt.title('Pairwise params') "
   ]
  },
  {
   "cell_type": "code",
   "execution_count": null,
   "id": "24b164df-a367-4473-bdc0-fc33aa1fd7fa",
   "metadata": {},
   "outputs": [],
   "source": [
    "a,b  = doe_utils._create_zero_mean_pairwise_weights(Model_in_silico.pairwise_weights[Model_in_silico.pairwise_mask], Model_in_silico.feature_names_pairwise, Model_in_silico.feature_names_independent)\n",
    "c,d = doe_utils._create_zero_mean_pairwise_weights(fitted_params[fit_model.pairwise_indices], Model_in_silico.feature_names_pairwise, Model_in_silico.feature_names_independent)"
   ]
  },
  {
   "cell_type": "code",
   "execution_count": null,
   "id": "7d4a5e28-a314-4dda-b5cc-cb5560a4bee4",
   "metadata": {},
   "outputs": [],
   "source": [
    "plt.plot(b)\n",
    "plt.plot(d)"
   ]
  },
  {
   "cell_type": "code",
   "execution_count": null,
   "id": "ea671d12-fd84-4dea-a66c-a5d10cb0abb0",
   "metadata": {},
   "outputs": [],
   "source": [
    "d"
   ]
  },
  {
   "cell_type": "code",
   "execution_count": null,
   "id": "5eb408b5-d055-4556-825c-978dbd2fb432",
   "metadata": {},
   "outputs": [],
   "source": [
    "plt.scatter(fitted_params[fit_model.independent_indices], Model_in_silico.independent_weights[Model_in_silico.independent_mask])\n",
    "plt.title('independent params')"
   ]
  },
  {
   "cell_type": "code",
   "execution_count": null,
   "id": "61d5650f-38bd-415b-9ec4-9dd68f85cc18",
   "metadata": {},
   "outputs": [],
   "source": [
    "plt.plot(fit_responses, responses)"
   ]
  },
  {
   "cell_type": "code",
   "execution_count": null,
   "id": "d4e3b5be-6b4c-4c11-8239-1876c48602f9",
   "metadata": {},
   "outputs": [],
   "source": [
    "np.sum(scipy.linalg.svdvals(fit_model.features.T.dot(fit_model.features)) < 0.0001)"
   ]
  },
  {
   "cell_type": "code",
   "execution_count": null,
   "id": "6a8b16b7-c1e6-4f5b-b602-8f6aa80acc30",
   "metadata": {},
   "outputs": [],
   "source": [
    "print(\"Cant account for ... \") \n",
    "\n",
    "np.sum(scipy.linalg.svdvals(fit_model.features.T.dot(fit_model.features)) < 0.0001) -np.shape(fit_model.constraints)[0]"
   ]
  },
  {
   "cell_type": "code",
   "execution_count": null,
   "id": "97e4aec4-481d-4b29-a8ae-0d5bd0928b87",
   "metadata": {},
   "outputs": [],
   "source": [
    "np.shape(Model_in_silico.pairwise_weights)"
   ]
  },
  {
   "cell_type": "code",
   "execution_count": null,
   "id": "a401fe2b-66af-48a5-93cd-e7b599b70098",
   "metadata": {},
   "outputs": [],
   "source": [
    "np.shape(fit_model.constraints)"
   ]
  },
  {
   "cell_type": "code",
   "execution_count": null,
   "id": "4b8dc70a-8502-467b-97d8-5869a4546979",
   "metadata": {},
   "outputs": [],
   "source": [
    "np.shape(fit_model.independent_indices)"
   ]
  },
  {
   "cell_type": "code",
   "execution_count": null,
   "id": "816a3f8a-468c-4f81-a3f1-49c61eba2f83",
   "metadata": {},
   "outputs": [],
   "source": [
    "np.shape(fit_model.pairwise_indices)"
   ]
  },
  {
   "cell_type": "code",
   "execution_count": null,
   "id": "fad076b1-8ce0-4170-88ad-291f2d0b8035",
   "metadata": {},
   "outputs": [],
   "source": [
    "import re\n",
    "\n",
    "A = np.asarray([re.split(':' + \"|\" + '-', a) for a in Model_in_silico.feature_names_pairwise]) \n",
    "\n",
    "collector = [] \n",
    "for a in A: \n",
    "    if a[1] != a[3]:\n",
    "        collector.append(a)\n",
    "    "
   ]
  },
  {
   "cell_type": "code",
   "execution_count": null,
   "id": "8f98b3dc-a53c-4b1b-b822-524537c85e9f",
   "metadata": {},
   "outputs": [],
   "source": [
    "np.shape(fit_model.independent_indices)"
   ]
  },
  {
   "cell_type": "code",
   "execution_count": null,
   "id": "666a5cc1-bdf4-4650-8eca-74c357f9ee75",
   "metadata": {},
   "outputs": [],
   "source": [
    "ij = [a+b for a,b in zip(A[:,1],A[:,3])]\n",
    "len(np.unique(ij))"
   ]
  },
  {
   "cell_type": "code",
   "execution_count": null,
   "id": "eb8a192c-c8eb-49c5-8b87-13f5eb534546",
   "metadata": {},
   "outputs": [],
   "source": [
    "np.unique([[a,b] for a,b in zip(A[:,0], A[:,2])], axis = 0)"
   ]
  },
  {
   "cell_type": "code",
   "execution_count": null,
   "id": "e3f5eb79-771d-4c4f-b646-f03c5b1e780a",
   "metadata": {},
   "outputs": [],
   "source": [
    "A[:, [0, 2]]"
   ]
  },
  {
   "cell_type": "code",
   "execution_count": null,
   "id": "eaf29ca5-7d4b-4eac-b154-1563cc9a2098",
   "metadata": {},
   "outputs": [],
   "source": [
    "inds = np.all(A[:, [0,2]] == ['0', '1'], axis = 1)\n",
    "inds"
   ]
  },
  {
   "cell_type": "code",
   "execution_count": null,
   "id": "0e99e666-6774-4f1d-88cb-e0e24aa21a79",
   "metadata": {},
   "outputs": [],
   "source": [
    "A[inds]"
   ]
  },
  {
   "cell_type": "code",
   "execution_count": null,
   "id": "ec0f9978-ab60-4c49-a272-3940112f8152",
   "metadata": {},
   "outputs": [],
   "source": [
    "\n",
    "plt.figure(figsize = (5, 70))\n",
    "plt.imshow(encodings[1][0], aspect = 'auto', interpolation = 'None', vmin = 0, vmax = 1, cmap = 'Greys')\n",
    "_  = plt.xticks(range(len(Encoder.pos_product)), Encoder.pos_product, rotation = 90)\n",
    "_  = plt.yticks(range(len(Encoder.amino_product)), Encoder.amino_product)\n",
    "plt.title(seqs[0]) "
   ]
  },
  {
   "cell_type": "code",
   "execution_count": null,
   "id": "aead177b-f329-49d3-a6ac-414cae9cd054",
   "metadata": {},
   "outputs": [],
   "source": [
    "plt.imshow(encodings[0][0])"
   ]
  },
  {
   "cell_type": "code",
   "execution_count": null,
   "id": "92db95c6-330e-403e-b04a-1d3f9a7acfe1",
   "metadata": {},
   "outputs": [],
   "source": [
    "np.max([1,2,3])"
   ]
  },
  {
   "cell_type": "code",
   "execution_count": null,
   "id": "3ae17851-54b8-45e8-a5bd-e84c6cae0443",
   "metadata": {},
   "outputs": [],
   "source": []
  }
 ],
 "metadata": {
  "kernelspec": {
   "display_name": "Python 3 (ipykernel)",
   "language": "python",
   "name": "python3"
  },
  "language_info": {
   "codemirror_mode": {
    "name": "ipython",
    "version": 3
   },
   "file_extension": ".py",
   "mimetype": "text/x-python",
   "name": "python",
   "nbconvert_exporter": "python",
   "pygments_lexer": "ipython3",
   "version": "3.13.5"
  }
 },
 "nbformat": 4,
 "nbformat_minor": 5
}
