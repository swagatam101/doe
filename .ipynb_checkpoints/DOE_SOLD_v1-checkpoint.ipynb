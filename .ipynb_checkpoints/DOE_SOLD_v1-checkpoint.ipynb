{
 "cells": [
  {
   "cell_type": "markdown",
   "id": "ab42dc72-66ea-429f-a81f-82d37e2b5d96",
   "metadata": {},
   "source": [
    "# This notebook looks at the DOE of SOLD libraries "
   ]
  },
  {
   "cell_type": "code",
   "execution_count": 1,
   "id": "8b8f6a95-680c-4fb5-b175-59082213effc",
   "metadata": {},
   "outputs": [],
   "source": [
    "import numpy as np\n",
    "import pandas as pd\n",
    "import matplotlib\n",
    "import matplotlib.pyplot as plt\n",
    "from Bio.Data import IUPACData\n",
    "from collections import defaultdict\n",
    "from scipy.spatial.distance import hamming\n",
    "\n",
    "amino_acids = list(IUPACData.protein_letters)\n"
   ]
  },
  {
   "cell_type": "markdown",
   "id": "e2455bfe-4504-4cdd-8ea2-d787c6e4b000",
   "metadata": {},
   "source": [
    "# For simulation, create a random parent amino acid sequence to create SOLD libraries from"
   ]
  },
  {
   "cell_type": "code",
   "execution_count": 2,
   "id": "10bce887-b46b-4d8c-bcf2-679734bb5f1d",
   "metadata": {},
   "outputs": [
    {
     "name": "stdout",
     "output_type": "stream",
     "text": [
      "Parent protein: CNPIQLMSTVQLLSFWCEKQAGYHQSCKYRDFAGYAEDYSFLVWMVAAYPPCWWKTTWLTFWQPFCTWYLTEEFHMTKGNHDIMHCIIDVNNPYPPMGMW\n"
     ]
    }
   ],
   "source": [
    "length_of_protein = 100\n",
    "parent = ''.join(np.random.choice(amino_acids, length_of_protein))\n",
    "print(\"Parent protein:\", parent) "
   ]
  },
  {
   "cell_type": "markdown",
   "id": "07d7e3ff-75c6-49a5-8f54-064a25dbaf76",
   "metadata": {},
   "source": [
    "# Need to create a matrix of postion vs letters"
   ]
  },
  {
   "cell_type": "code",
   "execution_count": 3,
   "id": "2e007b6f-6424-4782-9746-1002eea3f055",
   "metadata": {},
   "outputs": [
    {
     "name": "stdout",
     "output_type": "stream",
     "text": [
      "[ 3  8 10 11 17 18 26 27 37 37 40 42 54 58 58 59 79 84 86 97]\n"
     ]
    }
   ],
   "source": [
    "num_mutated = 20 \n",
    "mutated_pos = np.sort(np.random.choice(range(length_of_protein), num_mutated))\n",
    "print(mutated_pos) "
   ]
  },
  {
   "cell_type": "markdown",
   "id": "cb2b4511-2a59-49a5-8f45-55c6333468d5",
   "metadata": {},
   "source": [
    "## For every poisiton to mutate choose a few amino acids to mutate to, with parent amino acid at that pos. to be most probable "
   ]
  },
  {
   "cell_type": "code",
   "execution_count": 4,
   "id": "477db871-8759-42c8-a598-196469f33a85",
   "metadata": {},
   "outputs": [],
   "source": [
    "random_muts = [] \n",
    "num_muts = 3 \n",
    "parent_prob = 0.85\n",
    "mut_probs = [0.05, 0.05, 0.05] # I am keeping it simple here \n",
    "assert np.sum(mut_probs) + parent_prob == 1\n",
    "\n",
    "mut_dict = defaultdict(dict) \n",
    "for i in mutated_pos: \n",
    "    draws = list(amino_acids) \n",
    "    draws.remove(parent[i]) \n",
    "    to_draw = np.random.choice(draws, num_muts, replace = False) \n",
    "    mut_dict[int(i)] = {parent[i]: parent_prob} \n",
    "    for k,l in enumerate(to_draw):\n",
    "        mut_dict[int(i)].update({str(l): mut_probs[k]})"
   ]
  },
  {
   "cell_type": "code",
   "execution_count": 5,
   "id": "ad24add0-b8ee-40d8-abee-e92d9e50b575",
   "metadata": {},
   "outputs": [
    {
     "data": {
      "text/html": [
       "<div>\n",
       "<style scoped>\n",
       "    .dataframe tbody tr th:only-of-type {\n",
       "        vertical-align: middle;\n",
       "    }\n",
       "\n",
       "    .dataframe tbody tr th {\n",
       "        vertical-align: top;\n",
       "    }\n",
       "\n",
       "    .dataframe thead th {\n",
       "        text-align: right;\n",
       "    }\n",
       "</style>\n",
       "<table border=\"1\" class=\"dataframe\">\n",
       "  <thead>\n",
       "    <tr style=\"text-align: right;\">\n",
       "      <th></th>\n",
       "      <th>0</th>\n",
       "      <th>1</th>\n",
       "      <th>2</th>\n",
       "      <th>3</th>\n",
       "      <th>4</th>\n",
       "      <th>5</th>\n",
       "      <th>6</th>\n",
       "      <th>7</th>\n",
       "      <th>8</th>\n",
       "      <th>9</th>\n",
       "      <th>...</th>\n",
       "      <th>90</th>\n",
       "      <th>91</th>\n",
       "      <th>92</th>\n",
       "      <th>93</th>\n",
       "      <th>94</th>\n",
       "      <th>95</th>\n",
       "      <th>96</th>\n",
       "      <th>97</th>\n",
       "      <th>98</th>\n",
       "      <th>99</th>\n",
       "    </tr>\n",
       "  </thead>\n",
       "  <tbody>\n",
       "    <tr>\n",
       "      <th>A</th>\n",
       "      <td>0.0</td>\n",
       "      <td>0.0</td>\n",
       "      <td>0.0</td>\n",
       "      <td>0.00</td>\n",
       "      <td>0.0</td>\n",
       "      <td>0.0</td>\n",
       "      <td>0.0</td>\n",
       "      <td>0.0</td>\n",
       "      <td>0.0</td>\n",
       "      <td>0.0</td>\n",
       "      <td>...</td>\n",
       "      <td>0.0</td>\n",
       "      <td>0.0</td>\n",
       "      <td>0.0</td>\n",
       "      <td>0.0</td>\n",
       "      <td>0.0</td>\n",
       "      <td>0.0</td>\n",
       "      <td>0.0</td>\n",
       "      <td>0.00</td>\n",
       "      <td>0.0</td>\n",
       "      <td>0.0</td>\n",
       "    </tr>\n",
       "    <tr>\n",
       "      <th>C</th>\n",
       "      <td>0.0</td>\n",
       "      <td>0.0</td>\n",
       "      <td>0.0</td>\n",
       "      <td>0.00</td>\n",
       "      <td>0.0</td>\n",
       "      <td>0.0</td>\n",
       "      <td>0.0</td>\n",
       "      <td>0.0</td>\n",
       "      <td>0.0</td>\n",
       "      <td>0.0</td>\n",
       "      <td>...</td>\n",
       "      <td>0.0</td>\n",
       "      <td>0.0</td>\n",
       "      <td>0.0</td>\n",
       "      <td>0.0</td>\n",
       "      <td>0.0</td>\n",
       "      <td>0.0</td>\n",
       "      <td>0.0</td>\n",
       "      <td>0.00</td>\n",
       "      <td>0.0</td>\n",
       "      <td>0.0</td>\n",
       "    </tr>\n",
       "    <tr>\n",
       "      <th>D</th>\n",
       "      <td>0.0</td>\n",
       "      <td>0.0</td>\n",
       "      <td>0.0</td>\n",
       "      <td>0.05</td>\n",
       "      <td>0.0</td>\n",
       "      <td>0.0</td>\n",
       "      <td>0.0</td>\n",
       "      <td>0.0</td>\n",
       "      <td>0.0</td>\n",
       "      <td>0.0</td>\n",
       "      <td>...</td>\n",
       "      <td>0.0</td>\n",
       "      <td>0.0</td>\n",
       "      <td>0.0</td>\n",
       "      <td>0.0</td>\n",
       "      <td>0.0</td>\n",
       "      <td>0.0</td>\n",
       "      <td>0.0</td>\n",
       "      <td>0.05</td>\n",
       "      <td>0.0</td>\n",
       "      <td>0.0</td>\n",
       "    </tr>\n",
       "    <tr>\n",
       "      <th>E</th>\n",
       "      <td>0.0</td>\n",
       "      <td>0.0</td>\n",
       "      <td>0.0</td>\n",
       "      <td>0.00</td>\n",
       "      <td>0.0</td>\n",
       "      <td>0.0</td>\n",
       "      <td>0.0</td>\n",
       "      <td>0.0</td>\n",
       "      <td>0.0</td>\n",
       "      <td>0.0</td>\n",
       "      <td>...</td>\n",
       "      <td>0.0</td>\n",
       "      <td>0.0</td>\n",
       "      <td>0.0</td>\n",
       "      <td>0.0</td>\n",
       "      <td>0.0</td>\n",
       "      <td>0.0</td>\n",
       "      <td>0.0</td>\n",
       "      <td>0.00</td>\n",
       "      <td>0.0</td>\n",
       "      <td>0.0</td>\n",
       "    </tr>\n",
       "    <tr>\n",
       "      <th>F</th>\n",
       "      <td>0.0</td>\n",
       "      <td>0.0</td>\n",
       "      <td>0.0</td>\n",
       "      <td>0.05</td>\n",
       "      <td>0.0</td>\n",
       "      <td>0.0</td>\n",
       "      <td>0.0</td>\n",
       "      <td>0.0</td>\n",
       "      <td>0.0</td>\n",
       "      <td>0.0</td>\n",
       "      <td>...</td>\n",
       "      <td>0.0</td>\n",
       "      <td>0.0</td>\n",
       "      <td>0.0</td>\n",
       "      <td>0.0</td>\n",
       "      <td>0.0</td>\n",
       "      <td>0.0</td>\n",
       "      <td>0.0</td>\n",
       "      <td>0.00</td>\n",
       "      <td>0.0</td>\n",
       "      <td>0.0</td>\n",
       "    </tr>\n",
       "  </tbody>\n",
       "</table>\n",
       "<p>5 rows × 100 columns</p>\n",
       "</div>"
      ],
      "text/plain": [
       "    0    1    2     3    4    5    6    7    8    9   ...   90   91   92   93  \\\n",
       "A  0.0  0.0  0.0  0.00  0.0  0.0  0.0  0.0  0.0  0.0  ...  0.0  0.0  0.0  0.0   \n",
       "C  0.0  0.0  0.0  0.00  0.0  0.0  0.0  0.0  0.0  0.0  ...  0.0  0.0  0.0  0.0   \n",
       "D  0.0  0.0  0.0  0.05  0.0  0.0  0.0  0.0  0.0  0.0  ...  0.0  0.0  0.0  0.0   \n",
       "E  0.0  0.0  0.0  0.00  0.0  0.0  0.0  0.0  0.0  0.0  ...  0.0  0.0  0.0  0.0   \n",
       "F  0.0  0.0  0.0  0.05  0.0  0.0  0.0  0.0  0.0  0.0  ...  0.0  0.0  0.0  0.0   \n",
       "\n",
       "    94   95   96    97   98   99  \n",
       "A  0.0  0.0  0.0  0.00  0.0  0.0  \n",
       "C  0.0  0.0  0.0  0.00  0.0  0.0  \n",
       "D  0.0  0.0  0.0  0.05  0.0  0.0  \n",
       "E  0.0  0.0  0.0  0.00  0.0  0.0  \n",
       "F  0.0  0.0  0.0  0.00  0.0  0.0  \n",
       "\n",
       "[5 rows x 100 columns]"
      ]
     },
     "execution_count": 5,
     "metadata": {},
     "output_type": "execute_result"
    }
   ],
   "source": [
    "# Create mutation matrix \n",
    "sold_mat = np.zeros((len(amino_acids), length_of_protein))\n",
    "for k,v in mut_dict.items(): \n",
    "    for base, prob in v.items(): \n",
    "        sold_mat[amino_acids.index(base), k] = prob\n",
    "\n",
    "\n",
    "sold_mat_df = pd.DataFrame(sold_mat, index = amino_acids, columns = np.arange(length_of_protein))\n",
    "sold_mat_df.head() "
   ]
  },
  {
   "cell_type": "markdown",
   "id": "96dbdfa2-f20e-4f04-8331-b915c758301d",
   "metadata": {},
   "source": [
    "# Plot the SOLD matrix "
   ]
  },
  {
   "cell_type": "code",
   "execution_count": 6,
   "id": "39946f90-bda6-4cdf-a9a4-309d9d5969a9",
   "metadata": {},
   "outputs": [
    {
     "data": {
      "image/png": "[encoded data removed]",
      "text/plain": [
       "<Figure size 1800x500 with 1 Axes>"
      ]
     },
     "metadata": {},
     "output_type": "display_data"
    }
   ],
   "source": [
    "plt.figure(figsize = (18,5))\n",
    "plt.imshow(sold_mat_df, aspect = 'auto', cmap = 'grey_r') \n",
    "_  = plt.xticks(range(length_of_protein), rotation = 90)\n",
    "_  = plt.yticks(range(len(amino_acids)), amino_acids)\n"
   ]
  },
  {
   "cell_type": "markdown",
   "id": "e8bba3a2-d854-4c7f-a637-51aab707bebb",
   "metadata": {},
   "source": [
    "# Now let's try to draw mutated sequences from this matrix \n",
    "## Above I have created a simple SOLD mat, but I want to make tools such that everything below will work with any experimentaliat provided SOLD mat"
   ]
  },
  {
   "cell_type": "code",
   "execution_count": 7,
   "id": "133a307e-cc84-4b09-8560-5a5058e256c2",
   "metadata": {},
   "outputs": [],
   "source": [
    "def hamming_dist(seq1, seq2): \n",
    "    \"\"\"\n",
    "    compute hamming distance (number of mutations) for same length sequences \n",
    "    \"\"\"\n",
    "    return len(seq1)*hamming(list(seq1), list(seq2))\n",
    "\n",
    "\n",
    "def get_n_choose_m_indices(n, m):\n",
    "    \"\"\"\n",
    "    Generates all unique combinations of m indices chosen from a set of n indices (0 to n-1).\n",
    "\n",
    "    Args:\n",
    "        n (int): The total number of elements (or indices) available.\n",
    "        m (int): The number of elements (or indices) to choose in each combination.\n",
    "\n",
    "    Returns:\n",
    "        list: A list of tuples, where each tuple represents a unique combination of m indices.\n",
    "    \"\"\"\n",
    "    if not (0 <= m <= n):\n",
    "        raise ValueError(\"m must be between 0 and n (inclusive).\")\n",
    "\n",
    "    # Generate indices from 0 to n-1\n",
    "    indices = range(n)\n",
    "\n",
    "    # Use itertools.combinations to get all combinations of m indices\n",
    "    combinations_iterator = itertools.combinations(indices, m)\n",
    "\n",
    "    # Convert the iterator to a list of tuples\n",
    "    return list(combinations_iterator)\n",
    "\n",
    "\n",
    "\n",
    "class SOLD: \n",
    "    \"\"\"\n",
    "    Class to deal with all the fucntionalities, given SOLD library specs, to create simulations and probability distributions \n",
    "    \"\"\"\n",
    "    def __init__(self, sold_mat_df): \n",
    "        \"\"\"\n",
    "        Expect a dataframe with amino acid single letter code in rows and positions (zero indexed) for columns---see example above \n",
    "        \"\"\"\n",
    "        amino_acids = sold_mat_df.index.values.astype(str)\n",
    "        positions = sold_mat_df.columns.astype(int)\n",
    "        mat = sold_mat_df.to_numpy()\n",
    "        parent = {}   \n",
    "        mutation_probs = defaultdict(dict)  \n",
    "        all_parent_probs = [] \n",
    "        for i,r in enumerate(positions):\n",
    "            probs = mat[:,i] \n",
    "            if np.any(probs): \n",
    "                assert np.allclose(np.sum(probs), 1), \"expected probabilities: check column \" + np.str(r) \n",
    "                #check that these are probs \n",
    "                parent_prob = np.max(probs) \n",
    "                all_parent_probs.append(parent_prob) \n",
    "                parent_aa = amino_acids[np.argmax(probs)] \n",
    "                parent[r] = str(parent_aa)\n",
    "                inds = np.flatnonzero(probs) \n",
    "                mutation_probs[r] = {str(amino_acids[i]):float(probs[i]) for i in inds} \n",
    "        self.mutation_probs = mutation_probs\n",
    "        self.parent = parent\n",
    "        parent_seq = ['N']*len(parent) \n",
    "        #making sure this is done robustly in case data entry is not in order\n",
    "        parent_pos = list(np.sort(list(parent.keys())))\n",
    "        for i, v in parent.items():\n",
    "            parent_seq[parent_pos.index(i)] = v\n",
    "        self.parent_seq = ''.join(parent_seq)  \n",
    "        self.mut_positions = parent_pos \n",
    "        self.all_parent_probs = all_parent_probs\n",
    "        \n",
    "    def compute_prob_n_mutations(self, N): \n",
    "        \"\"\"\n",
    "        Compute the probability of seeing N mutations \n",
    "        \"\"\"\n",
    "        # number of positions \n",
    "        M = np.arange(len(self.all_parent_probs)) \n",
    "        # get indices of mutations\n",
    "        probs = np.zeros(N) \n",
    "        for i in range(N): \n",
    "            # which indices of the positions are mutated \n",
    "            mutated_indices = get_n_choose_m_indices(M, N) \n",
    "            \n",
    "        \n",
    "    def generate_sequences(self, N): \n",
    "        \"\"\"\n",
    "        generate N sequences \n",
    "        Args:\n",
    "            N: number of sequences to generate \n",
    "        \"\"\"\n",
    "        collector = np.empty((N,len(self.mut_positions)), dtype = str) \n",
    "        max_probs = [] \n",
    "        for pos, v in self.mutation_probs.items():\n",
    "            choices = list(v.keys())\n",
    "            probs = list(v.values())\n",
    "            max_probs.append(max_probs) \n",
    "            index = self.mut_positions.index(pos) # find the index of the position to fill \n",
    "            loc_seq = np.random.choice(choices, N, p = probs) \n",
    "            collector[:, index] = loc_seq\n",
    "        seqs = [''.join(s) for s in collector] \n",
    "        mutations = [hamming_dist(self.parent_seq, s) for s in seqs]   \n",
    "        # compute the probability of mutations \n",
    "        \n",
    "        return seqs, mutations\n",
    "\n",
    "    def compute_hamming_distance(self, seqs, parent): \n",
    "        \"\"\"\n",
    "        Args: \n",
    "            seqs\n",
    "            parent seq  \n",
    "        \"\"\"\n",
    "        dist = [] \n",
    "        for s in seqs: \n",
    "            dist.append(hamming_dist(s, parent)) \n",
    "        return dist \n",
    "        "
   ]
  },
  {
   "cell_type": "code",
   "execution_count": 8,
   "id": "092fa79c-2ec5-405a-b31f-ba4e3635671c",
   "metadata": {},
   "outputs": [],
   "source": [
    "S = SOLD(sold_mat_df)\n",
    "seqs, mutations = S.generate_sequences(1000)"
   ]
  },
  {
   "cell_type": "code",
   "execution_count": 9,
   "id": "7e6d36df-bccc-4639-a380-95e1bb47c0ed",
   "metadata": {},
   "outputs": [
    {
     "data": {
      "text/plain": [
       "Text(0.5, 0, 'count of mutations')"
      ]
     },
     "execution_count": 9,
     "metadata": {},
     "output_type": "execute_result"
    },
    {
     "data": {
      "image/png": "[encoded data removed]",
      "text/plain": [
       "<Figure size 640x480 with 1 Axes>"
      ]
     },
     "metadata": {},
     "output_type": "display_data"
    }
   ],
   "source": [
    "plt.hist(mutations, bins= [0, 1, 2, 3, 4, 5, 6, 7, 8, 9], density = True) \n",
    "plt.ylabel('probability')\n",
    "plt.xlabel('count of mutations') "
   ]
  },
  {
   "cell_type": "code",
   "execution_count": 10,
   "id": "3da489a7-0e9e-46f6-b0b2-90b8e7483550",
   "metadata": {},
   "outputs": [],
   "source": [
    "dist = S.compute_hamming_distance(seqs, S.parent_seq) "
   ]
  },
  {
   "cell_type": "code",
   "execution_count": 11,
   "id": "52957223-4a6a-4bd2-a34f-4af2ab2f7750",
   "metadata": {},
   "outputs": [
    {
     "data": {
      "text/plain": [
       "(array([ 58., 174., 279., 223., 157.,  69.,  29.,   8.,   3.]),\n",
       " array([0., 1., 2., 3., 4., 5., 6., 7., 8., 9.]),\n",
       " <BarContainer object of 9 artists>)"
      ]
     },
     "execution_count": 11,
     "metadata": {},
     "output_type": "execute_result"
    },
    {
     "data": {
      "image/png": "[encoded data removed]",
      "text/plain": [
       "<Figure size 640x480 with 1 Axes>"
      ]
     },
     "metadata": {},
     "output_type": "display_data"
    }
   ],
   "source": [
    "plt.hist(dist, bins = [0, 1, 2, 3, 4, 5, 6, 7, 8, 9])"
   ]
  },
  {
   "cell_type": "code",
   "execution_count": 12,
   "id": "ae1f156d-00c7-4c48-9348-cbd4a68abddb",
   "metadata": {},
   "outputs": [
    {
     "data": {
      "text/plain": [
       "np.float64(5.0)"
      ]
     },
     "execution_count": 12,
     "metadata": {},
     "output_type": "execute_result"
    }
   ],
   "source": [
    "hamming_dist(seqs[0], S.parent_seq)"
   ]
  },
  {
   "cell_type": "code",
   "execution_count": 13,
   "id": "83722d9d-05a4-4608-b34f-16ac94e5b1f9",
   "metadata": {},
   "outputs": [
    {
     "data": {
      "text/plain": [
       "Index([ 0,  1,  2,  3,  4,  5,  6,  7,  8,  9, 10, 11, 12, 13, 14, 15, 16, 17,\n",
       "       18, 19, 20, 21, 22, 23, 24, 25, 26, 27, 28, 29, 30, 31, 32, 33, 34, 35,\n",
       "       36, 37, 38, 39, 40, 41, 42, 43, 44, 45, 46, 47, 48, 49, 50, 51, 52, 53,\n",
       "       54, 55, 56, 57, 58, 59, 60, 61, 62, 63, 64, 65, 66, 67, 68, 69, 70, 71,\n",
       "       72, 73, 74, 75, 76, 77, 78, 79, 80, 81, 82, 83, 84, 85, 86, 87, 88, 89,\n",
       "       90, 91, 92, 93, 94, 95, 96, 97, 98, 99],\n",
       "      dtype='int64')"
      ]
     },
     "execution_count": 13,
     "metadata": {},
     "output_type": "execute_result"
    }
   ],
   "source": [
    "positions = sold_mat_df.columns.astype(int)\n",
    "positions"
   ]
  },
  {
   "cell_type": "code",
   "execution_count": 14,
   "id": "c4e11097-e76d-4b20-bf36-9e806bbfa64b",
   "metadata": {},
   "outputs": [
    {
     "data": {
      "text/plain": [
       "array([[0.  , 0.  , 0.  , ..., 0.  , 0.  , 0.  ],\n",
       "       [0.  , 0.  , 0.  , ..., 0.  , 0.  , 0.  ],\n",
       "       [0.  , 0.  , 0.  , ..., 0.05, 0.  , 0.  ],\n",
       "       ...,\n",
       "       [0.  , 0.  , 0.  , ..., 0.05, 0.  , 0.  ],\n",
       "       [0.  , 0.  , 0.  , ..., 0.05, 0.  , 0.  ],\n",
       "       [0.  , 0.  , 0.  , ..., 0.  , 0.  , 0.  ]], shape=(20, 100))"
      ]
     },
     "execution_count": 14,
     "metadata": {},
     "output_type": "execute_result"
    }
   ],
   "source": [
    "sold_mat_df.to_numpy()"
   ]
  },
  {
   "cell_type": "code",
   "execution_count": 15,
   "id": "baef7654-5f52-4c9b-a960-431a81993019",
   "metadata": {},
   "outputs": [
    {
     "data": {
      "text/plain": [
       "array(['T', 'A', 'A'], dtype='<U1')"
      ]
     },
     "execution_count": 15,
     "metadata": {},
     "output_type": "execute_result"
    }
   ],
   "source": [
    "np.random.choice(['A', 'C', 'G', 'T'], 3, p = [0.85, 0.05, 0.05, 0.05])"
   ]
  },
  {
   "cell_type": "code",
   "execution_count": 17,
   "id": "cd0acd87-59d7-40f6-9505-8744c8218498",
   "metadata": {},
   "outputs": [
    {
     "name": "stdout",
     "output_type": "stream",
     "text": [
      "Combinations of 5 choose 2 indices:\n",
      "[(0, 1), (0, 2), (0, 3), (0, 4), (1, 2), (1, 3), (1, 4), (2, 3), (2, 4), (3, 4)]\n",
      "\n",
      "Combinations of 4 choose 3 indices:\n",
      "[(0, 1, 2), (0, 1, 3), (0, 2, 3), (1, 2, 3)]\n"
     ]
    }
   ],
   "source": [
    "import itertools\n",
    "\n",
    "def get_n_choose_m_indices(n, m):\n",
    "    \"\"\"\n",
    "    Generates all unique combinations of m indices chosen from a set of n indices (0 to n-1).\n",
    "\n",
    "    Args:\n",
    "        n (int): The total number of elements (or indices) available.\n",
    "        m (int): The number of elements (or indices) to choose in each combination.\n",
    "\n",
    "    Returns:\n",
    "        list: A list of tuples, where each tuple represents a unique combination of m indices.\n",
    "    \"\"\"\n",
    "    if not (0 <= m <= n):\n",
    "        raise ValueError(\"m must be between 0 and n (inclusive).\")\n",
    "\n",
    "    # Generate indices from 0 to n-1\n",
    "    indices = range(n)\n",
    "\n",
    "    # Use itertools.combinations to get all combinations of m indices\n",
    "    combinations_iterator = itertools.combinations(indices, m)\n",
    "\n",
    "    # Convert the iterator to a list of tuples\n",
    "    return list(combinations_iterator)\n",
    "\n",
    "# Example usage:\n",
    "N_value = 5  # Total number of elements\n",
    "M_value = 2  # Number of elements to choose\n",
    "\n",
    "result_indices = get_n_choose_m_indices(N_value, M_value)\n",
    "print(f\"Combinations of {N_value} choose {M_value} indices:\")\n",
    "print(result_indices)\n",
    "\n",
    "N_value_2 = 4\n",
    "M_value_2 = 3\n",
    "result_indices_2 = get_n_choose_m_indices(N_value_2, M_value_2)\n",
    "print(f\"\\nCombinations of {N_value_2} choose {M_value_2} indices:\")\n",
    "print(result_indices_2)"
   ]
  },
  {
   "cell_type": "code",
   "execution_count": 23,
   "id": "74cec8dc-50a1-4ad1-bd0c-264721f18e98",
   "metadata": {},
   "outputs": [
    {
     "data": {
      "text/plain": [
       "[(0, 1),\n",
       " (0, 2),\n",
       " (0, 3),\n",
       " (0, 4),\n",
       " (0, 5),\n",
       " (0, 6),\n",
       " (0, 7),\n",
       " (0, 8),\n",
       " (0, 9),\n",
       " (1, 2),\n",
       " (1, 3),\n",
       " (1, 4),\n",
       " (1, 5),\n",
       " (1, 6),\n",
       " (1, 7),\n",
       " (1, 8),\n",
       " (1, 9),\n",
       " (2, 3),\n",
       " (2, 4),\n",
       " (2, 5),\n",
       " (2, 6),\n",
       " (2, 7),\n",
       " (2, 8),\n",
       " (2, 9),\n",
       " (3, 4),\n",
       " (3, 5),\n",
       " (3, 6),\n",
       " (3, 7),\n",
       " (3, 8),\n",
       " (3, 9),\n",
       " (4, 5),\n",
       " (4, 6),\n",
       " (4, 7),\n",
       " (4, 8),\n",
       " (4, 9),\n",
       " (5, 6),\n",
       " (5, 7),\n",
       " (5, 8),\n",
       " (5, 9),\n",
       " (6, 7),\n",
       " (6, 8),\n",
       " (6, 9),\n",
       " (7, 8),\n",
       " (7, 9),\n",
       " (8, 9)]"
      ]
     },
     "execution_count": 23,
     "metadata": {},
     "output_type": "execute_result"
    }
   ],
   "source": [
    "result_indices = get_n_choose_m_indices(10, 2)\n",
    "result_indices"
   ]
  },
  {
   "cell_type": "code",
   "execution_count": 32,
   "id": "6619deeb-e6f4-4950-8fa0-f9fa05ef2050",
   "metadata": {},
   "outputs": [
    {
     "name": "stdout",
     "output_type": "stream",
     "text": [
      "0 1\n",
      "0 2\n",
      "0 3\n",
      "0 4\n",
      "0 5\n",
      "0 6\n",
      "0 7\n",
      "0 8\n",
      "0 9\n",
      "1 2\n",
      "1 3\n",
      "1 4\n",
      "1 5\n",
      "1 6\n",
      "1 7\n",
      "1 8\n",
      "1 9\n",
      "2 3\n",
      "2 4\n",
      "2 5\n",
      "2 6\n",
      "2 7\n",
      "2 8\n",
      "2 9\n",
      "3 4\n",
      "3 5\n",
      "3 6\n",
      "3 7\n",
      "3 8\n",
      "3 9\n",
      "4 5\n",
      "4 6\n",
      "4 7\n",
      "4 8\n",
      "4 9\n",
      "5 6\n",
      "5 7\n",
      "5 8\n",
      "5 9\n",
      "6 7\n",
      "6 8\n",
      "6 9\n",
      "7 8\n",
      "7 9\n",
      "8 9\n"
     ]
    }
   ],
   "source": [
    "a = np.arange(10) \n",
    "\n",
    "for r in result_indices:\n",
    "    print(a[r[0]], a[r[1]])"
   ]
  },
  {
   "cell_type": "code",
   "execution_count": 29,
   "id": "a16cdbaa-a6c4-45a2-8d4c-2fe69afec78a",
   "metadata": {},
   "outputs": [
    {
     "data": {
      "text/plain": [
       "tuple"
      ]
     },
     "execution_count": 29,
     "metadata": {},
     "output_type": "execute_result"
    }
   ],
   "source": [
    "type(r)"
   ]
  },
  {
   "cell_type": "code",
   "execution_count": null,
   "id": "d4400ae9-fd66-49b5-ad25-b334bb460db2",
   "metadata": {},
   "outputs": [],
   "source": []
  }
 ],
 "metadata": {
  "kernelspec": {
   "display_name": "Python 3 (ipykernel)",
   "language": "python",
   "name": "python3"
  },
  "language_info": {
   "codemirror_mode": {
    "name": "ipython",
    "version": 3
   },
   "file_extension": ".py",
   "mimetype": "text/x-python",
   "name": "python",
   "nbconvert_exporter": "python",
   "pygments_lexer": "ipython3",
   "version": "3.12.8"
  }
 },
 "nbformat": 4,
 "nbformat_minor": 5
}
