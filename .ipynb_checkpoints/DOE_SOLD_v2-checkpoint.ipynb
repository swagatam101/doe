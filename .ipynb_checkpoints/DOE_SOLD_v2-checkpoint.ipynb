{
 "cells": [
  {
   "cell_type": "markdown",
   "id": "ab42dc72-66ea-429f-a81f-82d37e2b5d96",
   "metadata": {},
   "source": [
    "# This notebook looks at the DOE of SOLD libraries "
   ]
  },
  {
   "cell_type": "code",
   "execution_count": 1,
   "id": "8b8f6a95-680c-4fb5-b175-59082213effc",
   "metadata": {},
   "outputs": [],
   "source": [
    "import numpy as np\n",
    "import pandas as pd\n",
    "import matplotlib\n",
    "import matplotlib.pyplot as plt\n",
    "from Bio.Data import IUPACData\n",
    "from collections import defaultdict\n",
    "from scipy.spatial.distance import hamming\n",
    "\n",
    "amino_acids = list(IUPACData.protein_letters)\n",
    "\n",
    "\n",
    "import doe_utils\n"
   ]
  },
  {
   "cell_type": "markdown",
   "id": "e2455bfe-4504-4cdd-8ea2-d787c6e4b000",
   "metadata": {},
   "source": [
    "# For simulation, create a random parent amino acid sequence to create SOLD libraries from"
   ]
  },
  {
   "cell_type": "code",
   "execution_count": 2,
   "id": "10bce887-b46b-4d8c-bcf2-679734bb5f1d",
   "metadata": {},
   "outputs": [
    {
     "name": "stdout",
     "output_type": "stream",
     "text": [
      "Parent protein: AMQKGPLERMNDTIYFWKSATLINYYFDTSIMKYKIKMTSHPDSMCNKVYVWSSEHGNESARGPRWSQTQHHYAGRTDKECAEDEICKRWMMKTEAMFIP\n"
     ]
    }
   ],
   "source": [
    "length_of_protein = 100\n",
    "parent = ''.join(np.random.choice(amino_acids, length_of_protein))\n",
    "print(\"Parent protein:\", parent) "
   ]
  },
  {
   "cell_type": "markdown",
   "id": "07d7e3ff-75c6-49a5-8f54-064a25dbaf76",
   "metadata": {},
   "source": [
    "# Need to create a matrix of postion vs letters"
   ]
  },
  {
   "cell_type": "code",
   "execution_count": 3,
   "id": "2e007b6f-6424-4782-9746-1002eea3f055",
   "metadata": {},
   "outputs": [
    {
     "name": "stdout",
     "output_type": "stream",
     "text": [
      "[ 0  3  7 20 22 35 35 38 39 41 46 46 53 54 64 76 79 79 85 94]\n"
     ]
    }
   ],
   "source": [
    "num_mutated = 20 \n",
    "mutated_pos = np.sort(np.random.choice(range(length_of_protein), num_mutated))\n",
    "print(mutated_pos) "
   ]
  },
  {
   "cell_type": "markdown",
   "id": "cb2b4511-2a59-49a5-8f45-55c6333468d5",
   "metadata": {},
   "source": [
    "## For every poisiton to mutate choose a few amino acids to mutate to, with parent amino acid at that pos. to be most probable "
   ]
  },
  {
   "cell_type": "code",
   "execution_count": 4,
   "id": "477db871-8759-42c8-a598-196469f33a85",
   "metadata": {},
   "outputs": [],
   "source": [
    "random_muts = [] \n",
    "num_muts = 3 \n",
    "parent_prob = 0.85\n",
    "mut_probs = [0.05, 0.05, 0.05] # I am keeping it simple here \n",
    "assert np.sum(mut_probs) + parent_prob == 1\n",
    "\n",
    "mut_dict = defaultdict(dict) \n",
    "for i in mutated_pos: \n",
    "    draws = list(amino_acids) \n",
    "    draws.remove(parent[i]) \n",
    "    to_draw = np.random.choice(draws, num_muts, replace = False) \n",
    "    mut_dict[int(i)] = {parent[i]: parent_prob} \n",
    "    for k,l in enumerate(to_draw):\n",
    "        mut_dict[int(i)].update({str(l): mut_probs[k]})"
   ]
  },
  {
   "cell_type": "code",
   "execution_count": 5,
   "id": "ad24add0-b8ee-40d8-abee-e92d9e50b575",
   "metadata": {},
   "outputs": [
    {
     "data": {
      "text/html": [
       "<div>\n",
       "<style scoped>\n",
       "    .dataframe tbody tr th:only-of-type {\n",
       "        vertical-align: middle;\n",
       "    }\n",
       "\n",
       "    .dataframe tbody tr th {\n",
       "        vertical-align: top;\n",
       "    }\n",
       "\n",
       "    .dataframe thead th {\n",
       "        text-align: right;\n",
       "    }\n",
       "</style>\n",
       "<table border=\"1\" class=\"dataframe\">\n",
       "  <thead>\n",
       "    <tr style=\"text-align: right;\">\n",
       "      <th></th>\n",
       "      <th>0</th>\n",
       "      <th>1</th>\n",
       "      <th>2</th>\n",
       "      <th>3</th>\n",
       "      <th>4</th>\n",
       "      <th>5</th>\n",
       "      <th>6</th>\n",
       "      <th>7</th>\n",
       "      <th>8</th>\n",
       "      <th>9</th>\n",
       "      <th>...</th>\n",
       "      <th>90</th>\n",
       "      <th>91</th>\n",
       "      <th>92</th>\n",
       "      <th>93</th>\n",
       "      <th>94</th>\n",
       "      <th>95</th>\n",
       "      <th>96</th>\n",
       "      <th>97</th>\n",
       "      <th>98</th>\n",
       "      <th>99</th>\n",
       "    </tr>\n",
       "  </thead>\n",
       "  <tbody>\n",
       "    <tr>\n",
       "      <th>A</th>\n",
       "      <td>0.85</td>\n",
       "      <td>0.0</td>\n",
       "      <td>0.0</td>\n",
       "      <td>0.0</td>\n",
       "      <td>0.0</td>\n",
       "      <td>0.0</td>\n",
       "      <td>0.0</td>\n",
       "      <td>0.05</td>\n",
       "      <td>0.0</td>\n",
       "      <td>0.0</td>\n",
       "      <td>...</td>\n",
       "      <td>0.0</td>\n",
       "      <td>0.0</td>\n",
       "      <td>0.0</td>\n",
       "      <td>0.0</td>\n",
       "      <td>0.05</td>\n",
       "      <td>0.0</td>\n",
       "      <td>0.0</td>\n",
       "      <td>0.0</td>\n",
       "      <td>0.0</td>\n",
       "      <td>0.0</td>\n",
       "    </tr>\n",
       "    <tr>\n",
       "      <th>C</th>\n",
       "      <td>0.05</td>\n",
       "      <td>0.0</td>\n",
       "      <td>0.0</td>\n",
       "      <td>0.0</td>\n",
       "      <td>0.0</td>\n",
       "      <td>0.0</td>\n",
       "      <td>0.0</td>\n",
       "      <td>0.00</td>\n",
       "      <td>0.0</td>\n",
       "      <td>0.0</td>\n",
       "      <td>...</td>\n",
       "      <td>0.0</td>\n",
       "      <td>0.0</td>\n",
       "      <td>0.0</td>\n",
       "      <td>0.0</td>\n",
       "      <td>0.00</td>\n",
       "      <td>0.0</td>\n",
       "      <td>0.0</td>\n",
       "      <td>0.0</td>\n",
       "      <td>0.0</td>\n",
       "      <td>0.0</td>\n",
       "    </tr>\n",
       "    <tr>\n",
       "      <th>D</th>\n",
       "      <td>0.00</td>\n",
       "      <td>0.0</td>\n",
       "      <td>0.0</td>\n",
       "      <td>0.0</td>\n",
       "      <td>0.0</td>\n",
       "      <td>0.0</td>\n",
       "      <td>0.0</td>\n",
       "      <td>0.05</td>\n",
       "      <td>0.0</td>\n",
       "      <td>0.0</td>\n",
       "      <td>...</td>\n",
       "      <td>0.0</td>\n",
       "      <td>0.0</td>\n",
       "      <td>0.0</td>\n",
       "      <td>0.0</td>\n",
       "      <td>0.00</td>\n",
       "      <td>0.0</td>\n",
       "      <td>0.0</td>\n",
       "      <td>0.0</td>\n",
       "      <td>0.0</td>\n",
       "      <td>0.0</td>\n",
       "    </tr>\n",
       "    <tr>\n",
       "      <th>E</th>\n",
       "      <td>0.00</td>\n",
       "      <td>0.0</td>\n",
       "      <td>0.0</td>\n",
       "      <td>0.0</td>\n",
       "      <td>0.0</td>\n",
       "      <td>0.0</td>\n",
       "      <td>0.0</td>\n",
       "      <td>0.85</td>\n",
       "      <td>0.0</td>\n",
       "      <td>0.0</td>\n",
       "      <td>...</td>\n",
       "      <td>0.0</td>\n",
       "      <td>0.0</td>\n",
       "      <td>0.0</td>\n",
       "      <td>0.0</td>\n",
       "      <td>0.85</td>\n",
       "      <td>0.0</td>\n",
       "      <td>0.0</td>\n",
       "      <td>0.0</td>\n",
       "      <td>0.0</td>\n",
       "      <td>0.0</td>\n",
       "    </tr>\n",
       "    <tr>\n",
       "      <th>F</th>\n",
       "      <td>0.00</td>\n",
       "      <td>0.0</td>\n",
       "      <td>0.0</td>\n",
       "      <td>0.0</td>\n",
       "      <td>0.0</td>\n",
       "      <td>0.0</td>\n",
       "      <td>0.0</td>\n",
       "      <td>0.00</td>\n",
       "      <td>0.0</td>\n",
       "      <td>0.0</td>\n",
       "      <td>...</td>\n",
       "      <td>0.0</td>\n",
       "      <td>0.0</td>\n",
       "      <td>0.0</td>\n",
       "      <td>0.0</td>\n",
       "      <td>0.00</td>\n",
       "      <td>0.0</td>\n",
       "      <td>0.0</td>\n",
       "      <td>0.0</td>\n",
       "      <td>0.0</td>\n",
       "      <td>0.0</td>\n",
       "    </tr>\n",
       "  </tbody>\n",
       "</table>\n",
       "<p>5 rows × 100 columns</p>\n",
       "</div>"
      ],
      "text/plain": [
       "     0    1    2    3    4    5    6     7    8    9   ...   90   91   92  \\\n",
       "A  0.85  0.0  0.0  0.0  0.0  0.0  0.0  0.05  0.0  0.0  ...  0.0  0.0  0.0   \n",
       "C  0.05  0.0  0.0  0.0  0.0  0.0  0.0  0.00  0.0  0.0  ...  0.0  0.0  0.0   \n",
       "D  0.00  0.0  0.0  0.0  0.0  0.0  0.0  0.05  0.0  0.0  ...  0.0  0.0  0.0   \n",
       "E  0.00  0.0  0.0  0.0  0.0  0.0  0.0  0.85  0.0  0.0  ...  0.0  0.0  0.0   \n",
       "F  0.00  0.0  0.0  0.0  0.0  0.0  0.0  0.00  0.0  0.0  ...  0.0  0.0  0.0   \n",
       "\n",
       "    93    94   95   96   97   98   99  \n",
       "A  0.0  0.05  0.0  0.0  0.0  0.0  0.0  \n",
       "C  0.0  0.00  0.0  0.0  0.0  0.0  0.0  \n",
       "D  0.0  0.00  0.0  0.0  0.0  0.0  0.0  \n",
       "E  0.0  0.85  0.0  0.0  0.0  0.0  0.0  \n",
       "F  0.0  0.00  0.0  0.0  0.0  0.0  0.0  \n",
       "\n",
       "[5 rows x 100 columns]"
      ]
     },
     "execution_count": 5,
     "metadata": {},
     "output_type": "execute_result"
    }
   ],
   "source": [
    "# Create mutation matrix \n",
    "sold_mat = np.zeros((len(amino_acids), length_of_protein))\n",
    "for k,v in mut_dict.items(): \n",
    "    for base, prob in v.items(): \n",
    "        sold_mat[amino_acids.index(base), k] = prob\n",
    "\n",
    "\n",
    "sold_mat_df = pd.DataFrame(sold_mat, index = amino_acids, columns = np.arange(length_of_protein))\n",
    "sold_mat_df.head() "
   ]
  },
  {
   "cell_type": "markdown",
   "id": "96dbdfa2-f20e-4f04-8331-b915c758301d",
   "metadata": {},
   "source": [
    "# Plot the SOLD matrix "
   ]
  },
  {
   "cell_type": "code",
   "execution_count": 6,
   "id": "39946f90-bda6-4cdf-a9a4-309d9d5969a9",
   "metadata": {},
   "outputs": [
    {
     "data": {
      "image/png": "[encoded data removed]",
      "text/plain": [
       "<Figure size 1800x500 with 1 Axes>"
      ]
     },
     "metadata": {},
     "output_type": "display_data"
    }
   ],
   "source": [
    "plt.figure(figsize = (18,5))\n",
    "plt.imshow(sold_mat_df, aspect = 'auto', cmap = 'grey_r') \n",
    "_  = plt.xticks(range(length_of_protein), rotation = 90)\n",
    "_  = plt.yticks(range(len(amino_acids)), amino_acids)\n"
   ]
  },
  {
   "cell_type": "markdown",
   "id": "e8bba3a2-d854-4c7f-a637-51aab707bebb",
   "metadata": {},
   "source": [
    "# Now let's try to draw mutated sequences from this matrix \n",
    "## Above I have created a simple SOLD mat, but I want to make tools such that everything below will work with any experimentaliat provided SOLD mat"
   ]
  },
  {
   "cell_type": "code",
   "execution_count": 7,
   "id": "092fa79c-2ec5-405a-b31f-ba4e3635671c",
   "metadata": {},
   "outputs": [],
   "source": [
    "S = doe_utils.SOLD(sold_mat_df)\n",
    "seqs, mutations = S.generate_sequences(1000)"
   ]
  },
  {
   "cell_type": "code",
   "execution_count": 8,
   "id": "6a88fa1b-185a-42b9-992b-b989199dda0a",
   "metadata": {},
   "outputs": [],
   "source": [
    "a= S.compute_prob_n_mutations(10)"
   ]
  },
  {
   "cell_type": "code",
   "execution_count": 9,
   "id": "63c49f9c-3c7f-4ce0-b0b1-68aa16711e90",
   "metadata": {},
   "outputs": [
    {
     "data": {
      "text/plain": [
       "[<matplotlib.lines.Line2D at 0x113e56a20>]"
      ]
     },
     "execution_count": 9,
     "metadata": {},
     "output_type": "execute_result"
    },
    {
     "data": {
      "image/png": "[encoded data removed]",
      "text/plain": [
       "<Figure size 640x480 with 1 Axes>"
      ]
     },
     "metadata": {},
     "output_type": "display_data"
    }
   ],
   "source": [
    "plt.plot(a)"
   ]
  },
  {
   "cell_type": "code",
   "execution_count": 29,
   "id": "7e6d36df-bccc-4639-a380-95e1bb47c0ed",
   "metadata": {},
   "outputs": [
    {
     "data": {
      "text/plain": [
       "[<matplotlib.lines.Line2D at 0x121a7f170>]"
      ]
     },
     "execution_count": 29,
     "metadata": {},
     "output_type": "execute_result"
    },
    {
     "data": {
      "image/png": "[encoded data removed]",
      "text/plain": [
       "<Figure size 640x480 with 1 Axes>"
      ]
     },
     "metadata": {},
     "output_type": "display_data"
    }
   ],
   "source": [
    "plt.hist(mutations, bins= np.array(range(10)), density = True, align = \"mid\", width = 0.5) \n",
    "plt.ylabel('probability')\n",
    "plt.xlabel('count of mutations') \n",
    "plt.plot(a)"
   ]
  },
  {
   "cell_type": "markdown",
   "id": "95116d0b-0b45-4dab-83f8-834476bc665a",
   "metadata": {},
   "source": [
    "# Now create simulated indel activity with single muation and multi-mutation (epistatic) effects "
   ]
  },
  {
   "cell_type": "code",
   "execution_count": null,
   "id": "ae1df7d1-c5aa-4213-9e46-15d9679670d9",
   "metadata": {},
   "outputs": [],
   "source": [
    "# Given a mutational landscape defined by a SOLD matric we want to create a simulator that assigns individual, \n",
    "# epistatic and effects "
   ]
  },
  {
   "cell_type": "code",
   "execution_count": 31,
   "id": "a3e0671b-e54e-49fb-95bf-a2fddbb8fa46",
   "metadata": {},
   "outputs": [
    {
     "data": {
      "text/plain": [
       "defaultdict(dict,\n",
       "            {0: {'A': 0.85, 'C': 0.05, 'M': 0.05, 'T': 0.05},\n",
       "             3: {'I': 0.05, 'K': 0.85, 'N': 0.05, 'W': 0.05},\n",
       "             7: {'A': 0.05, 'D': 0.05, 'E': 0.85, 'H': 0.05},\n",
       "             20: {'F': 0.05, 'G': 0.05, 'R': 0.05, 'T': 0.85},\n",
       "             22: {'A': 0.05, 'D': 0.05, 'I': 0.85, 'W': 0.05},\n",
       "             35: {'E': 0.05, 'I': 0.85, 'P': 0.05, 'V': 0.05},\n",
       "             38: {'E': 0.05, 'F': 0.05, 'H': 0.05, 'T': 0.85},\n",
       "             39: {'A': 0.05, 'D': 0.05, 'M': 0.05, 'S': 0.85},\n",
       "             41: {'E': 0.05, 'P': 0.85, 'Q': 0.05, 'V': 0.05},\n",
       "             46: {'I': 0.05, 'N': 0.85, 'P': 0.05, 'T': 0.05},\n",
       "             53: {'C': 0.05, 'K': 0.05, 'S': 0.85, 'T': 0.05},\n",
       "             54: {'E': 0.85, 'K': 0.05, 'P': 0.05, 'Q': 0.05},\n",
       "             64: {'A': 0.05, 'Q': 0.05, 'R': 0.85, 'S': 0.05},\n",
       "             76: {'D': 0.05, 'M': 0.05, 'Q': 0.05, 'T': 0.85},\n",
       "             79: {'E': 0.85, 'F': 0.05, 'G': 0.05, 'M': 0.05},\n",
       "             85: {'D': 0.05, 'I': 0.85, 'L': 0.05, 'R': 0.05},\n",
       "             94: {'A': 0.05, 'E': 0.85, 'N': 0.05, 'R': 0.05}})"
      ]
     },
     "execution_count": 31,
     "metadata": {},
     "output_type": "execute_result"
    }
   ],
   "source": [
    "# Run SOLD mat through the class to get the positions mutated and what muations can be observed \n",
    "S.mutation_probs"
   ]
  },
  {
   "cell_type": "code",
   "execution_count": 45,
   "id": "55548799-6004-4998-8f2d-59fd43a9e88a",
   "metadata": {},
   "outputs": [
    {
     "data": {
      "text/plain": [
       "<matplotlib.colorbar.Colorbar at 0x12272eff0>"
      ]
     },
     "execution_count": 45,
     "metadata": {},
     "output_type": "execute_result"
    },
    {
     "data": {
      "image/png": "[encoded data removed]",
      "text/plain": [
       "<Figure size 640x480 with 2 Axes>"
      ]
     },
     "metadata": {},
     "output_type": "display_data"
    }
   ],
   "source": [
    "# assign random values (weights) to all individual, pairwise, triplet etc. \n",
    "\n",
    "single_weights = np.random.rand(len(amino_acids), num_mutated) - 0.5\n",
    "plt.imshow(single_weights, vmin = -1, vmax = 1, cmap = 'RdBu') \n",
    "_  = plt.xticks(range(num_mutated), rotation = 90)\n",
    "_  = plt.yticks(range(len(amino_acids)), amino_acids)\n",
    "plt.title(\"Random single position weights\") \n",
    "plt.colorbar() "
   ]
  },
  {
   "cell_type": "code",
   "execution_count": 33,
   "id": "8a8db40d-0ed7-43dd-8b98-ee09c8f354ae",
   "metadata": {},
   "outputs": [
    {
     "data": {
      "text/plain": [
       "[(0, 1),\n",
       " (0, 2),\n",
       " (0, 3),\n",
       " (0, 4),\n",
       " (0, 5),\n",
       " (0, 6),\n",
       " (0, 7),\n",
       " (0, 8),\n",
       " (0, 9),\n",
       " (1, 2),\n",
       " (1, 3),\n",
       " (1, 4),\n",
       " (1, 5),\n",
       " (1, 6),\n",
       " (1, 7),\n",
       " (1, 8),\n",
       " (1, 9),\n",
       " (2, 3),\n",
       " (2, 4),\n",
       " (2, 5),\n",
       " (2, 6),\n",
       " (2, 7),\n",
       " (2, 8),\n",
       " (2, 9),\n",
       " (3, 4),\n",
       " (3, 5),\n",
       " (3, 6),\n",
       " (3, 7),\n",
       " (3, 8),\n",
       " (3, 9),\n",
       " (4, 5),\n",
       " (4, 6),\n",
       " (4, 7),\n",
       " (4, 8),\n",
       " (4, 9),\n",
       " (5, 6),\n",
       " (5, 7),\n",
       " (5, 8),\n",
       " (5, 9),\n",
       " (6, 7),\n",
       " (6, 8),\n",
       " (6, 9),\n",
       " (7, 8),\n",
       " (7, 9),\n",
       " (8, 9)]"
      ]
     },
     "execution_count": 33,
     "metadata": {},
     "output_type": "execute_result"
    }
   ],
   "source": [
    "# "
   ]
  },
  {
   "cell_type": "code",
   "execution_count": null,
   "id": "eebadd64-c538-4c82-ac0d-9147546cb8be",
   "metadata": {},
   "outputs": [],
   "source": [
    "\n"
   ]
  }
 ],
 "metadata": {
  "kernelspec": {
   "display_name": "Python 3 (ipykernel)",
   "language": "python",
   "name": "python3"
  },
  "language_info": {
   "codemirror_mode": {
    "name": "ipython",
    "version": 3
   },
   "file_extension": ".py",
   "mimetype": "text/x-python",
   "name": "python",
   "nbconvert_exporter": "python",
   "pygments_lexer": "ipython3",
   "version": "3.12.8"
  }
 },
 "nbformat": 4,
 "nbformat_minor": 5
}
