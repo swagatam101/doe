{
 "cells": [
  {
   "cell_type": "markdown",
   "id": "a2b73a3a-962d-4198-a0f4-75f7a097c95e",
   "metadata": {},
   "source": [
    "# Trying vector codings "
   ]
  },
  {
   "cell_type": "code",
   "execution_count": 1,
   "id": "68b6513f-dd6e-427e-8fd7-aa9760cd96c3",
   "metadata": {},
   "outputs": [],
   "source": [
    "import numpy as np\n",
    "import pandas as pd\n",
    "import matplotlib\n",
    "import matplotlib.pyplot as plt\n",
    "from Bio.Data import IUPACData\n",
    "from collections import defaultdict\n",
    "from itertools import product, combinations\n",
    "from scipy.spatial.distance import hamming\n",
    "import scipy.stats as ss\n",
    "import cvxpy as cp\n",
    "import sys\n",
    "import scipy.linalg as sl\n",
    "\n",
    "sys.path.append(\"../\") \n",
    "import doe_utils\n",
    "\n",
    "# TEST MAKE AMINO ACID WORLD SMALL \n",
    "\n",
    "AMINO_ACIDS = doe_utils.AMINO_ACIDS"
   ]
  },
  {
   "cell_type": "code",
   "execution_count": 2,
   "id": "92589121-ac8d-4428-9819-a8b852a8070b",
   "metadata": {},
   "outputs": [
    {
     "name": "stdout",
     "output_type": "stream",
     "text": [
      "Parent protein: VSQANYSVTQYCITAMSMMNRGLCEEPVKQRENLSNEERNIDGMRRPHHAIFSLDVIHQVLRTGTGEQPLGTERTFQYCRILYPCHYYRPRGWFDDSIGE\n",
      "Random mutaed positions [10 32 63 87]\n"
     ]
    },
    {
     "data": {
      "text/html": [
       "<div>\n",
       "<style scoped>\n",
       "    .dataframe tbody tr th:only-of-type {\n",
       "        vertical-align: middle;\n",
       "    }\n",
       "\n",
       "    .dataframe tbody tr th {\n",
       "        vertical-align: top;\n",
       "    }\n",
       "\n",
       "    .dataframe thead th {\n",
       "        text-align: right;\n",
       "    }\n",
       "</style>\n",
       "<table border=\"1\" class=\"dataframe\">\n",
       "  <thead>\n",
       "    <tr style=\"text-align: right;\">\n",
       "      <th></th>\n",
       "      <th>0</th>\n",
       "      <th>1</th>\n",
       "      <th>2</th>\n",
       "      <th>3</th>\n",
       "      <th>4</th>\n",
       "      <th>5</th>\n",
       "      <th>6</th>\n",
       "      <th>7</th>\n",
       "      <th>8</th>\n",
       "      <th>9</th>\n",
       "      <th>...</th>\n",
       "      <th>90</th>\n",
       "      <th>91</th>\n",
       "      <th>92</th>\n",
       "      <th>93</th>\n",
       "      <th>94</th>\n",
       "      <th>95</th>\n",
       "      <th>96</th>\n",
       "      <th>97</th>\n",
       "      <th>98</th>\n",
       "      <th>99</th>\n",
       "    </tr>\n",
       "  </thead>\n",
       "  <tbody>\n",
       "    <tr>\n",
       "      <th>A</th>\n",
       "      <td>0.0</td>\n",
       "      <td>0.0</td>\n",
       "      <td>0.0</td>\n",
       "      <td>0.0</td>\n",
       "      <td>0.0</td>\n",
       "      <td>0.0</td>\n",
       "      <td>0.0</td>\n",
       "      <td>0.0</td>\n",
       "      <td>0.0</td>\n",
       "      <td>0.0</td>\n",
       "      <td>...</td>\n",
       "      <td>0.0</td>\n",
       "      <td>0.0</td>\n",
       "      <td>0.0</td>\n",
       "      <td>0.0</td>\n",
       "      <td>0.0</td>\n",
       "      <td>0.0</td>\n",
       "      <td>0.0</td>\n",
       "      <td>0.0</td>\n",
       "      <td>0.0</td>\n",
       "      <td>0.0</td>\n",
       "    </tr>\n",
       "    <tr>\n",
       "      <th>C</th>\n",
       "      <td>0.0</td>\n",
       "      <td>0.0</td>\n",
       "      <td>0.0</td>\n",
       "      <td>0.0</td>\n",
       "      <td>0.0</td>\n",
       "      <td>0.0</td>\n",
       "      <td>0.0</td>\n",
       "      <td>0.0</td>\n",
       "      <td>0.0</td>\n",
       "      <td>0.0</td>\n",
       "      <td>...</td>\n",
       "      <td>0.0</td>\n",
       "      <td>0.0</td>\n",
       "      <td>0.0</td>\n",
       "      <td>0.0</td>\n",
       "      <td>0.0</td>\n",
       "      <td>0.0</td>\n",
       "      <td>0.0</td>\n",
       "      <td>0.0</td>\n",
       "      <td>0.0</td>\n",
       "      <td>0.0</td>\n",
       "    </tr>\n",
       "    <tr>\n",
       "      <th>D</th>\n",
       "      <td>0.0</td>\n",
       "      <td>0.0</td>\n",
       "      <td>0.0</td>\n",
       "      <td>0.0</td>\n",
       "      <td>0.0</td>\n",
       "      <td>0.0</td>\n",
       "      <td>0.0</td>\n",
       "      <td>0.0</td>\n",
       "      <td>0.0</td>\n",
       "      <td>0.0</td>\n",
       "      <td>...</td>\n",
       "      <td>0.0</td>\n",
       "      <td>0.0</td>\n",
       "      <td>0.0</td>\n",
       "      <td>0.0</td>\n",
       "      <td>0.0</td>\n",
       "      <td>0.0</td>\n",
       "      <td>0.0</td>\n",
       "      <td>0.0</td>\n",
       "      <td>0.0</td>\n",
       "      <td>0.0</td>\n",
       "    </tr>\n",
       "    <tr>\n",
       "      <th>E</th>\n",
       "      <td>0.0</td>\n",
       "      <td>0.0</td>\n",
       "      <td>0.0</td>\n",
       "      <td>0.0</td>\n",
       "      <td>0.0</td>\n",
       "      <td>0.0</td>\n",
       "      <td>0.0</td>\n",
       "      <td>0.0</td>\n",
       "      <td>0.0</td>\n",
       "      <td>0.0</td>\n",
       "      <td>...</td>\n",
       "      <td>0.0</td>\n",
       "      <td>0.0</td>\n",
       "      <td>0.0</td>\n",
       "      <td>0.0</td>\n",
       "      <td>0.0</td>\n",
       "      <td>0.0</td>\n",
       "      <td>0.0</td>\n",
       "      <td>0.0</td>\n",
       "      <td>0.0</td>\n",
       "      <td>0.0</td>\n",
       "    </tr>\n",
       "    <tr>\n",
       "      <th>F</th>\n",
       "      <td>0.0</td>\n",
       "      <td>0.0</td>\n",
       "      <td>0.0</td>\n",
       "      <td>0.0</td>\n",
       "      <td>0.0</td>\n",
       "      <td>0.0</td>\n",
       "      <td>0.0</td>\n",
       "      <td>0.0</td>\n",
       "      <td>0.0</td>\n",
       "      <td>0.0</td>\n",
       "      <td>...</td>\n",
       "      <td>0.0</td>\n",
       "      <td>0.0</td>\n",
       "      <td>0.0</td>\n",
       "      <td>0.0</td>\n",
       "      <td>0.0</td>\n",
       "      <td>0.0</td>\n",
       "      <td>0.0</td>\n",
       "      <td>0.0</td>\n",
       "      <td>0.0</td>\n",
       "      <td>0.0</td>\n",
       "    </tr>\n",
       "  </tbody>\n",
       "</table>\n",
       "<p>5 rows × 100 columns</p>\n",
       "</div>"
      ],
      "text/plain": [
       "    0    1    2    3    4    5    6    7    8    9   ...   90   91   92   93  \\\n",
       "A  0.0  0.0  0.0  0.0  0.0  0.0  0.0  0.0  0.0  0.0  ...  0.0  0.0  0.0  0.0   \n",
       "C  0.0  0.0  0.0  0.0  0.0  0.0  0.0  0.0  0.0  0.0  ...  0.0  0.0  0.0  0.0   \n",
       "D  0.0  0.0  0.0  0.0  0.0  0.0  0.0  0.0  0.0  0.0  ...  0.0  0.0  0.0  0.0   \n",
       "E  0.0  0.0  0.0  0.0  0.0  0.0  0.0  0.0  0.0  0.0  ...  0.0  0.0  0.0  0.0   \n",
       "F  0.0  0.0  0.0  0.0  0.0  0.0  0.0  0.0  0.0  0.0  ...  0.0  0.0  0.0  0.0   \n",
       "\n",
       "    94   95   96   97   98   99  \n",
       "A  0.0  0.0  0.0  0.0  0.0  0.0  \n",
       "C  0.0  0.0  0.0  0.0  0.0  0.0  \n",
       "D  0.0  0.0  0.0  0.0  0.0  0.0  \n",
       "E  0.0  0.0  0.0  0.0  0.0  0.0  \n",
       "F  0.0  0.0  0.0  0.0  0.0  0.0  \n",
       "\n",
       "[5 rows x 100 columns]"
      ]
     },
     "execution_count": 2,
     "metadata": {},
     "output_type": "execute_result"
    }
   ],
   "source": [
    "length_of_protein = 100\n",
    "num_mutated = 4\n",
    "sold_mat_df, parent, mut_dict = doe_utils.create_synthetic_SOLD_matrix(num_mutated, length_of_protein, \\\n",
    "                                mut_probs = [[0.1, 0.1], [0.05, 0.05, 0.1], [0.05, 0.05, 0.1], [0.1, 0.1]], parent_prob=0.80) #6 postions mutated, pprtein length is 100 \n",
    "sold_mat_df.head() "
   ]
  },
  {
   "cell_type": "code",
   "execution_count": 3,
   "id": "ba0849ba-2a72-4511-ac2a-9d505acc4dc7",
   "metadata": {},
   "outputs": [
    {
     "data": {
      "image/png": "[encoded data removed]",
      "text/plain": [
       "<Figure size 1800x500 with 1 Axes>"
      ]
     },
     "metadata": {},
     "output_type": "display_data"
    }
   ],
   "source": [
    "plt.figure(figsize = (18,5))\n",
    "plt.imshow(sold_mat_df, aspect = 'auto', cmap = 'grey_r') \n",
    "_  = plt.xticks(range(length_of_protein), rotation = 90)\n",
    "_  = plt.yticks(range(len(AMINO_ACIDS)), AMINO_ACIDS)\n"
   ]
  },
  {
   "cell_type": "code",
   "execution_count": 4,
   "id": "fad4371c-5e8f-464e-94bc-e7d230e08259",
   "metadata": {},
   "outputs": [],
   "source": [
    "S = doe_utils.SOLD(sold_mat_df)\n",
    "seqs, mutations = S.generate_sequences(10000)\n",
    "seqs = np.unique(seqs)\n",
    "probs = S.compute_prob_n_mutations(num_mutated+1)"
   ]
  },
  {
   "cell_type": "code",
   "execution_count": 5,
   "id": "310f5902-348c-4517-a1f5-32ae448ea7eb",
   "metadata": {},
   "outputs": [
    {
     "data": {
      "text/plain": [
       "defaultdict(None,\n",
       "            {0: {'L': 0.1, 'N': 0.1, 'Y': 0.8},\n",
       "             1: {'D': 0.05, 'F': 0.05, 'N': 0.8, 'P': 0.1},\n",
       "             2: {'A': 0.1, 'G': 0.8, 'K': 0.05, 'L': 0.05},\n",
       "             3: {'P': 0.1, 'T': 0.1, 'Y': 0.8}})"
      ]
     },
     "execution_count": 5,
     "metadata": {},
     "output_type": "execute_result"
    }
   ],
   "source": [
    "S.mutation_probs_variable_region_indexed"
   ]
  },
  {
   "cell_type": "markdown",
   "id": "15315827-96e7-437e-b5bc-94fc8fe6ad77",
   "metadata": {},
   "source": [
    "# Now you have variable length mat to create encoder "
   ]
  },
  {
   "cell_type": "code",
   "execution_count": 6,
   "id": "8c4cfff7-fb3c-4324-8d27-6bbc73714520",
   "metadata": {},
   "outputs": [],
   "source": [
    "from doe_utils import Encoding_basics\n",
    "\n",
    "class Sequence_encoder_simplex(Encoding_basics): \n",
    "    \"\"\"\n",
    "    This encodes in variable length codes, to get rid of null space, one hot simplex \n",
    "    \"\"\"\n",
    "    def __init__(self, mutation_probs_variable_region_dict): \n",
    "        \"\"\"\n",
    "        Args:\n",
    "            mutated_region_length: the length of ONLY the variable region (mutated region) of the protein, NOT the whole protein length! \n",
    "        \"\"\"\n",
    "        super().__init__(mutation_probs_variable_region_dict) \n",
    "        \n",
    "    def encode_seqs(self, protein_seqs): \n",
    "        \"\"\"\n",
    "        Args: \n",
    "            protein_seqs: this is only the variable region \n",
    "        \"\"\"\n",
    "        independent_codes = [] \n",
    "        pairwise_codes = [] \n",
    "        for seq in protein_seqs:\n",
    "            array_of_seq = np.asarray(list(seq))\n",
    "            assert len(seq) == self.mutated_region_length, \"length mismatch of protein seq and attributes\"\n",
    "            \n",
    "            local_code_I = [x*0 for x in self.independent_codes_list] # initialize to zero \n",
    "            for i in range(self.mutated_region_length): \n",
    "                feature = str(i) + '-' + array_of_seq[i] \n",
    "                index = list(self.feature_names_independent).index(feature) \n",
    "                print(index)\n",
    "                local_code_I[index] = self.independent_codes_list[index] \n",
    "                print(self.independent_codes_list[index])\n",
    "            independent_codes.append(local_code_I)   \n",
    "            \n",
    "            local_code_J = [x*0 for x in self.pairwise_codes_list]\n",
    "            for j, pos in enumerate(self.pos_product): \n",
    "                # need to find the index of amino_acid pairs \n",
    "                amino_pairs = array_of_seq[pos]\n",
    "                feature = str(pos[0]) + '-' + amino_pairs[0] + ':' + str(pos[1]) + '-' + amino_pairs[1]\n",
    "                index = list(self.feature_names_pairwise).index(feature)\n",
    "                local_code_J[index] = self.pairwise_codes_list[index]\n",
    "            pairwise_codes.append(local_code_J) \n",
    "        return independent_codes, pairwise_codes\n",
    "\n",
    "\n",
    "#######################################################################################################\n",
    "\n",
    "class Create_in_silico_model(Encoding_basics): \n",
    "    \"\"\"\n",
    "    Create an in silico model for simulation with independent and pairwise contributions \n",
    "    \"\"\"\n",
    "    def __init__(self, mutation_probs_variable_region_dict, independent_params = None, pairwise_params = None, baseline = 10): \n",
    "        \"\"\"\n",
    "        Args:\n",
    "            mutation_probs ..  : pass the dict of mutation probs (this is generated by SOLD matrix class, attribute dict is called mutation_probs_variable_region_indexed) \n",
    "            MUST BE INDEXED BY THE POSITION OF THE MUTATED REGION, not the protein position... this is to make sure we can deal with different length proteins \n",
    "                example:\n",
    "                {0: {'D': 0.05, 'K': 0.85, 'M': 0.05, 'Y': 0.05},\n",
    "                 1: {'C': 0.05, 'G': 0.05, 'I': 0.05, 'P': 0.85},\n",
    "                 2: {'F': 0.05, 'N': 0.05, 'R': 0.85, 'Y': 0.05},\n",
    "                 3: {'G': 0.05, 'I': 0.05, 'L': 0.85, 'Q': 0.05},\n",
    "                 4: {'A': 0.05, 'E': 0.05, 'R': 0.05, 'W': 0.85},\n",
    "                 5: {'A': 0.05, 'D': 0.05, 'I': 0.85, 'K': 0.05}}\n",
    "                where the keys are the index of the mutated regions and the values are dicts of probs of each amino acid\n",
    "            idependent_params: {'rho':[0.2, 0.2], 'sparse_pdf_names': ['norm', 'norm'], 'noise_sigma' : 0.01, 'sparse_params': [{'loc': 1, 'scale': 0.2}, {'loc': -1, 'scale': 0.2}]} \n",
    "            pairwise_params: {'rho':[0.1, 0.1], 'sparse_pdf_names': ['norm', 'norm'], 'noise_sigma' : 0.01, 'sparse_params': [{'loc': 0.75, 'scale': 0.2}, {'loc': -0.75, 'scale': 0.2}]} \n",
    "            \n",
    "        \"\"\"\n",
    "        # independent params pdf default --- \n",
    "        I_defaults = {'rho':[0.2, 0.2], 'sparse_pdf_names': ['norm', 'norm'], 'noise_sigma' : 0.01, 'sparse_params': [{'loc': 1, 'scale': 0.2}, {'loc': -1, 'scale': 0.2}]} \n",
    "        #pairwise params pdf default ---\n",
    "        P_defaults = {'rho':[0.2, 0.2], 'sparse_pdf_names': ['norm', 'norm'], 'noise_sigma' : 0.01, 'sparse_params': [{'loc': 0.75, 'scale': 0.2}, {'loc': -0.75, 'scale': 0.2}]} \n",
    "\n",
    "        super().__init__(mutation_probs_variable_region_dict) \n",
    "\n",
    "        if independent_params is not None: \n",
    "            I_defaults.update(independent_params) \n",
    "        self.independent_params = I_defaults.copy()  \n",
    "\n",
    "        if pairwise_params is not None: \n",
    "            P_defaults.update(pairwise_params) \n",
    "        # see the create mixture function\n",
    "        self.pairwise_params = P_defaults.copy() \n",
    "        \n",
    "        # Now I need to assign weights to individual and pairwise contributions \n",
    "        # first fill in the weights for the independent codes\n",
    "        self.Prob_I = Create_mixture(**self.independent_params)\n",
    "        samples_I, _ = self.Prob_I.samples(np.prod(self.shape_independent_weights))\n",
    "        self.independent_weights = samples_I.reshape(self.shape_independent_weights)         \n",
    "        self.Prob_P = Create_mixture(**self.pairwise_params)\n",
    "        samples_P, _ = self.Prob_P.samples(np.prod(self.shape_pairwise_weights))\n",
    "        self.pairwise_weights = samples_P.reshape(self.shape_pairwise_weights)              \n",
    "        self.baseline = baseline    \n",
    "    \n",
    "    def model(self, independent_codes, pairwise_codes): \n",
    "        \"\"\"\n",
    "        Args: \n",
    "            independent_codes: the result of encoding my sequence encoder to independent codes --- these are tensors--- N seqs times A amino acids time L positions (shape_independet_weights) etc. \n",
    "            pairwise_codes: similar \n",
    "            masked: ignore the weights of independent and pairwise positions that are not variable! \n",
    "        \"\"\"\n",
    "        ans1 = np.einsum('ijk, jk -> i', independent_codes, self.independent_weights) \n",
    "        ans2 = np.einsum('ijk, jk -> i', pairwise_codes, self.pairwise_weights)\n",
    "        return self.baseline + ans1 + ans2 \n",
    "        \n",
    "    def plot_weights(self): \n",
    "        \"\"\"\n",
    "        Plotting functions \n",
    "        \"\"\"\n",
    "        # weights \n",
    "        I_samples = np.ravel(self.independent_weights) \n",
    "        GRID_SIZE = 1000\n",
    "        x = np.linspace(np.min(I_samples), np.max(I_samples), GRID_SIZE)\n",
    "        plt.figure() \n",
    "        plt.plot(x, self.Prob_I.pdf()(x))\n",
    "        _ = plt.hist(I_samples, density=True, bins = 50)        \n",
    "        plt.title('Distribution of independent weights') \n",
    "\n",
    "        P_samples = np.ravel(self.pairwise_weights) \n",
    "        x = np.linspace(np.min(P_samples), np.max(P_samples), GRID_SIZE)\n",
    "        plt.figure() \n",
    "        plt.plot(x, self.Prob_P.pdf()(x))\n",
    "        _ = plt.hist(P_samples, density=True, bins = 50)        \n",
    "        plt.title('Distribution of pairwise weights') \n",
    "        plt.figure() \n",
    "        plt.imshow(self.independent_weights, vmin = -1, vmax = 1, cmap = 'RdBu', interpolation = 'None') \n",
    "        _  = plt.yticks(range(len(self.feature_names_independent)), self.feature_names_independent)\n",
    "        _  = plt.xticks(range(self.shape_independent_weights[1]))\n",
    "        plt.title(\"Independent weights\") \n",
    "        plt.colorbar() \n",
    "        plt.figure(figsize = (5, 70))\n",
    "        plt.imshow(self.pairwise_weights, vmin = -1, vmax = 1, cmap = 'RdBu', aspect = 'auto', interpolation = 'None') \n",
    "        _  = plt.yticks(range(len(self.feature_names_pairwise)), self.feature_names_pairwise)\n",
    "        _  = plt.xticks(range(self.shape_pairwise_weights[1]))\n",
    "        plt.title(\"Pairwise weights\") \n",
    "        #plt.colorbar\n",
    "\n"
   ]
  },
  {
   "cell_type": "code",
   "execution_count": 7,
   "id": "b3eeab29-1db4-4285-b9a9-b750ead90a01",
   "metadata": {},
   "outputs": [],
   "source": [
    "Q = doe_utils.Encoding_basics(S.mutation_probs_variable_region_indexed)"
   ]
  },
  {
   "cell_type": "code",
   "execution_count": 8,
   "id": "ecceb1df-d4f0-4b03-b0c7-4697d8cec6da",
   "metadata": {},
   "outputs": [
    {
     "data": {
      "text/plain": [
       "['0-L',\n",
       " '0-N',\n",
       " '0-Y',\n",
       " '1-D',\n",
       " '1-F',\n",
       " '1-N',\n",
       " '1-P',\n",
       " '2-A',\n",
       " '2-G',\n",
       " '2-K',\n",
       " '2-L',\n",
       " '3-P',\n",
       " '3-T',\n",
       " '3-Y']"
      ]
     },
     "execution_count": 8,
     "metadata": {},
     "output_type": "execute_result"
    }
   ],
   "source": [
    "Q.feature_names_independent"
   ]
  },
  {
   "cell_type": "code",
   "execution_count": 9,
   "id": "7ace48ec-0420-4702-a357-5f8c687f189a",
   "metadata": {},
   "outputs": [
    {
     "data": {
      "text/plain": [
       "np.int64(840)"
      ]
     },
     "execution_count": 9,
     "metadata": {},
     "output_type": "execute_result"
    }
   ],
   "source": [
    "Q.code_length_pairwise"
   ]
  },
  {
   "cell_type": "code",
   "execution_count": 10,
   "id": "44681516-dbec-4a3f-bdc3-482a5c9b5388",
   "metadata": {},
   "outputs": [
    {
     "data": {
      "text/plain": [
       "[array([1., 0.]),\n",
       " array([0., 1.]),\n",
       " array([0., 0.]),\n",
       " array([1., 0., 0.]),\n",
       " array([0., 1., 0.]),\n",
       " array([0., 0., 0.]),\n",
       " array([0., 0., 1.]),\n",
       " array([1., 0., 0.]),\n",
       " array([0., 0., 0.]),\n",
       " array([0., 1., 0.]),\n",
       " array([0., 0., 1.]),\n",
       " array([1., 0.]),\n",
       " array([0., 1.]),\n",
       " array([0., 0.])]"
      ]
     },
     "execution_count": 10,
     "metadata": {},
     "output_type": "execute_result"
    }
   ],
   "source": [
    "Q.independent_codes_list"
   ]
  },
  {
   "cell_type": "code",
   "execution_count": 11,
   "id": "b5cc414e-871e-4e8f-b3e7-3326a9e03f6b",
   "metadata": {},
   "outputs": [
    {
     "data": {
      "text/plain": [
       "['0-L',\n",
       " '0-N',\n",
       " '0-Y',\n",
       " '1-D',\n",
       " '1-F',\n",
       " '1-N',\n",
       " '1-P',\n",
       " '2-A',\n",
       " '2-G',\n",
       " '2-K',\n",
       " '2-L',\n",
       " '3-P',\n",
       " '3-T',\n",
       " '3-Y']"
      ]
     },
     "execution_count": 11,
     "metadata": {},
     "output_type": "execute_result"
    }
   ],
   "source": [
    "Q.feature_names_independent"
   ]
  },
  {
   "cell_type": "code",
   "execution_count": 12,
   "id": "844fc668-21c6-4334-b9b3-bbe5521f4503",
   "metadata": {},
   "outputs": [
    {
     "name": "stdout",
     "output_type": "stream",
     "text": [
      "0\n",
      "[1. 0.]\n",
      "3\n",
      "[1. 0. 0.]\n",
      "7\n",
      "[1. 0. 0.]\n",
      "11\n",
      "[1. 0.]\n",
      "0\n",
      "[1. 0.]\n",
      "3\n",
      "[1. 0. 0.]\n",
      "7\n",
      "[1. 0. 0.]\n",
      "12\n",
      "[0. 1.]\n",
      "0\n",
      "[1. 0.]\n",
      "3\n",
      "[1. 0. 0.]\n",
      "7\n",
      "[1. 0. 0.]\n",
      "13\n",
      "[0. 0.]\n"
     ]
    }
   ],
   "source": [
    "E = Sequence_encoder_simplex(S.mutation_probs_variable_region_indexed)\n",
    "A, B = E.encode_seqs(seqs[:3])"
   ]
  },
  {
   "cell_type": "code",
   "execution_count": 13,
   "id": "95712478-1377-4301-b500-a476b311335a",
   "metadata": {},
   "outputs": [
    {
     "data": {
      "text/plain": [
       "{10: 'Y', 32: 'N', 63: 'G', 87: 'Y'}"
      ]
     },
     "execution_count": 13,
     "metadata": {},
     "output_type": "execute_result"
    }
   ],
   "source": [
    "S.parent"
   ]
  },
  {
   "cell_type": "code",
   "execution_count": 14,
   "id": "3b63fe10-f23d-45b3-9a87-ae2c45e180e6",
   "metadata": {},
   "outputs": [
    {
     "data": {
      "text/plain": [
       "np.str_('LDAP')"
      ]
     },
     "execution_count": 14,
     "metadata": {},
     "output_type": "execute_result"
    }
   ],
   "source": [
    "seqs[0]"
   ]
  },
  {
   "cell_type": "code",
   "execution_count": 15,
   "id": "da8e69cd-fe2e-4924-b672-e81933ee5b2f",
   "metadata": {},
   "outputs": [
    {
     "data": {
      "text/plain": [
       "[array([1., 0.]),\n",
       " array([0., 0.]),\n",
       " array([0., 0.]),\n",
       " array([1., 0., 0.]),\n",
       " array([0., 0., 0.]),\n",
       " array([0., 0., 0.]),\n",
       " array([0., 0., 0.]),\n",
       " array([1., 0., 0.]),\n",
       " array([0., 0., 0.]),\n",
       " array([0., 0., 0.]),\n",
       " array([0., 0., 0.]),\n",
       " array([1., 0.]),\n",
       " array([0., 0.]),\n",
       " array([0., 0.])]"
      ]
     },
     "execution_count": 15,
     "metadata": {},
     "output_type": "execute_result"
    }
   ],
   "source": [
    "A[0]"
   ]
  },
  {
   "cell_type": "code",
   "execution_count": 16,
   "id": "901127d9-ca0b-4836-8b01-35bae0d1a4c8",
   "metadata": {},
   "outputs": [
    {
     "data": {
      "text/plain": [
       "['0-L',\n",
       " '0-N',\n",
       " '0-Y',\n",
       " '1-D',\n",
       " '1-F',\n",
       " '1-N',\n",
       " '1-P',\n",
       " '2-A',\n",
       " '2-G',\n",
       " '2-K',\n",
       " '2-L',\n",
       " '3-P',\n",
       " '3-T',\n",
       " '3-Y']"
      ]
     },
     "execution_count": 16,
     "metadata": {},
     "output_type": "execute_result"
    }
   ],
   "source": [
    "Q.feature_names_independent"
   ]
  },
  {
   "cell_type": "code",
   "execution_count": 17,
   "id": "bc3e2ef7-7510-4409-b65c-98192bb09b3c",
   "metadata": {},
   "outputs": [
    {
     "data": {
      "text/plain": [
       "array(['0-L:1-D', '0-L:2-A', '0-L:3-P', '1-D:2-A', '1-D:3-P', '2-A:3-P'],\n",
       "      dtype='<U7')"
      ]
     },
     "execution_count": 17,
     "metadata": {},
     "output_type": "execute_result"
    }
   ],
   "source": [
    "np.asarray(Q.feature_names_pairwise)[np.asarray([np.any(a) for a in B[0]])]"
   ]
  },
  {
   "cell_type": "code",
   "execution_count": 18,
   "id": "b83da383-15e9-4a6d-b640-2d2186497aa6",
   "metadata": {},
   "outputs": [
    {
     "data": {
      "text/plain": [
       "np.str_('LDAP')"
      ]
     },
     "execution_count": 18,
     "metadata": {},
     "output_type": "execute_result"
    }
   ],
   "source": [
    "seqs[0]"
   ]
  },
  {
   "cell_type": "code",
   "execution_count": 19,
   "id": "62cae3b3-71e0-45ed-b897-c317caa2098d",
   "metadata": {},
   "outputs": [
    {
     "data": {
      "text/plain": [
       "'YNGY'"
      ]
     },
     "execution_count": 19,
     "metadata": {},
     "output_type": "execute_result"
    }
   ],
   "source": [
    "Q.parent"
   ]
  },
  {
   "cell_type": "code",
   "execution_count": null,
   "id": "c8628bcb-d40c-4b6b-864d-8c4c16acba87",
   "metadata": {},
   "outputs": [],
   "source": []
  }
 ],
 "metadata": {
  "kernelspec": {
   "display_name": "Python 3 (ipykernel)",
   "language": "python",
   "name": "python3"
  },
  "language_info": {
   "codemirror_mode": {
    "name": "ipython",
    "version": 3
   },
   "file_extension": ".py",
   "mimetype": "text/x-python",
   "name": "python",
   "nbconvert_exporter": "python",
   "pygments_lexer": "ipython3",
   "version": "3.13.5"
  }
 },
 "nbformat": 4,
 "nbformat_minor": 5
}
