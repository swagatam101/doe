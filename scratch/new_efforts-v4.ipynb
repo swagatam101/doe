{
 "cells": [
  {
   "cell_type": "markdown",
   "id": "a2b73a3a-962d-4198-a0f4-75f7a097c95e",
   "metadata": {},
   "source": [
    "# Trying vector codings "
   ]
  },
  {
   "cell_type": "code",
   "execution_count": 1,
   "id": "68b6513f-dd6e-427e-8fd7-aa9760cd96c3",
   "metadata": {},
   "outputs": [],
   "source": [
    "import numpy as np\n",
    "import pandas as pd\n",
    "import matplotlib\n",
    "import matplotlib.pyplot as plt\n",
    "from Bio.Data import IUPACData\n",
    "from collections import defaultdict\n",
    "from itertools import product, combinations\n",
    "from scipy.spatial.distance import hamming\n",
    "import scipy.stats as ss\n",
    "import cvxpy as cp\n",
    "import sys\n",
    "import scipy.linalg as sl\n",
    "\n",
    "sys.path.append(\"../\") \n",
    "import doe_utils\n",
    "\n",
    "# TEST MAKE AMINO ACID WORLD SMALL \n",
    "\n",
    "AMINO_ACIDS = doe_utils.AMINO_ACIDS"
   ]
  },
  {
   "cell_type": "code",
   "execution_count": 2,
   "id": "92589121-ac8d-4428-9819-a8b852a8070b",
   "metadata": {},
   "outputs": [
    {
     "name": "stdout",
     "output_type": "stream",
     "text": [
      "Parent protein: EVEKWYIFQTMKNHFMCQMGSMVLSRHTKQKVCNHPNTTWQLKYICKQWRGYYISYCGNNLKANGYIRYGKYNYHGSFHYWIQADGGAPVEPSGTNNEVK\n",
      "Random mutaed positions [ 0  5 50 61]\n"
     ]
    },
    {
     "data": {
      "text/html": [
       "<div>\n",
       "<style scoped>\n",
       "    .dataframe tbody tr th:only-of-type {\n",
       "        vertical-align: middle;\n",
       "    }\n",
       "\n",
       "    .dataframe tbody tr th {\n",
       "        vertical-align: top;\n",
       "    }\n",
       "\n",
       "    .dataframe thead th {\n",
       "        text-align: right;\n",
       "    }\n",
       "</style>\n",
       "<table border=\"1\" class=\"dataframe\">\n",
       "  <thead>\n",
       "    <tr style=\"text-align: right;\">\n",
       "      <th></th>\n",
       "      <th>0</th>\n",
       "      <th>1</th>\n",
       "      <th>2</th>\n",
       "      <th>3</th>\n",
       "      <th>4</th>\n",
       "      <th>5</th>\n",
       "      <th>6</th>\n",
       "      <th>7</th>\n",
       "      <th>8</th>\n",
       "      <th>9</th>\n",
       "      <th>...</th>\n",
       "      <th>90</th>\n",
       "      <th>91</th>\n",
       "      <th>92</th>\n",
       "      <th>93</th>\n",
       "      <th>94</th>\n",
       "      <th>95</th>\n",
       "      <th>96</th>\n",
       "      <th>97</th>\n",
       "      <th>98</th>\n",
       "      <th>99</th>\n",
       "    </tr>\n",
       "  </thead>\n",
       "  <tbody>\n",
       "    <tr>\n",
       "      <th>A</th>\n",
       "      <td>0.0</td>\n",
       "      <td>0.0</td>\n",
       "      <td>0.0</td>\n",
       "      <td>0.0</td>\n",
       "      <td>0.0</td>\n",
       "      <td>0.0</td>\n",
       "      <td>0.0</td>\n",
       "      <td>0.0</td>\n",
       "      <td>0.0</td>\n",
       "      <td>0.0</td>\n",
       "      <td>...</td>\n",
       "      <td>0.0</td>\n",
       "      <td>0.0</td>\n",
       "      <td>0.0</td>\n",
       "      <td>0.0</td>\n",
       "      <td>0.0</td>\n",
       "      <td>0.0</td>\n",
       "      <td>0.0</td>\n",
       "      <td>0.0</td>\n",
       "      <td>0.0</td>\n",
       "      <td>0.0</td>\n",
       "    </tr>\n",
       "    <tr>\n",
       "      <th>C</th>\n",
       "      <td>0.0</td>\n",
       "      <td>0.0</td>\n",
       "      <td>0.0</td>\n",
       "      <td>0.0</td>\n",
       "      <td>0.0</td>\n",
       "      <td>0.0</td>\n",
       "      <td>0.0</td>\n",
       "      <td>0.0</td>\n",
       "      <td>0.0</td>\n",
       "      <td>0.0</td>\n",
       "      <td>...</td>\n",
       "      <td>0.0</td>\n",
       "      <td>0.0</td>\n",
       "      <td>0.0</td>\n",
       "      <td>0.0</td>\n",
       "      <td>0.0</td>\n",
       "      <td>0.0</td>\n",
       "      <td>0.0</td>\n",
       "      <td>0.0</td>\n",
       "      <td>0.0</td>\n",
       "      <td>0.0</td>\n",
       "    </tr>\n",
       "    <tr>\n",
       "      <th>D</th>\n",
       "      <td>0.0</td>\n",
       "      <td>0.0</td>\n",
       "      <td>0.0</td>\n",
       "      <td>0.0</td>\n",
       "      <td>0.0</td>\n",
       "      <td>0.0</td>\n",
       "      <td>0.0</td>\n",
       "      <td>0.0</td>\n",
       "      <td>0.0</td>\n",
       "      <td>0.0</td>\n",
       "      <td>...</td>\n",
       "      <td>0.0</td>\n",
       "      <td>0.0</td>\n",
       "      <td>0.0</td>\n",
       "      <td>0.0</td>\n",
       "      <td>0.0</td>\n",
       "      <td>0.0</td>\n",
       "      <td>0.0</td>\n",
       "      <td>0.0</td>\n",
       "      <td>0.0</td>\n",
       "      <td>0.0</td>\n",
       "    </tr>\n",
       "    <tr>\n",
       "      <th>E</th>\n",
       "      <td>0.1</td>\n",
       "      <td>0.0</td>\n",
       "      <td>0.0</td>\n",
       "      <td>0.0</td>\n",
       "      <td>0.0</td>\n",
       "      <td>0.0</td>\n",
       "      <td>0.0</td>\n",
       "      <td>0.0</td>\n",
       "      <td>0.0</td>\n",
       "      <td>0.0</td>\n",
       "      <td>...</td>\n",
       "      <td>0.0</td>\n",
       "      <td>0.0</td>\n",
       "      <td>0.0</td>\n",
       "      <td>0.0</td>\n",
       "      <td>0.0</td>\n",
       "      <td>0.0</td>\n",
       "      <td>0.0</td>\n",
       "      <td>0.0</td>\n",
       "      <td>0.0</td>\n",
       "      <td>0.0</td>\n",
       "    </tr>\n",
       "    <tr>\n",
       "      <th>F</th>\n",
       "      <td>0.0</td>\n",
       "      <td>0.0</td>\n",
       "      <td>0.0</td>\n",
       "      <td>0.0</td>\n",
       "      <td>0.0</td>\n",
       "      <td>0.0</td>\n",
       "      <td>0.0</td>\n",
       "      <td>0.0</td>\n",
       "      <td>0.0</td>\n",
       "      <td>0.0</td>\n",
       "      <td>...</td>\n",
       "      <td>0.0</td>\n",
       "      <td>0.0</td>\n",
       "      <td>0.0</td>\n",
       "      <td>0.0</td>\n",
       "      <td>0.0</td>\n",
       "      <td>0.0</td>\n",
       "      <td>0.0</td>\n",
       "      <td>0.0</td>\n",
       "      <td>0.0</td>\n",
       "      <td>0.0</td>\n",
       "    </tr>\n",
       "  </tbody>\n",
       "</table>\n",
       "<p>5 rows × 100 columns</p>\n",
       "</div>"
      ],
      "text/plain": [
       "    0    1    2    3    4    5    6    7    8    9   ...   90   91   92   93  \\\n",
       "A  0.0  0.0  0.0  0.0  0.0  0.0  0.0  0.0  0.0  0.0  ...  0.0  0.0  0.0  0.0   \n",
       "C  0.0  0.0  0.0  0.0  0.0  0.0  0.0  0.0  0.0  0.0  ...  0.0  0.0  0.0  0.0   \n",
       "D  0.0  0.0  0.0  0.0  0.0  0.0  0.0  0.0  0.0  0.0  ...  0.0  0.0  0.0  0.0   \n",
       "E  0.1  0.0  0.0  0.0  0.0  0.0  0.0  0.0  0.0  0.0  ...  0.0  0.0  0.0  0.0   \n",
       "F  0.0  0.0  0.0  0.0  0.0  0.0  0.0  0.0  0.0  0.0  ...  0.0  0.0  0.0  0.0   \n",
       "\n",
       "    94   95   96   97   98   99  \n",
       "A  0.0  0.0  0.0  0.0  0.0  0.0  \n",
       "C  0.0  0.0  0.0  0.0  0.0  0.0  \n",
       "D  0.0  0.0  0.0  0.0  0.0  0.0  \n",
       "E  0.0  0.0  0.0  0.0  0.0  0.0  \n",
       "F  0.0  0.0  0.0  0.0  0.0  0.0  \n",
       "\n",
       "[5 rows x 100 columns]"
      ]
     },
     "execution_count": 2,
     "metadata": {},
     "output_type": "execute_result"
    }
   ],
   "source": [
    "length_of_protein = 100\n",
    "num_mutated = 4\n",
    "sold_mat_df, parent, mut_dict = doe_utils.create_synthetic_SOLD_matrix(num_mutated, length_of_protein, \\\n",
    "                                mut_probs = [[0.45, 0.45], [0.45], [0.20, 0.20, 0.20], [0.20, 0.20, 0.20]], parent_prob=[0.10, 0.55, 0.40, 0.40])                                    \n",
    "                                #mut_probs = [[0.45, 0.45], [0.45, 0.45], [0.25, 0.3, 0.35], [0.25, 0.25, 0.4], [0.45, 0.45]], parent_prob=0.1) #6 postions mutated, pprtein length is 100 \n",
    "sold_mat_df.head() "
   ]
  },
  {
   "cell_type": "code",
   "execution_count": 3,
   "id": "ba0849ba-2a72-4511-ac2a-9d505acc4dc7",
   "metadata": {},
   "outputs": [
    {
     "data": {
      "image/png": "[encoded data removed]",
      "text/plain": [
       "<Figure size 1800x500 with 1 Axes>"
      ]
     },
     "metadata": {},
     "output_type": "display_data"
    }
   ],
   "source": [
    "plt.figure(figsize = (18,5))\n",
    "plt.imshow(sold_mat_df, aspect = 'auto', cmap = 'grey_r') \n",
    "_  = plt.xticks(range(length_of_protein), rotation = 90)\n",
    "_  = plt.yticks(range(len(AMINO_ACIDS)), AMINO_ACIDS)\n"
   ]
  },
  {
   "cell_type": "code",
   "execution_count": 4,
   "id": "fad4371c-5e8f-464e-94bc-e7d230e08259",
   "metadata": {},
   "outputs": [
    {
     "name": "stdout",
     "output_type": "stream",
     "text": [
      "96\n"
     ]
    }
   ],
   "source": [
    "S = doe_utils.SOLD(sold_mat_df)\n",
    "seqs, mutations = S.generate_sequences(10000)\n",
    "seqs = np.unique(seqs)\n",
    "print(len(seqs))\n",
    "probs = S.compute_prob_n_mutations(num_mutated+1)"
   ]
  },
  {
   "cell_type": "code",
   "execution_count": 5,
   "id": "310f5902-348c-4517-a1f5-32ae448ea7eb",
   "metadata": {},
   "outputs": [
    {
     "data": {
      "text/plain": [
       "defaultdict(None,\n",
       "            {0: {'E': 0.1, 'M': 0.45, 'R': 0.45},\n",
       "             1: {'V': 0.45, 'Y': 0.55},\n",
       "             2: {'G': 0.4, 'I': 0.2, 'K': 0.2, 'P': 0.2},\n",
       "             3: {'C': 0.2, 'G': 0.2, 'K': 0.4, 'W': 0.2}})"
      ]
     },
     "execution_count": 5,
     "metadata": {},
     "output_type": "execute_result"
    }
   ],
   "source": [
    "S.mutation_probs_variable_region_indexed"
   ]
  },
  {
   "cell_type": "markdown",
   "id": "15315827-96e7-437e-b5bc-94fc8fe6ad77",
   "metadata": {},
   "source": [
    "# Now you have variable length mat to create encoder "
   ]
  },
  {
   "cell_type": "code",
   "execution_count": 6,
   "id": "b3eeab29-1db4-4285-b9a9-b750ead90a01",
   "metadata": {},
   "outputs": [],
   "source": [
    "Q = doe_utils.Encoding_basics(S.mutation_probs_variable_region_indexed)\n",
    "\n"
   ]
  },
  {
   "cell_type": "code",
   "execution_count": 7,
   "id": "3a90addc-0a1d-4257-b629-2335a5512713",
   "metadata": {},
   "outputs": [
    {
     "data": {
      "text/plain": [
       "62"
      ]
     },
     "execution_count": 7,
     "metadata": {},
     "output_type": "execute_result"
    }
   ],
   "source": [
    "len(Q.feature_names_pairwise)"
   ]
  },
  {
   "cell_type": "code",
   "execution_count": 8,
   "id": "c7b32ed0-be4a-4ccb-8392-57bdb1984b51",
   "metadata": {},
   "outputs": [
    {
     "data": {
      "text/plain": [
       "6"
      ]
     },
     "execution_count": 8,
     "metadata": {},
     "output_type": "execute_result"
    }
   ],
   "source": [
    "len(Q.pairwise_code_mapper)"
   ]
  },
  {
   "cell_type": "code",
   "execution_count": 9,
   "id": "2cc15ebb-1e1a-4c1c-94fb-f502dcd0da74",
   "metadata": {},
   "outputs": [
    {
     "data": {
      "text/plain": [
       "[array([0., 0., 0., 0., 0.]),\n",
       " array([0., 0., 0., 0., 0., 0., 0., 0., 0., 0., 0.]),\n",
       " array([0., 0., 0., 0., 0., 0., 0., 0., 0., 0., 0.]),\n",
       " array([0., 0., 0., 0., 0., 0., 0.]),\n",
       " array([0., 0., 0., 0., 0., 0., 0.]),\n",
       " array([0., 0., 0., 0., 0., 0., 0., 0., 0., 0., 0., 0., 0., 0., 0.])]"
      ]
     },
     "execution_count": 9,
     "metadata": {},
     "output_type": "execute_result"
    }
   ],
   "source": [
    "Q.encode_parent_pairwise"
   ]
  },
  {
   "cell_type": "code",
   "execution_count": 10,
   "id": "032c59d4-680a-4416-a5f9-7b2ecafdcbe5",
   "metadata": {},
   "outputs": [
    {
     "data": {
      "text/plain": [
       "np.int64(56)"
      ]
     },
     "execution_count": 10,
     "metadata": {},
     "output_type": "execute_result"
    }
   ],
   "source": [
    "Q.code_length_pairwise"
   ]
  },
  {
   "cell_type": "code",
   "execution_count": 11,
   "id": "46f48baa-1e00-4a92-b4ad-05c8b590c05b",
   "metadata": {},
   "outputs": [],
   "source": [
    "E = doe_utils.Sequence_encoder_simplex(S.mutation_probs_variable_region_indexed)\n",
    "independent_codes, pairwise_codes, flatten_independent, flatter_pairwise = E.encode_seqs(seqs)"
   ]
  },
  {
   "cell_type": "code",
   "execution_count": 12,
   "id": "ecceb1df-d4f0-4b03-b0c7-4697d8cec6da",
   "metadata": {},
   "outputs": [],
   "source": [
    "model = doe_utils.Create_in_silico_model(S.mutation_probs_variable_region_indexed)"
   ]
  },
  {
   "cell_type": "code",
   "execution_count": 13,
   "id": "7ace48ec-0420-4702-a357-5f8c687f189a",
   "metadata": {},
   "outputs": [
    {
     "data": {
      "text/plain": [
       "(array([ 4.,  9., 16., 17., 19.,  9., 15.,  1.,  2.,  4.]),\n",
       " array([-4.66963387, -3.48588996, -2.30214604, -1.11840213,  0.06534178,\n",
       "         1.24908569,  2.43282961,  3.61657352,  4.80031743,  5.98406135,\n",
       "         7.16780526]),\n",
       " <BarContainer object of 10 artists>)"
      ]
     },
     "execution_count": 13,
     "metadata": {},
     "output_type": "execute_result"
    },
    {
     "data": {
      "image/png": "[encoded data removed]",
      "text/plain": [
       "<Figure size 640x480 with 1 Axes>"
      ]
     },
     "metadata": {},
     "output_type": "display_data"
    }
   ],
   "source": [
    "responses = model.model(flatten_independent, flatter_pairwise)\n",
    "plt.hist(responses)"
   ]
  },
  {
   "cell_type": "code",
   "execution_count": 14,
   "id": "c8628bcb-d40c-4b6b-864d-8c4c16acba87",
   "metadata": {},
   "outputs": [
    {
     "data": {
      "image/png": "[encoded data removed]",
      "text/plain": [
       "<Figure size 640x480 with 1 Axes>"
      ]
     },
     "metadata": {},
     "output_type": "display_data"
    },
    {
     "data": {
      "image/png": "[encoded data removed]",
      "text/plain": [
       "<Figure size 640x480 with 1 Axes>"
      ]
     },
     "metadata": {},
     "output_type": "display_data"
    }
   ],
   "source": [
    "model.plot_weights()"
   ]
  },
  {
   "cell_type": "code",
   "execution_count": 15,
   "id": "c6d93501-0c6e-4005-8e1f-f4b8b1e569bf",
   "metadata": {},
   "outputs": [],
   "source": [
    "fit_model = doe_utils.Fitting_model(S.mutation_probs_variable_region_indexed)\n",
    "weights, fit_responses = fit_model.fit(seqs, responses, fit = 'both')"
   ]
  },
  {
   "cell_type": "code",
   "execution_count": 16,
   "id": "afdbf68e-db48-46cb-ad91-b7ece3ccc2e3",
   "metadata": {},
   "outputs": [
    {
     "data": {
      "text/plain": [
       "<matplotlib.collections.PathCollection at 0x10d3b67b0>"
      ]
     },
     "execution_count": 16,
     "metadata": {},
     "output_type": "execute_result"
    },
    {
     "data": {
      "image/png": "[encoded data removed]",
      "text/plain": [
       "<Figure size 640x480 with 1 Axes>"
      ]
     },
     "metadata": {},
     "output_type": "display_data"
    }
   ],
   "source": [
    "plt.scatter(fit_responses, responses)"
   ]
  },
  {
   "cell_type": "code",
   "execution_count": 17,
   "id": "26625e34-6181-4d1b-b757-0b7df2bd924f",
   "metadata": {},
   "outputs": [
    {
     "data": {
      "text/plain": [
       "<matplotlib.collections.PathCollection at 0x10d8de490>"
      ]
     },
     "execution_count": 17,
     "metadata": {},
     "output_type": "execute_result"
    },
    {
     "data": {
      "image/png": "[encoded data removed]",
      "text/plain": [
       "<Figure size 640x480 with 1 Axes>"
      ]
     },
     "metadata": {},
     "output_type": "display_data"
    }
   ],
   "source": [
    "plt.scatter(model.independent_weights, weights[fit_model.independent_indices])"
   ]
  },
  {
   "cell_type": "code",
   "execution_count": 18,
   "id": "f96d4af6-ddd1-490b-a61b-44308823c41e",
   "metadata": {},
   "outputs": [
    {
     "data": {
      "text/plain": [
       "<matplotlib.collections.PathCollection at 0x10d88c2d0>"
      ]
     },
     "execution_count": 18,
     "metadata": {},
     "output_type": "execute_result"
    },
    {
     "data": {
      "image/png": "[encoded data removed]",
      "text/plain": [
       "<Figure size 640x480 with 1 Axes>"
      ]
     },
     "metadata": {},
     "output_type": "display_data"
    }
   ],
   "source": [
    "plt.scatter(model.pairwise_weights, weights[fit_model.pairwise_indices])"
   ]
  },
  {
   "cell_type": "code",
   "execution_count": 19,
   "id": "5754d4a9-096f-48a9-b1b5-19e1af87c73a",
   "metadata": {},
   "outputs": [],
   "source": [
    "a, b = np.linalg.eig(fit_model.features.T.dot(fit_model.features))"
   ]
  },
  {
   "cell_type": "code",
   "execution_count": 20,
   "id": "cb814e86-fd22-42f0-944f-4ae4401003e4",
   "metadata": {},
   "outputs": [
    {
     "name": "stderr",
     "output_type": "stream",
     "text": [
      "/Users/swagatammukhopadhyay/anaconda3/envs/pytorch_env/lib/python3.13/site-packages/matplotlib/cbook.py:1719: ComplexWarning: Casting complex values to real discards the imaginary part\n",
      "  return math.isfinite(val)\n",
      "/Users/swagatammukhopadhyay/anaconda3/envs/pytorch_env/lib/python3.13/site-packages/matplotlib/cbook.py:1355: ComplexWarning: Casting complex values to real discards the imaginary part\n",
      "  return np.asarray(x, float)\n"
     ]
    },
    {
     "data": {
      "text/plain": [
       "[<matplotlib.lines.Line2D at 0x10da55310>]"
      ]
     },
     "execution_count": 20,
     "metadata": {},
     "output_type": "execute_result"
    },
    {
     "data": {
      "image/png": "[encoded data removed]",
      "text/plain": [
       "<Figure size 640x480 with 1 Axes>"
      ]
     },
     "metadata": {},
     "output_type": "display_data"
    }
   ],
   "source": [
    "plt.plot(a)"
   ]
  },
  {
   "cell_type": "code",
   "execution_count": 30,
   "id": "70631ffa-e3d6-4dfb-88de-e5703700c900",
   "metadata": {},
   "outputs": [
    {
     "data": {
      "text/plain": [
       "array([[1., 1., 0., 0., 0., 1., 1., 1., 1., 0., 0., 0., 0., 0., 0., 0.,\n",
       "        1., 1., 1., 1., 0., 0., 0., 0., 0., 0., 0., 0., 0., 0., 0., 0.,\n",
       "        0., 0., 0., 0., 0., 0., 0., 0., 0., 0., 0., 0., 0., 0., 0., 0.,\n",
       "        0., 0., 0., 0., 0., 0., 0., 0.],\n",
       "       [0., 0., 0., 1., 1., 0., 0., 0., 0., 0., 0., 0., 1., 1., 1., 1.,\n",
       "        0., 0., 0., 0., 0., 0., 0., 1., 1., 1., 1., 0., 0., 0., 0., 0.,\n",
       "        0., 0., 0., 0., 0., 0., 0., 0., 0., 0., 0., 0., 0., 0., 0., 0.,\n",
       "        0., 0., 0., 0., 0., 0., 0., 0.],\n",
       "       [0., 0., 1., 0., 0., 0., 0., 0., 0., 1., 1., 1., 0., 0., 0., 0.,\n",
       "        0., 0., 0., 0., 1., 1., 1., 0., 0., 0., 0., 0., 0., 0., 0., 0.,\n",
       "        0., 0., 0., 0., 0., 0., 0., 0., 0., 0., 0., 0., 0., 0., 0., 0.,\n",
       "        0., 0., 0., 0., 0., 0., 0., 0.],\n",
       "       [1., 0., 1., 1., 0., 0., 0., 0., 0., 0., 0., 0., 0., 0., 0., 0.,\n",
       "        0., 0., 0., 0., 0., 0., 0., 0., 0., 0., 0., 1., 1., 1., 1., 0.,\n",
       "        0., 0., 1., 1., 1., 1., 0., 0., 0., 0., 0., 0., 0., 0., 0., 0.,\n",
       "        0., 0., 0., 0., 0., 0., 0., 0.],\n",
       "       [0., 1., 0., 0., 1., 0., 0., 0., 0., 0., 0., 0., 0., 0., 0., 0.,\n",
       "        0., 0., 0., 0., 0., 0., 0., 0., 0., 0., 0., 0., 0., 0., 0., 1.,\n",
       "        1., 1., 0., 0., 0., 0., 1., 1., 1., 0., 0., 0., 0., 0., 0., 0.,\n",
       "        0., 0., 0., 0., 0., 0., 0., 0.],\n",
       "       [0., 0., 0., 0., 0., 0., 1., 0., 0., 1., 0., 0., 0., 1., 0., 0.,\n",
       "        0., 0., 0., 0., 0., 0., 0., 0., 0., 0., 0., 0., 1., 0., 0., 1.,\n",
       "        0., 0., 0., 0., 0., 0., 0., 0., 0., 0., 0., 0., 1., 1., 1., 1.,\n",
       "        0., 0., 0., 0., 0., 0., 0., 0.],\n",
       "       [0., 0., 0., 0., 0., 0., 0., 1., 0., 0., 1., 0., 0., 0., 1., 0.,\n",
       "        0., 0., 0., 0., 0., 0., 0., 0., 0., 0., 0., 0., 0., 1., 0., 0.,\n",
       "        1., 0., 0., 0., 0., 0., 0., 0., 0., 0., 0., 0., 0., 0., 0., 0.,\n",
       "        1., 1., 1., 1., 0., 0., 0., 0.],\n",
       "       [0., 0., 0., 0., 0., 0., 0., 0., 1., 0., 0., 1., 0., 0., 0., 1.,\n",
       "        0., 0., 0., 0., 0., 0., 0., 0., 0., 0., 0., 0., 0., 0., 1., 0.,\n",
       "        0., 1., 0., 0., 0., 0., 0., 0., 0., 0., 0., 0., 0., 0., 0., 0.,\n",
       "        0., 0., 0., 0., 1., 1., 1., 1.],\n",
       "       [0., 0., 0., 0., 0., 1., 0., 0., 0., 0., 0., 0., 1., 0., 0., 0.,\n",
       "        0., 0., 0., 0., 0., 0., 0., 0., 0., 0., 0., 1., 0., 0., 0., 0.,\n",
       "        0., 0., 0., 0., 0., 0., 0., 0., 0., 1., 1., 1., 0., 0., 0., 0.,\n",
       "        0., 0., 0., 0., 0., 0., 0., 0.],\n",
       "       [0., 0., 0., 0., 0., 0., 0., 0., 0., 0., 0., 0., 0., 0., 0., 0.,\n",
       "        1., 0., 0., 0., 1., 0., 0., 1., 0., 0., 0., 0., 0., 0., 0., 0.,\n",
       "        0., 0., 1., 0., 0., 0., 1., 0., 0., 1., 0., 0., 1., 0., 0., 0.,\n",
       "        1., 0., 0., 0., 1., 0., 0., 0.],\n",
       "       [0., 0., 0., 0., 0., 0., 0., 0., 0., 0., 0., 0., 0., 0., 0., 0.,\n",
       "        0., 1., 0., 0., 0., 1., 0., 0., 1., 0., 0., 0., 0., 0., 0., 0.,\n",
       "        0., 0., 0., 1., 0., 0., 0., 1., 0., 0., 1., 0., 0., 1., 0., 0.,\n",
       "        0., 1., 0., 0., 0., 1., 0., 0.],\n",
       "       [0., 0., 0., 0., 0., 0., 0., 0., 0., 0., 0., 0., 0., 0., 0., 0.,\n",
       "        0., 0., 0., 1., 0., 0., 1., 0., 0., 0., 1., 0., 0., 0., 0., 0.,\n",
       "        0., 0., 0., 0., 0., 1., 0., 0., 1., 0., 0., 1., 0., 0., 0., 1.,\n",
       "        0., 0., 0., 1., 0., 0., 0., 1.],\n",
       "       [0., 0., 0., 0., 0., 0., 0., 0., 0., 0., 0., 0., 0., 0., 0., 0.,\n",
       "        0., 0., 1., 0., 0., 0., 0., 0., 0., 1., 0., 0., 0., 0., 0., 0.,\n",
       "        0., 0., 0., 0., 1., 0., 0., 0., 0., 0., 0., 0., 0., 0., 1., 0.,\n",
       "        0., 0., 1., 0., 0., 0., 1., 0.]])"
      ]
     },
     "execution_count": 30,
     "metadata": {},
     "output_type": "execute_result"
    }
   ],
   "source": [
    "Q.pairwise_constraints"
   ]
  },
  {
   "cell_type": "code",
   "execution_count": 31,
   "id": "0652da98-59df-471f-bd1e-6d2fd58b6f01",
   "metadata": {},
   "outputs": [
    {
     "data": {
      "text/plain": [
       "<matplotlib.image.AxesImage at 0x10dd6e850>"
      ]
     },
     "execution_count": 31,
     "metadata": {},
     "output_type": "execute_result"
    },
    {
     "data": {
      "image/png": "[encoded data removed]",
      "text/plain": [
       "<Figure size 640x480 with 1 Axes>"
      ]
     },
     "metadata": {},
     "output_type": "display_data"
    }
   ],
   "source": [
    "plt.imshow(Q.pairwise_constraints)"
   ]
  },
  {
   "cell_type": "code",
   "execution_count": 24,
   "id": "21fc14d3-0c18-46b4-8c46-f5f1ca34b93f",
   "metadata": {},
   "outputs": [
    {
     "name": "stdout",
     "output_type": "stream",
     "text": [
      "0-E\n",
      "['0:1-E:V' '0:1-E:Y' '0:2-E:G' '0:2-E:I' '0:2-E:K' '0:2-E:P' '0:3-E:C'\n",
      " '0:3-E:G' '0:3-E:K' '0:3-E:W']\n",
      "...\n",
      "0-R\n",
      "['0:1-R:V' '0:1-R:Y' '0:2-R:G' '0:2-R:I' '0:2-R:K' '0:2-R:P' '0:3-R:C'\n",
      " '0:3-R:G' '0:3-R:K' '0:3-R:W']\n",
      "...\n",
      "0-M\n",
      "['0:1-M:V' '0:2-M:I' '0:2-M:K' '0:2-M:P' '0:3-M:C' '0:3-M:G' '0:3-M:W']\n",
      "...\n",
      "1-V\n",
      "['1:2-V:G' '1:2-V:I' '1:2-V:K' '1:2-V:P' '1:3-V:C' '1:3-V:G' '1:3-V:K'\n",
      " '1:3-V:W' '0:1-E:V' '0:1-M:V' '0:1-R:V']\n",
      "...\n",
      "1-Y\n",
      "['1:2-Y:I' '1:2-Y:K' '1:2-Y:P' '1:3-Y:C' '1:3-Y:G' '1:3-Y:W' '0:1-E:Y'\n",
      " '0:1-R:Y']\n",
      "...\n",
      "2-I\n",
      "['2:3-I:C' '2:3-I:G' '2:3-I:K' '2:3-I:W' '0:2-E:I' '0:2-M:I' '0:2-R:I'\n",
      " '1:2-V:I' '1:2-Y:I']\n",
      "...\n",
      "2-K\n",
      "['2:3-K:C' '2:3-K:G' '2:3-K:K' '2:3-K:W' '0:2-E:K' '0:2-M:K' '0:2-R:K'\n",
      " '1:2-V:K' '1:2-Y:K']\n",
      "...\n",
      "2-P\n",
      "['2:3-P:C' '2:3-P:G' '2:3-P:K' '2:3-P:W' '0:2-E:P' '0:2-M:P' '0:2-R:P'\n",
      " '1:2-V:P' '1:2-Y:P']\n",
      "...\n",
      "2-G\n",
      "['2:3-G:C' '2:3-G:G' '2:3-G:W' '0:2-E:G' '0:2-R:G' '1:2-V:G']\n",
      "...\n",
      "3-C\n",
      "['0:3-E:C' '0:3-M:C' '0:3-R:C' '1:3-V:C' '1:3-Y:C' '2:3-G:C' '2:3-I:C'\n",
      " '2:3-K:C' '2:3-P:C']\n",
      "...\n",
      "3-G\n",
      "['0:3-E:G' '0:3-M:G' '0:3-R:G' '1:3-V:G' '1:3-Y:G' '2:3-G:G' '2:3-I:G'\n",
      " '2:3-K:G' '2:3-P:G']\n",
      "...\n",
      "3-W\n",
      "['0:3-E:W' '0:3-M:W' '0:3-R:W' '1:3-V:W' '1:3-Y:W' '2:3-G:W' '2:3-I:W'\n",
      " '2:3-K:W' '2:3-P:W']\n",
      "...\n",
      "3-K\n",
      "['0:3-E:K' '0:3-R:K' '1:3-V:K' '2:3-I:K' '2:3-K:K' '2:3-P:K']\n",
      "...\n"
     ]
    }
   ],
   "source": [
    "# Now create the constraint matrix \n",
    "# Need to make sure that J_ia, jb sum over ia or sum over jb are both zero\n",
    "split_names = np.asarray([re.split(r'[:-]', s) for s in Q.flattened_pair_position_weights_name])\n",
    "constraints = [] \n",
    "for p in Q.feature_names_independent:\n",
    "    pos, base = p.split('-') \n",
    "    inds1 = np.flatnonzero((split_names[:, 0] == pos) & (split_names[:, 2] == base))\n",
    "    inds2 = np.flatnonzero((split_names[:, 1] == pos) & (split_names[:, 3] == base))  \n",
    "    v = np.zeros(Q.code_length_pairwise)\n",
    "    v[np.concatenate([inds1, inds2])] = 1 \n",
    "    print(p)\n",
    "    print(Q.flattened_pair_position_weights_name[np.concatenate([inds1, inds2])])\n",
    "    print('...')\n",
    "    constraints.append(v)"
   ]
  },
  {
   "cell_type": "code",
   "execution_count": 25,
   "id": "4862a45a-234d-497a-84ec-ef069b3b850e",
   "metadata": {},
   "outputs": [
    {
     "data": {
      "text/plain": [
       "<matplotlib.image.AxesImage at 0x10db14690>"
      ]
     },
     "execution_count": 25,
     "metadata": {},
     "output_type": "execute_result"
    },
    {
     "data": {
      "image/png": "[encoded data removed]",
      "text/plain": [
       "<Figure size 640x480 with 1 Axes>"
      ]
     },
     "metadata": {},
     "output_type": "display_data"
    }
   ],
   "source": [
    "plt.imshow(constraints)"
   ]
  },
  {
   "cell_type": "code",
   "execution_count": 26,
   "id": "a6359642-4432-4050-9df2-ddda9149881c",
   "metadata": {},
   "outputs": [
    {
     "data": {
      "text/plain": [
       "{'0:1': {'EV': array([1., 0., 0., 0., 0.]),\n",
       "  'EY': array([0., 1., 0., 0., 0.]),\n",
       "  'MV': array([0., 0., 1., 0., 0.]),\n",
       "  'RV': array([0., 0., 0., 1., 0.]),\n",
       "  'RY': array([0., 0., 0., 0., 1.]),\n",
       "  'MY': array([0., 0., 0., 0., 0.])},\n",
       " '0:2': {'EG': array([1., 0., 0., 0., 0., 0., 0., 0., 0., 0., 0.]),\n",
       "  'EI': array([0., 1., 0., 0., 0., 0., 0., 0., 0., 0., 0.]),\n",
       "  'EK': array([0., 0., 1., 0., 0., 0., 0., 0., 0., 0., 0.]),\n",
       "  'EP': array([0., 0., 0., 1., 0., 0., 0., 0., 0., 0., 0.]),\n",
       "  'MI': array([0., 0., 0., 0., 1., 0., 0., 0., 0., 0., 0.]),\n",
       "  'MK': array([0., 0., 0., 0., 0., 1., 0., 0., 0., 0., 0.]),\n",
       "  'MP': array([0., 0., 0., 0., 0., 0., 1., 0., 0., 0., 0.]),\n",
       "  'RG': array([0., 0., 0., 0., 0., 0., 0., 1., 0., 0., 0.]),\n",
       "  'RI': array([0., 0., 0., 0., 0., 0., 0., 0., 1., 0., 0.]),\n",
       "  'RK': array([0., 0., 0., 0., 0., 0., 0., 0., 0., 1., 0.]),\n",
       "  'RP': array([0., 0., 0., 0., 0., 0., 0., 0., 0., 0., 1.]),\n",
       "  'MG': array([0., 0., 0., 0., 0., 0., 0., 0., 0., 0., 0.])},\n",
       " '0:3': {'EC': array([1., 0., 0., 0., 0., 0., 0., 0., 0., 0., 0.]),\n",
       "  'EG': array([0., 1., 0., 0., 0., 0., 0., 0., 0., 0., 0.]),\n",
       "  'EK': array([0., 0., 1., 0., 0., 0., 0., 0., 0., 0., 0.]),\n",
       "  'EW': array([0., 0., 0., 1., 0., 0., 0., 0., 0., 0., 0.]),\n",
       "  'MC': array([0., 0., 0., 0., 1., 0., 0., 0., 0., 0., 0.]),\n",
       "  'MG': array([0., 0., 0., 0., 0., 1., 0., 0., 0., 0., 0.]),\n",
       "  'MW': array([0., 0., 0., 0., 0., 0., 1., 0., 0., 0., 0.]),\n",
       "  'RC': array([0., 0., 0., 0., 0., 0., 0., 1., 0., 0., 0.]),\n",
       "  'RG': array([0., 0., 0., 0., 0., 0., 0., 0., 1., 0., 0.]),\n",
       "  'RK': array([0., 0., 0., 0., 0., 0., 0., 0., 0., 1., 0.]),\n",
       "  'RW': array([0., 0., 0., 0., 0., 0., 0., 0., 0., 0., 1.]),\n",
       "  'MK': array([0., 0., 0., 0., 0., 0., 0., 0., 0., 0., 0.])},\n",
       " '1:2': {'VG': array([1., 0., 0., 0., 0., 0., 0.]),\n",
       "  'VI': array([0., 1., 0., 0., 0., 0., 0.]),\n",
       "  'VK': array([0., 0., 1., 0., 0., 0., 0.]),\n",
       "  'VP': array([0., 0., 0., 1., 0., 0., 0.]),\n",
       "  'YI': array([0., 0., 0., 0., 1., 0., 0.]),\n",
       "  'YK': array([0., 0., 0., 0., 0., 1., 0.]),\n",
       "  'YP': array([0., 0., 0., 0., 0., 0., 1.]),\n",
       "  'YG': array([0., 0., 0., 0., 0., 0., 0.])},\n",
       " '1:3': {'VC': array([1., 0., 0., 0., 0., 0., 0.]),\n",
       "  'VG': array([0., 1., 0., 0., 0., 0., 0.]),\n",
       "  'VK': array([0., 0., 1., 0., 0., 0., 0.]),\n",
       "  'VW': array([0., 0., 0., 1., 0., 0., 0.]),\n",
       "  'YC': array([0., 0., 0., 0., 1., 0., 0.]),\n",
       "  'YG': array([0., 0., 0., 0., 0., 1., 0.]),\n",
       "  'YW': array([0., 0., 0., 0., 0., 0., 1.]),\n",
       "  'YK': array([0., 0., 0., 0., 0., 0., 0.])},\n",
       " '2:3': {'GC': array([1., 0., 0., 0., 0., 0., 0., 0., 0., 0., 0., 0., 0., 0., 0.]),\n",
       "  'GG': array([0., 1., 0., 0., 0., 0., 0., 0., 0., 0., 0., 0., 0., 0., 0.]),\n",
       "  'GW': array([0., 0., 1., 0., 0., 0., 0., 0., 0., 0., 0., 0., 0., 0., 0.]),\n",
       "  'IC': array([0., 0., 0., 1., 0., 0., 0., 0., 0., 0., 0., 0., 0., 0., 0.]),\n",
       "  'IG': array([0., 0., 0., 0., 1., 0., 0., 0., 0., 0., 0., 0., 0., 0., 0.]),\n",
       "  'IK': array([0., 0., 0., 0., 0., 1., 0., 0., 0., 0., 0., 0., 0., 0., 0.]),\n",
       "  'IW': array([0., 0., 0., 0., 0., 0., 1., 0., 0., 0., 0., 0., 0., 0., 0.]),\n",
       "  'KC': array([0., 0., 0., 0., 0., 0., 0., 1., 0., 0., 0., 0., 0., 0., 0.]),\n",
       "  'KG': array([0., 0., 0., 0., 0., 0., 0., 0., 1., 0., 0., 0., 0., 0., 0.]),\n",
       "  'KK': array([0., 0., 0., 0., 0., 0., 0., 0., 0., 1., 0., 0., 0., 0., 0.]),\n",
       "  'KW': array([0., 0., 0., 0., 0., 0., 0., 0., 0., 0., 1., 0., 0., 0., 0.]),\n",
       "  'PC': array([0., 0., 0., 0., 0., 0., 0., 0., 0., 0., 0., 1., 0., 0., 0.]),\n",
       "  'PG': array([0., 0., 0., 0., 0., 0., 0., 0., 0., 0., 0., 0., 1., 0., 0.]),\n",
       "  'PK': array([0., 0., 0., 0., 0., 0., 0., 0., 0., 0., 0., 0., 0., 1., 0.]),\n",
       "  'PW': array([0., 0., 0., 0., 0., 0., 0., 0., 0., 0., 0., 0., 0., 0., 1.]),\n",
       "  'GK': array([0., 0., 0., 0., 0., 0., 0., 0., 0., 0., 0., 0., 0., 0., 0.])}}"
      ]
     },
     "execution_count": 26,
     "metadata": {},
     "output_type": "execute_result"
    }
   ],
   "source": [
    "Q.pairwise_code_mapper"
   ]
  },
  {
   "cell_type": "code",
   "execution_count": 27,
   "id": "ee1b12cc-f377-44a3-baed-0418dde135b3",
   "metadata": {},
   "outputs": [],
   "source": [
    "Q.pairwise_code_mapper\n",
    "pair_position_weights_name = defaultdict(list) \n",
    "for k,v in Q.pairwise_code_mapper.items(): \n",
    "    pair_position_weights_name[k] = ['']*Q.pairwise_positional_code_length[k]\n",
    "    for s,t in v.items(): \n",
    "        if np.any(t): \n",
    "            pair_position_weights_name[k][np.flatnonzero(t)[0]] = s\n"
   ]
  },
  {
   "cell_type": "code",
   "execution_count": 28,
   "id": "cdd4ee76-010c-4951-b5ce-fa24f56e9403",
   "metadata": {},
   "outputs": [
    {
     "data": {
      "text/plain": [
       "defaultdict(list,\n",
       "            {'0:1': ['EV', 'EY', 'MV', 'RV', 'RY'],\n",
       "             '0:2': ['EG',\n",
       "              'EI',\n",
       "              'EK',\n",
       "              'EP',\n",
       "              'MI',\n",
       "              'MK',\n",
       "              'MP',\n",
       "              'RG',\n",
       "              'RI',\n",
       "              'RK',\n",
       "              'RP'],\n",
       "             '0:3': ['EC',\n",
       "              'EG',\n",
       "              'EK',\n",
       "              'EW',\n",
       "              'MC',\n",
       "              'MG',\n",
       "              'MW',\n",
       "              'RC',\n",
       "              'RG',\n",
       "              'RK',\n",
       "              'RW'],\n",
       "             '1:2': ['VG', 'VI', 'VK', 'VP', 'YI', 'YK', 'YP'],\n",
       "             '1:3': ['VC', 'VG', 'VK', 'VW', 'YC', 'YG', 'YW'],\n",
       "             '2:3': ['GC',\n",
       "              'GG',\n",
       "              'GW',\n",
       "              'IC',\n",
       "              'IG',\n",
       "              'IK',\n",
       "              'IW',\n",
       "              'KC',\n",
       "              'KG',\n",
       "              'KK',\n",
       "              'KW',\n",
       "              'PC',\n",
       "              'PG',\n",
       "              'PK',\n",
       "              'PW']})"
      ]
     },
     "execution_count": 28,
     "metadata": {},
     "output_type": "execute_result"
    }
   ],
   "source": [
    "pair_position_weights_name"
   ]
  },
  {
   "cell_type": "code",
   "execution_count": 29,
   "id": "740ee75b-83f4-4685-8497-61d0ef5a8701",
   "metadata": {},
   "outputs": [
    {
     "ename": "_IncompleteInputError",
     "evalue": "incomplete input (3670847485.py, line 6)",
     "output_type": "error",
     "traceback": [
      "  \u001b[36mCell\u001b[39m\u001b[36m \u001b[39m\u001b[32mIn[29]\u001b[39m\u001b[32m, line 6\u001b[39m\n\u001b[31m    \u001b[39m\n    ^\n\u001b[31m_IncompleteInputError\u001b[39m\u001b[31m:\u001b[39m incomplete input\n"
     ]
    }
   ],
   "source": [
    "pairwise_position_weights_feature_name = {} \n",
    "weight_names = [] \n",
    "\n",
    "for k,v in Q.pairwise_code_mapper.items(): \n",
    "    for j,l in v.items(): \n",
    "        "
   ]
  },
  {
   "cell_type": "code",
   "execution_count": null,
   "id": "084dbe01-bf39-4bee-9869-05426340bc7e",
   "metadata": {},
   "outputs": [],
   "source": []
  },
  {
   "cell_type": "code",
   "execution_count": null,
   "id": "f2abb950-ea8f-426b-8392-deac603578e9",
   "metadata": {},
   "outputs": [],
   "source": []
  },
  {
   "cell_type": "code",
   "execution_count": null,
   "id": "f5e5cab1-4cde-419b-98ac-fd341582f8cd",
   "metadata": {},
   "outputs": [],
   "source": []
  },
  {
   "cell_type": "code",
   "execution_count": null,
   "id": "8a619b8a-5f2d-48f7-b3f4-80be3815857b",
   "metadata": {},
   "outputs": [],
   "source": [
    "Q.code_length_independent"
   ]
  },
  {
   "cell_type": "code",
   "execution_count": null,
   "id": "de453a49-47f2-4ba5-a826-18d31b2327b5",
   "metadata": {},
   "outputs": [],
   "source": [
    "Q.code_length_pairwise"
   ]
  },
  {
   "cell_type": "markdown",
   "id": "97eb00eb-9461-4963-87e6-b105de2b4d23",
   "metadata": {},
   "source": [
    "# I need more constraints"
   ]
  },
  {
   "cell_type": "code",
   "execution_count": null,
   "id": "f7ded6dc-a31d-4c86-aba0-33a97769df40",
   "metadata": {},
   "outputs": [],
   "source": [
    "Q.pairwise_code_mapper"
   ]
  },
  {
   "cell_type": "code",
   "execution_count": null,
   "id": "f410bada-8764-457d-8e7a-31c163254b6c",
   "metadata": {},
   "outputs": [],
   "source": [
    "fit_model.encoder.number_of_features"
   ]
  },
  {
   "cell_type": "code",
   "execution_count": null,
   "id": "541e113e-d3e5-4353-838d-a639117f282b",
   "metadata": {},
   "outputs": [],
   "source": [
    "fit_model.encoder.code_length_independent"
   ]
  },
  {
   "cell_type": "code",
   "execution_count": null,
   "id": "8b882647-d2a4-4ce7-a9fa-f349f72d372b",
   "metadata": {},
   "outputs": [],
   "source": [
    "fit_model.encoder.code_length_pairwise"
   ]
  },
  {
   "cell_type": "code",
   "execution_count": null,
   "id": "8c8df042-4539-4d13-9878-6386f541e990",
   "metadata": {},
   "outputs": [],
   "source": [
    "fit_model.encoder.pos_product"
   ]
  },
  {
   "cell_type": "code",
   "execution_count": null,
   "id": "f4ed2f4f-7ad7-4478-a9bf-9a3d775f563c",
   "metadata": {},
   "outputs": [],
   "source": [
    "len(fit_model.encoder.feature_names_pairwise)"
   ]
  },
  {
   "cell_type": "code",
   "execution_count": null,
   "id": "f5a37c2d-28c2-4cc0-8599-1431e59c3a31",
   "metadata": {},
   "outputs": [],
   "source": [
    "115*114"
   ]
  },
  {
   "cell_type": "code",
   "execution_count": null,
   "id": "c5370a7b-6eb9-4494-9bfd-37ecfb22aa82",
   "metadata": {},
   "outputs": [],
   "source": [
    "len(independent_codes)"
   ]
  },
  {
   "cell_type": "code",
   "execution_count": null,
   "id": "dd539b56-e22d-4f6c-8eae-1f472ec1f695",
   "metadata": {},
   "outputs": [],
   "source": [
    "flatten_independent = [] \n",
    "for ind in independent_codes:\n",
    "    flatten_independent.append([item for x in ind for item in x])\n",
    "flatten_independent = np.asarray(flatten_independent) \n",
    "\n",
    "flatten_pairwise = [] \n",
    "for ind in pairwise_codes:\n",
    "    flatten_pairwise.append([item for x in ind for item in x])\n",
    "flatten_pairwise = np.asarray(flatten_pairwise) "
   ]
  },
  {
   "cell_type": "code",
   "execution_count": null,
   "id": "55503d7f-dc3b-4fa6-b9fe-ef76d1cf8401",
   "metadata": {},
   "outputs": [],
   "source": [
    "len(np.unique(flatten_independent, axis = 0))"
   ]
  },
  {
   "cell_type": "code",
   "execution_count": null,
   "id": "997a041f-5515-4d24-91c1-de81cf5972cf",
   "metadata": {},
   "outputs": [],
   "source": [
    "len(flatten_independent)"
   ]
  },
  {
   "cell_type": "code",
   "execution_count": null,
   "id": "af5670c2-57ed-4cfc-8d00-7c0f7a3c1a5d",
   "metadata": {},
   "outputs": [],
   "source": [
    "len(np.unique(flatten_pairwise, axis = 0))"
   ]
  },
  {
   "cell_type": "code",
   "execution_count": null,
   "id": "5c12bfa9-1406-4dec-96b3-1a12ab4c6b52",
   "metadata": {},
   "outputs": [],
   "source": [
    "plt.imshow(flatten_independent, aspect = 'auto', interpolation = 'None')"
   ]
  },
  {
   "cell_type": "code",
   "execution_count": null,
   "id": "edbf5bfb-7bed-47f0-911f-d33d8a733736",
   "metadata": {},
   "outputs": [],
   "source": [
    "a, b=  np.linalg.eig(flatten_independent.T.dot(flatten_independent))\n",
    "plt.plot(a)"
   ]
  },
  {
   "cell_type": "code",
   "execution_count": null,
   "id": "8e0b3e3d-d123-4d50-88a4-2cbc6e27ef09",
   "metadata": {},
   "outputs": [],
   "source": [
    "a, b=  np.linalg.eig(flatten_pairwise.T.dot(flatten_pairwise))\n",
    "plt.plot(a)"
   ]
  },
  {
   "cell_type": "code",
   "execution_count": null,
   "id": "ead2f47f-9348-4e3d-97c0-92b3337b8219",
   "metadata": {},
   "outputs": [],
   "source": [
    "def _create_zero_mean_pairwise_weights(pairwise_weights, pairwise_feature_names, independent_feature_names): \n",
    "    \"\"\"\n",
    "    \"\"\"\n",
    "    pairwise_vals = np.copy(pairwise_weights) \n",
    "    pairwise_vals_old = np.copy(pairwise_vals) \n",
    "    # I need to normalize such that \\sum_j J_{ij} s_j = 0 so that we don't have an ambiguity in independent weight assignment h_i \n",
    "    TOLERANCE = 1e-12\n",
    "    MAXITER = 100000\n",
    "    num_iter = 0 \n",
    "    delta = np.inf\n",
    "    ## This is make sure \\sum_i J_ij and \\sum_j J_IJ  is zero\n",
    "    loc_pair_feature_names = np.asarray([a.split(':') for a in pairwise_feature_names]) \n",
    "    loc_pair_feature_names_split = np.asarray([re.split(':' + \"|\" + '-', a) for a in pairwise_feature_names]) \n",
    "\n",
    "    independent_features_split = np.asarray([a.split('-') for a in independent_feature_names]) \n",
    "    pos = np.unique(independent_features_split[:,0])\n",
    "    amino = np.unique(independent_features_split[:,1])\n",
    "\n",
    "    pos_pairs = np.unique(loc_pair_feature_names_split[:,[0,2]], axis = 0)\n",
    "    amino_pairs = np.unique(loc_pair_feature_names_split[:,[1,3]], axis = 0)\n",
    "\n",
    "    \n",
    "    while (delta > TOLERANCE) and (num_iter < MAXITER): \n",
    "        num_iter += 1 \n",
    "        for i in independent_feature_names: #circle through every independent feature  \n",
    "            pairwise_vals_old = np.copy(pairwise_vals) \n",
    "            inds1 = np.flatnonzero(loc_pair_feature_names[:, 0] == i) \n",
    "            inds2 = np.flatnonzero(loc_pair_feature_names[:, 1] == i) \n",
    "            inds = np.concatenate((inds1, inds2))\n",
    "            pairwise_vals[inds] -= np.mean(pairwise_vals[inds]) \n",
    "            delta1 = root_mean_squared_error(pairwise_vals, pairwise_vals_old) \n",
    "\n",
    "        # need to remove rank 1 components like J_ij =  \\sum_ab J_ij, ab\n",
    "        for p in pos_pairs: \n",
    "            inds = np.all(loc_pair_feature_names_split[:, [0,2]] == p, axis = 1)\n",
    "            pairwise_vals[inds] -= np.mean(pairwise_vals[inds]) \n",
    "            delta2 = root_mean_squared_error(pairwise_vals, pairwise_vals_old) \n",
    "        # now to reomve rank 1 components like J_ab = \\sum_ij J_ij,ab\n",
    "        # for a in amino_pairs: \n",
    "        #     inds = np.all(loc_pair_feature_names_split[:, [1,3]] == a, axis = 1)\n",
    "        #     pairwise_vals[inds] -= np.mean(pairwise_vals[inds]) \n",
    "        #     delta3 = root_mean_squared_error(pairwise_vals, pairwise_vals_old) \n",
    "        delta = np.max([delta1, delta2])#, delta3]) \n",
    "\n",
    "    \n",
    "    diff = np.zeros(len(independent_feature_names)) # find the individual weight diff (shift) needed to connrect the pairwise weights \n",
    "    for i, k in enumerate(independent_feature_names): #circle through every indepdnent feature  \n",
    "        inds1 = np.flatnonzero(loc_pair_feature_names[:, 0] == k)\n",
    "        inds2 = np.flatnonzero(loc_pair_feature_names[:, 1] == k)\n",
    "        inds = np.concatenate((inds1, inds2)) \n",
    "        diff[i] = 0.5*np.mean(pairwise_weights[inds]) #because every term is counted twice, once for s_i and and again for s_j \n",
    "    return pairwise_vals, diff \n"
   ]
  },
  {
   "cell_type": "code",
   "execution_count": null,
   "id": "3efaa90a-a1d2-4ecf-b9fd-b31b8ad6bd0d",
   "metadata": {},
   "outputs": [],
   "source": []
  }
 ],
 "metadata": {
  "kernelspec": {
   "display_name": "Python 3 (ipykernel)",
   "language": "python",
   "name": "python3"
  },
  "language_info": {
   "codemirror_mode": {
    "name": "ipython",
    "version": 3
   },
   "file_extension": ".py",
   "mimetype": "text/x-python",
   "name": "python",
   "nbconvert_exporter": "python",
   "pygments_lexer": "ipython3",
   "version": "3.13.5"
  }
 },
 "nbformat": 4,
 "nbformat_minor": 5
}
