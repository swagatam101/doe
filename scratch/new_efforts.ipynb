{
 "cells": [
  {
   "cell_type": "markdown",
   "id": "a2b73a3a-962d-4198-a0f4-75f7a097c95e",
   "metadata": {},
   "source": [
    "# Trying vector codings "
   ]
  },
  {
   "cell_type": "code",
   "execution_count": 1,
   "id": "68b6513f-dd6e-427e-8fd7-aa9760cd96c3",
   "metadata": {},
   "outputs": [],
   "source": [
    "import numpy as np\n",
    "import pandas as pd\n",
    "import matplotlib\n",
    "import matplotlib.pyplot as plt\n",
    "from Bio.Data import IUPACData\n",
    "from collections import defaultdict\n",
    "from itertools import product, combinations\n",
    "from scipy.spatial.distance import hamming\n",
    "import scipy.stats as ss\n",
    "import cvxpy as cp\n",
    "import sys\n",
    "import scipy.linalg as sl\n",
    "\n",
    "sys.path.append(\"../\") \n",
    "import doe_utils\n",
    "\n",
    "# TEST MAKE AMINO ACID WORLD SMALL \n",
    "\n",
    "AMINO_ACIDS = doe_utils.AMINO_ACIDS"
   ]
  },
  {
   "cell_type": "code",
   "execution_count": 2,
   "id": "92589121-ac8d-4428-9819-a8b852a8070b",
   "metadata": {},
   "outputs": [
    {
     "name": "stdout",
     "output_type": "stream",
     "text": [
      "Parent protein: PPMLIRVLVITFLWFGKQWAIMGAYRGWIGEGQCWAIGIIVNFNIFCSNNKECYEKRGNCNKLNNIFGTWEKHFCCDNYWVDLDVSTWKDEQDTGGRENG\n",
      "Random mutaed positions [49 52 61 83]\n"
     ]
    },
    {
     "data": {
      "text/html": [
       "<div>\n",
       "<style scoped>\n",
       "    .dataframe tbody tr th:only-of-type {\n",
       "        vertical-align: middle;\n",
       "    }\n",
       "\n",
       "    .dataframe tbody tr th {\n",
       "        vertical-align: top;\n",
       "    }\n",
       "\n",
       "    .dataframe thead th {\n",
       "        text-align: right;\n",
       "    }\n",
       "</style>\n",
       "<table border=\"1\" class=\"dataframe\">\n",
       "  <thead>\n",
       "    <tr style=\"text-align: right;\">\n",
       "      <th></th>\n",
       "      <th>0</th>\n",
       "      <th>1</th>\n",
       "      <th>2</th>\n",
       "      <th>3</th>\n",
       "      <th>4</th>\n",
       "      <th>5</th>\n",
       "      <th>6</th>\n",
       "      <th>7</th>\n",
       "      <th>8</th>\n",
       "      <th>9</th>\n",
       "      <th>...</th>\n",
       "      <th>90</th>\n",
       "      <th>91</th>\n",
       "      <th>92</th>\n",
       "      <th>93</th>\n",
       "      <th>94</th>\n",
       "      <th>95</th>\n",
       "      <th>96</th>\n",
       "      <th>97</th>\n",
       "      <th>98</th>\n",
       "      <th>99</th>\n",
       "    </tr>\n",
       "  </thead>\n",
       "  <tbody>\n",
       "    <tr>\n",
       "      <th>A</th>\n",
       "      <td>0.0</td>\n",
       "      <td>0.0</td>\n",
       "      <td>0.0</td>\n",
       "      <td>0.0</td>\n",
       "      <td>0.0</td>\n",
       "      <td>0.0</td>\n",
       "      <td>0.0</td>\n",
       "      <td>0.0</td>\n",
       "      <td>0.0</td>\n",
       "      <td>0.0</td>\n",
       "      <td>...</td>\n",
       "      <td>0.0</td>\n",
       "      <td>0.0</td>\n",
       "      <td>0.0</td>\n",
       "      <td>0.0</td>\n",
       "      <td>0.0</td>\n",
       "      <td>0.0</td>\n",
       "      <td>0.0</td>\n",
       "      <td>0.0</td>\n",
       "      <td>0.0</td>\n",
       "      <td>0.0</td>\n",
       "    </tr>\n",
       "    <tr>\n",
       "      <th>C</th>\n",
       "      <td>0.0</td>\n",
       "      <td>0.0</td>\n",
       "      <td>0.0</td>\n",
       "      <td>0.0</td>\n",
       "      <td>0.0</td>\n",
       "      <td>0.0</td>\n",
       "      <td>0.0</td>\n",
       "      <td>0.0</td>\n",
       "      <td>0.0</td>\n",
       "      <td>0.0</td>\n",
       "      <td>...</td>\n",
       "      <td>0.0</td>\n",
       "      <td>0.0</td>\n",
       "      <td>0.0</td>\n",
       "      <td>0.0</td>\n",
       "      <td>0.0</td>\n",
       "      <td>0.0</td>\n",
       "      <td>0.0</td>\n",
       "      <td>0.0</td>\n",
       "      <td>0.0</td>\n",
       "      <td>0.0</td>\n",
       "    </tr>\n",
       "    <tr>\n",
       "      <th>D</th>\n",
       "      <td>0.0</td>\n",
       "      <td>0.0</td>\n",
       "      <td>0.0</td>\n",
       "      <td>0.0</td>\n",
       "      <td>0.0</td>\n",
       "      <td>0.0</td>\n",
       "      <td>0.0</td>\n",
       "      <td>0.0</td>\n",
       "      <td>0.0</td>\n",
       "      <td>0.0</td>\n",
       "      <td>...</td>\n",
       "      <td>0.0</td>\n",
       "      <td>0.0</td>\n",
       "      <td>0.0</td>\n",
       "      <td>0.0</td>\n",
       "      <td>0.0</td>\n",
       "      <td>0.0</td>\n",
       "      <td>0.0</td>\n",
       "      <td>0.0</td>\n",
       "      <td>0.0</td>\n",
       "      <td>0.0</td>\n",
       "    </tr>\n",
       "    <tr>\n",
       "      <th>E</th>\n",
       "      <td>0.0</td>\n",
       "      <td>0.0</td>\n",
       "      <td>0.0</td>\n",
       "      <td>0.0</td>\n",
       "      <td>0.0</td>\n",
       "      <td>0.0</td>\n",
       "      <td>0.0</td>\n",
       "      <td>0.0</td>\n",
       "      <td>0.0</td>\n",
       "      <td>0.0</td>\n",
       "      <td>...</td>\n",
       "      <td>0.0</td>\n",
       "      <td>0.0</td>\n",
       "      <td>0.0</td>\n",
       "      <td>0.0</td>\n",
       "      <td>0.0</td>\n",
       "      <td>0.0</td>\n",
       "      <td>0.0</td>\n",
       "      <td>0.0</td>\n",
       "      <td>0.0</td>\n",
       "      <td>0.0</td>\n",
       "    </tr>\n",
       "    <tr>\n",
       "      <th>F</th>\n",
       "      <td>0.0</td>\n",
       "      <td>0.0</td>\n",
       "      <td>0.0</td>\n",
       "      <td>0.0</td>\n",
       "      <td>0.0</td>\n",
       "      <td>0.0</td>\n",
       "      <td>0.0</td>\n",
       "      <td>0.0</td>\n",
       "      <td>0.0</td>\n",
       "      <td>0.0</td>\n",
       "      <td>...</td>\n",
       "      <td>0.0</td>\n",
       "      <td>0.0</td>\n",
       "      <td>0.0</td>\n",
       "      <td>0.0</td>\n",
       "      <td>0.0</td>\n",
       "      <td>0.0</td>\n",
       "      <td>0.0</td>\n",
       "      <td>0.0</td>\n",
       "      <td>0.0</td>\n",
       "      <td>0.0</td>\n",
       "    </tr>\n",
       "  </tbody>\n",
       "</table>\n",
       "<p>5 rows × 100 columns</p>\n",
       "</div>"
      ],
      "text/plain": [
       "    0    1    2    3    4    5    6    7    8    9   ...   90   91   92   93  \\\n",
       "A  0.0  0.0  0.0  0.0  0.0  0.0  0.0  0.0  0.0  0.0  ...  0.0  0.0  0.0  0.0   \n",
       "C  0.0  0.0  0.0  0.0  0.0  0.0  0.0  0.0  0.0  0.0  ...  0.0  0.0  0.0  0.0   \n",
       "D  0.0  0.0  0.0  0.0  0.0  0.0  0.0  0.0  0.0  0.0  ...  0.0  0.0  0.0  0.0   \n",
       "E  0.0  0.0  0.0  0.0  0.0  0.0  0.0  0.0  0.0  0.0  ...  0.0  0.0  0.0  0.0   \n",
       "F  0.0  0.0  0.0  0.0  0.0  0.0  0.0  0.0  0.0  0.0  ...  0.0  0.0  0.0  0.0   \n",
       "\n",
       "    94   95   96   97   98   99  \n",
       "A  0.0  0.0  0.0  0.0  0.0  0.0  \n",
       "C  0.0  0.0  0.0  0.0  0.0  0.0  \n",
       "D  0.0  0.0  0.0  0.0  0.0  0.0  \n",
       "E  0.0  0.0  0.0  0.0  0.0  0.0  \n",
       "F  0.0  0.0  0.0  0.0  0.0  0.0  \n",
       "\n",
       "[5 rows x 100 columns]"
      ]
     },
     "execution_count": 2,
     "metadata": {},
     "output_type": "execute_result"
    }
   ],
   "source": [
    "length_of_protein = 100\n",
    "num_mutated = 4\n",
    "sold_mat_df, parent, mut_dict = doe_utils.create_synthetic_SOLD_matrix(num_mutated, length_of_protein, mut_probs = [0.1, 0.1], parent_prob=0.80) #6 postions mutated, pprtein length is 100 \n",
    "sold_mat_df.head() "
   ]
  },
  {
   "cell_type": "code",
   "execution_count": 3,
   "id": "ba0849ba-2a72-4511-ac2a-9d505acc4dc7",
   "metadata": {},
   "outputs": [
    {
     "data": {
      "image/png": "[encoded data removed]",
      "text/plain": [
       "<Figure size 1800x500 with 1 Axes>"
      ]
     },
     "metadata": {},
     "output_type": "display_data"
    }
   ],
   "source": [
    "plt.figure(figsize = (18,5))\n",
    "plt.imshow(sold_mat_df, aspect = 'auto', cmap = 'grey_r') \n",
    "_  = plt.xticks(range(length_of_protein), rotation = 90)\n",
    "_  = plt.yticks(range(len(AMINO_ACIDS)), AMINO_ACIDS)\n"
   ]
  },
  {
   "cell_type": "code",
   "execution_count": 6,
   "id": "fad4371c-5e8f-464e-94bc-e7d230e08259",
   "metadata": {},
   "outputs": [],
   "source": [
    "S = doe_utils.SOLD(sold_mat_df)\n",
    "seqs, mutations = S.generate_sequences(10000)\n",
    "probs = S.compute_prob_n_mutations(num_mutated+1)"
   ]
  },
  {
   "cell_type": "code",
   "execution_count": 11,
   "id": "310f5902-348c-4517-a1f5-32ae448ea7eb",
   "metadata": {},
   "outputs": [
    {
     "data": {
      "text/plain": [
       "defaultdict(None,\n",
       "            {0: {'A': 0.1, 'G': 0.1, 'N': 0.8},\n",
       "             1: {'C': 0.8, 'L': 0.1, 'W': 0.1},\n",
       "             2: {'A': 0.1, 'K': 0.8, 'T': 0.1},\n",
       "             3: {'C': 0.1, 'D': 0.8, 'E': 0.1}})"
      ]
     },
     "execution_count": 11,
     "metadata": {},
     "output_type": "execute_result"
    }
   ],
   "source": [
    "S.mutation_probs_variable_region_indexed"
   ]
  },
  {
   "cell_type": "markdown",
   "id": "38c0097b-33d4-4acd-b64b-99277100b933",
   "metadata": {},
   "source": [
    "# Change this to make variable length SOLD mat "
   ]
  },
  {
   "cell_type": "code",
   "execution_count": 12,
   "id": "e29b6880-7494-4950-92d7-be69580f88ca",
   "metadata": {},
   "outputs": [
    {
     "data": {
      "text/plain": [
       "defaultdict(None,\n",
       "            {0: {'A': 0.1, 'G': 0.1, 'N': 0.7, 'P': 0.1},\n",
       "             1: {'C': 0.8, 'L': 0.1, 'W': 0.1},\n",
       "             2: {'A': 0.1, 'K': 0.8, 'T': 0.1},\n",
       "             3: {'C': 0.1, 'D': 0.6, 'E': 0.1, 'W': 0.1, 'K': 0.1}})"
      ]
     },
     "execution_count": 12,
     "metadata": {},
     "output_type": "execute_result"
    }
   ],
   "source": [
    "mutated_dict = S.mutation_probs_variable_region_indexed.copy() \n",
    "mutated_dict[0] = {'A': 0.1, 'G': 0.1, 'N': 0.7, 'P': 0.1}\n",
    "mutated_dict[3] = {'C': 0.1, 'D': 0.6, 'E': 0.1, 'W': 0.1, 'K':0.1}\n",
    "mutated_dict"
   ]
  },
  {
   "cell_type": "markdown",
   "id": "15315827-96e7-437e-b5bc-94fc8fe6ad77",
   "metadata": {},
   "source": [
    "# Now you have variable length mat to create encoder "
   ]
  },
  {
   "cell_type": "code",
   "execution_count": 138,
   "id": "8c4cfff7-fb3c-4324-8d27-6bbc73714520",
   "metadata": {},
   "outputs": [],
   "source": [
    "\n",
    "def create_code(bases): \n",
    "    \"\"\"\n",
    "    Create a code of length L -- one hot \n",
    "    \"\"\"\n",
    "    L = len(bases) \n",
    "    binary = np.zeros(L) \n",
    "    mapper = dict()\n",
    "    for i,a in enumerate(bases): \n",
    "        loc_binary = np.copy(binary)\n",
    "        loc_binary[i] = 1 \n",
    "        mapper[a] = loc_binary \n",
    "    return mapper \n",
    "\n",
    "\n",
    "\n",
    "class Encoding_basics: \n",
    "    \"\"\"\n",
    "    Base class used by both ecnoders and in silico model \n",
    "    \"\"\"\n",
    "    def __init__(self, mutation_probs_variable_region_dict): \n",
    "        \"\"\"\n",
    "        Args: \n",
    "            mutated region length: the number of positions mutated \n",
    "            mutation_probs_variable_region_dict: the standard way to encode the mutations --- see notes and guide \n",
    "        \"\"\"\n",
    "        self.mutated_region_length = len(mutation_probs_variable_region_dict)\n",
    "        self.mutation_probs_variable_region_dict = mutation_probs_variable_region_dict\n",
    "\n",
    "        # All mutations and encodings are relative to parent \n",
    "        # get product aminos and pos products \n",
    "        self.amino_product = [''.join(x) for x in product(AMINO_ACIDS, AMINO_ACIDS)]\n",
    "        self.pos_product = [np.asarray(x) for x in combinations(np.arange(self.mutated_region_length), 2)]\n",
    "\n",
    "\n",
    "        # now, for every position I need to encode the bases in a minimal code \n",
    "        # Create a code dict for every position \n",
    "        parent = ['']*len(mutation_probs_variable_region_dict) \n",
    "        self.independent_code_mapper = {} \n",
    "        single_address = defaultdict(list) \n",
    "        self.positions = [] \n",
    "        for k, v in mutation_probs_variable_region_dict.items(): \n",
    "            code_length = len(v) - 1 \n",
    "            parent_base = max(v, key=v.get)\n",
    "            bases = [a for a in v.keys() if a!= parent_base] \n",
    "            mapper = create_code(bases) \n",
    "            mapper.update({parent_base: np.zeros(code_length)}) \n",
    "            parent[k] = max(v, key=v.get)\n",
    "            self.independent_code_mapper[k] = mapper \n",
    "            self.positions.append(k) \n",
    "        self.parent = ''.join(parent)\n",
    "        self.positions = np.sort(self.positions)\n",
    "        # Now I have all the independent codes \n",
    "        #Lets go through all the positions are create the pairwise codes  \n",
    "\n",
    "        code_size = defaultdict(int) \n",
    "        pair_bases = defaultdict(list) \n",
    "        for i, j in self.pos_product: \n",
    "            for a, b in self.amino_product: \n",
    "                if (a in self.independent_code_mapper[i]) and (b in self.independent_code_mapper[j]): \n",
    "                    code_size[str(i) + ':' + str(j)] += 1 \n",
    "                    pair_bases[str(i) + ':' + str(j)].append(a + b)\n",
    "\n",
    "        self.pairwise_code_mapper = {}\n",
    "        for i, j in self.pos_product: \n",
    "            parent_pair = self.parent[i] + self.parent[j] \n",
    "            temp = pair_bases[str(i) + ':' + str(j)]\n",
    "            code_length = len(temp) - 1 \n",
    "            bases = [a for a in temp if a!= parent_pair] \n",
    "            mapper = create_code(bases) \n",
    "            mapper.update({parent_pair: np.zeros(code_length)}) \n",
    "            self.pairwise_code_mapper[str(i) + ':' + str(j)] = mapper \n",
    "\n",
    "        # Now I need to get the order consistent and create \"matrix\" --- list of list really because the code sizes are diffferent \n",
    "        self.feature_names_independent = []\n",
    "        # again get the order consistent from AMINO order \n",
    "        self.independent_codes_list = [] \n",
    "        for s in self.positions: \n",
    "            for a in AMINO_ACIDS: \n",
    "                if a in self.independent_code_mapper[s]: \n",
    "                    self.feature_names_independent.append(str(s) + '-' + a) \n",
    "                    self.independent_codes_list.append(self.independent_code_mapper[s][a])\n",
    "        \n",
    "        \n",
    "        self.feature_names_pairwise = [] \n",
    "        self.pairwise_codes_list = []            \n",
    "        for i, j in self.pos_product: \n",
    "            for a, b in self.amino_product: \n",
    "                if (a in self.independent_code_mapper[i]) and (b in self.independent_code_mapper[j]): \n",
    "                    name = str(i) + '-' + str(a) + ':' + str(j) + '-' + str(b) \n",
    "                    self.feature_names_pairwise.append(name) \n",
    "                    self.pairwise_codes_list.append(self.pairwise_code_mapper[str(i) + ':' + str(j)][str(a) + str(b)])\n",
    "        \n",
    "        self.code_length_independent = np.sum([len(code) for code in self.independent_codes_list]) \n",
    "        self.code_length_pairwise = np.sum([len(code) for code in self.pairwise_codes_list]) \n",
    "\n",
    "class Sequence_encoder_simplex(Encoding_basics): \n",
    "    \"\"\"\n",
    "    Encodes sequence in simplex encodings --- this one doesn't try to create a general encoder but a SOLD library specifci encoder, which makes more sense anyway \n",
    "    Why encode variations / mutations you will never encounter? \n",
    "    \"\"\"\n",
    "    def __init__(self, mutation_probs_variable_region_dict): \n",
    "        \"\"\"\n",
    "        Args:\n",
    "            mutated_region_length: the length of ONLY the variable region (mutated region) of the protein, NOT the whole protein length! \n",
    "        \"\"\"\n",
    "        super().__init__(mutation_probs_variable_region_dict) \n",
    "        \n",
    "    def encode_seqs(self, protein_seqs): \n",
    "        \"\"\"\n",
    "        Args: \n",
    "            protein_seqs: this is only the variable region \n",
    "        \"\"\"\n",
    "        independent_codes = [] \n",
    "        pairwise_codes = [] \n",
    "        for seq in protein_seqs:\n",
    "            array_of_seq = np.asarray(list(seq))\n",
    "            assert len(seq) == self.mutated_region_length, \"length mismatch of protein seq and attributes\"\n",
    "            \n",
    "            local_code_I = np.zeros(self.shape_independent_weights)\n",
    "            for i in range(self.mutated_region_length): \n",
    "                feature = str(i) + '-' + array_of_seq[i] \n",
    "                index = list(self.feature_names_independent).index(feature) \n",
    "                local_code_I[index, :] = self.independent_codes[index, :] \n",
    "            independent_codes.append(local_code_I)\n",
    "            \n",
    "            local_code_J = np.zeros(self.shape_pairwise_weights)\n",
    "            for j, pos in enumerate(self.pos_product): \n",
    "                # need to find the index of amino_acid pairs \n",
    "                acid_pairs = array_of_seq[pos]\n",
    "                feature = str(pos[0]) + '-' + acid_pairs[0] + ':' + str(pos[1]) + '-' + acid_pairs[1]\n",
    "                index = list(self.feature_names_pairwise).index(feature)\n",
    "                local_code_J[index, :] = self.pairwise_codes[index, :]\n",
    "            pairwise_codes.append(local_code_J) \n",
    "            \n",
    "        independent_codes = np.asarray(independent_codes)\n",
    "        pairwise_codes = np.asarray(pairwise_codes)\n",
    "\n",
    "        return independent_codes, pairwise_codes\n",
    "\n",
    "\n",
    "#######################################################################################################\n",
    "\n",
    "class Create_in_silico_model(Encoding_basics): \n",
    "    \"\"\"\n",
    "    Create an in silico model for simulation with independent and pairwise contributions \n",
    "    \"\"\"\n",
    "    def __init__(self, mutation_probs_variable_region_dict, independent_params = None, pairwise_params = None, baseline = 10): \n",
    "        \"\"\"\n",
    "        Args:\n",
    "            mutation_probs ..  : pass the dict of mutation probs (this is generated by SOLD matrix class, attribute dict is called mutation_probs_variable_region_indexed) \n",
    "            MUST BE INDEXED BY THE POSITION OF THE MUTATED REGION, not the protein position... this is to make sure we can deal with different length proteins \n",
    "                example:\n",
    "                {0: {'D': 0.05, 'K': 0.85, 'M': 0.05, 'Y': 0.05},\n",
    "                 1: {'C': 0.05, 'G': 0.05, 'I': 0.05, 'P': 0.85},\n",
    "                 2: {'F': 0.05, 'N': 0.05, 'R': 0.85, 'Y': 0.05},\n",
    "                 3: {'G': 0.05, 'I': 0.05, 'L': 0.85, 'Q': 0.05},\n",
    "                 4: {'A': 0.05, 'E': 0.05, 'R': 0.05, 'W': 0.85},\n",
    "                 5: {'A': 0.05, 'D': 0.05, 'I': 0.85, 'K': 0.05}}\n",
    "                where the keys are the index of the mutated regions and the values are dicts of probs of each amino acid\n",
    "            idependent_params: {'rho':[0.2, 0.2], 'sparse_pdf_names': ['norm', 'norm'], 'noise_sigma' : 0.01, 'sparse_params': [{'loc': 1, 'scale': 0.2}, {'loc': -1, 'scale': 0.2}]} \n",
    "            pairwise_params: {'rho':[0.1, 0.1], 'sparse_pdf_names': ['norm', 'norm'], 'noise_sigma' : 0.01, 'sparse_params': [{'loc': 0.75, 'scale': 0.2}, {'loc': -0.75, 'scale': 0.2}]} \n",
    "            \n",
    "        \"\"\"\n",
    "        # independent params pdf default --- \n",
    "        I_defaults = {'rho':[0.2, 0.2], 'sparse_pdf_names': ['norm', 'norm'], 'noise_sigma' : 0.01, 'sparse_params': [{'loc': 1, 'scale': 0.2}, {'loc': -1, 'scale': 0.2}]} \n",
    "        #pairwise params pdf default ---\n",
    "        P_defaults = {'rho':[0.2, 0.2], 'sparse_pdf_names': ['norm', 'norm'], 'noise_sigma' : 0.01, 'sparse_params': [{'loc': 0.75, 'scale': 0.2}, {'loc': -0.75, 'scale': 0.2}]} \n",
    "\n",
    "        super().__init__(mutation_probs_variable_region_dict) \n",
    "\n",
    "        if independent_params is not None: \n",
    "            I_defaults.update(independent_params) \n",
    "        self.independent_params = I_defaults.copy()  \n",
    "\n",
    "        if pairwise_params is not None: \n",
    "            P_defaults.update(pairwise_params) \n",
    "        # see the create mixture function\n",
    "        self.pairwise_params = P_defaults.copy() \n",
    "        \n",
    "        # Now I need to assign weights to individual and pairwise contributions \n",
    "        # first fill in the weights for the independent codes\n",
    "        self.Prob_I = Create_mixture(**self.independent_params)\n",
    "        samples_I, _ = self.Prob_I.samples(np.prod(self.shape_independent_weights))\n",
    "        self.independent_weights = samples_I.reshape(self.shape_independent_weights)         \n",
    "        self.Prob_P = Create_mixture(**self.pairwise_params)\n",
    "        samples_P, _ = self.Prob_P.samples(np.prod(self.shape_pairwise_weights))\n",
    "        self.pairwise_weights = samples_P.reshape(self.shape_pairwise_weights)              \n",
    "        self.baseline = baseline    \n",
    "    \n",
    "    def model(self, independent_codes, pairwise_codes): \n",
    "        \"\"\"\n",
    "        Args: \n",
    "            independent_codes: the result of encoding my sequence encoder to independent codes --- these are tensors--- N seqs times A amino acids time L positions (shape_independet_weights) etc. \n",
    "            pairwise_codes: similar \n",
    "            masked: ignore the weights of independent and pairwise positions that are not variable! \n",
    "        \"\"\"\n",
    "        ans1 = np.einsum('ijk, jk -> i', independent_codes, self.independent_weights) \n",
    "        ans2 = np.einsum('ijk, jk -> i', pairwise_codes, self.pairwise_weights)\n",
    "        return self.baseline + ans1 + ans2 \n",
    "        \n",
    "    def plot_weights(self): \n",
    "        \"\"\"\n",
    "        Plotting functions \n",
    "        \"\"\"\n",
    "        # weights \n",
    "        I_samples = np.ravel(self.independent_weights) \n",
    "        GRID_SIZE = 1000\n",
    "        x = np.linspace(np.min(I_samples), np.max(I_samples), GRID_SIZE)\n",
    "        plt.figure() \n",
    "        plt.plot(x, self.Prob_I.pdf()(x))\n",
    "        _ = plt.hist(I_samples, density=True, bins = 50)        \n",
    "        plt.title('Distribution of independent weights') \n",
    "\n",
    "        P_samples = np.ravel(self.pairwise_weights) \n",
    "        x = np.linspace(np.min(P_samples), np.max(P_samples), GRID_SIZE)\n",
    "        plt.figure() \n",
    "        plt.plot(x, self.Prob_P.pdf()(x))\n",
    "        _ = plt.hist(P_samples, density=True, bins = 50)        \n",
    "        plt.title('Distribution of pairwise weights') \n",
    "        plt.figure() \n",
    "        plt.imshow(self.independent_weights, vmin = -1, vmax = 1, cmap = 'RdBu', interpolation = 'None') \n",
    "        _  = plt.yticks(range(len(self.feature_names_independent)), self.feature_names_independent)\n",
    "        _  = plt.xticks(range(self.shape_independent_weights[1]))\n",
    "        plt.title(\"Independent weights\") \n",
    "        plt.colorbar() \n",
    "        plt.figure(figsize = (5, 70))\n",
    "        plt.imshow(self.pairwise_weights, vmin = -1, vmax = 1, cmap = 'RdBu', aspect = 'auto', interpolation = 'None') \n",
    "        _  = plt.yticks(range(len(self.feature_names_pairwise)), self.feature_names_pairwise)\n",
    "        _  = plt.xticks(range(self.shape_pairwise_weights[1]))\n",
    "        plt.title(\"Pairwise weights\") \n",
    "        #plt.colorbar\n",
    "\n"
   ]
  },
  {
   "cell_type": "code",
   "execution_count": 139,
   "id": "b3eeab29-1db4-4285-b9a9-b750ead90a01",
   "metadata": {},
   "outputs": [],
   "source": [
    "S = Encoding_basics(mutated_dict)"
   ]
  },
  {
   "cell_type": "code",
   "execution_count": 142,
   "id": "ecceb1df-d4f0-4b03-b0c7-4697d8cec6da",
   "metadata": {},
   "outputs": [
    {
     "data": {
      "text/plain": [
       "['0-A:1-C',\n",
       " '0-A:1-L',\n",
       " '0-A:1-W',\n",
       " '0-G:1-C',\n",
       " '0-G:1-L',\n",
       " '0-G:1-W',\n",
       " '0-N:1-C',\n",
       " '0-N:1-L',\n",
       " '0-N:1-W',\n",
       " '0-P:1-C',\n",
       " '0-P:1-L',\n",
       " '0-P:1-W',\n",
       " '0-A:2-A',\n",
       " '0-A:2-K',\n",
       " '0-A:2-T',\n",
       " '0-G:2-A',\n",
       " '0-G:2-K',\n",
       " '0-G:2-T',\n",
       " '0-N:2-A',\n",
       " '0-N:2-K',\n",
       " '0-N:2-T',\n",
       " '0-P:2-A',\n",
       " '0-P:2-K',\n",
       " '0-P:2-T',\n",
       " '0-A:3-C',\n",
       " '0-A:3-D',\n",
       " '0-A:3-E',\n",
       " '0-A:3-K',\n",
       " '0-A:3-W',\n",
       " '0-G:3-C',\n",
       " '0-G:3-D',\n",
       " '0-G:3-E',\n",
       " '0-G:3-K',\n",
       " '0-G:3-W',\n",
       " '0-N:3-C',\n",
       " '0-N:3-D',\n",
       " '0-N:3-E',\n",
       " '0-N:3-K',\n",
       " '0-N:3-W',\n",
       " '0-P:3-C',\n",
       " '0-P:3-D',\n",
       " '0-P:3-E',\n",
       " '0-P:3-K',\n",
       " '0-P:3-W',\n",
       " '1-C:2-A',\n",
       " '1-C:2-K',\n",
       " '1-C:2-T',\n",
       " '1-L:2-A',\n",
       " '1-L:2-K',\n",
       " '1-L:2-T',\n",
       " '1-W:2-A',\n",
       " '1-W:2-K',\n",
       " '1-W:2-T',\n",
       " '1-C:3-C',\n",
       " '1-C:3-D',\n",
       " '1-C:3-E',\n",
       " '1-C:3-K',\n",
       " '1-C:3-W',\n",
       " '1-L:3-C',\n",
       " '1-L:3-D',\n",
       " '1-L:3-E',\n",
       " '1-L:3-K',\n",
       " '1-L:3-W',\n",
       " '1-W:3-C',\n",
       " '1-W:3-D',\n",
       " '1-W:3-E',\n",
       " '1-W:3-K',\n",
       " '1-W:3-W',\n",
       " '2-A:3-C',\n",
       " '2-A:3-D',\n",
       " '2-A:3-E',\n",
       " '2-A:3-K',\n",
       " '2-A:3-W',\n",
       " '2-K:3-C',\n",
       " '2-K:3-D',\n",
       " '2-K:3-E',\n",
       " '2-K:3-K',\n",
       " '2-K:3-W',\n",
       " '2-T:3-C',\n",
       " '2-T:3-D',\n",
       " '2-T:3-E',\n",
       " '2-T:3-K',\n",
       " '2-T:3-W']"
      ]
     },
     "execution_count": 142,
     "metadata": {},
     "output_type": "execute_result"
    }
   ],
   "source": [
    "S.feature_names_pairwise"
   ]
  },
  {
   "cell_type": "code",
   "execution_count": 114,
   "id": "3d614962-6a2e-4fe5-b52c-716c5faadf3d",
   "metadata": {},
   "outputs": [
    {
     "data": {
      "text/plain": [
       "defaultdict(int,\n",
       "            {'0:1': 12, '0:2': 12, '0:3': 20, '1:2': 9, '1:3': 15, '2:3': 15})"
      ]
     },
     "execution_count": 114,
     "metadata": {},
     "output_type": "execute_result"
    }
   ],
   "source": [
    "S.code_size"
   ]
  },
  {
   "cell_type": "code",
   "execution_count": 110,
   "id": "c196d3a2-3968-4bf2-8e17-dc5c951ac5dc",
   "metadata": {},
   "outputs": [
    {
     "data": {
      "text/plain": [
       "array([1., 0., 0.])"
      ]
     },
     "execution_count": 110,
     "metadata": {},
     "output_type": "execute_result"
    }
   ],
   "source": [
    "S.independent_code_mapper[0]['A']"
   ]
  },
  {
   "cell_type": "code",
   "execution_count": 111,
   "id": "5f565874-42ba-45f0-b111-b7f917d34525",
   "metadata": {},
   "outputs": [
    {
     "data": {
      "text/plain": [
       "array([0., 0.])"
      ]
     },
     "execution_count": 111,
     "metadata": {},
     "output_type": "execute_result"
    }
   ],
   "source": [
    "S.independent_code_mapper[1]['C']"
   ]
  },
  {
   "cell_type": "code",
   "execution_count": 136,
   "id": "4d5d3899-8533-4502-9ad0-6fd4e2c7bce2",
   "metadata": {},
   "outputs": [
    {
     "data": {
      "text/plain": [
       "'NCKD'"
      ]
     },
     "execution_count": 136,
     "metadata": {},
     "output_type": "execute_result"
    }
   ],
   "source": [
    "S.parent\n"
   ]
  },
  {
   "cell_type": "code",
   "execution_count": 98,
   "id": "bf6d14bf-0317-489f-b123-c70e40e82633",
   "metadata": {},
   "outputs": [
    {
     "data": {
      "text/plain": [
       "array([ 1,  2,  3,  4,  5,  2,  4,  6,  8, 10,  3,  6,  9, 12, 15])"
      ]
     },
     "execution_count": 98,
     "metadata": {},
     "output_type": "execute_result"
    }
   ],
   "source": [
    "np.kron([1, 2, 3], [1, 2, 3, 4, 5])"
   ]
  },
  {
   "cell_type": "code",
   "execution_count": null,
   "id": "0bc4d139-559a-4a77-b0a8-a121d8fd9fa2",
   "metadata": {},
   "outputs": [],
   "source": []
  }
 ],
 "metadata": {
  "kernelspec": {
   "display_name": "Python 3 (ipykernel)",
   "language": "python",
   "name": "python3"
  },
  "language_info": {
   "codemirror_mode": {
    "name": "ipython",
    "version": 3
   },
   "file_extension": ".py",
   "mimetype": "text/x-python",
   "name": "python",
   "nbconvert_exporter": "python",
   "pygments_lexer": "ipython3",
   "version": "3.13.5"
  }
 },
 "nbformat": 4,
 "nbformat_minor": 5
}
