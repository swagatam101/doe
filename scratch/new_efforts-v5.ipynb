{
 "cells": [
  {
   "cell_type": "markdown",
   "id": "a2b73a3a-962d-4198-a0f4-75f7a097c95e",
   "metadata": {},
   "source": [
    "# Trying vector codings "
   ]
  },
  {
   "cell_type": "code",
   "execution_count": 1,
   "id": "68b6513f-dd6e-427e-8fd7-aa9760cd96c3",
   "metadata": {},
   "outputs": [],
   "source": [
    "import numpy as np\n",
    "import pandas as pd\n",
    "import matplotlib\n",
    "import matplotlib.pyplot as plt\n",
    "from Bio.Data import IUPACData\n",
    "from collections import defaultdict\n",
    "from itertools import product, combinations\n",
    "from scipy.spatial.distance import hamming\n",
    "import scipy.stats as ss\n",
    "import cvxpy as cp\n",
    "import sys\n",
    "import scipy.linalg as sl\n",
    "\n",
    "sys.path.append(\"../\") \n",
    "import doe_utils\n",
    "\n",
    "# TEST MAKE AMINO ACID WORLD SMALL \n",
    "\n",
    "AMINO_ACIDS = doe_utils.AMINO_ACIDS"
   ]
  },
  {
   "cell_type": "code",
   "execution_count": 2,
   "id": "92589121-ac8d-4428-9819-a8b852a8070b",
   "metadata": {},
   "outputs": [
    {
     "name": "stdout",
     "output_type": "stream",
     "text": [
      "Parent protein: RMFYAIDWRNLVQGIVTRSHLKVVRSCYDQMVESWAQPKWLPTARCQNTYKEGDCCKNCSCVEKVQTCNWAIDWHPGRKERWQASNGAYSHVIKIDIFRL\n",
      "Random mutaed positions [26 29 38 55 93]\n"
     ]
    },
    {
     "data": {
      "text/html": [
       "<div>\n",
       "<style scoped>\n",
       "    .dataframe tbody tr th:only-of-type {\n",
       "        vertical-align: middle;\n",
       "    }\n",
       "\n",
       "    .dataframe tbody tr th {\n",
       "        vertical-align: top;\n",
       "    }\n",
       "\n",
       "    .dataframe thead th {\n",
       "        text-align: right;\n",
       "    }\n",
       "</style>\n",
       "<table border=\"1\" class=\"dataframe\">\n",
       "  <thead>\n",
       "    <tr style=\"text-align: right;\">\n",
       "      <th></th>\n",
       "      <th>0</th>\n",
       "      <th>1</th>\n",
       "      <th>2</th>\n",
       "      <th>3</th>\n",
       "      <th>4</th>\n",
       "      <th>5</th>\n",
       "      <th>6</th>\n",
       "      <th>7</th>\n",
       "      <th>8</th>\n",
       "      <th>9</th>\n",
       "      <th>...</th>\n",
       "      <th>90</th>\n",
       "      <th>91</th>\n",
       "      <th>92</th>\n",
       "      <th>93</th>\n",
       "      <th>94</th>\n",
       "      <th>95</th>\n",
       "      <th>96</th>\n",
       "      <th>97</th>\n",
       "      <th>98</th>\n",
       "      <th>99</th>\n",
       "    </tr>\n",
       "  </thead>\n",
       "  <tbody>\n",
       "    <tr>\n",
       "      <th>A</th>\n",
       "      <td>0.0</td>\n",
       "      <td>0.0</td>\n",
       "      <td>0.0</td>\n",
       "      <td>0.0</td>\n",
       "      <td>0.0</td>\n",
       "      <td>0.0</td>\n",
       "      <td>0.0</td>\n",
       "      <td>0.0</td>\n",
       "      <td>0.0</td>\n",
       "      <td>0.0</td>\n",
       "      <td>...</td>\n",
       "      <td>0.0</td>\n",
       "      <td>0.0</td>\n",
       "      <td>0.0</td>\n",
       "      <td>0.0</td>\n",
       "      <td>0.0</td>\n",
       "      <td>0.0</td>\n",
       "      <td>0.0</td>\n",
       "      <td>0.0</td>\n",
       "      <td>0.0</td>\n",
       "      <td>0.0</td>\n",
       "    </tr>\n",
       "    <tr>\n",
       "      <th>C</th>\n",
       "      <td>0.0</td>\n",
       "      <td>0.0</td>\n",
       "      <td>0.0</td>\n",
       "      <td>0.0</td>\n",
       "      <td>0.0</td>\n",
       "      <td>0.0</td>\n",
       "      <td>0.0</td>\n",
       "      <td>0.0</td>\n",
       "      <td>0.0</td>\n",
       "      <td>0.0</td>\n",
       "      <td>...</td>\n",
       "      <td>0.0</td>\n",
       "      <td>0.0</td>\n",
       "      <td>0.0</td>\n",
       "      <td>0.0</td>\n",
       "      <td>0.0</td>\n",
       "      <td>0.0</td>\n",
       "      <td>0.0</td>\n",
       "      <td>0.0</td>\n",
       "      <td>0.0</td>\n",
       "      <td>0.0</td>\n",
       "    </tr>\n",
       "    <tr>\n",
       "      <th>D</th>\n",
       "      <td>0.0</td>\n",
       "      <td>0.0</td>\n",
       "      <td>0.0</td>\n",
       "      <td>0.0</td>\n",
       "      <td>0.0</td>\n",
       "      <td>0.0</td>\n",
       "      <td>0.0</td>\n",
       "      <td>0.0</td>\n",
       "      <td>0.0</td>\n",
       "      <td>0.0</td>\n",
       "      <td>...</td>\n",
       "      <td>0.0</td>\n",
       "      <td>0.0</td>\n",
       "      <td>0.0</td>\n",
       "      <td>0.0</td>\n",
       "      <td>0.0</td>\n",
       "      <td>0.0</td>\n",
       "      <td>0.0</td>\n",
       "      <td>0.0</td>\n",
       "      <td>0.0</td>\n",
       "      <td>0.0</td>\n",
       "    </tr>\n",
       "    <tr>\n",
       "      <th>E</th>\n",
       "      <td>0.0</td>\n",
       "      <td>0.0</td>\n",
       "      <td>0.0</td>\n",
       "      <td>0.0</td>\n",
       "      <td>0.0</td>\n",
       "      <td>0.0</td>\n",
       "      <td>0.0</td>\n",
       "      <td>0.0</td>\n",
       "      <td>0.0</td>\n",
       "      <td>0.0</td>\n",
       "      <td>...</td>\n",
       "      <td>0.0</td>\n",
       "      <td>0.0</td>\n",
       "      <td>0.0</td>\n",
       "      <td>0.0</td>\n",
       "      <td>0.0</td>\n",
       "      <td>0.0</td>\n",
       "      <td>0.0</td>\n",
       "      <td>0.0</td>\n",
       "      <td>0.0</td>\n",
       "      <td>0.0</td>\n",
       "    </tr>\n",
       "    <tr>\n",
       "      <th>F</th>\n",
       "      <td>0.0</td>\n",
       "      <td>0.0</td>\n",
       "      <td>0.0</td>\n",
       "      <td>0.0</td>\n",
       "      <td>0.0</td>\n",
       "      <td>0.0</td>\n",
       "      <td>0.0</td>\n",
       "      <td>0.0</td>\n",
       "      <td>0.0</td>\n",
       "      <td>0.0</td>\n",
       "      <td>...</td>\n",
       "      <td>0.0</td>\n",
       "      <td>0.0</td>\n",
       "      <td>0.0</td>\n",
       "      <td>0.0</td>\n",
       "      <td>0.0</td>\n",
       "      <td>0.0</td>\n",
       "      <td>0.0</td>\n",
       "      <td>0.0</td>\n",
       "      <td>0.0</td>\n",
       "      <td>0.0</td>\n",
       "    </tr>\n",
       "  </tbody>\n",
       "</table>\n",
       "<p>5 rows × 100 columns</p>\n",
       "</div>"
      ],
      "text/plain": [
       "    0    1    2    3    4    5    6    7    8    9   ...   90   91   92   93  \\\n",
       "A  0.0  0.0  0.0  0.0  0.0  0.0  0.0  0.0  0.0  0.0  ...  0.0  0.0  0.0  0.0   \n",
       "C  0.0  0.0  0.0  0.0  0.0  0.0  0.0  0.0  0.0  0.0  ...  0.0  0.0  0.0  0.0   \n",
       "D  0.0  0.0  0.0  0.0  0.0  0.0  0.0  0.0  0.0  0.0  ...  0.0  0.0  0.0  0.0   \n",
       "E  0.0  0.0  0.0  0.0  0.0  0.0  0.0  0.0  0.0  0.0  ...  0.0  0.0  0.0  0.0   \n",
       "F  0.0  0.0  0.0  0.0  0.0  0.0  0.0  0.0  0.0  0.0  ...  0.0  0.0  0.0  0.0   \n",
       "\n",
       "    94   95   96   97   98   99  \n",
       "A  0.0  0.0  0.0  0.0  0.0  0.0  \n",
       "C  0.0  0.0  0.0  0.0  0.0  0.0  \n",
       "D  0.0  0.0  0.0  0.0  0.0  0.0  \n",
       "E  0.0  0.0  0.0  0.0  0.0  0.0  \n",
       "F  0.0  0.0  0.0  0.0  0.0  0.0  \n",
       "\n",
       "[5 rows x 100 columns]"
      ]
     },
     "execution_count": 2,
     "metadata": {},
     "output_type": "execute_result"
    }
   ],
   "source": [
    "length_of_protein = 100\n",
    "num_mutated = 5\n",
    "sold_mat_df, parent, mut_dict = doe_utils.create_synthetic_SOLD_matrix(num_mutated, length_of_protein, \\\n",
    "                                #mut_probs = [[0.45], [0.35, 0.35], [0.45], [0.35, 0.35]], parent_prob=[0.55, 0.30, 0.55, 0.30])                                      \n",
    "                                #mut_probs = [[0.45, 0.45], [0.45], [0.20, 0.20, 0.20], [0.20, 0.20, 0.20]], parent_prob=[0.10, 0.55, 0.40, 0.40])                                    \n",
    "                                mut_probs = [[0.45, 0.45], [0.45, 0.45], [0.25, 0.3, 0.35], [0.25, 0.25, 0.4], [0.45, 0.45]], parent_prob=[0.10, 0.10, 0.10, 0.10, 0.10]) #6 postions mutated, pprtein length is 100 \n",
    "sold_mat_df.head() "
   ]
  },
  {
   "cell_type": "code",
   "execution_count": 3,
   "id": "ba0849ba-2a72-4511-ac2a-9d505acc4dc7",
   "metadata": {},
   "outputs": [
    {
     "data": {
      "image/png": "[encoded data removed]",
      "text/plain": [
       "<Figure size 1800x500 with 1 Axes>"
      ]
     },
     "metadata": {},
     "output_type": "display_data"
    }
   ],
   "source": [
    "plt.figure(figsize = (18,5))\n",
    "plt.imshow(sold_mat_df, aspect = 'auto', cmap = 'grey_r') \n",
    "_  = plt.xticks(range(length_of_protein), rotation = 90)\n",
    "_  = plt.yticks(range(len(AMINO_ACIDS)), AMINO_ACIDS)\n"
   ]
  },
  {
   "cell_type": "code",
   "execution_count": 4,
   "id": "fad4371c-5e8f-464e-94bc-e7d230e08259",
   "metadata": {},
   "outputs": [
    {
     "name": "stdout",
     "output_type": "stream",
     "text": [
      "407\n"
     ]
    }
   ],
   "source": [
    "S = doe_utils.SOLD(sold_mat_df)\n",
    "seqs, mutations = S.generate_sequences(10000)\n",
    "seqs = np.unique(seqs)\n",
    "print(len(seqs))\n",
    "probs = S.compute_prob_n_mutations(num_mutated+1)"
   ]
  },
  {
   "cell_type": "code",
   "execution_count": 5,
   "id": "310f5902-348c-4517-a1f5-32ae448ea7eb",
   "metadata": {},
   "outputs": [
    {
     "data": {
      "text/plain": [
       "defaultdict(None,\n",
       "            {0: {'C': 0.1, 'E': 0.45, 'W': 0.45},\n",
       "             1: {'D': 0.45, 'E': 0.45, 'Q': 0.1},\n",
       "             2: {'D': 0.3, 'K': 0.1, 'S': 0.25, 'T': 0.35},\n",
       "             3: {'C': 0.1, 'F': 0.25, 'M': 0.25, 'N': 0.4},\n",
       "             4: {'G': 0.45, 'K': 0.1, 'N': 0.45}})"
      ]
     },
     "execution_count": 5,
     "metadata": {},
     "output_type": "execute_result"
    }
   ],
   "source": [
    "S.mutation_probs_variable_region_indexed"
   ]
  },
  {
   "cell_type": "markdown",
   "id": "15315827-96e7-437e-b5bc-94fc8fe6ad77",
   "metadata": {},
   "source": [
    "# Now you have variable length mat to create encoder "
   ]
  },
  {
   "cell_type": "code",
   "execution_count": 6,
   "id": "b3eeab29-1db4-4285-b9a9-b750ead90a01",
   "metadata": {},
   "outputs": [
    {
     "data": {
      "text/plain": [
       "{'0:1': {'CE': array([1., 0., 0., 0.]),\n",
       "  'CQ': array([0., 1., 0., 0.]),\n",
       "  'WE': array([0., 0., 1., 0.]),\n",
       "  'WQ': array([0., 0., 0., 1.]),\n",
       "  'ED': array([0., 0., 0., 0.]),\n",
       "  'CD': array([0., 0., 0., 0.]),\n",
       "  'EE': array([0., 0., 0., 0.]),\n",
       "  'EQ': array([0., 0., 0., 0.]),\n",
       "  'WD': array([0., 0., 0., 0.])},\n",
       " '0:2': {'CD': array([1., 0., 0., 0., 0., 0.]),\n",
       "  'CK': array([0., 1., 0., 0., 0., 0.]),\n",
       "  'CS': array([0., 0., 1., 0., 0., 0.]),\n",
       "  'WD': array([0., 0., 0., 1., 0., 0.]),\n",
       "  'WK': array([0., 0., 0., 0., 1., 0.]),\n",
       "  'WS': array([0., 0., 0., 0., 0., 1.]),\n",
       "  'ET': array([0., 0., 0., 0., 0., 0.]),\n",
       "  'CT': array([0., 0., 0., 0., 0., 0.]),\n",
       "  'ED': array([0., 0., 0., 0., 0., 0.]),\n",
       "  'EK': array([0., 0., 0., 0., 0., 0.]),\n",
       "  'ES': array([0., 0., 0., 0., 0., 0.]),\n",
       "  'WT': array([0., 0., 0., 0., 0., 0.])},\n",
       " '0:3': {'CC': array([1., 0., 0., 0., 0., 0.]),\n",
       "  'CF': array([0., 1., 0., 0., 0., 0.]),\n",
       "  'CM': array([0., 0., 1., 0., 0., 0.]),\n",
       "  'WC': array([0., 0., 0., 1., 0., 0.]),\n",
       "  'WF': array([0., 0., 0., 0., 1., 0.]),\n",
       "  'WM': array([0., 0., 0., 0., 0., 1.]),\n",
       "  'EN': array([0., 0., 0., 0., 0., 0.]),\n",
       "  'CN': array([0., 0., 0., 0., 0., 0.]),\n",
       "  'EC': array([0., 0., 0., 0., 0., 0.]),\n",
       "  'EF': array([0., 0., 0., 0., 0., 0.]),\n",
       "  'EM': array([0., 0., 0., 0., 0., 0.]),\n",
       "  'WN': array([0., 0., 0., 0., 0., 0.])},\n",
       " '0:4': {'CK': array([1., 0., 0., 0.]),\n",
       "  'CN': array([0., 1., 0., 0.]),\n",
       "  'WK': array([0., 0., 1., 0.]),\n",
       "  'WN': array([0., 0., 0., 1.]),\n",
       "  'EG': array([0., 0., 0., 0.]),\n",
       "  'CG': array([0., 0., 0., 0.]),\n",
       "  'EK': array([0., 0., 0., 0.]),\n",
       "  'EN': array([0., 0., 0., 0.]),\n",
       "  'WG': array([0., 0., 0., 0.])},\n",
       " '1:2': {'ED': array([1., 0., 0., 0., 0., 0.]),\n",
       "  'EK': array([0., 1., 0., 0., 0., 0.]),\n",
       "  'ES': array([0., 0., 1., 0., 0., 0.]),\n",
       "  'QD': array([0., 0., 0., 1., 0., 0.]),\n",
       "  'QK': array([0., 0., 0., 0., 1., 0.]),\n",
       "  'QS': array([0., 0., 0., 0., 0., 1.]),\n",
       "  'DT': array([0., 0., 0., 0., 0., 0.]),\n",
       "  'DD': array([0., 0., 0., 0., 0., 0.]),\n",
       "  'DK': array([0., 0., 0., 0., 0., 0.]),\n",
       "  'DS': array([0., 0., 0., 0., 0., 0.]),\n",
       "  'ET': array([0., 0., 0., 0., 0., 0.]),\n",
       "  'QT': array([0., 0., 0., 0., 0., 0.])},\n",
       " '1:3': {'EC': array([1., 0., 0., 0., 0., 0.]),\n",
       "  'EF': array([0., 1., 0., 0., 0., 0.]),\n",
       "  'EM': array([0., 0., 1., 0., 0., 0.]),\n",
       "  'QC': array([0., 0., 0., 1., 0., 0.]),\n",
       "  'QF': array([0., 0., 0., 0., 1., 0.]),\n",
       "  'QM': array([0., 0., 0., 0., 0., 1.]),\n",
       "  'DN': array([0., 0., 0., 0., 0., 0.]),\n",
       "  'DC': array([0., 0., 0., 0., 0., 0.]),\n",
       "  'DF': array([0., 0., 0., 0., 0., 0.]),\n",
       "  'DM': array([0., 0., 0., 0., 0., 0.]),\n",
       "  'EN': array([0., 0., 0., 0., 0., 0.]),\n",
       "  'QN': array([0., 0., 0., 0., 0., 0.])},\n",
       " '1:4': {'EK': array([1., 0., 0., 0.]),\n",
       "  'EN': array([0., 1., 0., 0.]),\n",
       "  'QK': array([0., 0., 1., 0.]),\n",
       "  'QN': array([0., 0., 0., 1.]),\n",
       "  'DG': array([0., 0., 0., 0.]),\n",
       "  'DK': array([0., 0., 0., 0.]),\n",
       "  'DN': array([0., 0., 0., 0.]),\n",
       "  'EG': array([0., 0., 0., 0.]),\n",
       "  'QG': array([0., 0., 0., 0.])},\n",
       " '2:3': {'DC': array([1., 0., 0., 0., 0., 0., 0., 0., 0.]),\n",
       "  'DF': array([0., 1., 0., 0., 0., 0., 0., 0., 0.]),\n",
       "  'DM': array([0., 0., 1., 0., 0., 0., 0., 0., 0.]),\n",
       "  'KC': array([0., 0., 0., 1., 0., 0., 0., 0., 0.]),\n",
       "  'KF': array([0., 0., 0., 0., 1., 0., 0., 0., 0.]),\n",
       "  'KM': array([0., 0., 0., 0., 0., 1., 0., 0., 0.]),\n",
       "  'SC': array([0., 0., 0., 0., 0., 0., 1., 0., 0.]),\n",
       "  'SF': array([0., 0., 0., 0., 0., 0., 0., 1., 0.]),\n",
       "  'SM': array([0., 0., 0., 0., 0., 0., 0., 0., 1.]),\n",
       "  'TN': array([0., 0., 0., 0., 0., 0., 0., 0., 0.]),\n",
       "  'DN': array([0., 0., 0., 0., 0., 0., 0., 0., 0.]),\n",
       "  'KN': array([0., 0., 0., 0., 0., 0., 0., 0., 0.]),\n",
       "  'SN': array([0., 0., 0., 0., 0., 0., 0., 0., 0.]),\n",
       "  'TC': array([0., 0., 0., 0., 0., 0., 0., 0., 0.]),\n",
       "  'TF': array([0., 0., 0., 0., 0., 0., 0., 0., 0.]),\n",
       "  'TM': array([0., 0., 0., 0., 0., 0., 0., 0., 0.])},\n",
       " '2:4': {'DK': array([1., 0., 0., 0., 0., 0.]),\n",
       "  'DN': array([0., 1., 0., 0., 0., 0.]),\n",
       "  'KK': array([0., 0., 1., 0., 0., 0.]),\n",
       "  'KN': array([0., 0., 0., 1., 0., 0.]),\n",
       "  'SK': array([0., 0., 0., 0., 1., 0.]),\n",
       "  'SN': array([0., 0., 0., 0., 0., 1.]),\n",
       "  'TG': array([0., 0., 0., 0., 0., 0.]),\n",
       "  'DG': array([0., 0., 0., 0., 0., 0.]),\n",
       "  'KG': array([0., 0., 0., 0., 0., 0.]),\n",
       "  'SG': array([0., 0., 0., 0., 0., 0.]),\n",
       "  'TK': array([0., 0., 0., 0., 0., 0.]),\n",
       "  'TN': array([0., 0., 0., 0., 0., 0.])},\n",
       " '3:4': {'CK': array([1., 0., 0., 0., 0., 0.]),\n",
       "  'CN': array([0., 1., 0., 0., 0., 0.]),\n",
       "  'FK': array([0., 0., 1., 0., 0., 0.]),\n",
       "  'FN': array([0., 0., 0., 1., 0., 0.]),\n",
       "  'MK': array([0., 0., 0., 0., 1., 0.]),\n",
       "  'MN': array([0., 0., 0., 0., 0., 1.]),\n",
       "  'NG': array([0., 0., 0., 0., 0., 0.]),\n",
       "  'CG': array([0., 0., 0., 0., 0., 0.]),\n",
       "  'FG': array([0., 0., 0., 0., 0., 0.]),\n",
       "  'MG': array([0., 0., 0., 0., 0., 0.]),\n",
       "  'NK': array([0., 0., 0., 0., 0., 0.]),\n",
       "  'NN': array([0., 0., 0., 0., 0., 0.])}}"
      ]
     },
     "execution_count": 6,
     "metadata": {},
     "output_type": "execute_result"
    }
   ],
   "source": [
    "Q = doe_utils.Encoding_basics(S.mutation_probs_variable_region_indexed)\n",
    "\n",
    "Q.pairwise_code_mapper"
   ]
  },
  {
   "cell_type": "code",
   "execution_count": 7,
   "id": "46f48baa-1e00-4a92-b4ad-05c8b590c05b",
   "metadata": {},
   "outputs": [],
   "source": [
    "E = doe_utils.Sequence_encoder_simplex(S.mutation_probs_variable_region_indexed)\n",
    "independent_codes, pairwise_codes, flatten_independent, flatter_pairwise = E.encode_seqs(seqs)  "
   ]
  },
  {
   "cell_type": "code",
   "execution_count": 8,
   "id": "e126430f-a998-4d9f-8945-412b6246a3be",
   "metadata": {},
   "outputs": [],
   "source": [
    "model = doe_utils.Create_in_silico_model(S.mutation_probs_variable_region_indexed)"
   ]
  },
  {
   "cell_type": "code",
   "execution_count": 9,
   "id": "7ace48ec-0420-4702-a357-5f8c687f189a",
   "metadata": {},
   "outputs": [
    {
     "data": {
      "text/plain": [
       "(array([ 1.,  2., 14., 34., 61., 98., 95., 64., 26., 12.]),\n",
       " array([-6.79112586, -5.79461034, -4.79809482, -3.8015793 , -2.80506378,\n",
       "        -1.80854826, -0.81203274,  0.18448278,  1.1809983 ,  2.17751381,\n",
       "         3.17402933]),\n",
       " <BarContainer object of 10 artists>)"
      ]
     },
     "execution_count": 9,
     "metadata": {},
     "output_type": "execute_result"
    },
    {
     "data": {
      "image/png": "[encoded data removed]",
      "text/plain": [
       "<Figure size 640x480 with 1 Axes>"
      ]
     },
     "metadata": {},
     "output_type": "display_data"
    }
   ],
   "source": [
    "responses = model.model(flatten_independent, flatter_pairwise)\n",
    "plt.hist(responses)"
   ]
  },
  {
   "cell_type": "code",
   "execution_count": 10,
   "id": "c8628bcb-d40c-4b6b-864d-8c4c16acba87",
   "metadata": {},
   "outputs": [
    {
     "data": {
      "image/png": "[encoded data removed]",
      "text/plain": [
       "<Figure size 640x480 with 1 Axes>"
      ]
     },
     "metadata": {},
     "output_type": "display_data"
    },
    {
     "data": {
      "image/png": "[encoded data removed]",
      "text/plain": [
       "<Figure size 640x480 with 1 Axes>"
      ]
     },
     "metadata": {},
     "output_type": "display_data"
    }
   ],
   "source": [
    "model.plot_weights()"
   ]
  },
  {
   "cell_type": "code",
   "execution_count": 12,
   "id": "c6d93501-0c6e-4005-8e1f-f4b8b1e569bf",
   "metadata": {},
   "outputs": [],
   "source": [
    "fit_model = doe_utils.Fitting_model(S.mutation_probs_variable_region_indexed)\n",
    "weights, fit_responses = fit_model.fit(seqs, responses, fit = 'both')"
   ]
  },
  {
   "cell_type": "code",
   "execution_count": 13,
   "id": "afdbf68e-db48-46cb-ad91-b7ece3ccc2e3",
   "metadata": {},
   "outputs": [
    {
     "data": {
      "text/plain": [
       "<matplotlib.collections.PathCollection at 0x10d8ba270>"
      ]
     },
     "execution_count": 13,
     "metadata": {},
     "output_type": "execute_result"
    },
    {
     "data": {
      "image/png": "[encoded data removed]",
      "text/plain": [
       "<Figure size 640x480 with 1 Axes>"
      ]
     },
     "metadata": {},
     "output_type": "display_data"
    }
   ],
   "source": [
    "plt.scatter(fit_responses, responses)"
   ]
  },
  {
   "cell_type": "code",
   "execution_count": 14,
   "id": "26625e34-6181-4d1b-b757-0b7df2bd924f",
   "metadata": {},
   "outputs": [
    {
     "data": {
      "text/plain": [
       "Text(0, 0.5, 'fitted independent weights')"
      ]
     },
     "execution_count": 14,
     "metadata": {},
     "output_type": "execute_result"
    },
    {
     "data": {
      "image/png": "[encoded data removed]",
      "text/plain": [
       "<Figure size 640x480 with 1 Axes>"
      ]
     },
     "metadata": {},
     "output_type": "display_data"
    }
   ],
   "source": [
    "plt.scatter(model.independent_weights, weights[fit_model.independent_indices])\n",
    "plt.xlabel(\"ground truth indendent weights\") \n",
    "plt.ylabel('fitted independent weights') "
   ]
  },
  {
   "cell_type": "code",
   "execution_count": 15,
   "id": "f96d4af6-ddd1-490b-a61b-44308823c41e",
   "metadata": {},
   "outputs": [
    {
     "data": {
      "text/plain": [
       "Text(0, 0.5, 'fitted pairwise weights')"
      ]
     },
     "execution_count": 15,
     "metadata": {},
     "output_type": "execute_result"
    },
    {
     "data": {
      "image/png": "[encoded data removed]",
      "text/plain": [
       "<Figure size 640x480 with 1 Axes>"
      ]
     },
     "metadata": {},
     "output_type": "display_data"
    }
   ],
   "source": [
    "plt.scatter(model.pairwise_weights, weights[fit_model.pairwise_indices])\n",
    "plt.xlabel(\"ground truth pairwise weights\") \n",
    "plt.ylabel('fitted pairwise weights') "
   ]
  },
  {
   "cell_type": "code",
   "execution_count": 16,
   "id": "5754d4a9-096f-48a9-b1b5-19e1af87c73a",
   "metadata": {},
   "outputs": [],
   "source": [
    "a, b = np.linalg.eig(fit_model.features.T.dot(fit_model.features))"
   ]
  },
  {
   "cell_type": "code",
   "execution_count": 17,
   "id": "b3738334-ca3a-4418-a47f-5f2eae2ce6cc",
   "metadata": {},
   "outputs": [
    {
     "data": {
      "text/plain": [
       "[<matplotlib.lines.Line2D at 0x10dd99d10>]"
      ]
     },
     "execution_count": 17,
     "metadata": {},
     "output_type": "execute_result"
    },
    {
     "data": {
      "image/png": "[encoded data removed]",
      "text/plain": [
       "<Figure size 640x480 with 1 Axes>"
      ]
     },
     "metadata": {},
     "output_type": "display_data"
    }
   ],
   "source": [
    "plt.plot(a)"
   ]
  },
  {
   "cell_type": "code",
   "execution_count": 18,
   "id": "8915909b-02cd-4410-b5ba-db2fc62fe836",
   "metadata": {},
   "outputs": [
    {
     "data": {
      "text/plain": [
       "np.int64(12)"
      ]
     },
     "execution_count": 18,
     "metadata": {},
     "output_type": "execute_result"
    }
   ],
   "source": [
    "fit_model.encoder.code_length_independent"
   ]
  },
  {
   "cell_type": "code",
   "execution_count": 19,
   "id": "4bc06216-b5ac-4187-9ff4-9ee5416faa56",
   "metadata": {},
   "outputs": [
    {
     "data": {
      "text/plain": [
       "np.int64(57)"
      ]
     },
     "execution_count": 19,
     "metadata": {},
     "output_type": "execute_result"
    }
   ],
   "source": [
    "fit_model.encoder.code_length_pairwise"
   ]
  },
  {
   "cell_type": "code",
   "execution_count": 20,
   "id": "f9fe67fc-65da-48b5-b53c-46b0ab842c89",
   "metadata": {},
   "outputs": [
    {
     "data": {
      "text/plain": [
       "np.int64(0)"
      ]
     },
     "execution_count": 20,
     "metadata": {},
     "output_type": "execute_result"
    }
   ],
   "source": [
    "np.sum(a < 0.0001)"
   ]
  },
  {
   "cell_type": "code",
   "execution_count": 21,
   "id": "cb814e86-fd22-42f0-944f-4ae4401003e4",
   "metadata": {},
   "outputs": [
    {
     "name": "stdout",
     "output_type": "stream",
     "text": [
      "Null space basis vectors:\n",
      "[]\n"
     ]
    }
   ],
   "source": [
    "import numpy as np\n",
    "from scipy.linalg import null_space\n",
    "\n",
    "mat = fit_model.features.T.dot(fit_model.features)\n",
    "ns = null_space(mat)\n",
    "\n",
    "# Print the basis vectors of the null space\n",
    "print(\"Null space basis vectors:\")\n",
    "print(ns.T)"
   ]
  },
  {
   "cell_type": "code",
   "execution_count": 22,
   "id": "d3d367b8-a429-4f7c-9583-4c3755ce4731",
   "metadata": {},
   "outputs": [
    {
     "data": {
      "text/plain": [
       "defaultdict(list,\n",
       "            {'0': ['C', 'W'],\n",
       "             '1': ['E', 'Q'],\n",
       "             '2': ['D', 'K', 'S'],\n",
       "             '3': ['C', 'F', 'M'],\n",
       "             '4': ['K', 'N']})"
      ]
     },
     "execution_count": 22,
     "metadata": {},
     "output_type": "execute_result"
    }
   ],
   "source": [
    "Q.independent_position_weights_name"
   ]
  },
  {
   "cell_type": "code",
   "execution_count": 23,
   "id": "2ca052ab-4512-496d-a174-626000b11872",
   "metadata": {},
   "outputs": [
    {
     "data": {
      "text/plain": [
       "defaultdict(list,\n",
       "            {'0:1': ['CE', 'CQ', 'WE', 'WQ'],\n",
       "             '0:2': ['CD', 'CK', 'CS', 'WD', 'WK', 'WS'],\n",
       "             '0:3': ['CC', 'CF', 'CM', 'WC', 'WF', 'WM'],\n",
       "             '0:4': ['CK', 'CN', 'WK', 'WN'],\n",
       "             '1:2': ['ED', 'EK', 'ES', 'QD', 'QK', 'QS'],\n",
       "             '1:3': ['EC', 'EF', 'EM', 'QC', 'QF', 'QM'],\n",
       "             '1:4': ['EK', 'EN', 'QK', 'QN'],\n",
       "             '2:3': ['DC', 'DF', 'DM', 'KC', 'KF', 'KM', 'SC', 'SF', 'SM'],\n",
       "             '2:4': ['DK', 'DN', 'KK', 'KN', 'SK', 'SN'],\n",
       "             '3:4': ['CK', 'CN', 'FK', 'FN', 'MK', 'MN']})"
      ]
     },
     "execution_count": 23,
     "metadata": {},
     "output_type": "execute_result"
    }
   ],
   "source": [
    "Q.pair_position_weights_name"
   ]
  },
  {
   "cell_type": "code",
   "execution_count": 24,
   "id": "a15e8337-1559-447f-b52c-fcdd5302f339",
   "metadata": {},
   "outputs": [
    {
     "data": {
      "image/png": "[encoded data removed]",
      "text/plain": [
       "<Figure size 640x480 with 1 Axes>"
      ]
     },
     "metadata": {},
     "output_type": "display_data"
    }
   ],
   "source": [
    "plt.plot(ns) \n",
    "_ = plt.xticks(range(Q.number_of_features), np.concatenate([Q.flattened_independent_position_weights_name, Q.flattened_pair_position_weights_name]), rotation = 90)\n",
    "\n"
   ]
  },
  {
   "cell_type": "code",
   "execution_count": 25,
   "id": "4a0ed2fe-1bf6-436e-bc7e-736eb8208a55",
   "metadata": {},
   "outputs": [
    {
     "data": {
      "text/plain": [
       "'EDTNG'"
      ]
     },
     "execution_count": 25,
     "metadata": {},
     "output_type": "execute_result"
    }
   ],
   "source": [
    "Q.parent"
   ]
  },
  {
   "cell_type": "code",
   "execution_count": 26,
   "id": "d78a0ea3-10e1-49f5-a9fb-e5de7ef2afbc",
   "metadata": {},
   "outputs": [
    {
     "data": {
      "text/plain": [
       "{'0:1': {'CE': array([1., 0., 0., 0.]),\n",
       "  'CQ': array([0., 1., 0., 0.]),\n",
       "  'WE': array([0., 0., 1., 0.]),\n",
       "  'WQ': array([0., 0., 0., 1.]),\n",
       "  'ED': array([0., 0., 0., 0.]),\n",
       "  'CD': array([0., 0., 0., 0.]),\n",
       "  'EE': array([0., 0., 0., 0.]),\n",
       "  'EQ': array([0., 0., 0., 0.]),\n",
       "  'WD': array([0., 0., 0., 0.])},\n",
       " '0:2': {'CD': array([1., 0., 0., 0., 0., 0.]),\n",
       "  'CK': array([0., 1., 0., 0., 0., 0.]),\n",
       "  'CS': array([0., 0., 1., 0., 0., 0.]),\n",
       "  'WD': array([0., 0., 0., 1., 0., 0.]),\n",
       "  'WK': array([0., 0., 0., 0., 1., 0.]),\n",
       "  'WS': array([0., 0., 0., 0., 0., 1.]),\n",
       "  'ET': array([0., 0., 0., 0., 0., 0.]),\n",
       "  'CT': array([0., 0., 0., 0., 0., 0.]),\n",
       "  'ED': array([0., 0., 0., 0., 0., 0.]),\n",
       "  'EK': array([0., 0., 0., 0., 0., 0.]),\n",
       "  'ES': array([0., 0., 0., 0., 0., 0.]),\n",
       "  'WT': array([0., 0., 0., 0., 0., 0.])},\n",
       " '0:3': {'CC': array([1., 0., 0., 0., 0., 0.]),\n",
       "  'CF': array([0., 1., 0., 0., 0., 0.]),\n",
       "  'CM': array([0., 0., 1., 0., 0., 0.]),\n",
       "  'WC': array([0., 0., 0., 1., 0., 0.]),\n",
       "  'WF': array([0., 0., 0., 0., 1., 0.]),\n",
       "  'WM': array([0., 0., 0., 0., 0., 1.]),\n",
       "  'EN': array([0., 0., 0., 0., 0., 0.]),\n",
       "  'CN': array([0., 0., 0., 0., 0., 0.]),\n",
       "  'EC': array([0., 0., 0., 0., 0., 0.]),\n",
       "  'EF': array([0., 0., 0., 0., 0., 0.]),\n",
       "  'EM': array([0., 0., 0., 0., 0., 0.]),\n",
       "  'WN': array([0., 0., 0., 0., 0., 0.])},\n",
       " '0:4': {'CK': array([1., 0., 0., 0.]),\n",
       "  'CN': array([0., 1., 0., 0.]),\n",
       "  'WK': array([0., 0., 1., 0.]),\n",
       "  'WN': array([0., 0., 0., 1.]),\n",
       "  'EG': array([0., 0., 0., 0.]),\n",
       "  'CG': array([0., 0., 0., 0.]),\n",
       "  'EK': array([0., 0., 0., 0.]),\n",
       "  'EN': array([0., 0., 0., 0.]),\n",
       "  'WG': array([0., 0., 0., 0.])},\n",
       " '1:2': {'ED': array([1., 0., 0., 0., 0., 0.]),\n",
       "  'EK': array([0., 1., 0., 0., 0., 0.]),\n",
       "  'ES': array([0., 0., 1., 0., 0., 0.]),\n",
       "  'QD': array([0., 0., 0., 1., 0., 0.]),\n",
       "  'QK': array([0., 0., 0., 0., 1., 0.]),\n",
       "  'QS': array([0., 0., 0., 0., 0., 1.]),\n",
       "  'DT': array([0., 0., 0., 0., 0., 0.]),\n",
       "  'DD': array([0., 0., 0., 0., 0., 0.]),\n",
       "  'DK': array([0., 0., 0., 0., 0., 0.]),\n",
       "  'DS': array([0., 0., 0., 0., 0., 0.]),\n",
       "  'ET': array([0., 0., 0., 0., 0., 0.]),\n",
       "  'QT': array([0., 0., 0., 0., 0., 0.])},\n",
       " '1:3': {'EC': array([1., 0., 0., 0., 0., 0.]),\n",
       "  'EF': array([0., 1., 0., 0., 0., 0.]),\n",
       "  'EM': array([0., 0., 1., 0., 0., 0.]),\n",
       "  'QC': array([0., 0., 0., 1., 0., 0.]),\n",
       "  'QF': array([0., 0., 0., 0., 1., 0.]),\n",
       "  'QM': array([0., 0., 0., 0., 0., 1.]),\n",
       "  'DN': array([0., 0., 0., 0., 0., 0.]),\n",
       "  'DC': array([0., 0., 0., 0., 0., 0.]),\n",
       "  'DF': array([0., 0., 0., 0., 0., 0.]),\n",
       "  'DM': array([0., 0., 0., 0., 0., 0.]),\n",
       "  'EN': array([0., 0., 0., 0., 0., 0.]),\n",
       "  'QN': array([0., 0., 0., 0., 0., 0.])},\n",
       " '1:4': {'EK': array([1., 0., 0., 0.]),\n",
       "  'EN': array([0., 1., 0., 0.]),\n",
       "  'QK': array([0., 0., 1., 0.]),\n",
       "  'QN': array([0., 0., 0., 1.]),\n",
       "  'DG': array([0., 0., 0., 0.]),\n",
       "  'DK': array([0., 0., 0., 0.]),\n",
       "  'DN': array([0., 0., 0., 0.]),\n",
       "  'EG': array([0., 0., 0., 0.]),\n",
       "  'QG': array([0., 0., 0., 0.])},\n",
       " '2:3': {'DC': array([1., 0., 0., 0., 0., 0., 0., 0., 0.]),\n",
       "  'DF': array([0., 1., 0., 0., 0., 0., 0., 0., 0.]),\n",
       "  'DM': array([0., 0., 1., 0., 0., 0., 0., 0., 0.]),\n",
       "  'KC': array([0., 0., 0., 1., 0., 0., 0., 0., 0.]),\n",
       "  'KF': array([0., 0., 0., 0., 1., 0., 0., 0., 0.]),\n",
       "  'KM': array([0., 0., 0., 0., 0., 1., 0., 0., 0.]),\n",
       "  'SC': array([0., 0., 0., 0., 0., 0., 1., 0., 0.]),\n",
       "  'SF': array([0., 0., 0., 0., 0., 0., 0., 1., 0.]),\n",
       "  'SM': array([0., 0., 0., 0., 0., 0., 0., 0., 1.]),\n",
       "  'TN': array([0., 0., 0., 0., 0., 0., 0., 0., 0.]),\n",
       "  'DN': array([0., 0., 0., 0., 0., 0., 0., 0., 0.]),\n",
       "  'KN': array([0., 0., 0., 0., 0., 0., 0., 0., 0.]),\n",
       "  'SN': array([0., 0., 0., 0., 0., 0., 0., 0., 0.]),\n",
       "  'TC': array([0., 0., 0., 0., 0., 0., 0., 0., 0.]),\n",
       "  'TF': array([0., 0., 0., 0., 0., 0., 0., 0., 0.]),\n",
       "  'TM': array([0., 0., 0., 0., 0., 0., 0., 0., 0.])},\n",
       " '2:4': {'DK': array([1., 0., 0., 0., 0., 0.]),\n",
       "  'DN': array([0., 1., 0., 0., 0., 0.]),\n",
       "  'KK': array([0., 0., 1., 0., 0., 0.]),\n",
       "  'KN': array([0., 0., 0., 1., 0., 0.]),\n",
       "  'SK': array([0., 0., 0., 0., 1., 0.]),\n",
       "  'SN': array([0., 0., 0., 0., 0., 1.]),\n",
       "  'TG': array([0., 0., 0., 0., 0., 0.]),\n",
       "  'DG': array([0., 0., 0., 0., 0., 0.]),\n",
       "  'KG': array([0., 0., 0., 0., 0., 0.]),\n",
       "  'SG': array([0., 0., 0., 0., 0., 0.]),\n",
       "  'TK': array([0., 0., 0., 0., 0., 0.]),\n",
       "  'TN': array([0., 0., 0., 0., 0., 0.])},\n",
       " '3:4': {'CK': array([1., 0., 0., 0., 0., 0.]),\n",
       "  'CN': array([0., 1., 0., 0., 0., 0.]),\n",
       "  'FK': array([0., 0., 1., 0., 0., 0.]),\n",
       "  'FN': array([0., 0., 0., 1., 0., 0.]),\n",
       "  'MK': array([0., 0., 0., 0., 1., 0.]),\n",
       "  'MN': array([0., 0., 0., 0., 0., 1.]),\n",
       "  'NG': array([0., 0., 0., 0., 0., 0.]),\n",
       "  'CG': array([0., 0., 0., 0., 0., 0.]),\n",
       "  'FG': array([0., 0., 0., 0., 0., 0.]),\n",
       "  'MG': array([0., 0., 0., 0., 0., 0.]),\n",
       "  'NK': array([0., 0., 0., 0., 0., 0.]),\n",
       "  'NN': array([0., 0., 0., 0., 0., 0.])}}"
      ]
     },
     "execution_count": 26,
     "metadata": {},
     "output_type": "execute_result"
    }
   ],
   "source": [
    "Q.pairwise_code_mapper"
   ]
  },
  {
   "cell_type": "code",
   "execution_count": 27,
   "id": "3efaa90a-a1d2-4ecf-b9fd-b31b8ad6bd0d",
   "metadata": {},
   "outputs": [
    {
     "data": {
      "text/plain": [
       "{0: {'C': array([1., 0.]), 'W': array([0., 1.]), 'E': array([0., 0.])},\n",
       " 1: {'E': array([1., 0.]), 'Q': array([0., 1.]), 'D': array([0., 0.])},\n",
       " 2: {'D': array([1., 0., 0.]),\n",
       "  'K': array([0., 1., 0.]),\n",
       "  'S': array([0., 0., 1.]),\n",
       "  'T': array([0., 0., 0.])},\n",
       " 3: {'C': array([1., 0., 0.]),\n",
       "  'F': array([0., 1., 0.]),\n",
       "  'M': array([0., 0., 1.]),\n",
       "  'N': array([0., 0., 0.])},\n",
       " 4: {'K': array([1., 0.]), 'N': array([0., 1.]), 'G': array([0., 0.])}}"
      ]
     },
     "execution_count": 27,
     "metadata": {},
     "output_type": "execute_result"
    }
   ],
   "source": [
    "Q.independent_code_mapper"
   ]
  },
  {
   "cell_type": "code",
   "execution_count": 28,
   "id": "f75a4f5e-8c15-4795-8417-ed5be5dbe16e",
   "metadata": {},
   "outputs": [
    {
     "data": {
      "text/plain": [
       "(69, 0)"
      ]
     },
     "execution_count": 28,
     "metadata": {},
     "output_type": "execute_result"
    }
   ],
   "source": [
    "np.shape(ns)"
   ]
  },
  {
   "cell_type": "code",
   "execution_count": 29,
   "id": "bcb5b16b-46ca-41a9-8c59-5b9b9d597d80",
   "metadata": {},
   "outputs": [
    {
     "data": {
      "text/plain": [
       "['0-C',\n",
       " '0-W',\n",
       " '0-E',\n",
       " '1-E',\n",
       " '1-Q',\n",
       " '1-D',\n",
       " '2-D',\n",
       " '2-K',\n",
       " '2-S',\n",
       " '2-T',\n",
       " '3-C',\n",
       " '3-F',\n",
       " '3-M',\n",
       " '3-N',\n",
       " '4-K',\n",
       " '4-N',\n",
       " '4-G']"
      ]
     },
     "execution_count": 29,
     "metadata": {},
     "output_type": "execute_result"
    }
   ],
   "source": [
    "Q.feature_names_independent"
   ]
  },
  {
   "cell_type": "code",
   "execution_count": 30,
   "id": "67a4c4a0-f67b-4d8c-b18e-ebff8175739c",
   "metadata": {},
   "outputs": [
    {
     "data": {
      "text/plain": [
       "(12, 57)"
      ]
     },
     "execution_count": 30,
     "metadata": {},
     "output_type": "execute_result"
    }
   ],
   "source": [
    "np.shape(model.pairwise_constraints)"
   ]
  },
  {
   "cell_type": "code",
   "execution_count": 31,
   "id": "ee1837ce-9929-4d9f-a6a2-d737e24fdefb",
   "metadata": {},
   "outputs": [
    {
     "data": {
      "text/plain": [
       "['0:1-CE',\n",
       " '0:1-CQ',\n",
       " '0:1-WE',\n",
       " '0:1-WQ',\n",
       " '0:1-ED',\n",
       " '0:1-CD',\n",
       " '0:1-EE',\n",
       " '0:1-EQ',\n",
       " '0:1-WD',\n",
       " '0:2-CD',\n",
       " '0:2-CK',\n",
       " '0:2-CS',\n",
       " '0:2-WD',\n",
       " '0:2-WK',\n",
       " '0:2-WS',\n",
       " '0:2-ET',\n",
       " '0:2-CT',\n",
       " '0:2-ED',\n",
       " '0:2-EK',\n",
       " '0:2-ES',\n",
       " '0:2-WT',\n",
       " '0:3-CC',\n",
       " '0:3-CF',\n",
       " '0:3-CM',\n",
       " '0:3-WC',\n",
       " '0:3-WF',\n",
       " '0:3-WM',\n",
       " '0:3-EN',\n",
       " '0:3-CN',\n",
       " '0:3-EC',\n",
       " '0:3-EF',\n",
       " '0:3-EM',\n",
       " '0:3-WN',\n",
       " '0:4-CK',\n",
       " '0:4-CN',\n",
       " '0:4-WK',\n",
       " '0:4-WN',\n",
       " '0:4-EG',\n",
       " '0:4-CG',\n",
       " '0:4-EK',\n",
       " '0:4-EN',\n",
       " '0:4-WG',\n",
       " '1:2-ED',\n",
       " '1:2-EK',\n",
       " '1:2-ES',\n",
       " '1:2-QD',\n",
       " '1:2-QK',\n",
       " '1:2-QS',\n",
       " '1:2-DT',\n",
       " '1:2-DD',\n",
       " '1:2-DK',\n",
       " '1:2-DS',\n",
       " '1:2-ET',\n",
       " '1:2-QT',\n",
       " '1:3-EC',\n",
       " '1:3-EF',\n",
       " '1:3-EM',\n",
       " '1:3-QC',\n",
       " '1:3-QF',\n",
       " '1:3-QM',\n",
       " '1:3-DN',\n",
       " '1:3-DC',\n",
       " '1:3-DF',\n",
       " '1:3-DM',\n",
       " '1:3-EN',\n",
       " '1:3-QN',\n",
       " '1:4-EK',\n",
       " '1:4-EN',\n",
       " '1:4-QK',\n",
       " '1:4-QN',\n",
       " '1:4-DG',\n",
       " '1:4-DK',\n",
       " '1:4-DN',\n",
       " '1:4-EG',\n",
       " '1:4-QG',\n",
       " '2:3-DC',\n",
       " '2:3-DF',\n",
       " '2:3-DM',\n",
       " '2:3-KC',\n",
       " '2:3-KF',\n",
       " '2:3-KM',\n",
       " '2:3-SC',\n",
       " '2:3-SF',\n",
       " '2:3-SM',\n",
       " '2:3-TN',\n",
       " '2:3-DN',\n",
       " '2:3-KN',\n",
       " '2:3-SN',\n",
       " '2:3-TC',\n",
       " '2:3-TF',\n",
       " '2:3-TM',\n",
       " '2:4-DK',\n",
       " '2:4-DN',\n",
       " '2:4-KK',\n",
       " '2:4-KN',\n",
       " '2:4-SK',\n",
       " '2:4-SN',\n",
       " '2:4-TG',\n",
       " '2:4-DG',\n",
       " '2:4-KG',\n",
       " '2:4-SG',\n",
       " '2:4-TK',\n",
       " '2:4-TN',\n",
       " '3:4-CK',\n",
       " '3:4-CN',\n",
       " '3:4-FK',\n",
       " '3:4-FN',\n",
       " '3:4-MK',\n",
       " '3:4-MN',\n",
       " '3:4-NG',\n",
       " '3:4-CG',\n",
       " '3:4-FG',\n",
       " '3:4-MG',\n",
       " '3:4-NK',\n",
       " '3:4-NN']"
      ]
     },
     "execution_count": 31,
     "metadata": {},
     "output_type": "execute_result"
    }
   ],
   "source": [
    "Q.feature_names_pairwise"
   ]
  },
  {
   "cell_type": "code",
   "execution_count": 32,
   "id": "67cd668a-d0c9-4069-97f6-bcfcbd0b77fd",
   "metadata": {},
   "outputs": [
    {
     "data": {
      "text/plain": [
       "array(['0:1-C:E', '0:1-C:Q', '0:1-W:E', '0:1-W:Q', '0:2-C:D', '0:2-C:K',\n",
       "       '0:2-C:S', '0:2-W:D', '0:2-W:K', '0:2-W:S', '0:3-C:C', '0:3-C:F',\n",
       "       '0:3-C:M', '0:3-W:C', '0:3-W:F', '0:3-W:M', '0:4-C:K', '0:4-C:N',\n",
       "       '0:4-W:K', '0:4-W:N', '1:2-E:D', '1:2-E:K', '1:2-E:S', '1:2-Q:D',\n",
       "       '1:2-Q:K', '1:2-Q:S', '1:3-E:C', '1:3-E:F', '1:3-E:M', '1:3-Q:C',\n",
       "       '1:3-Q:F', '1:3-Q:M', '1:4-E:K', '1:4-E:N', '1:4-Q:K', '1:4-Q:N',\n",
       "       '2:3-D:C', '2:3-D:F', '2:3-D:M', '2:3-K:C', '2:3-K:F', '2:3-K:M',\n",
       "       '2:3-S:C', '2:3-S:F', '2:3-S:M', '2:4-D:K', '2:4-D:N', '2:4-K:K',\n",
       "       '2:4-K:N', '2:4-S:K', '2:4-S:N', '3:4-C:K', '3:4-C:N', '3:4-F:K',\n",
       "       '3:4-F:N', '3:4-M:K', '3:4-M:N'], dtype='<U7')"
      ]
     },
     "execution_count": 32,
     "metadata": {},
     "output_type": "execute_result"
    }
   ],
   "source": [
    "Q.flattened_pair_position_weights_name"
   ]
  },
  {
   "cell_type": "code",
   "execution_count": 33,
   "id": "3e796b90-bb53-4f02-bd4c-a6aea5b58011",
   "metadata": {},
   "outputs": [
    {
     "data": {
      "text/plain": [
       "<matplotlib.image.AxesImage at 0x10e180050>"
      ]
     },
     "execution_count": 33,
     "metadata": {},
     "output_type": "execute_result"
    },
    {
     "data": {
      "image/png": "[encoded data removed]",
      "text/plain": [
       "<Figure size 640x480 with 1 Axes>"
      ]
     },
     "metadata": {},
     "output_type": "display_data"
    }
   ],
   "source": [
    "plt.imshow(fit_model.encoder.pairwise_constraints)"
   ]
  },
  {
   "cell_type": "code",
   "execution_count": null,
   "id": "f468eac7-6b7e-48ea-bce7-30ebfae44032",
   "metadata": {},
   "outputs": [],
   "source": []
  }
 ],
 "metadata": {
  "kernelspec": {
   "display_name": "Python 3 (ipykernel)",
   "language": "python",
   "name": "python3"
  },
  "language_info": {
   "codemirror_mode": {
    "name": "ipython",
    "version": 3
   },
   "file_extension": ".py",
   "mimetype": "text/x-python",
   "name": "python",
   "nbconvert_exporter": "python",
   "pygments_lexer": "ipython3",
   "version": "3.13.5"
  }
 },
 "nbformat": 4,
 "nbformat_minor": 5
}
