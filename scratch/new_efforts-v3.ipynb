{
 "cells": [
  {
   "cell_type": "markdown",
   "id": "a2b73a3a-962d-4198-a0f4-75f7a097c95e",
   "metadata": {},
   "source": [
    "# Trying vector codings "
   ]
  },
  {
   "cell_type": "code",
   "execution_count": 1,
   "id": "68b6513f-dd6e-427e-8fd7-aa9760cd96c3",
   "metadata": {},
   "outputs": [],
   "source": [
    "import numpy as np\n",
    "import pandas as pd\n",
    "import matplotlib\n",
    "import matplotlib.pyplot as plt\n",
    "from Bio.Data import IUPACData\n",
    "from collections import defaultdict\n",
    "from itertools import product, combinations\n",
    "from scipy.spatial.distance import hamming\n",
    "import scipy.stats as ss\n",
    "import cvxpy as cp\n",
    "import sys\n",
    "import scipy.linalg as sl\n",
    "\n",
    "sys.path.append(\"../\") \n",
    "import doe_utils\n",
    "\n",
    "# TEST MAKE AMINO ACID WORLD SMALL \n",
    "\n",
    "AMINO_ACIDS = doe_utils.AMINO_ACIDS"
   ]
  },
  {
   "cell_type": "code",
   "execution_count": 2,
   "id": "92589121-ac8d-4428-9819-a8b852a8070b",
   "metadata": {},
   "outputs": [
    {
     "name": "stdout",
     "output_type": "stream",
     "text": [
      "Parent protein: CFMVFNEPCNWNILDANPCTDDEYDEWAEYHQLVQNVFQWYWDANWWEGKMEKYQDLMFWAKSARYTPMDHARQIKCDNVAEYMCAMLQKCVMPAKGCPK\n",
      "Random mutaed positions [30 47 80 94 95]\n"
     ]
    },
    {
     "data": {
      "text/html": [
       "<div>\n",
       "<style scoped>\n",
       "    .dataframe tbody tr th:only-of-type {\n",
       "        vertical-align: middle;\n",
       "    }\n",
       "\n",
       "    .dataframe tbody tr th {\n",
       "        vertical-align: top;\n",
       "    }\n",
       "\n",
       "    .dataframe thead th {\n",
       "        text-align: right;\n",
       "    }\n",
       "</style>\n",
       "<table border=\"1\" class=\"dataframe\">\n",
       "  <thead>\n",
       "    <tr style=\"text-align: right;\">\n",
       "      <th></th>\n",
       "      <th>0</th>\n",
       "      <th>1</th>\n",
       "      <th>2</th>\n",
       "      <th>3</th>\n",
       "      <th>4</th>\n",
       "      <th>5</th>\n",
       "      <th>6</th>\n",
       "      <th>7</th>\n",
       "      <th>8</th>\n",
       "      <th>9</th>\n",
       "      <th>...</th>\n",
       "      <th>90</th>\n",
       "      <th>91</th>\n",
       "      <th>92</th>\n",
       "      <th>93</th>\n",
       "      <th>94</th>\n",
       "      <th>95</th>\n",
       "      <th>96</th>\n",
       "      <th>97</th>\n",
       "      <th>98</th>\n",
       "      <th>99</th>\n",
       "    </tr>\n",
       "  </thead>\n",
       "  <tbody>\n",
       "    <tr>\n",
       "      <th>A</th>\n",
       "      <td>0.0</td>\n",
       "      <td>0.0</td>\n",
       "      <td>0.0</td>\n",
       "      <td>0.0</td>\n",
       "      <td>0.0</td>\n",
       "      <td>0.0</td>\n",
       "      <td>0.0</td>\n",
       "      <td>0.0</td>\n",
       "      <td>0.0</td>\n",
       "      <td>0.0</td>\n",
       "      <td>...</td>\n",
       "      <td>0.0</td>\n",
       "      <td>0.0</td>\n",
       "      <td>0.0</td>\n",
       "      <td>0.0</td>\n",
       "      <td>0.4</td>\n",
       "      <td>0.0</td>\n",
       "      <td>0.0</td>\n",
       "      <td>0.0</td>\n",
       "      <td>0.0</td>\n",
       "      <td>0.0</td>\n",
       "    </tr>\n",
       "    <tr>\n",
       "      <th>C</th>\n",
       "      <td>0.0</td>\n",
       "      <td>0.0</td>\n",
       "      <td>0.0</td>\n",
       "      <td>0.0</td>\n",
       "      <td>0.0</td>\n",
       "      <td>0.0</td>\n",
       "      <td>0.0</td>\n",
       "      <td>0.0</td>\n",
       "      <td>0.0</td>\n",
       "      <td>0.0</td>\n",
       "      <td>...</td>\n",
       "      <td>0.0</td>\n",
       "      <td>0.0</td>\n",
       "      <td>0.0</td>\n",
       "      <td>0.0</td>\n",
       "      <td>0.0</td>\n",
       "      <td>0.2</td>\n",
       "      <td>0.0</td>\n",
       "      <td>0.0</td>\n",
       "      <td>0.0</td>\n",
       "      <td>0.0</td>\n",
       "    </tr>\n",
       "    <tr>\n",
       "      <th>D</th>\n",
       "      <td>0.0</td>\n",
       "      <td>0.0</td>\n",
       "      <td>0.0</td>\n",
       "      <td>0.0</td>\n",
       "      <td>0.0</td>\n",
       "      <td>0.0</td>\n",
       "      <td>0.0</td>\n",
       "      <td>0.0</td>\n",
       "      <td>0.0</td>\n",
       "      <td>0.0</td>\n",
       "      <td>...</td>\n",
       "      <td>0.0</td>\n",
       "      <td>0.0</td>\n",
       "      <td>0.0</td>\n",
       "      <td>0.0</td>\n",
       "      <td>0.0</td>\n",
       "      <td>0.2</td>\n",
       "      <td>0.0</td>\n",
       "      <td>0.0</td>\n",
       "      <td>0.0</td>\n",
       "      <td>0.0</td>\n",
       "    </tr>\n",
       "    <tr>\n",
       "      <th>E</th>\n",
       "      <td>0.0</td>\n",
       "      <td>0.0</td>\n",
       "      <td>0.0</td>\n",
       "      <td>0.0</td>\n",
       "      <td>0.0</td>\n",
       "      <td>0.0</td>\n",
       "      <td>0.0</td>\n",
       "      <td>0.0</td>\n",
       "      <td>0.0</td>\n",
       "      <td>0.0</td>\n",
       "      <td>...</td>\n",
       "      <td>0.0</td>\n",
       "      <td>0.0</td>\n",
       "      <td>0.0</td>\n",
       "      <td>0.0</td>\n",
       "      <td>0.2</td>\n",
       "      <td>0.0</td>\n",
       "      <td>0.0</td>\n",
       "      <td>0.0</td>\n",
       "      <td>0.0</td>\n",
       "      <td>0.0</td>\n",
       "    </tr>\n",
       "    <tr>\n",
       "      <th>F</th>\n",
       "      <td>0.0</td>\n",
       "      <td>0.0</td>\n",
       "      <td>0.0</td>\n",
       "      <td>0.0</td>\n",
       "      <td>0.0</td>\n",
       "      <td>0.0</td>\n",
       "      <td>0.0</td>\n",
       "      <td>0.0</td>\n",
       "      <td>0.0</td>\n",
       "      <td>0.0</td>\n",
       "      <td>...</td>\n",
       "      <td>0.0</td>\n",
       "      <td>0.0</td>\n",
       "      <td>0.0</td>\n",
       "      <td>0.0</td>\n",
       "      <td>0.2</td>\n",
       "      <td>0.0</td>\n",
       "      <td>0.0</td>\n",
       "      <td>0.0</td>\n",
       "      <td>0.0</td>\n",
       "      <td>0.0</td>\n",
       "    </tr>\n",
       "  </tbody>\n",
       "</table>\n",
       "<p>5 rows × 100 columns</p>\n",
       "</div>"
      ],
      "text/plain": [
       "    0    1    2    3    4    5    6    7    8    9   ...   90   91   92   93  \\\n",
       "A  0.0  0.0  0.0  0.0  0.0  0.0  0.0  0.0  0.0  0.0  ...  0.0  0.0  0.0  0.0   \n",
       "C  0.0  0.0  0.0  0.0  0.0  0.0  0.0  0.0  0.0  0.0  ...  0.0  0.0  0.0  0.0   \n",
       "D  0.0  0.0  0.0  0.0  0.0  0.0  0.0  0.0  0.0  0.0  ...  0.0  0.0  0.0  0.0   \n",
       "E  0.0  0.0  0.0  0.0  0.0  0.0  0.0  0.0  0.0  0.0  ...  0.0  0.0  0.0  0.0   \n",
       "F  0.0  0.0  0.0  0.0  0.0  0.0  0.0  0.0  0.0  0.0  ...  0.0  0.0  0.0  0.0   \n",
       "\n",
       "    94   95   96   97   98   99  \n",
       "A  0.4  0.0  0.0  0.0  0.0  0.0  \n",
       "C  0.0  0.2  0.0  0.0  0.0  0.0  \n",
       "D  0.0  0.2  0.0  0.0  0.0  0.0  \n",
       "E  0.2  0.0  0.0  0.0  0.0  0.0  \n",
       "F  0.2  0.0  0.0  0.0  0.0  0.0  \n",
       "\n",
       "[5 rows x 100 columns]"
      ]
     },
     "execution_count": 2,
     "metadata": {},
     "output_type": "execute_result"
    }
   ],
   "source": [
    "length_of_protein = 100\n",
    "num_mutated = 5\n",
    "sold_mat_df, parent, mut_dict = doe_utils.create_synthetic_SOLD_matrix(num_mutated, length_of_protein, \\\n",
    "                                mut_probs = [[0.45, 0.45], [0.45], [0.20, 0.20, 0.20], [0.20, 0.20, 0.20], [0.20, 0.20, 0.20]], parent_prob=[0.10, 0.55, 0.40, 0.40, 0.40])                                    \n",
    "                                #mut_probs = [[0.45, 0.45], [0.45, 0.45], [0.25, 0.3, 0.35], [0.25, 0.25, 0.4], [0.45, 0.45]], parent_prob=0.1) #6 postions mutated, pprtein length is 100 \n",
    "sold_mat_df.head() "
   ]
  },
  {
   "cell_type": "code",
   "execution_count": 3,
   "id": "ba0849ba-2a72-4511-ac2a-9d505acc4dc7",
   "metadata": {},
   "outputs": [
    {
     "data": {
      "image/png": "[encoded data removed]",
      "text/plain": [
       "<Figure size 1800x500 with 1 Axes>"
      ]
     },
     "metadata": {},
     "output_type": "display_data"
    }
   ],
   "source": [
    "plt.figure(figsize = (18,5))\n",
    "plt.imshow(sold_mat_df, aspect = 'auto', cmap = 'grey_r') \n",
    "_  = plt.xticks(range(length_of_protein), rotation = 90)\n",
    "_  = plt.yticks(range(len(AMINO_ACIDS)), AMINO_ACIDS)\n"
   ]
  },
  {
   "cell_type": "code",
   "execution_count": 4,
   "id": "fad4371c-5e8f-464e-94bc-e7d230e08259",
   "metadata": {},
   "outputs": [
    {
     "name": "stdout",
     "output_type": "stream",
     "text": [
      "300\n"
     ]
    }
   ],
   "source": [
    "S = doe_utils.SOLD(sold_mat_df)\n",
    "seqs, mutations = S.generate_sequences(1000)\n",
    "seqs = np.unique(seqs)\n",
    "print(len(seqs))\n",
    "probs = S.compute_prob_n_mutations(num_mutated+1)"
   ]
  },
  {
   "cell_type": "code",
   "execution_count": 5,
   "id": "310f5902-348c-4517-a1f5-32ae448ea7eb",
   "metadata": {},
   "outputs": [
    {
     "data": {
      "text/plain": [
       "defaultdict(None,\n",
       "            {0: {'F': 0.45, 'H': 0.1, 'V': 0.45},\n",
       "             1: {'E': 0.55, 'Q': 0.45},\n",
       "             2: {'A': 0.4, 'H': 0.2, 'P': 0.2, 'Q': 0.2},\n",
       "             3: {'A': 0.4, 'E': 0.2, 'F': 0.2, 'G': 0.2},\n",
       "             4: {'C': 0.2, 'D': 0.2, 'K': 0.4, 'V': 0.2}})"
      ]
     },
     "execution_count": 5,
     "metadata": {},
     "output_type": "execute_result"
    }
   ],
   "source": [
    "S.mutation_probs_variable_region_indexed"
   ]
  },
  {
   "cell_type": "markdown",
   "id": "15315827-96e7-437e-b5bc-94fc8fe6ad77",
   "metadata": {},
   "source": [
    "# Now you have variable length mat to create encoder "
   ]
  },
  {
   "cell_type": "code",
   "execution_count": 6,
   "id": "b3eeab29-1db4-4285-b9a9-b750ead90a01",
   "metadata": {},
   "outputs": [
    {
     "data": {
      "text/plain": [
       "[array([0., 0.]),\n",
       " array([0.]),\n",
       " array([0., 0., 0.]),\n",
       " array([0., 0., 0.]),\n",
       " array([0., 0., 0.])]"
      ]
     },
     "execution_count": 6,
     "metadata": {},
     "output_type": "execute_result"
    }
   ],
   "source": [
    "Q = doe_utils.Encoding_basics(S.mutation_probs_variable_region_indexed)\n",
    "\n",
    "Q.encode_parent_independent"
   ]
  },
  {
   "cell_type": "code",
   "execution_count": 7,
   "id": "58355678-e2e2-41f1-9ea7-cfb923673501",
   "metadata": {},
   "outputs": [
    {
     "data": {
      "text/plain": [
       "[array([0., 0., 0., 0., 0.]),\n",
       " array([0., 0., 0., 0., 0., 0., 0., 0., 0., 0., 0.]),\n",
       " array([0., 0., 0., 0., 0., 0., 0., 0., 0., 0., 0.]),\n",
       " array([0., 0., 0., 0., 0., 0., 0., 0., 0., 0., 0.]),\n",
       " array([0., 0., 0., 0., 0., 0., 0.]),\n",
       " array([0., 0., 0., 0., 0., 0., 0.]),\n",
       " array([0., 0., 0., 0., 0., 0., 0.]),\n",
       " array([0., 0., 0., 0., 0., 0., 0., 0., 0., 0., 0., 0., 0., 0., 0.]),\n",
       " array([0., 0., 0., 0., 0., 0., 0., 0., 0., 0., 0., 0., 0., 0., 0.]),\n",
       " array([0., 0., 0., 0., 0., 0., 0., 0., 0., 0., 0., 0., 0., 0., 0.])]"
      ]
     },
     "execution_count": 7,
     "metadata": {},
     "output_type": "execute_result"
    }
   ],
   "source": [
    "Q.encode_parent_pairwise"
   ]
  },
  {
   "cell_type": "code",
   "execution_count": 8,
   "id": "99ab70f2-12a1-476e-bb99-dec654a88e38",
   "metadata": {},
   "outputs": [
    {
     "data": {
      "text/plain": [
       "{0: {'H': array([1., 0.]), 'V': array([0., 1.]), 'F': array([0., 0.])},\n",
       " 1: {'Q': array([1.]), 'E': array([0.])},\n",
       " 2: {'H': array([1., 0., 0.]),\n",
       "  'P': array([0., 1., 0.]),\n",
       "  'Q': array([0., 0., 1.]),\n",
       "  'A': array([0., 0., 0.])},\n",
       " 3: {'E': array([1., 0., 0.]),\n",
       "  'F': array([0., 1., 0.]),\n",
       "  'G': array([0., 0., 1.]),\n",
       "  'A': array([0., 0., 0.])},\n",
       " 4: {'C': array([1., 0., 0.]),\n",
       "  'D': array([0., 1., 0.]),\n",
       "  'V': array([0., 0., 1.]),\n",
       "  'K': array([0., 0., 0.])}}"
      ]
     },
     "execution_count": 8,
     "metadata": {},
     "output_type": "execute_result"
    }
   ],
   "source": [
    "Q.independent_code_mapper"
   ]
  },
  {
   "cell_type": "code",
   "execution_count": 9,
   "id": "569efa24-0bbd-4f4f-84f5-b91e35cbec54",
   "metadata": {},
   "outputs": [
    {
     "data": {
      "text/plain": [
       "[array([0., 0.]),\n",
       " array([0.]),\n",
       " array([0., 0., 0.]),\n",
       " array([0., 0., 0.]),\n",
       " array([0., 0., 0.])]"
      ]
     },
     "execution_count": 9,
     "metadata": {},
     "output_type": "execute_result"
    }
   ],
   "source": [
    "Q.encode_parent_independent"
   ]
  },
  {
   "cell_type": "code",
   "execution_count": 10,
   "id": "cfc6a385-d9ea-4529-a4f5-265702da3358",
   "metadata": {},
   "outputs": [
    {
     "data": {
      "text/plain": [
       "[array([0., 0., 0., 0., 0.]),\n",
       " array([0., 0., 0., 0., 0., 0., 0., 0., 0., 0., 0.]),\n",
       " array([0., 0., 0., 0., 0., 0., 0., 0., 0., 0., 0.]),\n",
       " array([0., 0., 0., 0., 0., 0., 0., 0., 0., 0., 0.]),\n",
       " array([0., 0., 0., 0., 0., 0., 0.]),\n",
       " array([0., 0., 0., 0., 0., 0., 0.]),\n",
       " array([0., 0., 0., 0., 0., 0., 0.]),\n",
       " array([0., 0., 0., 0., 0., 0., 0., 0., 0., 0., 0., 0., 0., 0., 0.]),\n",
       " array([0., 0., 0., 0., 0., 0., 0., 0., 0., 0., 0., 0., 0., 0., 0.]),\n",
       " array([0., 0., 0., 0., 0., 0., 0., 0., 0., 0., 0., 0., 0., 0., 0.])]"
      ]
     },
     "execution_count": 10,
     "metadata": {},
     "output_type": "execute_result"
    }
   ],
   "source": [
    "Q.encode_parent_pairwise"
   ]
  },
  {
   "cell_type": "code",
   "execution_count": 11,
   "id": "7619e673-6df4-4921-b30e-6496b4f9180f",
   "metadata": {},
   "outputs": [
    {
     "data": {
      "text/plain": [
       "{'0:1': {'FQ': array([1., 0., 0., 0., 0.]),\n",
       "  'HE': array([0., 1., 0., 0., 0.]),\n",
       "  'HQ': array([0., 0., 1., 0., 0.]),\n",
       "  'VE': array([0., 0., 0., 1., 0.]),\n",
       "  'VQ': array([0., 0., 0., 0., 1.]),\n",
       "  'FE': array([0., 0., 0., 0., 0.])},\n",
       " '0:2': {'FH': array([1., 0., 0., 0., 0., 0., 0., 0., 0., 0., 0.]),\n",
       "  'FP': array([0., 1., 0., 0., 0., 0., 0., 0., 0., 0., 0.]),\n",
       "  'FQ': array([0., 0., 1., 0., 0., 0., 0., 0., 0., 0., 0.]),\n",
       "  'HA': array([0., 0., 0., 1., 0., 0., 0., 0., 0., 0., 0.]),\n",
       "  'HH': array([0., 0., 0., 0., 1., 0., 0., 0., 0., 0., 0.]),\n",
       "  'HP': array([0., 0., 0., 0., 0., 1., 0., 0., 0., 0., 0.]),\n",
       "  'HQ': array([0., 0., 0., 0., 0., 0., 1., 0., 0., 0., 0.]),\n",
       "  'VA': array([0., 0., 0., 0., 0., 0., 0., 1., 0., 0., 0.]),\n",
       "  'VH': array([0., 0., 0., 0., 0., 0., 0., 0., 1., 0., 0.]),\n",
       "  'VP': array([0., 0., 0., 0., 0., 0., 0., 0., 0., 1., 0.]),\n",
       "  'VQ': array([0., 0., 0., 0., 0., 0., 0., 0., 0., 0., 1.]),\n",
       "  'FA': array([0., 0., 0., 0., 0., 0., 0., 0., 0., 0., 0.])},\n",
       " '0:3': {'FE': array([1., 0., 0., 0., 0., 0., 0., 0., 0., 0., 0.]),\n",
       "  'FF': array([0., 1., 0., 0., 0., 0., 0., 0., 0., 0., 0.]),\n",
       "  'FG': array([0., 0., 1., 0., 0., 0., 0., 0., 0., 0., 0.]),\n",
       "  'HA': array([0., 0., 0., 1., 0., 0., 0., 0., 0., 0., 0.]),\n",
       "  'HE': array([0., 0., 0., 0., 1., 0., 0., 0., 0., 0., 0.]),\n",
       "  'HF': array([0., 0., 0., 0., 0., 1., 0., 0., 0., 0., 0.]),\n",
       "  'HG': array([0., 0., 0., 0., 0., 0., 1., 0., 0., 0., 0.]),\n",
       "  'VA': array([0., 0., 0., 0., 0., 0., 0., 1., 0., 0., 0.]),\n",
       "  'VE': array([0., 0., 0., 0., 0., 0., 0., 0., 1., 0., 0.]),\n",
       "  'VF': array([0., 0., 0., 0., 0., 0., 0., 0., 0., 1., 0.]),\n",
       "  'VG': array([0., 0., 0., 0., 0., 0., 0., 0., 0., 0., 1.]),\n",
       "  'FA': array([0., 0., 0., 0., 0., 0., 0., 0., 0., 0., 0.])},\n",
       " '0:4': {'FC': array([1., 0., 0., 0., 0., 0., 0., 0., 0., 0., 0.]),\n",
       "  'FD': array([0., 1., 0., 0., 0., 0., 0., 0., 0., 0., 0.]),\n",
       "  'FV': array([0., 0., 1., 0., 0., 0., 0., 0., 0., 0., 0.]),\n",
       "  'HC': array([0., 0., 0., 1., 0., 0., 0., 0., 0., 0., 0.]),\n",
       "  'HD': array([0., 0., 0., 0., 1., 0., 0., 0., 0., 0., 0.]),\n",
       "  'HK': array([0., 0., 0., 0., 0., 1., 0., 0., 0., 0., 0.]),\n",
       "  'HV': array([0., 0., 0., 0., 0., 0., 1., 0., 0., 0., 0.]),\n",
       "  'VC': array([0., 0., 0., 0., 0., 0., 0., 1., 0., 0., 0.]),\n",
       "  'VD': array([0., 0., 0., 0., 0., 0., 0., 0., 1., 0., 0.]),\n",
       "  'VK': array([0., 0., 0., 0., 0., 0., 0., 0., 0., 1., 0.]),\n",
       "  'VV': array([0., 0., 0., 0., 0., 0., 0., 0., 0., 0., 1.]),\n",
       "  'FK': array([0., 0., 0., 0., 0., 0., 0., 0., 0., 0., 0.])},\n",
       " '1:2': {'EH': array([1., 0., 0., 0., 0., 0., 0.]),\n",
       "  'EP': array([0., 1., 0., 0., 0., 0., 0.]),\n",
       "  'EQ': array([0., 0., 1., 0., 0., 0., 0.]),\n",
       "  'QA': array([0., 0., 0., 1., 0., 0., 0.]),\n",
       "  'QH': array([0., 0., 0., 0., 1., 0., 0.]),\n",
       "  'QP': array([0., 0., 0., 0., 0., 1., 0.]),\n",
       "  'QQ': array([0., 0., 0., 0., 0., 0., 1.]),\n",
       "  'EA': array([0., 0., 0., 0., 0., 0., 0.])},\n",
       " '1:3': {'EE': array([1., 0., 0., 0., 0., 0., 0.]),\n",
       "  'EF': array([0., 1., 0., 0., 0., 0., 0.]),\n",
       "  'EG': array([0., 0., 1., 0., 0., 0., 0.]),\n",
       "  'QA': array([0., 0., 0., 1., 0., 0., 0.]),\n",
       "  'QE': array([0., 0., 0., 0., 1., 0., 0.]),\n",
       "  'QF': array([0., 0., 0., 0., 0., 1., 0.]),\n",
       "  'QG': array([0., 0., 0., 0., 0., 0., 1.]),\n",
       "  'EA': array([0., 0., 0., 0., 0., 0., 0.])},\n",
       " '1:4': {'EC': array([1., 0., 0., 0., 0., 0., 0.]),\n",
       "  'ED': array([0., 1., 0., 0., 0., 0., 0.]),\n",
       "  'EV': array([0., 0., 1., 0., 0., 0., 0.]),\n",
       "  'QC': array([0., 0., 0., 1., 0., 0., 0.]),\n",
       "  'QD': array([0., 0., 0., 0., 1., 0., 0.]),\n",
       "  'QK': array([0., 0., 0., 0., 0., 1., 0.]),\n",
       "  'QV': array([0., 0., 0., 0., 0., 0., 1.]),\n",
       "  'EK': array([0., 0., 0., 0., 0., 0., 0.])},\n",
       " '2:3': {'AE': array([1., 0., 0., 0., 0., 0., 0., 0., 0., 0., 0., 0., 0., 0., 0.]),\n",
       "  'AF': array([0., 1., 0., 0., 0., 0., 0., 0., 0., 0., 0., 0., 0., 0., 0.]),\n",
       "  'AG': array([0., 0., 1., 0., 0., 0., 0., 0., 0., 0., 0., 0., 0., 0., 0.]),\n",
       "  'HA': array([0., 0., 0., 1., 0., 0., 0., 0., 0., 0., 0., 0., 0., 0., 0.]),\n",
       "  'HE': array([0., 0., 0., 0., 1., 0., 0., 0., 0., 0., 0., 0., 0., 0., 0.]),\n",
       "  'HF': array([0., 0., 0., 0., 0., 1., 0., 0., 0., 0., 0., 0., 0., 0., 0.]),\n",
       "  'HG': array([0., 0., 0., 0., 0., 0., 1., 0., 0., 0., 0., 0., 0., 0., 0.]),\n",
       "  'PA': array([0., 0., 0., 0., 0., 0., 0., 1., 0., 0., 0., 0., 0., 0., 0.]),\n",
       "  'PE': array([0., 0., 0., 0., 0., 0., 0., 0., 1., 0., 0., 0., 0., 0., 0.]),\n",
       "  'PF': array([0., 0., 0., 0., 0., 0., 0., 0., 0., 1., 0., 0., 0., 0., 0.]),\n",
       "  'PG': array([0., 0., 0., 0., 0., 0., 0., 0., 0., 0., 1., 0., 0., 0., 0.]),\n",
       "  'QA': array([0., 0., 0., 0., 0., 0., 0., 0., 0., 0., 0., 1., 0., 0., 0.]),\n",
       "  'QE': array([0., 0., 0., 0., 0., 0., 0., 0., 0., 0., 0., 0., 1., 0., 0.]),\n",
       "  'QF': array([0., 0., 0., 0., 0., 0., 0., 0., 0., 0., 0., 0., 0., 1., 0.]),\n",
       "  'QG': array([0., 0., 0., 0., 0., 0., 0., 0., 0., 0., 0., 0., 0., 0., 1.]),\n",
       "  'AA': array([0., 0., 0., 0., 0., 0., 0., 0., 0., 0., 0., 0., 0., 0., 0.])},\n",
       " '2:4': {'AC': array([1., 0., 0., 0., 0., 0., 0., 0., 0., 0., 0., 0., 0., 0., 0.]),\n",
       "  'AD': array([0., 1., 0., 0., 0., 0., 0., 0., 0., 0., 0., 0., 0., 0., 0.]),\n",
       "  'AV': array([0., 0., 1., 0., 0., 0., 0., 0., 0., 0., 0., 0., 0., 0., 0.]),\n",
       "  'HC': array([0., 0., 0., 1., 0., 0., 0., 0., 0., 0., 0., 0., 0., 0., 0.]),\n",
       "  'HD': array([0., 0., 0., 0., 1., 0., 0., 0., 0., 0., 0., 0., 0., 0., 0.]),\n",
       "  'HK': array([0., 0., 0., 0., 0., 1., 0., 0., 0., 0., 0., 0., 0., 0., 0.]),\n",
       "  'HV': array([0., 0., 0., 0., 0., 0., 1., 0., 0., 0., 0., 0., 0., 0., 0.]),\n",
       "  'PC': array([0., 0., 0., 0., 0., 0., 0., 1., 0., 0., 0., 0., 0., 0., 0.]),\n",
       "  'PD': array([0., 0., 0., 0., 0., 0., 0., 0., 1., 0., 0., 0., 0., 0., 0.]),\n",
       "  'PK': array([0., 0., 0., 0., 0., 0., 0., 0., 0., 1., 0., 0., 0., 0., 0.]),\n",
       "  'PV': array([0., 0., 0., 0., 0., 0., 0., 0., 0., 0., 1., 0., 0., 0., 0.]),\n",
       "  'QC': array([0., 0., 0., 0., 0., 0., 0., 0., 0., 0., 0., 1., 0., 0., 0.]),\n",
       "  'QD': array([0., 0., 0., 0., 0., 0., 0., 0., 0., 0., 0., 0., 1., 0., 0.]),\n",
       "  'QK': array([0., 0., 0., 0., 0., 0., 0., 0., 0., 0., 0., 0., 0., 1., 0.]),\n",
       "  'QV': array([0., 0., 0., 0., 0., 0., 0., 0., 0., 0., 0., 0., 0., 0., 1.]),\n",
       "  'AK': array([0., 0., 0., 0., 0., 0., 0., 0., 0., 0., 0., 0., 0., 0., 0.])},\n",
       " '3:4': {'AC': array([1., 0., 0., 0., 0., 0., 0., 0., 0., 0., 0., 0., 0., 0., 0.]),\n",
       "  'AD': array([0., 1., 0., 0., 0., 0., 0., 0., 0., 0., 0., 0., 0., 0., 0.]),\n",
       "  'AV': array([0., 0., 1., 0., 0., 0., 0., 0., 0., 0., 0., 0., 0., 0., 0.]),\n",
       "  'EC': array([0., 0., 0., 1., 0., 0., 0., 0., 0., 0., 0., 0., 0., 0., 0.]),\n",
       "  'ED': array([0., 0., 0., 0., 1., 0., 0., 0., 0., 0., 0., 0., 0., 0., 0.]),\n",
       "  'EK': array([0., 0., 0., 0., 0., 1., 0., 0., 0., 0., 0., 0., 0., 0., 0.]),\n",
       "  'EV': array([0., 0., 0., 0., 0., 0., 1., 0., 0., 0., 0., 0., 0., 0., 0.]),\n",
       "  'FC': array([0., 0., 0., 0., 0., 0., 0., 1., 0., 0., 0., 0., 0., 0., 0.]),\n",
       "  'FD': array([0., 0., 0., 0., 0., 0., 0., 0., 1., 0., 0., 0., 0., 0., 0.]),\n",
       "  'FK': array([0., 0., 0., 0., 0., 0., 0., 0., 0., 1., 0., 0., 0., 0., 0.]),\n",
       "  'FV': array([0., 0., 0., 0., 0., 0., 0., 0., 0., 0., 1., 0., 0., 0., 0.]),\n",
       "  'GC': array([0., 0., 0., 0., 0., 0., 0., 0., 0., 0., 0., 1., 0., 0., 0.]),\n",
       "  'GD': array([0., 0., 0., 0., 0., 0., 0., 0., 0., 0., 0., 0., 1., 0., 0.]),\n",
       "  'GK': array([0., 0., 0., 0., 0., 0., 0., 0., 0., 0., 0., 0., 0., 1., 0.]),\n",
       "  'GV': array([0., 0., 0., 0., 0., 0., 0., 0., 0., 0., 0., 0., 0., 0., 1.]),\n",
       "  'AK': array([0., 0., 0., 0., 0., 0., 0., 0., 0., 0., 0., 0., 0., 0., 0.])}}"
      ]
     },
     "execution_count": 11,
     "metadata": {},
     "output_type": "execute_result"
    }
   ],
   "source": [
    "Q.pairwise_code_mapper"
   ]
  },
  {
   "cell_type": "code",
   "execution_count": 12,
   "id": "f41801dc-8020-4924-9802-fe6ddc1acd6a",
   "metadata": {},
   "outputs": [
    {
     "data": {
      "text/plain": [
       "np.int64(12)"
      ]
     },
     "execution_count": 12,
     "metadata": {},
     "output_type": "execute_result"
    }
   ],
   "source": [
    "Q.code_length_independent"
   ]
  },
  {
   "cell_type": "code",
   "execution_count": 13,
   "id": "fcbd86c3-76ea-4169-8258-20419fcccbcb",
   "metadata": {},
   "outputs": [
    {
     "data": {
      "text/plain": [
       "np.int64(104)"
      ]
     },
     "execution_count": 13,
     "metadata": {},
     "output_type": "execute_result"
    }
   ],
   "source": [
    "Q.code_length_pairwise"
   ]
  },
  {
   "cell_type": "code",
   "execution_count": 14,
   "id": "46f48baa-1e00-4a92-b4ad-05c8b590c05b",
   "metadata": {},
   "outputs": [],
   "source": [
    "E = doe_utils.Sequence_encoder_simplex(S.mutation_probs_variable_region_indexed)\n",
    "independent_codes, pairwise_codes, flatten_independent, flatter_pairwise = E.encode_seqs(seqs)"
   ]
  },
  {
   "cell_type": "code",
   "execution_count": 15,
   "id": "ecceb1df-d4f0-4b03-b0c7-4697d8cec6da",
   "metadata": {},
   "outputs": [],
   "source": [
    "model = doe_utils.Create_in_silico_model(S.mutation_probs_variable_region_indexed)"
   ]
  },
  {
   "cell_type": "code",
   "execution_count": 37,
   "id": "7ace48ec-0420-4702-a357-5f8c687f189a",
   "metadata": {},
   "outputs": [
    {
     "data": {
      "text/plain": [
       "(array([ 2., 13., 13., 31., 59., 55., 47., 41., 32.,  7.]),\n",
       " array([-5.60351388, -4.82271976, -4.04192564, -3.26113153, -2.48033741,\n",
       "        -1.69954329, -0.91874918, -0.13795506,  0.64283906,  1.42363317,\n",
       "         2.20442729]),\n",
       " <BarContainer object of 10 artists>)"
      ]
     },
     "execution_count": 37,
     "metadata": {},
     "output_type": "execute_result"
    },
    {
     "data": {
      "image/png": "[encoded data removed]",
      "text/plain": [
       "<Figure size 640x480 with 1 Axes>"
      ]
     },
     "metadata": {},
     "output_type": "display_data"
    }
   ],
   "source": [
    "responses = model.model(flatten_independent) #, flatter_pairwise)\n",
    "plt.hist(responses)"
   ]
  },
  {
   "cell_type": "code",
   "execution_count": 38,
   "id": "c8628bcb-d40c-4b6b-864d-8c4c16acba87",
   "metadata": {},
   "outputs": [
    {
     "data": {
      "image/png": "[encoded data removed]",
      "text/plain": [
       "<Figure size 640x480 with 1 Axes>"
      ]
     },
     "metadata": {},
     "output_type": "display_data"
    },
    {
     "data": {
      "image/png": "[encoded data removed]",
      "text/plain": [
       "<Figure size 640x480 with 1 Axes>"
      ]
     },
     "metadata": {},
     "output_type": "display_data"
    }
   ],
   "source": [
    "model.plot_weights()"
   ]
  },
  {
   "cell_type": "code",
   "execution_count": 52,
   "id": "c6d93501-0c6e-4005-8e1f-f4b8b1e569bf",
   "metadata": {},
   "outputs": [],
   "source": [
    "fit_model = doe_utils.Fitting_model(S.mutation_probs_variable_region_indexed)\n",
    "weights, fit_responses = fit_model.fit(seqs, responses, fit = 'both')"
   ]
  },
  {
   "cell_type": "code",
   "execution_count": 53,
   "id": "afdbf68e-db48-46cb-ad91-b7ece3ccc2e3",
   "metadata": {},
   "outputs": [
    {
     "data": {
      "text/plain": [
       "<matplotlib.collections.PathCollection at 0x1133e11d0>"
      ]
     },
     "execution_count": 53,
     "metadata": {},
     "output_type": "execute_result"
    },
    {
     "data": {
      "image/png": "[encoded data removed]",
      "text/plain": [
       "<Figure size 640x480 with 1 Axes>"
      ]
     },
     "metadata": {},
     "output_type": "display_data"
    }
   ],
   "source": [
    "plt.scatter(fit_responses, responses)"
   ]
  },
  {
   "cell_type": "code",
   "execution_count": 54,
   "id": "26625e34-6181-4d1b-b757-0b7df2bd924f",
   "metadata": {},
   "outputs": [
    {
     "data": {
      "text/plain": [
       "<matplotlib.collections.PathCollection at 0x1130f8e10>"
      ]
     },
     "execution_count": 54,
     "metadata": {},
     "output_type": "execute_result"
    },
    {
     "data": {
      "image/png": "[encoded data removed]",
      "text/plain": [
       "<Figure size 640x480 with 1 Axes>"
      ]
     },
     "metadata": {},
     "output_type": "display_data"
    }
   ],
   "source": [
    "plt.scatter(model.independent_weights, weights[fit_model.independent_indices])"
   ]
  },
  {
   "cell_type": "code",
   "execution_count": 55,
   "id": "5ac48527-1fa1-4ab4-88b6-4aee3eb06b85",
   "metadata": {},
   "outputs": [
    {
     "data": {
      "text/plain": [
       "array([[0., 0., 0., ..., 0., 0., 0.],\n",
       "       [0., 0., 0., ..., 0., 0., 0.],\n",
       "       [0., 0., 0., ..., 0., 0., 0.],\n",
       "       ...,\n",
       "       [0., 1., 1., ..., 1., 0., 0.],\n",
       "       [0., 1., 1., ..., 0., 1., 0.],\n",
       "       [0., 1., 1., ..., 0., 0., 1.]], shape=(300, 116))"
      ]
     },
     "execution_count": 55,
     "metadata": {},
     "output_type": "execute_result"
    }
   ],
   "source": [
    "fit_model.features"
   ]
  },
  {
   "cell_type": "code",
   "execution_count": 56,
   "id": "f96d4af6-ddd1-490b-a61b-44308823c41e",
   "metadata": {},
   "outputs": [
    {
     "data": {
      "text/plain": [
       "<matplotlib.collections.PathCollection at 0x112e9ac10>"
      ]
     },
     "execution_count": 56,
     "metadata": {},
     "output_type": "execute_result"
    },
    {
     "data": {
      "image/png": "[encoded data removed]",
      "text/plain": [
       "<Figure size 640x480 with 1 Axes>"
      ]
     },
     "metadata": {},
     "output_type": "display_data"
    }
   ],
   "source": [
    "plt.scatter(model.pairwise_weights, weights[fit_model.pairwise_indices])"
   ]
  },
  {
   "cell_type": "code",
   "execution_count": 57,
   "id": "5754d4a9-096f-48a9-b1b5-19e1af87c73a",
   "metadata": {},
   "outputs": [],
   "source": [
    "a, b = np.linalg.eig(fit_model.features.T.dot(fit_model.features))"
   ]
  },
  {
   "cell_type": "code",
   "execution_count": 58,
   "id": "cb814e86-fd22-42f0-944f-4ae4401003e4",
   "metadata": {},
   "outputs": [
    {
     "name": "stderr",
     "output_type": "stream",
     "text": [
      "/Users/swagatammukhopadhyay/anaconda3/envs/pytorch_env/lib/python3.13/site-packages/matplotlib/cbook.py:1719: ComplexWarning: Casting complex values to real discards the imaginary part\n",
      "  return math.isfinite(val)\n",
      "/Users/swagatammukhopadhyay/anaconda3/envs/pytorch_env/lib/python3.13/site-packages/matplotlib/cbook.py:1355: ComplexWarning: Casting complex values to real discards the imaginary part\n",
      "  return np.asarray(x, float)\n"
     ]
    },
    {
     "data": {
      "text/plain": [
       "[<matplotlib.lines.Line2D at 0x112f47c50>]"
      ]
     },
     "execution_count": 58,
     "metadata": {},
     "output_type": "execute_result"
    },
    {
     "data": {
      "image/png": "[encoded data removed]",
      "text/plain": [
       "<Figure size 640x480 with 1 Axes>"
      ]
     },
     "metadata": {},
     "output_type": "display_data"
    }
   ],
   "source": [
    "plt.plot(a)"
   ]
  },
  {
   "cell_type": "code",
   "execution_count": 24,
   "id": "f410bada-8764-457d-8e7a-31c163254b6c",
   "metadata": {},
   "outputs": [
    {
     "data": {
      "text/plain": [
       "np.int64(116)"
      ]
     },
     "execution_count": 24,
     "metadata": {},
     "output_type": "execute_result"
    }
   ],
   "source": [
    "fit_model.encoder.number_of_features"
   ]
  },
  {
   "cell_type": "code",
   "execution_count": 25,
   "id": "541e113e-d3e5-4353-838d-a639117f282b",
   "metadata": {},
   "outputs": [
    {
     "data": {
      "text/plain": [
       "17"
      ]
     },
     "execution_count": 25,
     "metadata": {},
     "output_type": "execute_result"
    }
   ],
   "source": [
    "len(fit_model.encoder.feature_names_independent)"
   ]
  },
  {
   "cell_type": "code",
   "execution_count": 26,
   "id": "8c8df042-4539-4d13-9878-6386f541e990",
   "metadata": {},
   "outputs": [
    {
     "data": {
      "text/plain": [
       "272"
      ]
     },
     "execution_count": 26,
     "metadata": {},
     "output_type": "execute_result"
    }
   ],
   "source": [
    "17*16"
   ]
  },
  {
   "cell_type": "code",
   "execution_count": 27,
   "id": "f4ed2f4f-7ad7-4478-a9bf-9a3d775f563c",
   "metadata": {},
   "outputs": [
    {
     "data": {
      "text/plain": [
       "114"
      ]
     },
     "execution_count": 27,
     "metadata": {},
     "output_type": "execute_result"
    }
   ],
   "source": [
    "len(fit_model.encoder.feature_names_pairwise)"
   ]
  },
  {
   "cell_type": "code",
   "execution_count": 28,
   "id": "f5a37c2d-28c2-4cc0-8599-1431e59c3a31",
   "metadata": {},
   "outputs": [
    {
     "data": {
      "text/plain": [
       "13110"
      ]
     },
     "execution_count": 28,
     "metadata": {},
     "output_type": "execute_result"
    }
   ],
   "source": [
    "115*114"
   ]
  },
  {
   "cell_type": "code",
   "execution_count": 29,
   "id": "c5370a7b-6eb9-4494-9bfd-37ecfb22aa82",
   "metadata": {},
   "outputs": [
    {
     "data": {
      "text/plain": [
       "300"
      ]
     },
     "execution_count": 29,
     "metadata": {},
     "output_type": "execute_result"
    }
   ],
   "source": [
    "len(independent_codes)"
   ]
  },
  {
   "cell_type": "code",
   "execution_count": 30,
   "id": "dd539b56-e22d-4f6c-8eae-1f472ec1f695",
   "metadata": {},
   "outputs": [],
   "source": [
    "flatten_independent = [] \n",
    "for ind in independent_codes:\n",
    "    flatten_independent.append([item for x in ind for item in x])\n",
    "flatten_independent = np.asarray(flatten_independent) \n",
    "\n",
    "flatten_pairwise = [] \n",
    "for ind in pairwise_codes:\n",
    "    flatten_pairwise.append([item for x in ind for item in x])\n",
    "flatten_pairwise = np.asarray(flatten_pairwise) "
   ]
  },
  {
   "cell_type": "code",
   "execution_count": 31,
   "id": "55503d7f-dc3b-4fa6-b9fe-ef76d1cf8401",
   "metadata": {},
   "outputs": [
    {
     "data": {
      "text/plain": [
       "300"
      ]
     },
     "execution_count": 31,
     "metadata": {},
     "output_type": "execute_result"
    }
   ],
   "source": [
    "len(np.unique(flatten_independent, axis = 0))"
   ]
  },
  {
   "cell_type": "code",
   "execution_count": 32,
   "id": "997a041f-5515-4d24-91c1-de81cf5972cf",
   "metadata": {},
   "outputs": [
    {
     "data": {
      "text/plain": [
       "300"
      ]
     },
     "execution_count": 32,
     "metadata": {},
     "output_type": "execute_result"
    }
   ],
   "source": [
    "len(flatten_independent)"
   ]
  },
  {
   "cell_type": "code",
   "execution_count": 33,
   "id": "af5670c2-57ed-4cfc-8d00-7c0f7a3c1a5d",
   "metadata": {},
   "outputs": [
    {
     "data": {
      "text/plain": [
       "300"
      ]
     },
     "execution_count": 33,
     "metadata": {},
     "output_type": "execute_result"
    }
   ],
   "source": [
    "len(np.unique(flatten_pairwise, axis = 0))"
   ]
  },
  {
   "cell_type": "code",
   "execution_count": 34,
   "id": "5c12bfa9-1406-4dec-96b3-1a12ab4c6b52",
   "metadata": {},
   "outputs": [
    {
     "data": {
      "text/plain": [
       "<matplotlib.image.AxesImage at 0x111739590>"
      ]
     },
     "execution_count": 34,
     "metadata": {},
     "output_type": "execute_result"
    },
    {
     "data": {
      "image/png": "[encoded data removed]",
      "text/plain": [
       "<Figure size 640x480 with 1 Axes>"
      ]
     },
     "metadata": {},
     "output_type": "display_data"
    }
   ],
   "source": [
    "plt.imshow(flatten_independent, aspect = 'auto', interpolation = 'None')"
   ]
  },
  {
   "cell_type": "code",
   "execution_count": 35,
   "id": "edbf5bfb-7bed-47f0-911f-d33d8a733736",
   "metadata": {},
   "outputs": [
    {
     "data": {
      "text/plain": [
       "[<matplotlib.lines.Line2D at 0x1117a3390>]"
      ]
     },
     "execution_count": 35,
     "metadata": {},
     "output_type": "execute_result"
    },
    {
     "data": {
      "image/png": "[encoded data removed]",
      "text/plain": [
       "<Figure size 640x480 with 1 Axes>"
      ]
     },
     "metadata": {},
     "output_type": "display_data"
    }
   ],
   "source": [
    "a, b=  np.linalg.eig(flatten_independent.T.dot(flatten_independent))\n",
    "plt.plot(a)"
   ]
  },
  {
   "cell_type": "code",
   "execution_count": 36,
   "id": "8e0b3e3d-d123-4d50-88a4-2cbc6e27ef09",
   "metadata": {},
   "outputs": [
    {
     "data": {
      "text/plain": [
       "[<matplotlib.lines.Line2D at 0x111819950>]"
      ]
     },
     "execution_count": 36,
     "metadata": {},
     "output_type": "execute_result"
    },
    {
     "data": {
      "image/png": "[encoded data removed]",
      "text/plain": [
       "<Figure size 640x480 with 1 Axes>"
      ]
     },
     "metadata": {},
     "output_type": "display_data"
    }
   ],
   "source": [
    "a, b=  np.linalg.eig(flatten_pairwise.T.dot(flatten_pairwise))\n",
    "plt.plot(a)"
   ]
  },
  {
   "cell_type": "code",
   "execution_count": 64,
   "id": "595ca5c3-319b-486a-9480-e022fab87345",
   "metadata": {},
   "outputs": [
    {
     "data": {
      "text/plain": [
       "['0:1-FQ',\n",
       " '0:1-HE',\n",
       " '0:1-HQ',\n",
       " '0:1-VE',\n",
       " '0:1-VQ',\n",
       " '0:1-FE',\n",
       " '0:2-FH',\n",
       " '0:2-FP',\n",
       " '0:2-FQ',\n",
       " '0:2-HA',\n",
       " '0:2-HH',\n",
       " '0:2-HP',\n",
       " '0:2-HQ',\n",
       " '0:2-VA',\n",
       " '0:2-VH',\n",
       " '0:2-VP',\n",
       " '0:2-VQ',\n",
       " '0:2-FA',\n",
       " '0:3-FE',\n",
       " '0:3-FF',\n",
       " '0:3-FG',\n",
       " '0:3-HA',\n",
       " '0:3-HE',\n",
       " '0:3-HF',\n",
       " '0:3-HG',\n",
       " '0:3-VA',\n",
       " '0:3-VE',\n",
       " '0:3-VF',\n",
       " '0:3-VG',\n",
       " '0:3-FA',\n",
       " '0:4-FC',\n",
       " '0:4-FD',\n",
       " '0:4-FV',\n",
       " '0:4-HC',\n",
       " '0:4-HD',\n",
       " '0:4-HK',\n",
       " '0:4-HV',\n",
       " '0:4-VC',\n",
       " '0:4-VD',\n",
       " '0:4-VK',\n",
       " '0:4-VV',\n",
       " '0:4-FK',\n",
       " '1:2-EH',\n",
       " '1:2-EP',\n",
       " '1:2-EQ',\n",
       " '1:2-QA',\n",
       " '1:2-QH',\n",
       " '1:2-QP',\n",
       " '1:2-QQ',\n",
       " '1:2-EA',\n",
       " '1:3-EE',\n",
       " '1:3-EF',\n",
       " '1:3-EG',\n",
       " '1:3-QA',\n",
       " '1:3-QE',\n",
       " '1:3-QF',\n",
       " '1:3-QG',\n",
       " '1:3-EA',\n",
       " '1:4-EC',\n",
       " '1:4-ED',\n",
       " '1:4-EV',\n",
       " '1:4-QC',\n",
       " '1:4-QD',\n",
       " '1:4-QK',\n",
       " '1:4-QV',\n",
       " '1:4-EK',\n",
       " '2:3-AE',\n",
       " '2:3-AF',\n",
       " '2:3-AG',\n",
       " '2:3-HA',\n",
       " '2:3-HE',\n",
       " '2:3-HF',\n",
       " '2:3-HG',\n",
       " '2:3-PA',\n",
       " '2:3-PE',\n",
       " '2:3-PF',\n",
       " '2:3-PG',\n",
       " '2:3-QA',\n",
       " '2:3-QE',\n",
       " '2:3-QF',\n",
       " '2:3-QG',\n",
       " '2:3-AA',\n",
       " '2:4-AC',\n",
       " '2:4-AD',\n",
       " '2:4-AV',\n",
       " '2:4-HC',\n",
       " '2:4-HD',\n",
       " '2:4-HK',\n",
       " '2:4-HV',\n",
       " '2:4-PC',\n",
       " '2:4-PD',\n",
       " '2:4-PK',\n",
       " '2:4-PV',\n",
       " '2:4-QC',\n",
       " '2:4-QD',\n",
       " '2:4-QK',\n",
       " '2:4-QV',\n",
       " '2:4-AK',\n",
       " '3:4-AC',\n",
       " '3:4-AD',\n",
       " '3:4-AV',\n",
       " '3:4-EC',\n",
       " '3:4-ED',\n",
       " '3:4-EK',\n",
       " '3:4-EV',\n",
       " '3:4-FC',\n",
       " '3:4-FD',\n",
       " '3:4-FK',\n",
       " '3:4-FV',\n",
       " '3:4-GC',\n",
       " '3:4-GD',\n",
       " '3:4-GK',\n",
       " '3:4-GV',\n",
       " '3:4-AK']"
      ]
     },
     "execution_count": 64,
     "metadata": {},
     "output_type": "execute_result"
    }
   ],
   "source": [
    "Q.feature_names_pairwise"
   ]
  },
  {
   "cell_type": "code",
   "execution_count": 65,
   "id": "80fba099-487e-48c6-91f6-d73b95d8f8d3",
   "metadata": {},
   "outputs": [
    {
     "data": {
      "text/plain": [
       "[array([0., 0., 0., 0., 0.]),\n",
       " array([0., 0., 0., 0., 0., 0., 0., 0., 0., 0., 0.]),\n",
       " array([0., 0., 0., 0., 0., 0., 0., 0., 0., 0., 0.]),\n",
       " array([0., 0., 0., 0., 0., 0., 0., 0., 0., 0., 0.]),\n",
       " array([0., 0., 0., 0., 0., 0., 0.]),\n",
       " array([0., 0., 0., 0., 0., 0., 0.]),\n",
       " array([0., 0., 0., 0., 0., 0., 0.]),\n",
       " array([0., 0., 0., 0., 0., 0., 0., 0., 0., 0., 0., 0., 0., 0., 0.]),\n",
       " array([0., 0., 0., 0., 0., 0., 0., 0., 0., 0., 0., 0., 0., 0., 0.]),\n",
       " array([0., 0., 0., 0., 0., 0., 0., 0., 0., 0., 0., 0., 0., 0., 0.])]"
      ]
     },
     "execution_count": 65,
     "metadata": {},
     "output_type": "execute_result"
    }
   ],
   "source": [
    "Q.encode_parent_pairwise"
   ]
  },
  {
   "cell_type": "code",
   "execution_count": 69,
   "id": "19826d5c-9486-4ac0-b9c3-de1136025ae1",
   "metadata": {},
   "outputs": [
    {
     "data": {
      "text/plain": [
       "[array([0, 1]),\n",
       " array([0, 2]),\n",
       " array([0, 3]),\n",
       " array([0, 4]),\n",
       " array([1, 2]),\n",
       " array([1, 3]),\n",
       " array([1, 4]),\n",
       " array([2, 3]),\n",
       " array([2, 4]),\n",
       " array([3, 4])]"
      ]
     },
     "execution_count": 69,
     "metadata": {},
     "output_type": "execute_result"
    }
   ],
   "source": [
    "Q.pos_product"
   ]
  },
  {
   "cell_type": "code",
   "execution_count": 70,
   "id": "63c74971-7bf8-410a-8acd-30fb5d60f286",
   "metadata": {},
   "outputs": [
    {
     "data": {
      "text/plain": [
       "['0:1-FQ',\n",
       " '0:1-HE',\n",
       " '0:1-HQ',\n",
       " '0:1-VE',\n",
       " '0:1-VQ',\n",
       " '0:1-FE',\n",
       " '0:2-FH',\n",
       " '0:2-FP',\n",
       " '0:2-FQ',\n",
       " '0:2-HA',\n",
       " '0:2-HH',\n",
       " '0:2-HP',\n",
       " '0:2-HQ',\n",
       " '0:2-VA',\n",
       " '0:2-VH',\n",
       " '0:2-VP',\n",
       " '0:2-VQ',\n",
       " '0:2-FA',\n",
       " '0:3-FE',\n",
       " '0:3-FF',\n",
       " '0:3-FG',\n",
       " '0:3-HA',\n",
       " '0:3-HE',\n",
       " '0:3-HF',\n",
       " '0:3-HG',\n",
       " '0:3-VA',\n",
       " '0:3-VE',\n",
       " '0:3-VF',\n",
       " '0:3-VG',\n",
       " '0:3-FA',\n",
       " '0:4-FC',\n",
       " '0:4-FD',\n",
       " '0:4-FV',\n",
       " '0:4-HC',\n",
       " '0:4-HD',\n",
       " '0:4-HK',\n",
       " '0:4-HV',\n",
       " '0:4-VC',\n",
       " '0:4-VD',\n",
       " '0:4-VK',\n",
       " '0:4-VV',\n",
       " '0:4-FK',\n",
       " '1:2-EH',\n",
       " '1:2-EP',\n",
       " '1:2-EQ',\n",
       " '1:2-QA',\n",
       " '1:2-QH',\n",
       " '1:2-QP',\n",
       " '1:2-QQ',\n",
       " '1:2-EA',\n",
       " '1:3-EE',\n",
       " '1:3-EF',\n",
       " '1:3-EG',\n",
       " '1:3-QA',\n",
       " '1:3-QE',\n",
       " '1:3-QF',\n",
       " '1:3-QG',\n",
       " '1:3-EA',\n",
       " '1:4-EC',\n",
       " '1:4-ED',\n",
       " '1:4-EV',\n",
       " '1:4-QC',\n",
       " '1:4-QD',\n",
       " '1:4-QK',\n",
       " '1:4-QV',\n",
       " '1:4-EK',\n",
       " '2:3-AE',\n",
       " '2:3-AF',\n",
       " '2:3-AG',\n",
       " '2:3-HA',\n",
       " '2:3-HE',\n",
       " '2:3-HF',\n",
       " '2:3-HG',\n",
       " '2:3-PA',\n",
       " '2:3-PE',\n",
       " '2:3-PF',\n",
       " '2:3-PG',\n",
       " '2:3-QA',\n",
       " '2:3-QE',\n",
       " '2:3-QF',\n",
       " '2:3-QG',\n",
       " '2:3-AA',\n",
       " '2:4-AC',\n",
       " '2:4-AD',\n",
       " '2:4-AV',\n",
       " '2:4-HC',\n",
       " '2:4-HD',\n",
       " '2:4-HK',\n",
       " '2:4-HV',\n",
       " '2:4-PC',\n",
       " '2:4-PD',\n",
       " '2:4-PK',\n",
       " '2:4-PV',\n",
       " '2:4-QC',\n",
       " '2:4-QD',\n",
       " '2:4-QK',\n",
       " '2:4-QV',\n",
       " '2:4-AK',\n",
       " '3:4-AC',\n",
       " '3:4-AD',\n",
       " '3:4-AV',\n",
       " '3:4-EC',\n",
       " '3:4-ED',\n",
       " '3:4-EK',\n",
       " '3:4-EV',\n",
       " '3:4-FC',\n",
       " '3:4-FD',\n",
       " '3:4-FK',\n",
       " '3:4-FV',\n",
       " '3:4-GC',\n",
       " '3:4-GD',\n",
       " '3:4-GK',\n",
       " '3:4-GV',\n",
       " '3:4-AK']"
      ]
     },
     "execution_count": 70,
     "metadata": {},
     "output_type": "execute_result"
    }
   ],
   "source": [
    "Q.feature_names_pairwise"
   ]
  },
  {
   "cell_type": "code",
   "execution_count": 73,
   "id": "bf4e460f-696b-4c52-8da4-e144799deb59",
   "metadata": {},
   "outputs": [
    {
     "name": "stdout",
     "output_type": "stream",
     "text": [
      "0:1 FQ [1. 0. 0. 0. 0.]\n",
      "0:1 HE [0. 1. 0. 0. 0.]\n",
      "0:1 HQ [0. 0. 1. 0. 0.]\n",
      "0:1 VE [0. 0. 0. 1. 0.]\n",
      "0:1 VQ [0. 0. 0. 0. 1.]\n",
      "0:1 FE [0. 0. 0. 0. 0.]\n",
      "0:2 FH [1. 0. 0. 0. 0. 0. 0. 0. 0. 0. 0.]\n",
      "0:2 FP [0. 1. 0. 0. 0. 0. 0. 0. 0. 0. 0.]\n",
      "0:2 FQ [0. 0. 1. 0. 0. 0. 0. 0. 0. 0. 0.]\n",
      "0:2 HA [0. 0. 0. 1. 0. 0. 0. 0. 0. 0. 0.]\n",
      "0:2 HH [0. 0. 0. 0. 1. 0. 0. 0. 0. 0. 0.]\n",
      "0:2 HP [0. 0. 0. 0. 0. 1. 0. 0. 0. 0. 0.]\n",
      "0:2 HQ [0. 0. 0. 0. 0. 0. 1. 0. 0. 0. 0.]\n",
      "0:2 VA [0. 0. 0. 0. 0. 0. 0. 1. 0. 0. 0.]\n",
      "0:2 VH [0. 0. 0. 0. 0. 0. 0. 0. 1. 0. 0.]\n",
      "0:2 VP [0. 0. 0. 0. 0. 0. 0. 0. 0. 1. 0.]\n",
      "0:2 VQ [0. 0. 0. 0. 0. 0. 0. 0. 0. 0. 1.]\n",
      "0:2 FA [0. 0. 0. 0. 0. 0. 0. 0. 0. 0. 0.]\n",
      "0:3 FE [1. 0. 0. 0. 0. 0. 0. 0. 0. 0. 0.]\n",
      "0:3 FF [0. 1. 0. 0. 0. 0. 0. 0. 0. 0. 0.]\n",
      "0:3 FG [0. 0. 1. 0. 0. 0. 0. 0. 0. 0. 0.]\n",
      "0:3 HA [0. 0. 0. 1. 0. 0. 0. 0. 0. 0. 0.]\n",
      "0:3 HE [0. 0. 0. 0. 1. 0. 0. 0. 0. 0. 0.]\n",
      "0:3 HF [0. 0. 0. 0. 0. 1. 0. 0. 0. 0. 0.]\n",
      "0:3 HG [0. 0. 0. 0. 0. 0. 1. 0. 0. 0. 0.]\n",
      "0:3 VA [0. 0. 0. 0. 0. 0. 0. 1. 0. 0. 0.]\n",
      "0:3 VE [0. 0. 0. 0. 0. 0. 0. 0. 1. 0. 0.]\n",
      "0:3 VF [0. 0. 0. 0. 0. 0. 0. 0. 0. 1. 0.]\n",
      "0:3 VG [0. 0. 0. 0. 0. 0. 0. 0. 0. 0. 1.]\n",
      "0:3 FA [0. 0. 0. 0. 0. 0. 0. 0. 0. 0. 0.]\n",
      "0:4 FC [1. 0. 0. 0. 0. 0. 0. 0. 0. 0. 0.]\n",
      "0:4 FD [0. 1. 0. 0. 0. 0. 0. 0. 0. 0. 0.]\n",
      "0:4 FV [0. 0. 1. 0. 0. 0. 0. 0. 0. 0. 0.]\n",
      "0:4 HC [0. 0. 0. 1. 0. 0. 0. 0. 0. 0. 0.]\n",
      "0:4 HD [0. 0. 0. 0. 1. 0. 0. 0. 0. 0. 0.]\n",
      "0:4 HK [0. 0. 0. 0. 0. 1. 0. 0. 0. 0. 0.]\n",
      "0:4 HV [0. 0. 0. 0. 0. 0. 1. 0. 0. 0. 0.]\n",
      "0:4 VC [0. 0. 0. 0. 0. 0. 0. 1. 0. 0. 0.]\n",
      "0:4 VD [0. 0. 0. 0. 0. 0. 0. 0. 1. 0. 0.]\n",
      "0:4 VK [0. 0. 0. 0. 0. 0. 0. 0. 0. 1. 0.]\n",
      "0:4 VV [0. 0. 0. 0. 0. 0. 0. 0. 0. 0. 1.]\n",
      "0:4 FK [0. 0. 0. 0. 0. 0. 0. 0. 0. 0. 0.]\n",
      "1:2 EH [1. 0. 0. 0. 0. 0. 0.]\n",
      "1:2 EP [0. 1. 0. 0. 0. 0. 0.]\n",
      "1:2 EQ [0. 0. 1. 0. 0. 0. 0.]\n",
      "1:2 QA [0. 0. 0. 1. 0. 0. 0.]\n",
      "1:2 QH [0. 0. 0. 0. 1. 0. 0.]\n",
      "1:2 QP [0. 0. 0. 0. 0. 1. 0.]\n",
      "1:2 QQ [0. 0. 0. 0. 0. 0. 1.]\n",
      "1:2 EA [0. 0. 0. 0. 0. 0. 0.]\n",
      "1:3 EE [1. 0. 0. 0. 0. 0. 0.]\n",
      "1:3 EF [0. 1. 0. 0. 0. 0. 0.]\n",
      "1:3 EG [0. 0. 1. 0. 0. 0. 0.]\n",
      "1:3 QA [0. 0. 0. 1. 0. 0. 0.]\n",
      "1:3 QE [0. 0. 0. 0. 1. 0. 0.]\n",
      "1:3 QF [0. 0. 0. 0. 0. 1. 0.]\n",
      "1:3 QG [0. 0. 0. 0. 0. 0. 1.]\n",
      "1:3 EA [0. 0. 0. 0. 0. 0. 0.]\n",
      "1:4 EC [1. 0. 0. 0. 0. 0. 0.]\n",
      "1:4 ED [0. 1. 0. 0. 0. 0. 0.]\n",
      "1:4 EV [0. 0. 1. 0. 0. 0. 0.]\n",
      "1:4 QC [0. 0. 0. 1. 0. 0. 0.]\n",
      "1:4 QD [0. 0. 0. 0. 1. 0. 0.]\n",
      "1:4 QK [0. 0. 0. 0. 0. 1. 0.]\n",
      "1:4 QV [0. 0. 0. 0. 0. 0. 1.]\n",
      "1:4 EK [0. 0. 0. 0. 0. 0. 0.]\n",
      "2:3 AE [1. 0. 0. 0. 0. 0. 0. 0. 0. 0. 0. 0. 0. 0. 0.]\n",
      "2:3 AF [0. 1. 0. 0. 0. 0. 0. 0. 0. 0. 0. 0. 0. 0. 0.]\n",
      "2:3 AG [0. 0. 1. 0. 0. 0. 0. 0. 0. 0. 0. 0. 0. 0. 0.]\n",
      "2:3 HA [0. 0. 0. 1. 0. 0. 0. 0. 0. 0. 0. 0. 0. 0. 0.]\n",
      "2:3 HE [0. 0. 0. 0. 1. 0. 0. 0. 0. 0. 0. 0. 0. 0. 0.]\n",
      "2:3 HF [0. 0. 0. 0. 0. 1. 0. 0. 0. 0. 0. 0. 0. 0. 0.]\n",
      "2:3 HG [0. 0. 0. 0. 0. 0. 1. 0. 0. 0. 0. 0. 0. 0. 0.]\n",
      "2:3 PA [0. 0. 0. 0. 0. 0. 0. 1. 0. 0. 0. 0. 0. 0. 0.]\n",
      "2:3 PE [0. 0. 0. 0. 0. 0. 0. 0. 1. 0. 0. 0. 0. 0. 0.]\n",
      "2:3 PF [0. 0. 0. 0. 0. 0. 0. 0. 0. 1. 0. 0. 0. 0. 0.]\n",
      "2:3 PG [0. 0. 0. 0. 0. 0. 0. 0. 0. 0. 1. 0. 0. 0. 0.]\n",
      "2:3 QA [0. 0. 0. 0. 0. 0. 0. 0. 0. 0. 0. 1. 0. 0. 0.]\n",
      "2:3 QE [0. 0. 0. 0. 0. 0. 0. 0. 0. 0. 0. 0. 1. 0. 0.]\n",
      "2:3 QF [0. 0. 0. 0. 0. 0. 0. 0. 0. 0. 0. 0. 0. 1. 0.]\n",
      "2:3 QG [0. 0. 0. 0. 0. 0. 0. 0. 0. 0. 0. 0. 0. 0. 1.]\n",
      "2:3 AA [0. 0. 0. 0. 0. 0. 0. 0. 0. 0. 0. 0. 0. 0. 0.]\n",
      "2:4 AC [1. 0. 0. 0. 0. 0. 0. 0. 0. 0. 0. 0. 0. 0. 0.]\n",
      "2:4 AD [0. 1. 0. 0. 0. 0. 0. 0. 0. 0. 0. 0. 0. 0. 0.]\n",
      "2:4 AV [0. 0. 1. 0. 0. 0. 0. 0. 0. 0. 0. 0. 0. 0. 0.]\n",
      "2:4 HC [0. 0. 0. 1. 0. 0. 0. 0. 0. 0. 0. 0. 0. 0. 0.]\n",
      "2:4 HD [0. 0. 0. 0. 1. 0. 0. 0. 0. 0. 0. 0. 0. 0. 0.]\n",
      "2:4 HK [0. 0. 0. 0. 0. 1. 0. 0. 0. 0. 0. 0. 0. 0. 0.]\n",
      "2:4 HV [0. 0. 0. 0. 0. 0. 1. 0. 0. 0. 0. 0. 0. 0. 0.]\n",
      "2:4 PC [0. 0. 0. 0. 0. 0. 0. 1. 0. 0. 0. 0. 0. 0. 0.]\n",
      "2:4 PD [0. 0. 0. 0. 0. 0. 0. 0. 1. 0. 0. 0. 0. 0. 0.]\n",
      "2:4 PK [0. 0. 0. 0. 0. 0. 0. 0. 0. 1. 0. 0. 0. 0. 0.]\n",
      "2:4 PV [0. 0. 0. 0. 0. 0. 0. 0. 0. 0. 1. 0. 0. 0. 0.]\n",
      "2:4 QC [0. 0. 0. 0. 0. 0. 0. 0. 0. 0. 0. 1. 0. 0. 0.]\n",
      "2:4 QD [0. 0. 0. 0. 0. 0. 0. 0. 0. 0. 0. 0. 1. 0. 0.]\n",
      "2:4 QK [0. 0. 0. 0. 0. 0. 0. 0. 0. 0. 0. 0. 0. 1. 0.]\n",
      "2:4 QV [0. 0. 0. 0. 0. 0. 0. 0. 0. 0. 0. 0. 0. 0. 1.]\n",
      "2:4 AK [0. 0. 0. 0. 0. 0. 0. 0. 0. 0. 0. 0. 0. 0. 0.]\n",
      "3:4 AC [1. 0. 0. 0. 0. 0. 0. 0. 0. 0. 0. 0. 0. 0. 0.]\n",
      "3:4 AD [0. 1. 0. 0. 0. 0. 0. 0. 0. 0. 0. 0. 0. 0. 0.]\n",
      "3:4 AV [0. 0. 1. 0. 0. 0. 0. 0. 0. 0. 0. 0. 0. 0. 0.]\n",
      "3:4 EC [0. 0. 0. 1. 0. 0. 0. 0. 0. 0. 0. 0. 0. 0. 0.]\n",
      "3:4 ED [0. 0. 0. 0. 1. 0. 0. 0. 0. 0. 0. 0. 0. 0. 0.]\n",
      "3:4 EK [0. 0. 0. 0. 0. 1. 0. 0. 0. 0. 0. 0. 0. 0. 0.]\n",
      "3:4 EV [0. 0. 0. 0. 0. 0. 1. 0. 0. 0. 0. 0. 0. 0. 0.]\n",
      "3:4 FC [0. 0. 0. 0. 0. 0. 0. 1. 0. 0. 0. 0. 0. 0. 0.]\n",
      "3:4 FD [0. 0. 0. 0. 0. 0. 0. 0. 1. 0. 0. 0. 0. 0. 0.]\n",
      "3:4 FK [0. 0. 0. 0. 0. 0. 0. 0. 0. 1. 0. 0. 0. 0. 0.]\n",
      "3:4 FV [0. 0. 0. 0. 0. 0. 0. 0. 0. 0. 1. 0. 0. 0. 0.]\n",
      "3:4 GC [0. 0. 0. 0. 0. 0. 0. 0. 0. 0. 0. 1. 0. 0. 0.]\n",
      "3:4 GD [0. 0. 0. 0. 0. 0. 0. 0. 0. 0. 0. 0. 1. 0. 0.]\n",
      "3:4 GK [0. 0. 0. 0. 0. 0. 0. 0. 0. 0. 0. 0. 0. 1. 0.]\n",
      "3:4 GV [0. 0. 0. 0. 0. 0. 0. 0. 0. 0. 0. 0. 0. 0. 1.]\n",
      "3:4 AK [0. 0. 0. 0. 0. 0. 0. 0. 0. 0. 0. 0. 0. 0. 0.]\n"
     ]
    }
   ],
   "source": [
    "pair_weight_addresses = Q.encode_parent_pairwise.copy() \n",
    "\n",
    "for s,v in Q.pairwise_code_mapper.items():\n",
    "    for k, vec in v.items():\n",
    "        "
   ]
  },
  {
   "cell_type": "code",
   "execution_count": 66,
   "id": "8f1c0565-c3a0-4872-9c3e-8bfe56b62972",
   "metadata": {},
   "outputs": [
    {
     "data": {
      "text/plain": [
       "{'0:1': {'FQ': array([1., 0., 0., 0., 0.]),\n",
       "  'HE': array([0., 1., 0., 0., 0.]),\n",
       "  'HQ': array([0., 0., 1., 0., 0.]),\n",
       "  'VE': array([0., 0., 0., 1., 0.]),\n",
       "  'VQ': array([0., 0., 0., 0., 1.]),\n",
       "  'FE': array([0., 0., 0., 0., 0.])},\n",
       " '0:2': {'FH': array([1., 0., 0., 0., 0., 0., 0., 0., 0., 0., 0.]),\n",
       "  'FP': array([0., 1., 0., 0., 0., 0., 0., 0., 0., 0., 0.]),\n",
       "  'FQ': array([0., 0., 1., 0., 0., 0., 0., 0., 0., 0., 0.]),\n",
       "  'HA': array([0., 0., 0., 1., 0., 0., 0., 0., 0., 0., 0.]),\n",
       "  'HH': array([0., 0., 0., 0., 1., 0., 0., 0., 0., 0., 0.]),\n",
       "  'HP': array([0., 0., 0., 0., 0., 1., 0., 0., 0., 0., 0.]),\n",
       "  'HQ': array([0., 0., 0., 0., 0., 0., 1., 0., 0., 0., 0.]),\n",
       "  'VA': array([0., 0., 0., 0., 0., 0., 0., 1., 0., 0., 0.]),\n",
       "  'VH': array([0., 0., 0., 0., 0., 0., 0., 0., 1., 0., 0.]),\n",
       "  'VP': array([0., 0., 0., 0., 0., 0., 0., 0., 0., 1., 0.]),\n",
       "  'VQ': array([0., 0., 0., 0., 0., 0., 0., 0., 0., 0., 1.]),\n",
       "  'FA': array([0., 0., 0., 0., 0., 0., 0., 0., 0., 0., 0.])},\n",
       " '0:3': {'FE': array([1., 0., 0., 0., 0., 0., 0., 0., 0., 0., 0.]),\n",
       "  'FF': array([0., 1., 0., 0., 0., 0., 0., 0., 0., 0., 0.]),\n",
       "  'FG': array([0., 0., 1., 0., 0., 0., 0., 0., 0., 0., 0.]),\n",
       "  'HA': array([0., 0., 0., 1., 0., 0., 0., 0., 0., 0., 0.]),\n",
       "  'HE': array([0., 0., 0., 0., 1., 0., 0., 0., 0., 0., 0.]),\n",
       "  'HF': array([0., 0., 0., 0., 0., 1., 0., 0., 0., 0., 0.]),\n",
       "  'HG': array([0., 0., 0., 0., 0., 0., 1., 0., 0., 0., 0.]),\n",
       "  'VA': array([0., 0., 0., 0., 0., 0., 0., 1., 0., 0., 0.]),\n",
       "  'VE': array([0., 0., 0., 0., 0., 0., 0., 0., 1., 0., 0.]),\n",
       "  'VF': array([0., 0., 0., 0., 0., 0., 0., 0., 0., 1., 0.]),\n",
       "  'VG': array([0., 0., 0., 0., 0., 0., 0., 0., 0., 0., 1.]),\n",
       "  'FA': array([0., 0., 0., 0., 0., 0., 0., 0., 0., 0., 0.])},\n",
       " '0:4': {'FC': array([1., 0., 0., 0., 0., 0., 0., 0., 0., 0., 0.]),\n",
       "  'FD': array([0., 1., 0., 0., 0., 0., 0., 0., 0., 0., 0.]),\n",
       "  'FV': array([0., 0., 1., 0., 0., 0., 0., 0., 0., 0., 0.]),\n",
       "  'HC': array([0., 0., 0., 1., 0., 0., 0., 0., 0., 0., 0.]),\n",
       "  'HD': array([0., 0., 0., 0., 1., 0., 0., 0., 0., 0., 0.]),\n",
       "  'HK': array([0., 0., 0., 0., 0., 1., 0., 0., 0., 0., 0.]),\n",
       "  'HV': array([0., 0., 0., 0., 0., 0., 1., 0., 0., 0., 0.]),\n",
       "  'VC': array([0., 0., 0., 0., 0., 0., 0., 1., 0., 0., 0.]),\n",
       "  'VD': array([0., 0., 0., 0., 0., 0., 0., 0., 1., 0., 0.]),\n",
       "  'VK': array([0., 0., 0., 0., 0., 0., 0., 0., 0., 1., 0.]),\n",
       "  'VV': array([0., 0., 0., 0., 0., 0., 0., 0., 0., 0., 1.]),\n",
       "  'FK': array([0., 0., 0., 0., 0., 0., 0., 0., 0., 0., 0.])},\n",
       " '1:2': {'EH': array([1., 0., 0., 0., 0., 0., 0.]),\n",
       "  'EP': array([0., 1., 0., 0., 0., 0., 0.]),\n",
       "  'EQ': array([0., 0., 1., 0., 0., 0., 0.]),\n",
       "  'QA': array([0., 0., 0., 1., 0., 0., 0.]),\n",
       "  'QH': array([0., 0., 0., 0., 1., 0., 0.]),\n",
       "  'QP': array([0., 0., 0., 0., 0., 1., 0.]),\n",
       "  'QQ': array([0., 0., 0., 0., 0., 0., 1.]),\n",
       "  'EA': array([0., 0., 0., 0., 0., 0., 0.])},\n",
       " '1:3': {'EE': array([1., 0., 0., 0., 0., 0., 0.]),\n",
       "  'EF': array([0., 1., 0., 0., 0., 0., 0.]),\n",
       "  'EG': array([0., 0., 1., 0., 0., 0., 0.]),\n",
       "  'QA': array([0., 0., 0., 1., 0., 0., 0.]),\n",
       "  'QE': array([0., 0., 0., 0., 1., 0., 0.]),\n",
       "  'QF': array([0., 0., 0., 0., 0., 1., 0.]),\n",
       "  'QG': array([0., 0., 0., 0., 0., 0., 1.]),\n",
       "  'EA': array([0., 0., 0., 0., 0., 0., 0.])},\n",
       " '1:4': {'EC': array([1., 0., 0., 0., 0., 0., 0.]),\n",
       "  'ED': array([0., 1., 0., 0., 0., 0., 0.]),\n",
       "  'EV': array([0., 0., 1., 0., 0., 0., 0.]),\n",
       "  'QC': array([0., 0., 0., 1., 0., 0., 0.]),\n",
       "  'QD': array([0., 0., 0., 0., 1., 0., 0.]),\n",
       "  'QK': array([0., 0., 0., 0., 0., 1., 0.]),\n",
       "  'QV': array([0., 0., 0., 0., 0., 0., 1.]),\n",
       "  'EK': array([0., 0., 0., 0., 0., 0., 0.])},\n",
       " '2:3': {'AE': array([1., 0., 0., 0., 0., 0., 0., 0., 0., 0., 0., 0., 0., 0., 0.]),\n",
       "  'AF': array([0., 1., 0., 0., 0., 0., 0., 0., 0., 0., 0., 0., 0., 0., 0.]),\n",
       "  'AG': array([0., 0., 1., 0., 0., 0., 0., 0., 0., 0., 0., 0., 0., 0., 0.]),\n",
       "  'HA': array([0., 0., 0., 1., 0., 0., 0., 0., 0., 0., 0., 0., 0., 0., 0.]),\n",
       "  'HE': array([0., 0., 0., 0., 1., 0., 0., 0., 0., 0., 0., 0., 0., 0., 0.]),\n",
       "  'HF': array([0., 0., 0., 0., 0., 1., 0., 0., 0., 0., 0., 0., 0., 0., 0.]),\n",
       "  'HG': array([0., 0., 0., 0., 0., 0., 1., 0., 0., 0., 0., 0., 0., 0., 0.]),\n",
       "  'PA': array([0., 0., 0., 0., 0., 0., 0., 1., 0., 0., 0., 0., 0., 0., 0.]),\n",
       "  'PE': array([0., 0., 0., 0., 0., 0., 0., 0., 1., 0., 0., 0., 0., 0., 0.]),\n",
       "  'PF': array([0., 0., 0., 0., 0., 0., 0., 0., 0., 1., 0., 0., 0., 0., 0.]),\n",
       "  'PG': array([0., 0., 0., 0., 0., 0., 0., 0., 0., 0., 1., 0., 0., 0., 0.]),\n",
       "  'QA': array([0., 0., 0., 0., 0., 0., 0., 0., 0., 0., 0., 1., 0., 0., 0.]),\n",
       "  'QE': array([0., 0., 0., 0., 0., 0., 0., 0., 0., 0., 0., 0., 1., 0., 0.]),\n",
       "  'QF': array([0., 0., 0., 0., 0., 0., 0., 0., 0., 0., 0., 0., 0., 1., 0.]),\n",
       "  'QG': array([0., 0., 0., 0., 0., 0., 0., 0., 0., 0., 0., 0., 0., 0., 1.]),\n",
       "  'AA': array([0., 0., 0., 0., 0., 0., 0., 0., 0., 0., 0., 0., 0., 0., 0.])},\n",
       " '2:4': {'AC': array([1., 0., 0., 0., 0., 0., 0., 0., 0., 0., 0., 0., 0., 0., 0.]),\n",
       "  'AD': array([0., 1., 0., 0., 0., 0., 0., 0., 0., 0., 0., 0., 0., 0., 0.]),\n",
       "  'AV': array([0., 0., 1., 0., 0., 0., 0., 0., 0., 0., 0., 0., 0., 0., 0.]),\n",
       "  'HC': array([0., 0., 0., 1., 0., 0., 0., 0., 0., 0., 0., 0., 0., 0., 0.]),\n",
       "  'HD': array([0., 0., 0., 0., 1., 0., 0., 0., 0., 0., 0., 0., 0., 0., 0.]),\n",
       "  'HK': array([0., 0., 0., 0., 0., 1., 0., 0., 0., 0., 0., 0., 0., 0., 0.]),\n",
       "  'HV': array([0., 0., 0., 0., 0., 0., 1., 0., 0., 0., 0., 0., 0., 0., 0.]),\n",
       "  'PC': array([0., 0., 0., 0., 0., 0., 0., 1., 0., 0., 0., 0., 0., 0., 0.]),\n",
       "  'PD': array([0., 0., 0., 0., 0., 0., 0., 0., 1., 0., 0., 0., 0., 0., 0.]),\n",
       "  'PK': array([0., 0., 0., 0., 0., 0., 0., 0., 0., 1., 0., 0., 0., 0., 0.]),\n",
       "  'PV': array([0., 0., 0., 0., 0., 0., 0., 0., 0., 0., 1., 0., 0., 0., 0.]),\n",
       "  'QC': array([0., 0., 0., 0., 0., 0., 0., 0., 0., 0., 0., 1., 0., 0., 0.]),\n",
       "  'QD': array([0., 0., 0., 0., 0., 0., 0., 0., 0., 0., 0., 0., 1., 0., 0.]),\n",
       "  'QK': array([0., 0., 0., 0., 0., 0., 0., 0., 0., 0., 0., 0., 0., 1., 0.]),\n",
       "  'QV': array([0., 0., 0., 0., 0., 0., 0., 0., 0., 0., 0., 0., 0., 0., 1.]),\n",
       "  'AK': array([0., 0., 0., 0., 0., 0., 0., 0., 0., 0., 0., 0., 0., 0., 0.])},\n",
       " '3:4': {'AC': array([1., 0., 0., 0., 0., 0., 0., 0., 0., 0., 0., 0., 0., 0., 0.]),\n",
       "  'AD': array([0., 1., 0., 0., 0., 0., 0., 0., 0., 0., 0., 0., 0., 0., 0.]),\n",
       "  'AV': array([0., 0., 1., 0., 0., 0., 0., 0., 0., 0., 0., 0., 0., 0., 0.]),\n",
       "  'EC': array([0., 0., 0., 1., 0., 0., 0., 0., 0., 0., 0., 0., 0., 0., 0.]),\n",
       "  'ED': array([0., 0., 0., 0., 1., 0., 0., 0., 0., 0., 0., 0., 0., 0., 0.]),\n",
       "  'EK': array([0., 0., 0., 0., 0., 1., 0., 0., 0., 0., 0., 0., 0., 0., 0.]),\n",
       "  'EV': array([0., 0., 0., 0., 0., 0., 1., 0., 0., 0., 0., 0., 0., 0., 0.]),\n",
       "  'FC': array([0., 0., 0., 0., 0., 0., 0., 1., 0., 0., 0., 0., 0., 0., 0.]),\n",
       "  'FD': array([0., 0., 0., 0., 0., 0., 0., 0., 1., 0., 0., 0., 0., 0., 0.]),\n",
       "  'FK': array([0., 0., 0., 0., 0., 0., 0., 0., 0., 1., 0., 0., 0., 0., 0.]),\n",
       "  'FV': array([0., 0., 0., 0., 0., 0., 0., 0., 0., 0., 1., 0., 0., 0., 0.]),\n",
       "  'GC': array([0., 0., 0., 0., 0., 0., 0., 0., 0., 0., 0., 1., 0., 0., 0.]),\n",
       "  'GD': array([0., 0., 0., 0., 0., 0., 0., 0., 0., 0., 0., 0., 1., 0., 0.]),\n",
       "  'GK': array([0., 0., 0., 0., 0., 0., 0., 0., 0., 0., 0., 0., 0., 1., 0.]),\n",
       "  'GV': array([0., 0., 0., 0., 0., 0., 0., 0., 0., 0., 0., 0., 0., 0., 1.]),\n",
       "  'AK': array([0., 0., 0., 0., 0., 0., 0., 0., 0., 0., 0., 0., 0., 0., 0.])}}"
      ]
     },
     "execution_count": 66,
     "metadata": {},
     "output_type": "execute_result"
    }
   ],
   "source": [
    "Q.pairwise_code_mapper"
   ]
  },
  {
   "cell_type": "code",
   "execution_count": null,
   "id": "ead2f47f-9348-4e3d-97c0-92b3337b8219",
   "metadata": {},
   "outputs": [],
   "source": [
    "def _create_zero_mean_pairwise_weights(pairwise_weights, pairwise_feature_names, independent_feature_names): \n",
    "    \"\"\"\n",
    "    \"\"\"\n",
    "    pairwise_vals = np.copy(pairwise_weights) \n",
    "    pairwise_vals_old = np.copy(pairwise_vals) \n",
    "    # I need to normalize such that \\sum_j J_{ij} s_j = 0 so that we don't have an ambiguity in independent weight assignment h_i \n",
    "    TOLERANCE = 1e-12\n",
    "    MAXITER = 100000\n",
    "    num_iter = 0 \n",
    "    delta = np.inf\n",
    "    ## This is make sure \\sum_i J_ij and \\sum_j J_IJ  is zero\n",
    "    loc_pair_feature_names = np.asarray([a.split(':') for a in pairwise_feature_names]) \n",
    "    loc_pair_feature_names_split = np.asarray([re.split(':' + \"|\" + '-', a) for a in pairwise_feature_names]) \n",
    "\n",
    "    independent_features_split = np.asarray([a.split('-') for a in independent_feature_names]) \n",
    "    pos = np.unique(independent_features_split[:,0])\n",
    "    amino = np.unique(independent_features_split[:,1])\n",
    "\n",
    "    pos_pairs = np.unique(loc_pair_feature_names_split[:,[0,2]], axis = 0)\n",
    "    amino_pairs = np.unique(loc_pair_feature_names_split[:,[1,3]], axis = 0)\n",
    "\n",
    "    \n",
    "    while (delta > TOLERANCE) and (num_iter < MAXITER): \n",
    "        num_iter += 1 \n",
    "        for i in independent_feature_names: #circle through every independent feature  \n",
    "            pairwise_vals_old = np.copy(pairwise_vals) \n",
    "            inds1 = np.flatnonzero(loc_pair_feature_names[:, 0] == i) \n",
    "            inds2 = np.flatnonzero(loc_pair_feature_names[:, 1] == i) \n",
    "            inds = np.concatenate((inds1, inds2))\n",
    "            pairwise_vals[inds] -= np.mean(pairwise_vals[inds]) \n",
    "            delta1 = root_mean_squared_error(pairwise_vals, pairwise_vals_old) \n",
    "\n",
    "        # need to remove rank 1 components like J_ij =  \\sum_ab J_ij, ab\n",
    "        for p in pos_pairs: \n",
    "            inds = np.all(loc_pair_feature_names_split[:, [0,2]] == p, axis = 1)\n",
    "            pairwise_vals[inds] -= np.mean(pairwise_vals[inds]) \n",
    "            delta2 = root_mean_squared_error(pairwise_vals, pairwise_vals_old) \n",
    "        # now to reomve rank 1 components like J_ab = \\sum_ij J_ij,ab\n",
    "        # for a in amino_pairs: \n",
    "        #     inds = np.all(loc_pair_feature_names_split[:, [1,3]] == a, axis = 1)\n",
    "        #     pairwise_vals[inds] -= np.mean(pairwise_vals[inds]) \n",
    "        #     delta3 = root_mean_squared_error(pairwise_vals, pairwise_vals_old) \n",
    "        delta = np.max([delta1, delta2])#, delta3]) \n",
    "\n",
    "    \n",
    "    diff = np.zeros(len(independent_feature_names)) # find the individual weight diff (shift) needed to connrect the pairwise weights \n",
    "    for i, k in enumerate(independent_feature_names): #circle through every indepdnent feature  \n",
    "        inds1 = np.flatnonzero(loc_pair_feature_names[:, 0] == k)\n",
    "        inds2 = np.flatnonzero(loc_pair_feature_names[:, 1] == k)\n",
    "        inds = np.concatenate((inds1, inds2)) \n",
    "        diff[i] = 0.5*np.mean(pairwise_weights[inds]) #because every term is counted twice, once for s_i and and again for s_j \n",
    "    return pairwise_vals, diff \n"
   ]
  },
  {
   "cell_type": "code",
   "execution_count": 59,
   "id": "e9df0b9e-b72d-42d2-b9b3-511225b2bb54",
   "metadata": {},
   "outputs": [
    {
     "data": {
      "text/plain": [
       "['0:1-FQ',\n",
       " '0:1-HE',\n",
       " '0:1-HQ',\n",
       " '0:1-VE',\n",
       " '0:1-VQ',\n",
       " '0:1-FE',\n",
       " '0:2-FH',\n",
       " '0:2-FP',\n",
       " '0:2-FQ',\n",
       " '0:2-HA',\n",
       " '0:2-HH',\n",
       " '0:2-HP',\n",
       " '0:2-HQ',\n",
       " '0:2-VA',\n",
       " '0:2-VH',\n",
       " '0:2-VP',\n",
       " '0:2-VQ',\n",
       " '0:2-FA',\n",
       " '0:3-FE',\n",
       " '0:3-FF',\n",
       " '0:3-FG',\n",
       " '0:3-HA',\n",
       " '0:3-HE',\n",
       " '0:3-HF',\n",
       " '0:3-HG',\n",
       " '0:3-VA',\n",
       " '0:3-VE',\n",
       " '0:3-VF',\n",
       " '0:3-VG',\n",
       " '0:3-FA',\n",
       " '0:4-FC',\n",
       " '0:4-FD',\n",
       " '0:4-FV',\n",
       " '0:4-HC',\n",
       " '0:4-HD',\n",
       " '0:4-HK',\n",
       " '0:4-HV',\n",
       " '0:4-VC',\n",
       " '0:4-VD',\n",
       " '0:4-VK',\n",
       " '0:4-VV',\n",
       " '0:4-FK',\n",
       " '1:2-EH',\n",
       " '1:2-EP',\n",
       " '1:2-EQ',\n",
       " '1:2-QA',\n",
       " '1:2-QH',\n",
       " '1:2-QP',\n",
       " '1:2-QQ',\n",
       " '1:2-EA',\n",
       " '1:3-EE',\n",
       " '1:3-EF',\n",
       " '1:3-EG',\n",
       " '1:3-QA',\n",
       " '1:3-QE',\n",
       " '1:3-QF',\n",
       " '1:3-QG',\n",
       " '1:3-EA',\n",
       " '1:4-EC',\n",
       " '1:4-ED',\n",
       " '1:4-EV',\n",
       " '1:4-QC',\n",
       " '1:4-QD',\n",
       " '1:4-QK',\n",
       " '1:4-QV',\n",
       " '1:4-EK',\n",
       " '2:3-AE',\n",
       " '2:3-AF',\n",
       " '2:3-AG',\n",
       " '2:3-HA',\n",
       " '2:3-HE',\n",
       " '2:3-HF',\n",
       " '2:3-HG',\n",
       " '2:3-PA',\n",
       " '2:3-PE',\n",
       " '2:3-PF',\n",
       " '2:3-PG',\n",
       " '2:3-QA',\n",
       " '2:3-QE',\n",
       " '2:3-QF',\n",
       " '2:3-QG',\n",
       " '2:3-AA',\n",
       " '2:4-AC',\n",
       " '2:4-AD',\n",
       " '2:4-AV',\n",
       " '2:4-HC',\n",
       " '2:4-HD',\n",
       " '2:4-HK',\n",
       " '2:4-HV',\n",
       " '2:4-PC',\n",
       " '2:4-PD',\n",
       " '2:4-PK',\n",
       " '2:4-PV',\n",
       " '2:4-QC',\n",
       " '2:4-QD',\n",
       " '2:4-QK',\n",
       " '2:4-QV',\n",
       " '2:4-AK',\n",
       " '3:4-AC',\n",
       " '3:4-AD',\n",
       " '3:4-AV',\n",
       " '3:4-EC',\n",
       " '3:4-ED',\n",
       " '3:4-EK',\n",
       " '3:4-EV',\n",
       " '3:4-FC',\n",
       " '3:4-FD',\n",
       " '3:4-FK',\n",
       " '3:4-FV',\n",
       " '3:4-GC',\n",
       " '3:4-GD',\n",
       " '3:4-GK',\n",
       " '3:4-GV',\n",
       " '3:4-AK']"
      ]
     },
     "execution_count": 59,
     "metadata": {},
     "output_type": "execute_result"
    }
   ],
   "source": [
    "Q.feature_names_pairwise"
   ]
  },
  {
   "cell_type": "code",
   "execution_count": 61,
   "id": "d85f63e0-ccf1-421b-a88d-f8315174f7b1",
   "metadata": {},
   "outputs": [
    {
     "data": {
      "text/plain": [
       "104"
      ]
     },
     "execution_count": 61,
     "metadata": {},
     "output_type": "execute_result"
    }
   ],
   "source": [
    "len(model.pairwise_weights)"
   ]
  },
  {
   "cell_type": "code",
   "execution_count": 62,
   "id": "60ba9756-4543-4a52-b041-c70ba284486e",
   "metadata": {},
   "outputs": [
    {
     "data": {
      "text/plain": [
       "114"
      ]
     },
     "execution_count": 62,
     "metadata": {},
     "output_type": "execute_result"
    }
   ],
   "source": [
    "len(Q.feature_names_pairwise)"
   ]
  },
  {
   "cell_type": "code",
   "execution_count": 63,
   "id": "3be9f7cf-1b3f-4644-bc1c-acc7b31a42a4",
   "metadata": {},
   "outputs": [
    {
     "data": {
      "text/plain": [
       "np.int64(104)"
      ]
     },
     "execution_count": 63,
     "metadata": {},
     "output_type": "execute_result"
    }
   ],
   "source": [
    "Q.code_length_pairwise"
   ]
  },
  {
   "cell_type": "code",
   "execution_count": null,
   "id": "3efaa90a-a1d2-4ecf-b9fd-b31b8ad6bd0d",
   "metadata": {},
   "outputs": [],
   "source": []
  }
 ],
 "metadata": {
  "kernelspec": {
   "display_name": "Python 3 (ipykernel)",
   "language": "python",
   "name": "python3"
  },
  "language_info": {
   "codemirror_mode": {
    "name": "ipython",
    "version": 3
   },
   "file_extension": ".py",
   "mimetype": "text/x-python",
   "name": "python",
   "nbconvert_exporter": "python",
   "pygments_lexer": "ipython3",
   "version": "3.13.5"
  }
 },
 "nbformat": 4,
 "nbformat_minor": 5
}
