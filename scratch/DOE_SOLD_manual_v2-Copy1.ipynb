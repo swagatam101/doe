{
 "cells": [
  {
   "cell_type": "markdown",
   "id": "ab42dc72-66ea-429f-a81f-82d37e2b5d96",
   "metadata": {},
   "source": [
    "# USER MANUAL: How to use the simulator "
   ]
  },
  {
   "cell_type": "code",
   "execution_count": 1,
   "id": "8b8f6a95-680c-4fb5-b175-59082213effc",
   "metadata": {},
   "outputs": [],
   "source": [
    "import numpy as np\n",
    "import pandas as pd\n",
    "import matplotlib\n",
    "import matplotlib.pyplot as plt\n",
    "from Bio.Data import IUPACData\n",
    "from collections import defaultdict\n",
    "from itertools import product, combinations\n",
    "from scipy.spatial.distance import hamming\n",
    "import scipy.stats as ss\n",
    "import cvxpy as cp\n",
    "import sys\n",
    "\n",
    "sys.path.append(\"../\") \n",
    "import doe_utils\n",
    "\n",
    "# TEST MAKE AMINO ACID WORLD SMALL \n",
    "\n",
    "AMINO_ACIDS = doe_utils.AMINO_ACIDS"
   ]
  },
  {
   "cell_type": "markdown",
   "id": "e2455bfe-4504-4cdd-8ea2-d787c6e4b000",
   "metadata": {},
   "source": [
    "# For simulation, create a random parent amino acid sequence to create SOLD libraries from\n",
    "\n",
    "This is an example of a fully in silico path to test and understand the simulator. The functions in the simulator are written such that we can develop models from a given SOLD matrix.\n",
    "Deep mutational scan at multiple locaitons also conform to the SOLD matrix abstraction "
   ]
  },
  {
   "cell_type": "markdown",
   "id": "07d7e3ff-75c6-49a5-8f54-064a25dbaf76",
   "metadata": {},
   "source": [
    "## Pretend that a set of positions in the protein is mutated--create a sythesis SOLD matrix"
   ]
  },
  {
   "cell_type": "code",
   "execution_count": 2,
   "id": "4c7fee6e-7eb1-4a25-aca9-43f58df9dd74",
   "metadata": {},
   "outputs": [
    {
     "name": "stdout",
     "output_type": "stream",
     "text": [
      "Parent protein: GVFPWVSHDCLDQWKINRVKWQFKVDKHAKNYHVKYSDLGFEKVWPEKGSELRMLGPHTHRRVKMLSTGIHQPQFYGFHIQRMYPDQVVKSYSFNPTAYL\n",
      "Random mutaed positions [24 63 68 73 93]\n"
     ]
    },
    {
     "data": {
      "text/html": [
       "<div>\n",
       "<style scoped>\n",
       "    .dataframe tbody tr th:only-of-type {\n",
       "        vertical-align: middle;\n",
       "    }\n",
       "\n",
       "    .dataframe tbody tr th {\n",
       "        vertical-align: top;\n",
       "    }\n",
       "\n",
       "    .dataframe thead th {\n",
       "        text-align: right;\n",
       "    }\n",
       "</style>\n",
       "<table border=\"1\" class=\"dataframe\">\n",
       "  <thead>\n",
       "    <tr style=\"text-align: right;\">\n",
       "      <th></th>\n",
       "      <th>0</th>\n",
       "      <th>1</th>\n",
       "      <th>2</th>\n",
       "      <th>3</th>\n",
       "      <th>4</th>\n",
       "      <th>5</th>\n",
       "      <th>6</th>\n",
       "      <th>7</th>\n",
       "      <th>8</th>\n",
       "      <th>9</th>\n",
       "      <th>...</th>\n",
       "      <th>90</th>\n",
       "      <th>91</th>\n",
       "      <th>92</th>\n",
       "      <th>93</th>\n",
       "      <th>94</th>\n",
       "      <th>95</th>\n",
       "      <th>96</th>\n",
       "      <th>97</th>\n",
       "      <th>98</th>\n",
       "      <th>99</th>\n",
       "    </tr>\n",
       "  </thead>\n",
       "  <tbody>\n",
       "    <tr>\n",
       "      <th>A</th>\n",
       "      <td>0.0</td>\n",
       "      <td>0.0</td>\n",
       "      <td>0.0</td>\n",
       "      <td>0.0</td>\n",
       "      <td>0.0</td>\n",
       "      <td>0.0</td>\n",
       "      <td>0.0</td>\n",
       "      <td>0.0</td>\n",
       "      <td>0.0</td>\n",
       "      <td>0.0</td>\n",
       "      <td>...</td>\n",
       "      <td>0.0</td>\n",
       "      <td>0.0</td>\n",
       "      <td>0.0</td>\n",
       "      <td>0.00</td>\n",
       "      <td>0.0</td>\n",
       "      <td>0.0</td>\n",
       "      <td>0.0</td>\n",
       "      <td>0.0</td>\n",
       "      <td>0.0</td>\n",
       "      <td>0.0</td>\n",
       "    </tr>\n",
       "    <tr>\n",
       "      <th>C</th>\n",
       "      <td>0.0</td>\n",
       "      <td>0.0</td>\n",
       "      <td>0.0</td>\n",
       "      <td>0.0</td>\n",
       "      <td>0.0</td>\n",
       "      <td>0.0</td>\n",
       "      <td>0.0</td>\n",
       "      <td>0.0</td>\n",
       "      <td>0.0</td>\n",
       "      <td>0.0</td>\n",
       "      <td>...</td>\n",
       "      <td>0.0</td>\n",
       "      <td>0.0</td>\n",
       "      <td>0.0</td>\n",
       "      <td>0.00</td>\n",
       "      <td>0.0</td>\n",
       "      <td>0.0</td>\n",
       "      <td>0.0</td>\n",
       "      <td>0.0</td>\n",
       "      <td>0.0</td>\n",
       "      <td>0.0</td>\n",
       "    </tr>\n",
       "    <tr>\n",
       "      <th>D</th>\n",
       "      <td>0.0</td>\n",
       "      <td>0.0</td>\n",
       "      <td>0.0</td>\n",
       "      <td>0.0</td>\n",
       "      <td>0.0</td>\n",
       "      <td>0.0</td>\n",
       "      <td>0.0</td>\n",
       "      <td>0.0</td>\n",
       "      <td>0.0</td>\n",
       "      <td>0.0</td>\n",
       "      <td>...</td>\n",
       "      <td>0.0</td>\n",
       "      <td>0.0</td>\n",
       "      <td>0.0</td>\n",
       "      <td>0.00</td>\n",
       "      <td>0.0</td>\n",
       "      <td>0.0</td>\n",
       "      <td>0.0</td>\n",
       "      <td>0.0</td>\n",
       "      <td>0.0</td>\n",
       "      <td>0.0</td>\n",
       "    </tr>\n",
       "    <tr>\n",
       "      <th>E</th>\n",
       "      <td>0.0</td>\n",
       "      <td>0.0</td>\n",
       "      <td>0.0</td>\n",
       "      <td>0.0</td>\n",
       "      <td>0.0</td>\n",
       "      <td>0.0</td>\n",
       "      <td>0.0</td>\n",
       "      <td>0.0</td>\n",
       "      <td>0.0</td>\n",
       "      <td>0.0</td>\n",
       "      <td>...</td>\n",
       "      <td>0.0</td>\n",
       "      <td>0.0</td>\n",
       "      <td>0.0</td>\n",
       "      <td>0.00</td>\n",
       "      <td>0.0</td>\n",
       "      <td>0.0</td>\n",
       "      <td>0.0</td>\n",
       "      <td>0.0</td>\n",
       "      <td>0.0</td>\n",
       "      <td>0.0</td>\n",
       "    </tr>\n",
       "    <tr>\n",
       "      <th>F</th>\n",
       "      <td>0.0</td>\n",
       "      <td>0.0</td>\n",
       "      <td>0.0</td>\n",
       "      <td>0.0</td>\n",
       "      <td>0.0</td>\n",
       "      <td>0.0</td>\n",
       "      <td>0.0</td>\n",
       "      <td>0.0</td>\n",
       "      <td>0.0</td>\n",
       "      <td>0.0</td>\n",
       "      <td>...</td>\n",
       "      <td>0.0</td>\n",
       "      <td>0.0</td>\n",
       "      <td>0.0</td>\n",
       "      <td>0.25</td>\n",
       "      <td>0.0</td>\n",
       "      <td>0.0</td>\n",
       "      <td>0.0</td>\n",
       "      <td>0.0</td>\n",
       "      <td>0.0</td>\n",
       "      <td>0.0</td>\n",
       "    </tr>\n",
       "  </tbody>\n",
       "</table>\n",
       "<p>5 rows × 100 columns</p>\n",
       "</div>"
      ],
      "text/plain": [
       "    0    1    2    3    4    5    6    7    8    9   ...   90   91   92    93  \\\n",
       "A  0.0  0.0  0.0  0.0  0.0  0.0  0.0  0.0  0.0  0.0  ...  0.0  0.0  0.0  0.00   \n",
       "C  0.0  0.0  0.0  0.0  0.0  0.0  0.0  0.0  0.0  0.0  ...  0.0  0.0  0.0  0.00   \n",
       "D  0.0  0.0  0.0  0.0  0.0  0.0  0.0  0.0  0.0  0.0  ...  0.0  0.0  0.0  0.00   \n",
       "E  0.0  0.0  0.0  0.0  0.0  0.0  0.0  0.0  0.0  0.0  ...  0.0  0.0  0.0  0.00   \n",
       "F  0.0  0.0  0.0  0.0  0.0  0.0  0.0  0.0  0.0  0.0  ...  0.0  0.0  0.0  0.25   \n",
       "\n",
       "    94   95   96   97   98   99  \n",
       "A  0.0  0.0  0.0  0.0  0.0  0.0  \n",
       "C  0.0  0.0  0.0  0.0  0.0  0.0  \n",
       "D  0.0  0.0  0.0  0.0  0.0  0.0  \n",
       "E  0.0  0.0  0.0  0.0  0.0  0.0  \n",
       "F  0.0  0.0  0.0  0.0  0.0  0.0  \n",
       "\n",
       "[5 rows x 100 columns]"
      ]
     },
     "execution_count": 2,
     "metadata": {},
     "output_type": "execute_result"
    }
   ],
   "source": [
    "length_of_protein = 100\n",
    "num_mutated = 5\n",
    "sold_mat_df, parent, mut_dict = doe_utils.create_synthetic_SOLD_matrix(num_mutated, length_of_protein, mut_probs = [0.25, 0.25, 0.25], parent_prob=0.25) #6 postions mutated, pprtein length is 100 \n",
    "sold_mat_df.head() \n",
    "    "
   ]
  },
  {
   "cell_type": "markdown",
   "id": "96dbdfa2-f20e-4f04-8331-b915c758301d",
   "metadata": {},
   "source": [
    "# Plot the SOLD matrix "
   ]
  },
  {
   "cell_type": "code",
   "execution_count": 3,
   "id": "39946f90-bda6-4cdf-a9a4-309d9d5969a9",
   "metadata": {},
   "outputs": [
    {
     "data": {
      "image/png": "[encoded data removed]",
      "text/plain": [
       "<Figure size 1800x500 with 1 Axes>"
      ]
     },
     "metadata": {},
     "output_type": "display_data"
    }
   ],
   "source": [
    "plt.figure(figsize = (18,5))\n",
    "plt.imshow(sold_mat_df, aspect = 'auto', cmap = 'grey_r') \n",
    "_  = plt.xticks(range(length_of_protein), rotation = 90)\n",
    "_  = plt.yticks(range(len(AMINO_ACIDS)), AMINO_ACIDS)\n"
   ]
  },
  {
   "cell_type": "markdown",
   "id": "e8bba3a2-d854-4c7f-a637-51aab707bebb",
   "metadata": {},
   "source": [
    "# Now let's try to draw mutated sequences from this matrix \n",
    "\n",
    "Above I have created a simple SOLD mat, but I want to make tools such that everything below will work with any experimentalist provided SOLD mat"
   ]
  },
  {
   "cell_type": "code",
   "execution_count": 4,
   "id": "092fa79c-2ec5-405a-b31f-ba4e3635671c",
   "metadata": {},
   "outputs": [],
   "source": [
    "S = doe_utils.SOLD(sold_mat_df)\n",
    "seqs, mutations = S.generate_sequences(10000)"
   ]
  },
  {
   "cell_type": "code",
   "execution_count": 5,
   "id": "2b0670e0-2122-4dee-a309-79cb275df39f",
   "metadata": {},
   "outputs": [
    {
     "data": {
      "text/plain": [
       "'IKNPF'"
      ]
     },
     "execution_count": 5,
     "metadata": {},
     "output_type": "execute_result"
    }
   ],
   "source": [
    "seqs[0]"
   ]
  },
  {
   "cell_type": "code",
   "execution_count": 6,
   "id": "6a88fa1b-185a-42b9-992b-b989199dda0a",
   "metadata": {},
   "outputs": [],
   "source": [
    "probs = S.compute_prob_n_mutations(num_mutated+1)"
   ]
  },
  {
   "cell_type": "code",
   "execution_count": 7,
   "id": "7e6d36df-bccc-4639-a380-95e1bb47c0ed",
   "metadata": {},
   "outputs": [
    {
     "data": {
      "text/plain": [
       "Text(0.5, 1.0, 'Sanity check: theory vs empirical counts \\n of mutations observed in sampling using a SOLD mat')"
      ]
     },
     "execution_count": 7,
     "metadata": {},
     "output_type": "execute_result"
    },
    {
     "data": {
      "image/png": "[encoded data removed]",
      "text/plain": [
       "<Figure size 640x480 with 1 Axes>"
      ]
     },
     "metadata": {},
     "output_type": "display_data"
    }
   ],
   "source": [
    "plt.hist(mutations, bins= np.array(range(10)) - 0.25, density = True, align = \"mid\", width = 0.5) \n",
    "plt.ylabel('probability')\n",
    "plt.xlabel('count of mutations') \n",
    "plt.plot(probs)\n",
    "plt.title(\"Sanity check: theory vs empirical counts \\n of mutations observed in sampling using a SOLD mat\")"
   ]
  },
  {
   "cell_type": "markdown",
   "id": "408bd93e-caac-4322-8306-a4d920ef218c",
   "metadata": {},
   "source": [
    "# Now I need to provide weights to the independent and pairwise contributions\n",
    "\n",
    "I create a mixture of pdfs to draw from, with a zero component (meaning not all independent and pairwise contributions have differential activity compared to parent, some have no effect, and one can control this effect size or model complexity in these simulations) \n",
    "Create a mixture of weigthts with random components and some sparse components "
   ]
  },
  {
   "cell_type": "code",
   "execution_count": 8,
   "id": "0032f0ed-0de9-4c52-b167-996148ce8d52",
   "metadata": {},
   "outputs": [
    {
     "ename": "TypeError",
     "evalue": "_create_zero_mean_indepedent_feature_weights() missing 1 required positional argument: 'independent_feature_names'",
     "output_type": "error",
     "traceback": [
      "\u001b[31m---------------------------------------------------------------------------\u001b[39m",
      "\u001b[31mTypeError\u001b[39m                                 Traceback (most recent call last)",
      "\u001b[36mCell\u001b[39m\u001b[36m \u001b[39m\u001b[32mIn[8]\u001b[39m\u001b[32m, line 5\u001b[39m\n\u001b[32m      1\u001b[39m I_params = {\u001b[33m'\u001b[39m\u001b[33mrho\u001b[39m\u001b[33m'\u001b[39m:[\u001b[32m0.49\u001b[39m, \u001b[32m0.49\u001b[39m], \u001b[33m'\u001b[39m\u001b[33msparse_pdf_names\u001b[39m\u001b[33m'\u001b[39m: [\u001b[33m'\u001b[39m\u001b[33mnorm\u001b[39m\u001b[33m'\u001b[39m, \u001b[33m'\u001b[39m\u001b[33mnorm\u001b[39m\u001b[33m'\u001b[39m], \u001b[33m'\u001b[39m\u001b[33mnoise_sigma\u001b[39m\u001b[33m'\u001b[39m : \u001b[32m0.01\u001b[39m, \u001b[33m'\u001b[39m\u001b[33msparse_params\u001b[39m\u001b[33m'\u001b[39m: [{\u001b[33m'\u001b[39m\u001b[33mloc\u001b[39m\u001b[33m'\u001b[39m: \u001b[32m1\u001b[39m, \u001b[33m'\u001b[39m\u001b[33mscale\u001b[39m\u001b[33m'\u001b[39m: \u001b[32m0.2\u001b[39m}, {\u001b[33m'\u001b[39m\u001b[33mloc\u001b[39m\u001b[33m'\u001b[39m: -\u001b[32m1\u001b[39m, \u001b[33m'\u001b[39m\u001b[33mscale\u001b[39m\u001b[33m'\u001b[39m: \u001b[32m0.2\u001b[39m}]} \n\u001b[32m      2\u001b[39m P_params = {\u001b[33m'\u001b[39m\u001b[33mrho\u001b[39m\u001b[33m'\u001b[39m:[\u001b[32m0.49\u001b[39m, \u001b[32m0.49\u001b[39m], \u001b[33m'\u001b[39m\u001b[33msparse_pdf_names\u001b[39m\u001b[33m'\u001b[39m: [\u001b[33m'\u001b[39m\u001b[33mnorm\u001b[39m\u001b[33m'\u001b[39m, \u001b[33m'\u001b[39m\u001b[33mnorm\u001b[39m\u001b[33m'\u001b[39m], \u001b[33m'\u001b[39m\u001b[33mnoise_sigma\u001b[39m\u001b[33m'\u001b[39m : \u001b[32m0.01\u001b[39m, \u001b[33m'\u001b[39m\u001b[33msparse_params\u001b[39m\u001b[33m'\u001b[39m: [{\u001b[33m'\u001b[39m\u001b[33mloc\u001b[39m\u001b[33m'\u001b[39m: \u001b[32m0.75\u001b[39m, \u001b[33m'\u001b[39m\u001b[33mscale\u001b[39m\u001b[33m'\u001b[39m: \u001b[32m0.2\u001b[39m}, {\u001b[33m'\u001b[39m\u001b[33mloc\u001b[39m\u001b[33m'\u001b[39m: -\u001b[32m0.75\u001b[39m, \u001b[33m'\u001b[39m\u001b[33mscale\u001b[39m\u001b[33m'\u001b[39m: \u001b[32m0.2\u001b[39m}]} \n\u001b[32m----> \u001b[39m\u001b[32m5\u001b[39m Model_in_silico = \u001b[43mdoe_utils\u001b[49m\u001b[43m.\u001b[49m\u001b[43mcreate_in_silico_model\u001b[49m\u001b[43m(\u001b[49m\u001b[43mnum_mutated\u001b[49m\u001b[43m,\u001b[49m\u001b[43m \u001b[49m\u001b[43mS\u001b[49m\u001b[43m.\u001b[49m\u001b[43mmutation_probs_variable_region_indexed\u001b[49m\u001b[43m,\u001b[49m\u001b[43m \u001b[49m\u001b[43mindependent_params\u001b[49m\u001b[43m=\u001b[49m\u001b[43mI_params\u001b[49m\u001b[43m,\u001b[49m\u001b[43m \u001b[49m\u001b[43mpairwise_params\u001b[49m\u001b[43m=\u001b[49m\u001b[43mP_params\u001b[49m\u001b[43m)\u001b[49m\n\u001b[32m      6\u001b[39m Model_in_silico.plot_weights()\n",
      "\u001b[36mFile \u001b[39m\u001b[32m~/PythonProjects/doe/doe_utils.py:472\u001b[39m, in \u001b[36mcreate_in_silico_model.__init__\u001b[39m\u001b[34m(self, mutated_region_length, mutation_probs_variable_region_dict, independent_params, pairwise_params)\u001b[39m\n\u001b[32m    470\u001b[39m \u001b[38;5;28mself\u001b[39m.independent_weights = np.copy(\u001b[38;5;28mself\u001b[39m.raw_independent_weights)\n\u001b[32m    471\u001b[39m \u001b[38;5;28mself\u001b[39m.independent_weights[~\u001b[38;5;28mself\u001b[39m.independent_mask] = \u001b[32m0\u001b[39m \u001b[38;5;66;03m# only keep the masked weights \u001b[39;00m\n\u001b[32m--> \u001b[39m\u001b[32m472\u001b[39m independent_vals = \u001b[43m_create_zero_mean_indepedent_feature_weights\u001b[49m\u001b[43m(\u001b[49m\u001b[38;5;28;43mself\u001b[39;49m\u001b[43m.\u001b[49m\u001b[43mraw_independent_weights\u001b[49m\u001b[43m[\u001b[49m\u001b[38;5;28;43mself\u001b[39;49m\u001b[43m.\u001b[49m\u001b[43mindependent_mask\u001b[49m\u001b[43m]\u001b[49m\u001b[43m)\u001b[49m \n\u001b[32m    473\u001b[39m \u001b[38;5;28mself\u001b[39m.independent_weights[\u001b[38;5;28mself\u001b[39m.independent_mask] = independent_vals\n\u001b[32m    475\u001b[39m \u001b[38;5;66;03m# now normalize pairwise masks \u001b[39;00m\n",
      "\u001b[31mTypeError\u001b[39m: _create_zero_mean_indepedent_feature_weights() missing 1 required positional argument: 'independent_feature_names'"
     ]
    }
   ],
   "source": [
    "I_params = {'rho':[0.49, 0.49], 'sparse_pdf_names': ['norm', 'norm'], 'noise_sigma' : 0.01, 'sparse_params': [{'loc': 1, 'scale': 0.2}, {'loc': -1, 'scale': 0.2}]} \n",
    "P_params = {'rho':[0.49, 0.49], 'sparse_pdf_names': ['norm', 'norm'], 'noise_sigma' : 0.01, 'sparse_params': [{'loc': 0.75, 'scale': 0.2}, {'loc': -0.75, 'scale': 0.2}]} \n",
    "\n",
    "\n",
    "Model_in_silico = doe_utils.create_in_silico_model(num_mutated, S.mutation_probs_variable_region_indexed, independent_params=I_params, pairwise_params=P_params)\n",
    "Model_in_silico.plot_weights()"
   ]
  },
  {
   "cell_type": "code",
   "execution_count": null,
   "id": "6185b4b0-8802-40b6-8116-1c0fd709ae4d",
   "metadata": {},
   "outputs": [],
   "source": [
    "np.sum(Model_in_silico.pairwise_weights, axis = 0)"
   ]
  },
  {
   "cell_type": "code",
   "execution_count": null,
   "id": "5af3d362-acf7-42ee-8047-25e5872475ff",
   "metadata": {},
   "outputs": [],
   "source": [
    "Model_in_silico.independent_params"
   ]
  },
  {
   "cell_type": "markdown",
   "id": "9647d771-029c-47e9-a490-0d97f51aabac",
   "metadata": {},
   "source": [
    "# Now compute respose for a bunch of seqs\n",
    "\n",
    "Need to eocnde the sequeces into pairwise and independent features \n"
   ]
  },
  {
   "cell_type": "markdown",
   "id": "fc5b790b-c9a0-45fd-ac4f-94f5345f3914",
   "metadata": {},
   "source": [
    "# ENCODE"
   ]
  },
  {
   "cell_type": "code",
   "execution_count": null,
   "id": "97e1bdb3-0672-46d4-ab64-b7e2312bcd09",
   "metadata": {},
   "outputs": [],
   "source": [
    "Encoder = doe_utils.sequence_encoder(num_mutated)\n",
    "encodings = Encoder.encode_seqs(seqs) # this produces two lists --- the first 1 is the independent encodings, the second one is pairwise encodings "
   ]
  },
  {
   "cell_type": "code",
   "execution_count": null,
   "id": "7194cc23-c05f-4ffc-a227-d78b8622f7bb",
   "metadata": {},
   "outputs": [],
   "source": [
    "responses = Model_in_silico.model(encodings[0], encodings[1], masked= True) "
   ]
  },
  {
   "cell_type": "code",
   "execution_count": null,
   "id": "d87f6b03-cba5-4162-a53b-27abdb7d92bf",
   "metadata": {},
   "outputs": [],
   "source": [
    "_ = plt.hist(responses, bins = 25)\n",
    "plt.title(\"in silico responses (indel activity)\") "
   ]
  },
  {
   "cell_type": "markdown",
   "id": "420ff8c3-93a4-43ac-8a37-7bd5f4f843ce",
   "metadata": {},
   "source": [
    "# Now do sparse (elastic net) linear regression to learn back the weights "
   ]
  },
  {
   "cell_type": "code",
   "execution_count": null,
   "id": "89a57c64-2544-4ae4-9b64-b57c2e410814",
   "metadata": {},
   "outputs": [],
   "source": [
    "fit_model = doe_utils.fitting_model(S.mutation_probs_variable_region_indexed)\n",
    "fitted_params, fit_responses = fit_model.fit(seqs, responses)\n",
    "plt.figure() \n",
    "plt.scatter(Model_in_silico.ground_truth_params, fitted_params)\n",
    "plt.xlabel(\"ground truth\") \n",
    "plt.ylabel(\"fitted params\") \n",
    "\n"
   ]
  },
  {
   "cell_type": "code",
   "execution_count": null,
   "id": "dec71ea0-6142-4cc0-8a8e-4d544792a7f7",
   "metadata": {},
   "outputs": [],
   "source": [
    "import scipy \n",
    "\n",
    "plt.plot(scipy.linalg.svdvals(fit_model.features.T.dot(fit_model.features)))\n",
    "\n",
    "plt.title('Null space problem, we have zero eigenvalues in feature matrix')\n",
    "plt.yscale('log')"
   ]
  },
  {
   "cell_type": "code",
   "execution_count": null,
   "id": "c4016a23-02f8-46e1-9742-a8e065591ce2",
   "metadata": {},
   "outputs": [],
   "source": [
    "plt.scatter(fitted_params[fit_model.pairwise_indices], Model_in_silico.pairwise_weights[Model_in_silico.pairwise_mask])"
   ]
  },
  {
   "cell_type": "code",
   "execution_count": null,
   "id": "25b83bd9-516c-484b-a479-9488bebee21b",
   "metadata": {},
   "outputs": [],
   "source": [
    "A, B = doe_utils._create_zero_mean_pairwise_weights(fitted_params[fit_model.pairwise_indices], Model_in_silico.feature_names_pairwise, Model_in_silico.feature_names_independent)"
   ]
  },
  {
   "cell_type": "code",
   "execution_count": null,
   "id": "1691ed02-c767-4fd7-8d4c-db567814aeb3",
   "metadata": {},
   "outputs": [],
   "source": [
    "plt.scatter(A, Model_in_silico.pairwise_weights[Model_in_silico.pairwise_mask])"
   ]
  },
  {
   "cell_type": "code",
   "execution_count": null,
   "id": "1e33adbf-c264-47e2-9864-4c7f2194fd37",
   "metadata": {},
   "outputs": [],
   "source": [
    "c_mat = doe_utils._create_constraint_mat(Model_in_silico.feature_names_pairwise, Model_in_silico.feature_names_independent) "
   ]
  },
  {
   "cell_type": "code",
   "execution_count": null,
   "id": "9c3466f6-07c6-4d4c-8c6c-c4e7c2be3c89",
   "metadata": {},
   "outputs": [],
   "source": [
    "from sklearn.metrics import root_mean_squared_error\n",
    "import re\n",
    "\n",
    "def _create_zero_mean_pairwise_weights(pairwise_weights, pairwise_feature_names, independent_feature_names): \n",
    "    \"\"\"\n",
    "    Internal function to create legal pairwise weights\n",
    "    J_{ia,jb} are the interaction epistatic terms \n",
    "    h_ia are the indepedent \n",
    "    I need to normalize such that any term in J_{ia,jb} cannot be explained away by h_ia ... \n",
    "    for exmaple, h_ia = sum_jb J_{ia, jb} for all the jb (poistion, amino acid) epistatic terms of ia (position i, amino acid a) \n",
    "    For every position i, pairing with all positions j, we need make sure  that the sum, sum_j J_ij = 0  \n",
    "    We also need to do this for every amino acid pairs ab, for all positions, so sum_a J_ab = 0 irrespective of position \n",
    "    AND, for every feature ia for all it's partners jb we need to make sure sum_jb J_{ia,jb} = 0 \n",
    "\n",
    "    This is because if for any a the term is not zero, that means there is abias for a ... but bias in a is captured in sum_i J_ia \n",
    "    But sum over a is the result for i, so we don't have to do this separetly \n",
    "    \n",
    "    Args: \n",
    "        pairwise_weights: see in slico model class, this is the vecotor of pairwise weights \n",
    "        pairwise_feature_names: This are the names of the pariwise features \n",
    "        independent_feature_names: independnt features \n",
    "        \n",
    "    \"\"\"\n",
    "    pairwise_vals = np.copy(pairwise_weights) \n",
    "    pairwise_vals_old = np.copy(pairwise_vals) \n",
    "    # I need to normalize such that \\sum_j J_{ij} s_j = 0 so that we don't have an ambiguity in independent weight assignment h_i \n",
    "    TOLERANCE = 1e-12\n",
    "    MAXITER = 100000\n",
    "    num_iter = 0 \n",
    "    delta = np.inf\n",
    "    ## This is make sure \\sum_i J_ij and \\sum_j J_IJ  is zero\n",
    "    loc_feature_names = np.asarray([a.split(':') for a in pairwise_feature_names]) \n",
    "    #loc_feature_names_2 = np.asarray([re.split(':' + \"|\" + '-', a) for a in pairwise_feature_names]) \n",
    "\n",
    "    independent_features_split = np.asarray([a.split('-') for a in independent_feature_names]) \n",
    "    pos = np.unique(independent_features_split[:,0])\n",
    "    amino = np.unique(independent_features_split[:,1])\n",
    "    while (delta > TOLERANCE) and (num_iter < MAXITER): \n",
    "        num_iter += 1 \n",
    "        for i in independent_feature_names: #circle through every independent feature  \n",
    "            pairwise_vals_old = np.copy(pairwise_vals) \n",
    "            inds1 = np.flatnonzero(loc_feature_names[:, 0] == i) \n",
    "            inds2 = np.flatnonzero(loc_feature_names[:, 1] == i) \n",
    "            inds = np.concatenate((inds1, inds2))\n",
    "            pairwise_vals[inds] -= np.mean(pairwise_vals[inds]) \n",
    "            delta = root_mean_squared_error(pairwise_vals, pairwise_vals_old) \n",
    "            \n",
    "    diff = np.zeros(len(independent_feature_names)) # find the individual weight diff (shift) needed to connrect the pairwise weights \n",
    "    for i, k in enumerate(independent_feature_names): #circle through every indepdnent feature  \n",
    "        inds1 = np.flatnonzero(loc_feature_names[:, 0] == k)\n",
    "        inds2 = np.flatnonzero(loc_feature_names[:, 1] == k)\n",
    "        inds = np.concatenate((inds1, inds2)) \n",
    "        diff[i] = 0.5*np.mean(pairwise_weights[inds]) #because every term is counted twice, once for s_i and and again for s_j \n",
    "    return pairwise_vals, diff "
   ]
  },
  {
   "cell_type": "code",
   "execution_count": null,
   "id": "56d96a37-b974-4dde-9184-fd036e2a85c2",
   "metadata": {},
   "outputs": [],
   "source": [
    "loc_feature_names_2 = np.asarray([re.split(':' + \"|\" + '-', a) for a in Model_in_silico.feature_names_pairwise ]) \n",
    "\n"
   ]
  },
  {
   "cell_type": "code",
   "execution_count": null,
   "id": "3ad6dd93-d80b-427d-b159-c0844fd57be6",
   "metadata": {},
   "outputs": [],
   "source": [
    "A, delta = _create_zero_mean_pairwise_weights(Model_in_silico.raw_pairwise_weights, Model_in_silico.feature_names_pairwise, Model_in_silico.feature_names_independent)"
   ]
  },
  {
   "cell_type": "code",
   "execution_count": null,
   "id": "6195311f-7da9-4bc8-a30d-54c1127c8db2",
   "metadata": {},
   "outputs": [],
   "source": [
    "B, delta2 = _create_zero_mean_pairwise_weights(Model_in_silico.raw_pairwise_weights, Model_in_silico.feature_names_pairwise, Model_in_silico.feature_names_independent)"
   ]
  },
  {
   "cell_type": "code",
   "execution_count": null,
   "id": "0887d766-1826-458c-9564-b132d8bfd6ed",
   "metadata": {},
   "outputs": [],
   "source": [
    "plt.plot(delta)\n",
    "plt.plot(delta2, '--')"
   ]
  },
  {
   "cell_type": "code",
   "execution_count": null,
   "id": "c84a25d2-6dfa-48f0-8809-ec599d342d53",
   "metadata": {},
   "outputs": [],
   "source": []
  },
  {
   "cell_type": "code",
   "execution_count": null,
   "id": "7709aa06-0a76-45e1-ae0c-3ac84cb812f0",
   "metadata": {},
   "outputs": [],
   "source": []
  },
  {
   "cell_type": "code",
   "execution_count": null,
   "id": "787d4d92-ce2b-4873-a56f-955bf27304d6",
   "metadata": {},
   "outputs": [],
   "source": [
    "\n",
    "def _create_constraint_mat(pairwise_feature_names, independent_feature_names): \n",
    "    \"\"\"\n",
    "    Internal function to create constrained mat\n",
    "\n",
    "    There are two kinds of constraints \n",
    "    sum_i J_ij = 0 \n",
    "    sum_j J_ij = 0 for every feature i, j \n",
    "\n",
    "    I also need to create constraint mat for sum over every position of all features is zero \n",
    "    so sum_a h_ia where now h_ia is the weight for ith position and amino acid a \n",
    "    This implies h'_j  := sum_i J_ij also must be zero when we sum this over the the position p \n",
    "    where j = (p,a), the position and amino acid together make the feature\n",
    "    Args: \n",
    "        pairwise_feature_names: This are the names of the pariwsie features \n",
    "        inpdendent_feature_names: names of independent features \n",
    "    \"\"\"\n",
    "\n",
    "    split_pair_feature_names = np.asarray([a.split(':') for a in pairwise_feature_names]) \n",
    "    L = len(pairwise_feature_names)\n",
    "    constrained_mat_J = [] \n",
    "    for i in independent_feature_names: #circle through every indepednent feature \n",
    "        local_vec = np.zeros(L) \n",
    "        inds1 = np.flatnonzero(split_pair_feature_names[:, 0] == i) \n",
    "        inds2 = np.flatnonzero(split_pair_feature_names[:, 1] == i) \n",
    "        inds = np.concatenate((inds1, inds2)) \n",
    "        local_vec[inds] = 1\n",
    "        constrained_mat_J.append(local_vec) \n",
    "\n",
    "    pos_feat_independent = np.asarray([a.split('-') for a in independent_feature_names])\n",
    "    K = len(independent_feature_names) \n",
    "    pos = np.unique(pos_feat_independent[:,0])\n",
    "    constrained_mat_H = [] \n",
    "    \n",
    "    for i in pos:\n",
    "        local_vec = np.zeros(K)\n",
    "        inds = np.flatnonzero(pos_feat_independent[:,0] == i) \n",
    "        local_vec[inds] = 1\n",
    "        constrained_mat_H.append(local_vec) \n",
    "\n",
    "\n",
    "    constrained_mat_H = np.asarray(constrained_mat_H) \n",
    "    constrained_mat_J = np.asarray(constrained_mat_J)\n",
    "\n",
    "    # Now I need to concatenate all of this -- and add zeros for the h features and J features \n",
    "    temp = np.zeros((len(constrained_mat_J), K))\n",
    "    c_mat_1 = np.hstack((temp, constrained_mat_J))\n",
    "\n",
    "    num_pairwise = len(pairwise_feature_names)\n",
    "    temp = np.zeros((len(constrained_mat_H),L))\n",
    "    c_mat_2 = np.hstack((constrained_mat_H, temp))\n",
    "    cmat = np.vstack((c_mat_1, c_mat_2)) \n",
    "    return cmat"
   ]
  },
  {
   "cell_type": "code",
   "execution_count": null,
   "id": "5f03b47f-851f-48c2-88ca-aeb1c2179831",
   "metadata": {},
   "outputs": [],
   "source": [
    "def _create_zero_mean_indepedent_feature_weights(independent_weights, independent_feature_names): \n",
    "    \"\"\"\n",
    "    Get rid of null space by making sure that the independent features at every position do not have bias of position alone \n",
    "    which should be fitted separately \n",
    "    Args: \n",
    "        independent_weights \n",
    "        independent_feature_names \n",
    "    \"\"\"\n",
    "    independent_vals = np.copy(independent_weights) \n",
    "    pos_feat_independent = np.asarray([a.split('-') for a in independent_feature_names])\n",
    "    pos = np.unique(pos_feat_independent[:,0]) \n",
    "    for i in pos:\n",
    "        inds = np.flatnonzero(pos_feat_independent[:, 0] == i) \n",
    "        independent_vals[inds] -= np.mean(independent_vals[inds]) \n",
    "\n",
    "    return independent_vals"
   ]
  },
  {
   "cell_type": "code",
   "execution_count": null,
   "id": "b53bc7a2-5ae8-4131-aaef-a1a4a886c931",
   "metadata": {},
   "outputs": [],
   "source": [
    "_create_zero_mean_indepedent_feature_weights(Model_in_silico.independent_weights, Model_in_silico.feature_names_independent)"
   ]
  },
  {
   "cell_type": "code",
   "execution_count": null,
   "id": "61d5650f-38bd-415b-9ec4-9dd68f85cc18",
   "metadata": {},
   "outputs": [],
   "source": []
  }
 ],
 "metadata": {
  "kernelspec": {
   "display_name": "Python 3 (ipykernel)",
   "language": "python",
   "name": "python3"
  },
  "language_info": {
   "codemirror_mode": {
    "name": "ipython",
    "version": 3
   },
   "file_extension": ".py",
   "mimetype": "text/x-python",
   "name": "python",
   "nbconvert_exporter": "python",
   "pygments_lexer": "ipython3",
   "version": "3.13.5"
  }
 },
 "nbformat": 4,
 "nbformat_minor": 5
}
