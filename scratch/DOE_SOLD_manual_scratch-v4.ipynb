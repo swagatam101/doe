{
 "cells": [
  {
   "cell_type": "markdown",
   "id": "ab42dc72-66ea-429f-a81f-82d37e2b5d96",
   "metadata": {},
   "source": [
    "# Create HAdamard encoding "
   ]
  },
  {
   "cell_type": "code",
   "execution_count": 1,
   "id": "8b8f6a95-680c-4fb5-b175-59082213effc",
   "metadata": {},
   "outputs": [],
   "source": [
    "import numpy as np\n",
    "import pandas as pd\n",
    "import matplotlib\n",
    "import matplotlib.pyplot as plt\n",
    "from Bio.Data import IUPACData\n",
    "from collections import defaultdict\n",
    "from itertools import product, combinations\n",
    "from scipy.spatial.distance import hamming\n",
    "import scipy.stats as ss\n",
    "import cvxpy as cp\n",
    "import sys\n",
    "import scipy.linalg as sl\n",
    "\n",
    "sys.path.append(\"../\") \n",
    "import doe_utils\n",
    "\n",
    "# TEST MAKE AMINO ACID WORLD SMALL \n",
    "\n",
    "AMINO_ACIDS = doe_utils.AMINO_ACIDS\n"
   ]
  },
  {
   "cell_type": "markdown",
   "id": "e2455bfe-4504-4cdd-8ea2-d787c6e4b000",
   "metadata": {},
   "source": [
    "# For simulation, create a random parent amino acid sequence to create SOLD libraries from\n",
    "\n",
    "This is an example of a fully in silico path to test and understand the simulator. The functions in the simulator are written such that we can develop models from a given SOLD matrix.\n",
    "Deep mutational scan at multiple locaitons also conform to the SOLD matrix abstraction "
   ]
  },
  {
   "cell_type": "markdown",
   "id": "07d7e3ff-75c6-49a5-8f54-064a25dbaf76",
   "metadata": {},
   "source": [
    "## Pretend that a set of positions in the protein is mutated--create a sythesis SOLD matrix"
   ]
  },
  {
   "cell_type": "code",
   "execution_count": 2,
   "id": "4c7fee6e-7eb1-4a25-aca9-43f58df9dd74",
   "metadata": {},
   "outputs": [
    {
     "name": "stdout",
     "output_type": "stream",
     "text": [
      "Parent protein: ELWQIMVVEFLFITHLPFANPRETPKWFTPTHKQTHYCEQIYCKACMTDEGVSSGEHDNHEYGCWTKHDMTHRPMTVWHEMWMHPRYSVTMDPMRMLQLL\n",
      "Random mutaed positions [ 1  7 26 77]\n"
     ]
    },
    {
     "data": {
      "text/html": [
       "<div>\n",
       "<style scoped>\n",
       "    .dataframe tbody tr th:only-of-type {\n",
       "        vertical-align: middle;\n",
       "    }\n",
       "\n",
       "    .dataframe tbody tr th {\n",
       "        vertical-align: top;\n",
       "    }\n",
       "\n",
       "    .dataframe thead th {\n",
       "        text-align: right;\n",
       "    }\n",
       "</style>\n",
       "<table border=\"1\" class=\"dataframe\">\n",
       "  <thead>\n",
       "    <tr style=\"text-align: right;\">\n",
       "      <th></th>\n",
       "      <th>0</th>\n",
       "      <th>1</th>\n",
       "      <th>2</th>\n",
       "      <th>3</th>\n",
       "      <th>4</th>\n",
       "      <th>5</th>\n",
       "      <th>6</th>\n",
       "      <th>7</th>\n",
       "      <th>8</th>\n",
       "      <th>9</th>\n",
       "      <th>...</th>\n",
       "      <th>90</th>\n",
       "      <th>91</th>\n",
       "      <th>92</th>\n",
       "      <th>93</th>\n",
       "      <th>94</th>\n",
       "      <th>95</th>\n",
       "      <th>96</th>\n",
       "      <th>97</th>\n",
       "      <th>98</th>\n",
       "      <th>99</th>\n",
       "    </tr>\n",
       "  </thead>\n",
       "  <tbody>\n",
       "    <tr>\n",
       "      <th>A</th>\n",
       "      <td>0.0</td>\n",
       "      <td>0.0</td>\n",
       "      <td>0.0</td>\n",
       "      <td>0.0</td>\n",
       "      <td>0.0</td>\n",
       "      <td>0.0</td>\n",
       "      <td>0.0</td>\n",
       "      <td>0.0</td>\n",
       "      <td>0.0</td>\n",
       "      <td>0.0</td>\n",
       "      <td>...</td>\n",
       "      <td>0.0</td>\n",
       "      <td>0.0</td>\n",
       "      <td>0.0</td>\n",
       "      <td>0.0</td>\n",
       "      <td>0.0</td>\n",
       "      <td>0.0</td>\n",
       "      <td>0.0</td>\n",
       "      <td>0.0</td>\n",
       "      <td>0.0</td>\n",
       "      <td>0.0</td>\n",
       "    </tr>\n",
       "    <tr>\n",
       "      <th>C</th>\n",
       "      <td>0.0</td>\n",
       "      <td>0.0</td>\n",
       "      <td>0.0</td>\n",
       "      <td>0.0</td>\n",
       "      <td>0.0</td>\n",
       "      <td>0.0</td>\n",
       "      <td>0.0</td>\n",
       "      <td>0.0</td>\n",
       "      <td>0.0</td>\n",
       "      <td>0.0</td>\n",
       "      <td>...</td>\n",
       "      <td>0.0</td>\n",
       "      <td>0.0</td>\n",
       "      <td>0.0</td>\n",
       "      <td>0.0</td>\n",
       "      <td>0.0</td>\n",
       "      <td>0.0</td>\n",
       "      <td>0.0</td>\n",
       "      <td>0.0</td>\n",
       "      <td>0.0</td>\n",
       "      <td>0.0</td>\n",
       "    </tr>\n",
       "    <tr>\n",
       "      <th>D</th>\n",
       "      <td>0.0</td>\n",
       "      <td>0.0</td>\n",
       "      <td>0.0</td>\n",
       "      <td>0.0</td>\n",
       "      <td>0.0</td>\n",
       "      <td>0.0</td>\n",
       "      <td>0.0</td>\n",
       "      <td>0.0</td>\n",
       "      <td>0.0</td>\n",
       "      <td>0.0</td>\n",
       "      <td>...</td>\n",
       "      <td>0.0</td>\n",
       "      <td>0.0</td>\n",
       "      <td>0.0</td>\n",
       "      <td>0.0</td>\n",
       "      <td>0.0</td>\n",
       "      <td>0.0</td>\n",
       "      <td>0.0</td>\n",
       "      <td>0.0</td>\n",
       "      <td>0.0</td>\n",
       "      <td>0.0</td>\n",
       "    </tr>\n",
       "    <tr>\n",
       "      <th>E</th>\n",
       "      <td>0.0</td>\n",
       "      <td>0.0</td>\n",
       "      <td>0.0</td>\n",
       "      <td>0.0</td>\n",
       "      <td>0.0</td>\n",
       "      <td>0.0</td>\n",
       "      <td>0.0</td>\n",
       "      <td>0.1</td>\n",
       "      <td>0.0</td>\n",
       "      <td>0.0</td>\n",
       "      <td>...</td>\n",
       "      <td>0.0</td>\n",
       "      <td>0.0</td>\n",
       "      <td>0.0</td>\n",
       "      <td>0.0</td>\n",
       "      <td>0.0</td>\n",
       "      <td>0.0</td>\n",
       "      <td>0.0</td>\n",
       "      <td>0.0</td>\n",
       "      <td>0.0</td>\n",
       "      <td>0.0</td>\n",
       "    </tr>\n",
       "    <tr>\n",
       "      <th>F</th>\n",
       "      <td>0.0</td>\n",
       "      <td>0.0</td>\n",
       "      <td>0.0</td>\n",
       "      <td>0.0</td>\n",
       "      <td>0.0</td>\n",
       "      <td>0.0</td>\n",
       "      <td>0.0</td>\n",
       "      <td>0.0</td>\n",
       "      <td>0.0</td>\n",
       "      <td>0.0</td>\n",
       "      <td>...</td>\n",
       "      <td>0.0</td>\n",
       "      <td>0.0</td>\n",
       "      <td>0.0</td>\n",
       "      <td>0.0</td>\n",
       "      <td>0.0</td>\n",
       "      <td>0.0</td>\n",
       "      <td>0.0</td>\n",
       "      <td>0.0</td>\n",
       "      <td>0.0</td>\n",
       "      <td>0.0</td>\n",
       "    </tr>\n",
       "  </tbody>\n",
       "</table>\n",
       "<p>5 rows × 100 columns</p>\n",
       "</div>"
      ],
      "text/plain": [
       "    0    1    2    3    4    5    6    7    8    9   ...   90   91   92   93  \\\n",
       "A  0.0  0.0  0.0  0.0  0.0  0.0  0.0  0.0  0.0  0.0  ...  0.0  0.0  0.0  0.0   \n",
       "C  0.0  0.0  0.0  0.0  0.0  0.0  0.0  0.0  0.0  0.0  ...  0.0  0.0  0.0  0.0   \n",
       "D  0.0  0.0  0.0  0.0  0.0  0.0  0.0  0.0  0.0  0.0  ...  0.0  0.0  0.0  0.0   \n",
       "E  0.0  0.0  0.0  0.0  0.0  0.0  0.0  0.1  0.0  0.0  ...  0.0  0.0  0.0  0.0   \n",
       "F  0.0  0.0  0.0  0.0  0.0  0.0  0.0  0.0  0.0  0.0  ...  0.0  0.0  0.0  0.0   \n",
       "\n",
       "    94   95   96   97   98   99  \n",
       "A  0.0  0.0  0.0  0.0  0.0  0.0  \n",
       "C  0.0  0.0  0.0  0.0  0.0  0.0  \n",
       "D  0.0  0.0  0.0  0.0  0.0  0.0  \n",
       "E  0.0  0.0  0.0  0.0  0.0  0.0  \n",
       "F  0.0  0.0  0.0  0.0  0.0  0.0  \n",
       "\n",
       "[5 rows x 100 columns]"
      ]
     },
     "execution_count": 2,
     "metadata": {},
     "output_type": "execute_result"
    }
   ],
   "source": [
    "length_of_protein = 100\n",
    "num_mutated = 4\n",
    "sold_mat_df, parent, mut_dict = doe_utils.create_synthetic_SOLD_matrix(num_mutated, length_of_protein, mut_probs = [0.1, 0.1], parent_prob=0.80) #6 postions mutated, pprtein length is 100 \n",
    "sold_mat_df.head() \n",
    "    "
   ]
  },
  {
   "cell_type": "markdown",
   "id": "96dbdfa2-f20e-4f04-8331-b915c758301d",
   "metadata": {},
   "source": [
    "# Plot the SOLD matrix "
   ]
  },
  {
   "cell_type": "code",
   "execution_count": 3,
   "id": "39946f90-bda6-4cdf-a9a4-309d9d5969a9",
   "metadata": {},
   "outputs": [
    {
     "data": {
      "image/png": "[encoded data removed]",
      "text/plain": [
       "<Figure size 1800x500 with 1 Axes>"
      ]
     },
     "metadata": {},
     "output_type": "display_data"
    }
   ],
   "source": [
    "plt.figure(figsize = (18,5))\n",
    "plt.imshow(sold_mat_df, aspect = 'auto', cmap = 'grey_r') \n",
    "_  = plt.xticks(range(length_of_protein), rotation = 90)\n",
    "_  = plt.yticks(range(len(AMINO_ACIDS)), AMINO_ACIDS)\n"
   ]
  },
  {
   "cell_type": "markdown",
   "id": "e8bba3a2-d854-4c7f-a637-51aab707bebb",
   "metadata": {},
   "source": [
    "# Now let's try to draw mutated sequences from this matrix \n",
    "\n",
    "Above I have created a simple SOLD mat, but I want to make tools such that everything below will work with any experimentalist provided SOLD mat"
   ]
  },
  {
   "cell_type": "code",
   "execution_count": 4,
   "id": "092fa79c-2ec5-405a-b31f-ba4e3635671c",
   "metadata": {},
   "outputs": [],
   "source": [
    "S = doe_utils.SOLD(sold_mat_df)\n",
    "seqs, mutations = S.generate_sequences(10000)"
   ]
  },
  {
   "cell_type": "code",
   "execution_count": 5,
   "id": "2b0670e0-2122-4dee-a309-79cb275df39f",
   "metadata": {},
   "outputs": [
    {
     "data": {
      "text/plain": [
       "'LVWW'"
      ]
     },
     "execution_count": 5,
     "metadata": {},
     "output_type": "execute_result"
    }
   ],
   "source": [
    "seqs[0]"
   ]
  },
  {
   "cell_type": "code",
   "execution_count": 6,
   "id": "6a88fa1b-185a-42b9-992b-b989199dda0a",
   "metadata": {},
   "outputs": [],
   "source": [
    "probs = S.compute_prob_n_mutations(num_mutated+1)"
   ]
  },
  {
   "cell_type": "code",
   "execution_count": 7,
   "id": "7e6d36df-bccc-4639-a380-95e1bb47c0ed",
   "metadata": {},
   "outputs": [
    {
     "data": {
      "text/plain": [
       "Text(0.5, 1.0, 'Sanity check: theory vs empirical counts \\n of mutations observed in sampling using a SOLD mat')"
      ]
     },
     "execution_count": 7,
     "metadata": {},
     "output_type": "execute_result"
    },
    {
     "data": {
      "image/png": "[encoded data removed]",
      "text/plain": [
       "<Figure size 640x480 with 1 Axes>"
      ]
     },
     "metadata": {},
     "output_type": "display_data"
    }
   ],
   "source": [
    "plt.hist(mutations, bins= np.array(range(10)) - 0.25, density = True, align = \"mid\", width = 0.5) \n",
    "plt.ylabel('probability')\n",
    "plt.xlabel('count of mutations') \n",
    "plt.plot(probs)\n",
    "plt.title(\"Sanity check: theory vs empirical counts \\n of mutations observed in sampling using a SOLD mat\")"
   ]
  },
  {
   "cell_type": "markdown",
   "id": "408bd93e-caac-4322-8306-a4d920ef218c",
   "metadata": {},
   "source": [
    "# Now I need to provide weights to the independent and pairwise contributions\n",
    "\n",
    "I create a mixture of pdfs to draw from, with a zero component (meaning not all independent and pairwise contributions have differential activity compared to parent, some have no effect, and one can control this effect size or model complexity in these simulations) \n",
    "Create a mixture of weigthts with random components and some sparse components "
   ]
  },
  {
   "cell_type": "code",
   "execution_count": 8,
   "id": "91a02a45-fb96-44de-988d-845e750c139d",
   "metadata": {},
   "outputs": [
    {
     "ename": "AttributeError",
     "evalue": "'Create_in_silico_model' object has no attribute 'shape_independent_weights'",
     "output_type": "error",
     "traceback": [
      "\u001b[31m---------------------------------------------------------------------------\u001b[39m",
      "\u001b[31mAttributeError\u001b[39m                            Traceback (most recent call last)",
      "\u001b[36mCell\u001b[39m\u001b[36m \u001b[39m\u001b[32mIn[8]\u001b[39m\u001b[32m, line 5\u001b[39m\n\u001b[32m      1\u001b[39m I_params = {\u001b[33m'\u001b[39m\u001b[33mrho\u001b[39m\u001b[33m'\u001b[39m:[\u001b[32m0.20\u001b[39m, \u001b[32m0.20\u001b[39m], \u001b[33m'\u001b[39m\u001b[33msparse_pdf_names\u001b[39m\u001b[33m'\u001b[39m: [\u001b[33m'\u001b[39m\u001b[33mnorm\u001b[39m\u001b[33m'\u001b[39m, \u001b[33m'\u001b[39m\u001b[33mnorm\u001b[39m\u001b[33m'\u001b[39m], \u001b[33m'\u001b[39m\u001b[33mnoise_sigma\u001b[39m\u001b[33m'\u001b[39m : \u001b[32m0.01\u001b[39m, \u001b[33m'\u001b[39m\u001b[33msparse_params\u001b[39m\u001b[33m'\u001b[39m: [{\u001b[33m'\u001b[39m\u001b[33mloc\u001b[39m\u001b[33m'\u001b[39m: \u001b[32m1\u001b[39m, \u001b[33m'\u001b[39m\u001b[33mscale\u001b[39m\u001b[33m'\u001b[39m: \u001b[32m0.2\u001b[39m}, {\u001b[33m'\u001b[39m\u001b[33mloc\u001b[39m\u001b[33m'\u001b[39m: -\u001b[32m1\u001b[39m, \u001b[33m'\u001b[39m\u001b[33mscale\u001b[39m\u001b[33m'\u001b[39m: \u001b[32m0.2\u001b[39m}]} \n\u001b[32m      2\u001b[39m P_params = {\u001b[33m'\u001b[39m\u001b[33mrho\u001b[39m\u001b[33m'\u001b[39m:[\u001b[32m0.20\u001b[39m, \u001b[32m0.20\u001b[39m], \u001b[33m'\u001b[39m\u001b[33msparse_pdf_names\u001b[39m\u001b[33m'\u001b[39m: [\u001b[33m'\u001b[39m\u001b[33mnorm\u001b[39m\u001b[33m'\u001b[39m, \u001b[33m'\u001b[39m\u001b[33mnorm\u001b[39m\u001b[33m'\u001b[39m], \u001b[33m'\u001b[39m\u001b[33mnoise_sigma\u001b[39m\u001b[33m'\u001b[39m : \u001b[32m0.01\u001b[39m, \u001b[33m'\u001b[39m\u001b[33msparse_params\u001b[39m\u001b[33m'\u001b[39m: [{\u001b[33m'\u001b[39m\u001b[33mloc\u001b[39m\u001b[33m'\u001b[39m: \u001b[32m0.75\u001b[39m, \u001b[33m'\u001b[39m\u001b[33mscale\u001b[39m\u001b[33m'\u001b[39m: \u001b[32m0.2\u001b[39m}, {\u001b[33m'\u001b[39m\u001b[33mloc\u001b[39m\u001b[33m'\u001b[39m: -\u001b[32m0.75\u001b[39m, \u001b[33m'\u001b[39m\u001b[33mscale\u001b[39m\u001b[33m'\u001b[39m: \u001b[32m0.2\u001b[39m}]} \n\u001b[32m----> \u001b[39m\u001b[32m5\u001b[39m insilico_model = \u001b[43mdoe_utils\u001b[49m\u001b[43m.\u001b[49m\u001b[43mCreate_in_silico_model\u001b[49m\u001b[43m(\u001b[49m\u001b[43mS\u001b[49m\u001b[43m.\u001b[49m\u001b[43mmutation_probs_variable_region_indexed\u001b[49m\u001b[43m,\u001b[49m\u001b[43m \u001b[49m\u001b[43mindependent_params\u001b[49m\u001b[43m=\u001b[49m\u001b[43mI_params\u001b[49m\u001b[43m,\u001b[49m\u001b[43m \u001b[49m\u001b[43mpairwise_params\u001b[49m\u001b[43m=\u001b[49m\u001b[43mP_params\u001b[49m\u001b[43m)\u001b[49m\n",
      "\u001b[36mFile \u001b[39m\u001b[32m~/PythonProjects/doe/doe_utils.py:500\u001b[39m, in \u001b[36mCreate_in_silico_model.__init__\u001b[39m\u001b[34m(self, mutation_probs_variable_region_dict, independent_params, pairwise_params)\u001b[39m\n\u001b[32m    497\u001b[39m \u001b[38;5;66;03m# Now I need to assign weights to individual and pairwise contributions \u001b[39;00m\n\u001b[32m    498\u001b[39m \u001b[38;5;66;03m# first fill in the weights for the independent codes\u001b[39;00m\n\u001b[32m    499\u001b[39m \u001b[38;5;28mself\u001b[39m.Prob_I = Create_mixture(**\u001b[38;5;28mself\u001b[39m.independent_params)\n\u001b[32m--> \u001b[39m\u001b[32m500\u001b[39m samples_I, _ = \u001b[38;5;28mself\u001b[39m.Prob_I.samples(np.prod(\u001b[38;5;28;43mself\u001b[39;49m\u001b[43m.\u001b[49m\u001b[43mshape_independent_weights\u001b[49m))\n\u001b[32m    501\u001b[39m \u001b[38;5;28mself\u001b[39m.independent_weights = samples_I.reshape(\u001b[38;5;28mself\u001b[39m.shape_independent_weights)         \n\u001b[32m    502\u001b[39m \u001b[38;5;28mself\u001b[39m.Prob_P = Create_mixture(**\u001b[38;5;28mself\u001b[39m.pairwise_params)\n",
      "\u001b[31mAttributeError\u001b[39m: 'Create_in_silico_model' object has no attribute 'shape_independent_weights'"
     ]
    }
   ],
   "source": [
    "I_params = {'rho':[0.20, 0.20], 'sparse_pdf_names': ['norm', 'norm'], 'noise_sigma' : 0.01, 'sparse_params': [{'loc': 1, 'scale': 0.2}, {'loc': -1, 'scale': 0.2}]} \n",
    "P_params = {'rho':[0.20, 0.20], 'sparse_pdf_names': ['norm', 'norm'], 'noise_sigma' : 0.01, 'sparse_params': [{'loc': 0.75, 'scale': 0.2}, {'loc': -0.75, 'scale': 0.2}]} \n",
    "\n",
    "\n",
    "insilico_model = doe_utils.Create_in_silico_model(S.mutation_probs_variable_region_indexed, independent_params=I_params, pairwise_params=P_params)"
   ]
  },
  {
   "cell_type": "code",
   "execution_count": 10,
   "id": "72f1f32b-7071-4b4b-92e5-ab3dae058e25",
   "metadata": {},
   "outputs": [
    {
     "data": {
      "text/plain": [
       "(54, 400)"
      ]
     },
     "execution_count": 10,
     "metadata": {},
     "output_type": "execute_result"
    }
   ],
   "source": [
    "test = doe_utils.Encoding_basics( S.mutation_probs_variable_region_indexed)\n",
    "test.shape_weights"
   ]
  },
  {
   "cell_type": "code",
   "execution_count": null,
   "id": "11088bf5-1d17-460e-9572-0418d514b969",
   "metadata": {},
   "outputs": [],
   "source": [
    "insilico_model.plot_weights()"
   ]
  },
  {
   "cell_type": "markdown",
   "id": "bd77172b-23e6-41a8-be06-0b77414803fc",
   "metadata": {},
   "source": [
    "# ENCODER "
   ]
  },
  {
   "cell_type": "code",
   "execution_count": null,
   "id": "5c955ff5-478e-4764-974f-010d995af675",
   "metadata": {},
   "outputs": [],
   "source": [
    "Encoder = doe_utils.Sequence_encoder_simplex( S.mutation_probs_variable_region_indexed)\n",
    "indp, pair = Encoder.encode_seqs(seqs) "
   ]
  },
  {
   "cell_type": "code",
   "execution_count": null,
   "id": "ef939f1b-171d-4349-98d0-19cec5d33cde",
   "metadata": {},
   "outputs": [],
   "source": [
    "doe_utils.plot_encoding_independent(Encoder, indp[0], seqs[0])"
   ]
  },
  {
   "cell_type": "code",
   "execution_count": null,
   "id": "b5464983-47d3-4633-aa65-a1faa300a54a",
   "metadata": {},
   "outputs": [],
   "source": [
    "doe_utils.plot_encoding_independent(Encoder, indp[13], seqs[13])"
   ]
  },
  {
   "cell_type": "code",
   "execution_count": null,
   "id": "fbfc657a-b108-454b-b50d-03b4e1784bd5",
   "metadata": {},
   "outputs": [],
   "source": [
    "doe_utils.plot_encoding_pairwise(Encoder, pair[13], seqs[13])"
   ]
  },
  {
   "cell_type": "markdown",
   "id": "fc5b790b-c9a0-45fd-ac4f-94f5345f3914",
   "metadata": {},
   "source": [
    "# Compute responses "
   ]
  },
  {
   "cell_type": "code",
   "execution_count": null,
   "id": "5d1ed492-ce83-4679-a5a6-bc6cfae794e5",
   "metadata": {},
   "outputs": [],
   "source": [
    "baseline  = 0 \n",
    "responses = insilico_model.model(indp, pair, baseline)"
   ]
  },
  {
   "cell_type": "code",
   "execution_count": null,
   "id": "eaabc24c-3b92-4eac-830f-2c06058c489b",
   "metadata": {},
   "outputs": [],
   "source": [
    "_ = plt.hist(responses, bins = 25)\n",
    "plt.title('Distribution of responses') "
   ]
  },
  {
   "cell_type": "markdown",
   "id": "420ff8c3-93a4-43ac-8a37-7bd5f4f843ce",
   "metadata": {},
   "source": [
    "# Now do sparse (elastic net) linear regression to learn back the weights "
   ]
  },
  {
   "cell_type": "code",
   "execution_count": null,
   "id": "6844401c-b8aa-46d8-b2cc-cd677bf7bb5f",
   "metadata": {},
   "outputs": [],
   "source": [
    "from doe_utils import Encoding_basics, Sequence_encoder_simplex\n",
    "from sklearn.linear_model import Lasso\n",
    "\n",
    "class Fitting_model(Encoding_basics): \n",
    "    \"\"\"\n",
    "    l1 norm fitting model of data, with different penalty for indepednent and pairwise parameters \n",
    "    \"\"\"\n",
    "    def __init__(self, mutation_probs_variable_region_dict): \n",
    "        \"\"\"\n",
    "        I need to SOLD matrix dict to get to the right parameters to fit \n",
    "        \n",
    "        Args: \n",
    "            pass the dict of mutation probs (this is generated by SOLD matrix class, attribute of dict is called mutation_probs_variable_region_indexed) \n",
    "            MUST BE INDEXED BY THE POSITION OF THE MUTATED REGION, not the portein position... thsi is to make sure we can deal with different length proteins \n",
    "\n",
    "            example:\n",
    "            {0: {'D': 0.05, 'K': 0.85, 'M': 0.05, 'Y': 0.05},\n",
    "             1: {'C': 0.05, 'G': 0.05, 'I': 0.05, 'P': 0.85},\n",
    "             2: {'F': 0.05, 'N': 0.05, 'R': 0.85, 'Y': 0.05},\n",
    "             3: {'G': 0.05, 'I': 0.05, 'L': 0.85, 'Q': 0.05},\n",
    "             4: {'A': 0.05, 'E': 0.05, 'R': 0.05, 'W': 0.85},\n",
    "             5: {'A': 0.05, 'D': 0.05, 'I': 0.85, 'K': 0.05}}\n",
    "            where the keys are the index of the mutated regions and the values are dicts of probs of each amino acid\n",
    "        \n",
    "        \"\"\"\n",
    "        super().__init__(mutation_probs_variable_region_dict) \n",
    "\n",
    "\n",
    "    def fit(self, seqs, activities, lambda_I = 0.0001, lambda_P = 0.1): \n",
    "        \"\"\"\n",
    "        Fit seqs to their activities \n",
    "        The seqs are ONLY variable regions seqs concatenated! No point trying to fit regions that don't vary in the SOLD experiment! \n",
    "        Args: \n",
    "            seqs\n",
    "            activities: vector of real values \n",
    "        \"\"\"\n",
    "        assert len(seqs) == len(activities), \"Seqs (X) and activities (y) should be same length vectors\"\n",
    "        self.encoder = Sequence_encoder_simplex(self.mutation_probs_variable_region_dict) \n",
    "        I_encodings, P_encodings = self.encoder.encode_seqs(seqs)\n",
    "        self.features = np.asarray([np.concatenate((np.ravel(indt), np.ravel(pair))) for indt, pair in zip(I_encodings, P_encodings)])  \n",
    "        self.number_of_features = np.prod(self.shape_independent_weights) + np.prod(self.shape_pairwise_weights) \n",
    "        self.independent_indices = np.arange(np.prod(self.shape_independent_weights)) # first few are independent features \n",
    "        self.pairwise_indices = np.arange(np.prod(self.shape_independent_weights), self.number_of_features)  # these a are the pariwise features \n",
    "        # beta = cp.Variable(self.number_of_features)\n",
    "        # loss = cp.sum_squares(activities - self.features @ beta)    \n",
    "        # penalty = (lambda_I * cp.norm1(beta[self.independent_indices]) +\n",
    "        #            lambda_P * cp.norm1(beta[self.pairwise_indices]))\n",
    "        # objective = cp.Minimize(loss + penalty)\n",
    "        # # Define the problem and solve\n",
    "        # problem = cp.Problem(objective)\n",
    "        # problem.solve()     \n",
    "\n",
    "        lasso_model = Lasso(alpha=lambda_I, random_state=42)\n",
    "        lasso_model.fit(self.features, activities)\n",
    "        #predicted_activities = np.dot(self.features, beta.value) \n",
    "        predicted_activities = np.dot(self.features, lasso_model.coef_)\n",
    "        #return beta.value, predicted_activities  \n",
    "        return lasso_model.coef_, predicted_activities\n",
    "\n",
    "    "
   ]
  },
  {
   "cell_type": "code",
   "execution_count": null,
   "id": "8060fe09-5b23-43de-92a3-accc43b1e81a",
   "metadata": {},
   "outputs": [],
   "source": [
    "F = Fitting_model(S.mutation_probs_variable_region_indexed)"
   ]
  },
  {
   "cell_type": "code",
   "execution_count": null,
   "id": "53244238-6717-4628-800d-237ae0a0b107",
   "metadata": {},
   "outputs": [],
   "source": [
    "fitted_params, predicted_actvities = F.fit(seqs, responses) "
   ]
  },
  {
   "cell_type": "code",
   "execution_count": null,
   "id": "f8840e62-0179-4261-957f-1e8f3c4b3dd3",
   "metadata": {},
   "outputs": [],
   "source": [
    "plt.scatter(fitted_params[F.independent_indices], np.ravel(insilico_model.independent_weights))"
   ]
  },
  {
   "cell_type": "code",
   "execution_count": null,
   "id": "ea671d12-fd84-4dea-a66c-a5d10cb0abb0",
   "metadata": {},
   "outputs": [],
   "source": [
    "plt.scatter(predicted_actvities, responses)"
   ]
  },
  {
   "cell_type": "code",
   "execution_count": null,
   "id": "5eb408b5-d055-4556-825c-978dbd2fb432",
   "metadata": {},
   "outputs": [],
   "source": [
    "plt.scatter(fitted_params[fit_model.independent_indices], Model_in_silico.independent_weights[Model_in_silico.independent_mask])\n",
    "plt.title('independent params')"
   ]
  },
  {
   "cell_type": "code",
   "execution_count": null,
   "id": "61d5650f-38bd-415b-9ec4-9dd68f85cc18",
   "metadata": {},
   "outputs": [],
   "source": [
    "np.sum(Encoder.pairwise_base_codes, axis = 0)"
   ]
  },
  {
   "cell_type": "code",
   "execution_count": null,
   "id": "0a45b750-99b6-405e-8ecc-fea4ae6354b9",
   "metadata": {},
   "outputs": [],
   "source": [
    "Encoder.pairwise_base_codes.dot(Encoder.pairwise_base_codes.T)"
   ]
  },
  {
   "cell_type": "code",
   "execution_count": null,
   "id": "c230379f-40b3-4a8b-bc11-521874f4f4e1",
   "metadata": {},
   "outputs": [],
   "source": [
    "Encoder.independent_codes.dot(Encoder.independent_codes.T)"
   ]
  },
  {
   "cell_type": "code",
   "execution_count": null,
   "id": "75f8ee11-343a-4540-b5b5-3e21080b1cf4",
   "metadata": {},
   "outputs": [],
   "source": [
    "np.concatenate(([12,3],[2,3,4],[4,5]))"
   ]
  },
  {
   "cell_type": "code",
   "execution_count": null,
   "id": "bd39cfd0-985b-474e-a678-340a88b0de98",
   "metadata": {},
   "outputs": [],
   "source": [
    "np.shape(Encoder.single_base_codes)"
   ]
  },
  {
   "cell_type": "code",
   "execution_count": null,
   "id": "d4e3b5be-6b4c-4c11-8239-1876c48602f9",
   "metadata": {},
   "outputs": [],
   "source": [
    "np.sum(scipy.linalg.svdvals(fit_model.features.T.dot(fit_model.features)) < 0.0001)"
   ]
  },
  {
   "cell_type": "code",
   "execution_count": null,
   "id": "6a8b16b7-c1e6-4f5b-b602-8f6aa80acc30",
   "metadata": {},
   "outputs": [],
   "source": [
    "print(\"Cant account for ... \") \n",
    "\n",
    "np.sum(scipy.linalg.svdvals(fit_model.features.T.dot(fit_model.features)) < 0.0001) -np.shape(fit_model.constraints)[0]"
   ]
  },
  {
   "cell_type": "code",
   "execution_count": null,
   "id": "97e4aec4-481d-4b29-a8ae-0d5bd0928b87",
   "metadata": {},
   "outputs": [],
   "source": [
    "np.shape(Model_in_silico.pairwise_weights)"
   ]
  },
  {
   "cell_type": "code",
   "execution_count": null,
   "id": "a401fe2b-66af-48a5-93cd-e7b599b70098",
   "metadata": {},
   "outputs": [],
   "source": [
    "np.shape(fit_model.constraints)"
   ]
  },
  {
   "cell_type": "code",
   "execution_count": null,
   "id": "4b8dc70a-8502-467b-97d8-5869a4546979",
   "metadata": {},
   "outputs": [],
   "source": [
    "np.shape(fit_model.independent_indices)"
   ]
  },
  {
   "cell_type": "code",
   "execution_count": null,
   "id": "816a3f8a-468c-4f81-a3f1-49c61eba2f83",
   "metadata": {},
   "outputs": [],
   "source": [
    "np.shape(fit_model.pairwise_indices)"
   ]
  },
  {
   "cell_type": "code",
   "execution_count": null,
   "id": "fad076b1-8ce0-4170-88ad-291f2d0b8035",
   "metadata": {},
   "outputs": [],
   "source": [
    "import re\n",
    "\n",
    "A = np.asarray([re.split(':' + \"|\" + '-', a) for a in Model_in_silico.feature_names_pairwise]) \n",
    "\n",
    "collector = [] \n",
    "for a in A: \n",
    "    if a[1] != a[3]:\n",
    "        collector.append(a)\n",
    "    "
   ]
  },
  {
   "cell_type": "code",
   "execution_count": null,
   "id": "8f98b3dc-a53c-4b1b-b822-524537c85e9f",
   "metadata": {},
   "outputs": [],
   "source": [
    "np.shape(fit_model.independent_indices)"
   ]
  },
  {
   "cell_type": "code",
   "execution_count": null,
   "id": "666a5cc1-bdf4-4650-8eca-74c357f9ee75",
   "metadata": {},
   "outputs": [],
   "source": [
    "ij = [a+b for a,b in zip(A[:,1],A[:,3])]\n",
    "len(np.unique(ij))"
   ]
  },
  {
   "cell_type": "code",
   "execution_count": null,
   "id": "eb8a192c-c8eb-49c5-8b87-13f5eb534546",
   "metadata": {},
   "outputs": [],
   "source": [
    "np.unique([[a,b] for a,b in zip(A[:,0], A[:,2])], axis = 0)"
   ]
  },
  {
   "cell_type": "code",
   "execution_count": null,
   "id": "e3f5eb79-771d-4c4f-b646-f03c5b1e780a",
   "metadata": {},
   "outputs": [],
   "source": [
    "A[:, [0, 2]]"
   ]
  },
  {
   "cell_type": "code",
   "execution_count": null,
   "id": "eaf29ca5-7d4b-4eac-b154-1563cc9a2098",
   "metadata": {},
   "outputs": [],
   "source": [
    "inds = np.all(A[:, [0,2]] == ['0', '1'], axis = 1)\n",
    "inds"
   ]
  },
  {
   "cell_type": "code",
   "execution_count": null,
   "id": "0e99e666-6774-4f1d-88cb-e0e24aa21a79",
   "metadata": {},
   "outputs": [],
   "source": [
    "A[inds]"
   ]
  },
  {
   "cell_type": "code",
   "execution_count": null,
   "id": "ec0f9978-ab60-4c49-a272-3940112f8152",
   "metadata": {},
   "outputs": [],
   "source": [
    "\n",
    "plt.figure(figsize = (5, 70))\n",
    "plt.imshow(encodings[1][0], aspect = 'auto', interpolation = 'None', vmin = 0, vmax = 1, cmap = 'Greys')\n",
    "_  = plt.xticks(range(len(Encoder.pos_product)), Encoder.pos_product, rotation = 90)\n",
    "_  = plt.yticks(range(len(Encoder.amino_product)), Encoder.amino_product)\n",
    "plt.title(seqs[0]) "
   ]
  },
  {
   "cell_type": "code",
   "execution_count": null,
   "id": "aead177b-f329-49d3-a6ac-414cae9cd054",
   "metadata": {},
   "outputs": [],
   "source": [
    "plt.imshow(encodings[0][0])"
   ]
  },
  {
   "cell_type": "code",
   "execution_count": null,
   "id": "92db95c6-330e-403e-b04a-1d3f9a7acfe1",
   "metadata": {},
   "outputs": [],
   "source": [
    "np.max([1,2,3])"
   ]
  },
  {
   "cell_type": "code",
   "execution_count": null,
   "id": "3ae17851-54b8-45e8-a5bd-e84c6cae0443",
   "metadata": {},
   "outputs": [],
   "source": []
  }
 ],
 "metadata": {
  "kernelspec": {
   "display_name": "Python 3 (ipykernel)",
   "language": "python",
   "name": "python3"
  },
  "language_info": {
   "codemirror_mode": {
    "name": "ipython",
    "version": 3
   },
   "file_extension": ".py",
   "mimetype": "text/x-python",
   "name": "python",
   "nbconvert_exporter": "python",
   "pygments_lexer": "ipython3",
   "version": "3.13.5"
  }
 },
 "nbformat": 4,
 "nbformat_minor": 5
}
