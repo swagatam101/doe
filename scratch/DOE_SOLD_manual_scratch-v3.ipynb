{
 "cells": [
  {
   "cell_type": "markdown",
   "id": "ab42dc72-66ea-429f-a81f-82d37e2b5d96",
   "metadata": {},
   "source": [
    "# Create HAdamard encoding "
   ]
  },
  {
   "cell_type": "code",
   "execution_count": 1,
   "id": "8b8f6a95-680c-4fb5-b175-59082213effc",
   "metadata": {},
   "outputs": [],
   "source": [
    "import numpy as np\n",
    "import pandas as pd\n",
    "import matplotlib\n",
    "import matplotlib.pyplot as plt\n",
    "from Bio.Data import IUPACData\n",
    "from collections import defaultdict\n",
    "from itertools import product, combinations\n",
    "from scipy.spatial.distance import hamming\n",
    "import scipy.stats as ss\n",
    "import cvxpy as cp\n",
    "import sys\n",
    "import scipy.linalg as sl\n",
    "\n",
    "sys.path.append(\"../\") \n",
    "import doe_utils\n",
    "\n",
    "# TEST MAKE AMINO ACID WORLD SMALL \n",
    "\n",
    "AMINO_ACIDS = doe_utils.AMINO_ACIDS\n"
   ]
  },
  {
   "cell_type": "markdown",
   "id": "e2455bfe-4504-4cdd-8ea2-d787c6e4b000",
   "metadata": {},
   "source": [
    "# For simulation, create a random parent amino acid sequence to create SOLD libraries from\n",
    "\n",
    "This is an example of a fully in silico path to test and understand the simulator. The functions in the simulator are written such that we can develop models from a given SOLD matrix.\n",
    "Deep mutational scan at multiple locaitons also conform to the SOLD matrix abstraction "
   ]
  },
  {
   "cell_type": "markdown",
   "id": "07d7e3ff-75c6-49a5-8f54-064a25dbaf76",
   "metadata": {},
   "source": [
    "## Pretend that a set of positions in the protein is mutated--create a sythesis SOLD matrix"
   ]
  },
  {
   "cell_type": "code",
   "execution_count": 2,
   "id": "4c7fee6e-7eb1-4a25-aca9-43f58df9dd74",
   "metadata": {},
   "outputs": [
    {
     "name": "stdout",
     "output_type": "stream",
     "text": [
      "Parent protein: EERTIQKFDVWDHNIFAYVSWFHTCWKCHQWTAVSDTRDSFANAEPVHNYYWCMPYKWWNCFVLCESVYRRHCVMYSACHRQHWAVMTRNRLTWWALVMC\n",
      "Random mutaed positions [28 54 96 98]\n"
     ]
    },
    {
     "data": {
      "text/html": [
       "<div>\n",
       "<style scoped>\n",
       "    .dataframe tbody tr th:only-of-type {\n",
       "        vertical-align: middle;\n",
       "    }\n",
       "\n",
       "    .dataframe tbody tr th {\n",
       "        vertical-align: top;\n",
       "    }\n",
       "\n",
       "    .dataframe thead th {\n",
       "        text-align: right;\n",
       "    }\n",
       "</style>\n",
       "<table border=\"1\" class=\"dataframe\">\n",
       "  <thead>\n",
       "    <tr style=\"text-align: right;\">\n",
       "      <th></th>\n",
       "      <th>0</th>\n",
       "      <th>1</th>\n",
       "      <th>2</th>\n",
       "      <th>3</th>\n",
       "      <th>4</th>\n",
       "      <th>5</th>\n",
       "      <th>6</th>\n",
       "      <th>7</th>\n",
       "      <th>8</th>\n",
       "      <th>9</th>\n",
       "      <th>...</th>\n",
       "      <th>90</th>\n",
       "      <th>91</th>\n",
       "      <th>92</th>\n",
       "      <th>93</th>\n",
       "      <th>94</th>\n",
       "      <th>95</th>\n",
       "      <th>96</th>\n",
       "      <th>97</th>\n",
       "      <th>98</th>\n",
       "      <th>99</th>\n",
       "    </tr>\n",
       "  </thead>\n",
       "  <tbody>\n",
       "    <tr>\n",
       "      <th>A</th>\n",
       "      <td>0.0</td>\n",
       "      <td>0.0</td>\n",
       "      <td>0.0</td>\n",
       "      <td>0.0</td>\n",
       "      <td>0.0</td>\n",
       "      <td>0.0</td>\n",
       "      <td>0.0</td>\n",
       "      <td>0.0</td>\n",
       "      <td>0.0</td>\n",
       "      <td>0.0</td>\n",
       "      <td>...</td>\n",
       "      <td>0.0</td>\n",
       "      <td>0.0</td>\n",
       "      <td>0.0</td>\n",
       "      <td>0.0</td>\n",
       "      <td>0.0</td>\n",
       "      <td>0.0</td>\n",
       "      <td>0.0</td>\n",
       "      <td>0.0</td>\n",
       "      <td>0.0</td>\n",
       "      <td>0.0</td>\n",
       "    </tr>\n",
       "    <tr>\n",
       "      <th>C</th>\n",
       "      <td>0.0</td>\n",
       "      <td>0.0</td>\n",
       "      <td>0.0</td>\n",
       "      <td>0.0</td>\n",
       "      <td>0.0</td>\n",
       "      <td>0.0</td>\n",
       "      <td>0.0</td>\n",
       "      <td>0.0</td>\n",
       "      <td>0.0</td>\n",
       "      <td>0.0</td>\n",
       "      <td>...</td>\n",
       "      <td>0.0</td>\n",
       "      <td>0.0</td>\n",
       "      <td>0.0</td>\n",
       "      <td>0.0</td>\n",
       "      <td>0.0</td>\n",
       "      <td>0.0</td>\n",
       "      <td>0.0</td>\n",
       "      <td>0.0</td>\n",
       "      <td>0.0</td>\n",
       "      <td>0.0</td>\n",
       "    </tr>\n",
       "    <tr>\n",
       "      <th>D</th>\n",
       "      <td>0.0</td>\n",
       "      <td>0.0</td>\n",
       "      <td>0.0</td>\n",
       "      <td>0.0</td>\n",
       "      <td>0.0</td>\n",
       "      <td>0.0</td>\n",
       "      <td>0.0</td>\n",
       "      <td>0.0</td>\n",
       "      <td>0.0</td>\n",
       "      <td>0.0</td>\n",
       "      <td>...</td>\n",
       "      <td>0.0</td>\n",
       "      <td>0.0</td>\n",
       "      <td>0.0</td>\n",
       "      <td>0.0</td>\n",
       "      <td>0.0</td>\n",
       "      <td>0.0</td>\n",
       "      <td>0.0</td>\n",
       "      <td>0.0</td>\n",
       "      <td>0.0</td>\n",
       "      <td>0.0</td>\n",
       "    </tr>\n",
       "    <tr>\n",
       "      <th>E</th>\n",
       "      <td>0.0</td>\n",
       "      <td>0.0</td>\n",
       "      <td>0.0</td>\n",
       "      <td>0.0</td>\n",
       "      <td>0.0</td>\n",
       "      <td>0.0</td>\n",
       "      <td>0.0</td>\n",
       "      <td>0.0</td>\n",
       "      <td>0.0</td>\n",
       "      <td>0.0</td>\n",
       "      <td>...</td>\n",
       "      <td>0.0</td>\n",
       "      <td>0.0</td>\n",
       "      <td>0.0</td>\n",
       "      <td>0.0</td>\n",
       "      <td>0.0</td>\n",
       "      <td>0.0</td>\n",
       "      <td>0.0</td>\n",
       "      <td>0.0</td>\n",
       "      <td>0.0</td>\n",
       "      <td>0.0</td>\n",
       "    </tr>\n",
       "    <tr>\n",
       "      <th>F</th>\n",
       "      <td>0.0</td>\n",
       "      <td>0.0</td>\n",
       "      <td>0.0</td>\n",
       "      <td>0.0</td>\n",
       "      <td>0.0</td>\n",
       "      <td>0.0</td>\n",
       "      <td>0.0</td>\n",
       "      <td>0.0</td>\n",
       "      <td>0.0</td>\n",
       "      <td>0.0</td>\n",
       "      <td>...</td>\n",
       "      <td>0.0</td>\n",
       "      <td>0.0</td>\n",
       "      <td>0.0</td>\n",
       "      <td>0.0</td>\n",
       "      <td>0.0</td>\n",
       "      <td>0.0</td>\n",
       "      <td>0.0</td>\n",
       "      <td>0.0</td>\n",
       "      <td>0.0</td>\n",
       "      <td>0.0</td>\n",
       "    </tr>\n",
       "  </tbody>\n",
       "</table>\n",
       "<p>5 rows × 100 columns</p>\n",
       "</div>"
      ],
      "text/plain": [
       "    0    1    2    3    4    5    6    7    8    9   ...   90   91   92   93  \\\n",
       "A  0.0  0.0  0.0  0.0  0.0  0.0  0.0  0.0  0.0  0.0  ...  0.0  0.0  0.0  0.0   \n",
       "C  0.0  0.0  0.0  0.0  0.0  0.0  0.0  0.0  0.0  0.0  ...  0.0  0.0  0.0  0.0   \n",
       "D  0.0  0.0  0.0  0.0  0.0  0.0  0.0  0.0  0.0  0.0  ...  0.0  0.0  0.0  0.0   \n",
       "E  0.0  0.0  0.0  0.0  0.0  0.0  0.0  0.0  0.0  0.0  ...  0.0  0.0  0.0  0.0   \n",
       "F  0.0  0.0  0.0  0.0  0.0  0.0  0.0  0.0  0.0  0.0  ...  0.0  0.0  0.0  0.0   \n",
       "\n",
       "    94   95   96   97   98   99  \n",
       "A  0.0  0.0  0.0  0.0  0.0  0.0  \n",
       "C  0.0  0.0  0.0  0.0  0.0  0.0  \n",
       "D  0.0  0.0  0.0  0.0  0.0  0.0  \n",
       "E  0.0  0.0  0.0  0.0  0.0  0.0  \n",
       "F  0.0  0.0  0.0  0.0  0.0  0.0  \n",
       "\n",
       "[5 rows x 100 columns]"
      ]
     },
     "execution_count": 2,
     "metadata": {},
     "output_type": "execute_result"
    }
   ],
   "source": [
    "length_of_protein = 100\n",
    "num_mutated = 4\n",
    "sold_mat_df, parent, mut_dict = doe_utils.create_synthetic_SOLD_matrix(num_mutated, length_of_protein, mut_probs = [0.1, 0.1], parent_prob=0.80) #6 postions mutated, pprtein length is 100 \n",
    "sold_mat_df.head() \n",
    "    "
   ]
  },
  {
   "cell_type": "markdown",
   "id": "96dbdfa2-f20e-4f04-8331-b915c758301d",
   "metadata": {},
   "source": [
    "# Plot the SOLD matrix "
   ]
  },
  {
   "cell_type": "code",
   "execution_count": 3,
   "id": "39946f90-bda6-4cdf-a9a4-309d9d5969a9",
   "metadata": {},
   "outputs": [
    {
     "data": {
      "image/png": "[encoded data removed]",
      "text/plain": [
       "<Figure size 1800x500 with 1 Axes>"
      ]
     },
     "metadata": {},
     "output_type": "display_data"
    }
   ],
   "source": [
    "plt.figure(figsize = (18,5))\n",
    "plt.imshow(sold_mat_df, aspect = 'auto', cmap = 'grey_r') \n",
    "_  = plt.xticks(range(length_of_protein), rotation = 90)\n",
    "_  = plt.yticks(range(len(AMINO_ACIDS)), AMINO_ACIDS)\n"
   ]
  },
  {
   "cell_type": "markdown",
   "id": "e8bba3a2-d854-4c7f-a637-51aab707bebb",
   "metadata": {},
   "source": [
    "# Now let's try to draw mutated sequences from this matrix \n",
    "\n",
    "Above I have created a simple SOLD mat, but I want to make tools such that everything below will work with any experimentalist provided SOLD mat"
   ]
  },
  {
   "cell_type": "code",
   "execution_count": 4,
   "id": "092fa79c-2ec5-405a-b31f-ba4e3635671c",
   "metadata": {},
   "outputs": [],
   "source": [
    "S = doe_utils.SOLD(sold_mat_df)\n",
    "seqs, mutations = S.generate_sequences(10000)"
   ]
  },
  {
   "cell_type": "code",
   "execution_count": 5,
   "id": "2b0670e0-2122-4dee-a309-79cb275df39f",
   "metadata": {},
   "outputs": [
    {
     "data": {
      "text/plain": [
       "'KPLM'"
      ]
     },
     "execution_count": 5,
     "metadata": {},
     "output_type": "execute_result"
    }
   ],
   "source": [
    "seqs[0]"
   ]
  },
  {
   "cell_type": "code",
   "execution_count": 6,
   "id": "6a88fa1b-185a-42b9-992b-b989199dda0a",
   "metadata": {},
   "outputs": [],
   "source": [
    "probs = S.compute_prob_n_mutations(num_mutated+1)"
   ]
  },
  {
   "cell_type": "code",
   "execution_count": 7,
   "id": "7e6d36df-bccc-4639-a380-95e1bb47c0ed",
   "metadata": {},
   "outputs": [
    {
     "data": {
      "text/plain": [
       "Text(0.5, 1.0, 'Sanity check: theory vs empirical counts \\n of mutations observed in sampling using a SOLD mat')"
      ]
     },
     "execution_count": 7,
     "metadata": {},
     "output_type": "execute_result"
    },
    {
     "data": {
      "image/png": "[encoded data removed]",
      "text/plain": [
       "<Figure size 640x480 with 1 Axes>"
      ]
     },
     "metadata": {},
     "output_type": "display_data"
    }
   ],
   "source": [
    "plt.hist(mutations, bins= np.array(range(10)) - 0.25, density = True, align = \"mid\", width = 0.5) \n",
    "plt.ylabel('probability')\n",
    "plt.xlabel('count of mutations') \n",
    "plt.plot(probs)\n",
    "plt.title(\"Sanity check: theory vs empirical counts \\n of mutations observed in sampling using a SOLD mat\")"
   ]
  },
  {
   "cell_type": "markdown",
   "id": "408bd93e-caac-4322-8306-a4d920ef218c",
   "metadata": {},
   "source": [
    "# Now I need to provide weights to the independent and pairwise contributions\n",
    "\n",
    "I create a mixture of pdfs to draw from, with a zero component (meaning not all independent and pairwise contributions have differential activity compared to parent, some have no effect, and one can control this effect size or model complexity in these simulations) \n",
    "Create a mixture of weigthts with random components and some sparse components "
   ]
  },
  {
   "cell_type": "code",
   "execution_count": 8,
   "id": "91a02a45-fb96-44de-988d-845e750c139d",
   "metadata": {},
   "outputs": [],
   "source": [
    "I_params = {'rho':[0.20, 0.20], 'sparse_pdf_names': ['norm', 'norm'], 'noise_sigma' : 0.01, 'sparse_params': [{'loc': 1, 'scale': 0.2}, {'loc': -1, 'scale': 0.2}]} \n",
    "P_params = {'rho':[0.20, 0.20], 'sparse_pdf_names': ['norm', 'norm'], 'noise_sigma' : 0.01, 'sparse_params': [{'loc': 0.75, 'scale': 0.2}, {'loc': -0.75, 'scale': 0.2}]} \n",
    "\n",
    "\n",
    "insilico_model = doe_utils.Create_in_silico_model(S.mutation_probs_variable_region_indexed, independent_params=I_params, pairwise_params=P_params)"
   ]
  },
  {
   "cell_type": "code",
   "execution_count": 9,
   "id": "72f1f32b-7071-4b4b-92e5-ab3dae058e25",
   "metadata": {},
   "outputs": [],
   "source": [
    "test = doe_utils.Encoding_basics(S.mutation_probs_variable_region_indexed)\n"
   ]
  },
  {
   "cell_type": "markdown",
   "id": "bd77172b-23e6-41a8-be06-0b77414803fc",
   "metadata": {},
   "source": [
    "# ENCODER "
   ]
  },
  {
   "cell_type": "code",
   "execution_count": 10,
   "id": "5c955ff5-478e-4764-974f-010d995af675",
   "metadata": {},
   "outputs": [],
   "source": [
    "Encoder = doe_utils.Sequence_encoder_simplex( S.mutation_probs_variable_region_indexed)\n",
    "indp, pair = Encoder.encode_seqs(seqs) "
   ]
  },
  {
   "cell_type": "code",
   "execution_count": 11,
   "id": "cfc29c88-581a-4436-818e-b0bd7354a19d",
   "metadata": {},
   "outputs": [
    {
     "data": {
      "text/plain": [
       "array([[ 0.,  0.,  0.,  0.,  0.,  0.,  0.,  0.,  0.,  0.,  0.,  0.,  0.,\n",
       "         0.,  0.,  0.,  0.,  0.,  0.],\n",
       "       [ 1.,  1.,  1.,  1., -1., -1.,  1.,  1., -1.,  1.,  1., -1., -1.,\n",
       "        -1., -1.,  1., -1.,  1., -1.],\n",
       "       [ 0.,  0.,  0.,  0.,  0.,  0.,  0.,  0.,  0.,  0.,  0.,  0.,  0.,\n",
       "         0.,  0.,  0.,  0.,  0.,  0.],\n",
       "       [ 0.,  0.,  0.,  0.,  0.,  0.,  0.,  0.,  0.,  0.,  0.,  0.,  0.,\n",
       "         0.,  0.,  0.,  0.,  0.,  0.],\n",
       "       [ 1., -1.,  1., -1.,  1.,  1.,  1.,  1., -1., -1.,  1.,  1., -1.,\n",
       "         1.,  1., -1., -1., -1., -1.],\n",
       "       [ 0.,  0.,  0.,  0.,  0.,  0.,  0.,  0.,  0.,  0.,  0.,  0.,  0.,\n",
       "         0.,  0.,  0.,  0.,  0.,  0.],\n",
       "       [-1.,  1.,  1.,  1.,  1., -1., -1.,  1.,  1., -1.,  1.,  1., -1.,\n",
       "        -1., -1., -1.,  1., -1.,  1.],\n",
       "       [ 0.,  0.,  0.,  0.,  0.,  0.,  0.,  0.,  0.,  0.,  0.,  0.,  0.,\n",
       "         0.,  0.,  0.,  0.,  0.,  0.],\n",
       "       [ 0.,  0.,  0.,  0.,  0.,  0.,  0.,  0.,  0.,  0.,  0.,  0.,  0.,\n",
       "         0.,  0.,  0.,  0.,  0.,  0.],\n",
       "       [ 0.,  0.,  0.,  0.,  0.,  0.,  0.,  0.,  0.,  0.,  0.,  0.,  0.,\n",
       "         0.,  0.,  0.,  0.,  0.,  0.],\n",
       "       [ 1., -1.,  1.,  1.,  1.,  1., -1., -1.,  1.,  1., -1.,  1.,  1.,\n",
       "        -1., -1., -1., -1.,  1., -1.],\n",
       "       [ 0.,  0.,  0.,  0.,  0.,  0.,  0.,  0.,  0.,  0.,  0.,  0.,  0.,\n",
       "         0.,  0.,  0.,  0.,  0.,  0.]])"
      ]
     },
     "execution_count": 11,
     "metadata": {},
     "output_type": "execute_result"
    }
   ],
   "source": [
    "indp[0]"
   ]
  },
  {
   "cell_type": "code",
   "execution_count": null,
   "id": "1b5a1cf5-2e53-4741-99d1-76deba7becbd",
   "metadata": {},
   "outputs": [],
   "source": []
  },
  {
   "cell_type": "code",
   "execution_count": 12,
   "id": "ef939f1b-171d-4349-98d0-19cec5d33cde",
   "metadata": {},
   "outputs": [
    {
     "data": {
      "image/png": "[encoded data removed]",
      "text/plain": [
       "<Figure size 640x480 with 1 Axes>"
      ]
     },
     "metadata": {},
     "output_type": "display_data"
    }
   ],
   "source": [
    "doe_utils.plot_encoding_independent(Encoder, indp[0], seqs[0])"
   ]
  },
  {
   "cell_type": "code",
   "execution_count": 13,
   "id": "b5464983-47d3-4633-aa65-a1faa300a54a",
   "metadata": {},
   "outputs": [
    {
     "data": {
      "image/png": "[encoded data removed]",
      "text/plain": [
       "<Figure size 640x480 with 1 Axes>"
      ]
     },
     "metadata": {},
     "output_type": "display_data"
    }
   ],
   "source": [
    "doe_utils.plot_encoding_independent(Encoder, indp[13], seqs[13])"
   ]
  },
  {
   "cell_type": "code",
   "execution_count": 14,
   "id": "fbfc657a-b108-454b-b50d-03b4e1784bd5",
   "metadata": {},
   "outputs": [
    {
     "data": {
      "image/png": "[encoded data removed]",
      "text/plain": [
       "<Figure size 500x2000 with 1 Axes>"
      ]
     },
     "metadata": {},
     "output_type": "display_data"
    }
   ],
   "source": [
    "doe_utils.plot_encoding_pairwise(Encoder, pair[13], seqs[13], figsize = (5,20))"
   ]
  },
  {
   "cell_type": "markdown",
   "id": "fc5b790b-c9a0-45fd-ac4f-94f5345f3914",
   "metadata": {},
   "source": [
    "# Compute responses "
   ]
  },
  {
   "cell_type": "code",
   "execution_count": 15,
   "id": "5d1ed492-ce83-4679-a5a6-bc6cfae794e5",
   "metadata": {},
   "outputs": [],
   "source": [
    "baseline  = 0 \n",
    "responses = insilico_model.model(indp, pair)"
   ]
  },
  {
   "cell_type": "code",
   "execution_count": 16,
   "id": "eaabc24c-3b92-4eac-830f-2c06058c489b",
   "metadata": {},
   "outputs": [
    {
     "data": {
      "text/plain": [
       "Text(0.5, 1.0, 'Distribution of responses')"
      ]
     },
     "execution_count": 16,
     "metadata": {},
     "output_type": "execute_result"
    },
    {
     "data": {
      "image/png": "[encoded data removed]",
      "text/plain": [
       "<Figure size 640x480 with 1 Axes>"
      ]
     },
     "metadata": {},
     "output_type": "display_data"
    }
   ],
   "source": [
    "_ = plt.hist(responses, bins = 25)\n",
    "plt.title('Distribution of responses') "
   ]
  },
  {
   "cell_type": "code",
   "execution_count": 17,
   "id": "b359b8b6-dd95-485f-a805-f82ab24d3748",
   "metadata": {},
   "outputs": [
    {
     "data": {
      "text/plain": [
       "(12, 19)"
      ]
     },
     "execution_count": 17,
     "metadata": {},
     "output_type": "execute_result"
    }
   ],
   "source": [
    "np.shape(insilico_model.independent_codes)"
   ]
  },
  {
   "cell_type": "code",
   "execution_count": 18,
   "id": "69faf6e1-b81e-4d20-ab31-473c9f605c36",
   "metadata": {},
   "outputs": [
    {
     "data": {
      "text/plain": [
       "(54, 361)"
      ]
     },
     "execution_count": 18,
     "metadata": {},
     "output_type": "execute_result"
    }
   ],
   "source": [
    "np.shape(insilico_model.pairwise_codes)"
   ]
  },
  {
   "cell_type": "code",
   "execution_count": 19,
   "id": "2dd7aff2-2ffd-4da6-9a11-a64125046b7d",
   "metadata": {},
   "outputs": [
    {
     "data": {
      "text/plain": [
       "array(['0-H:1-A', '0-H:1-P', '0-H:1-Q', '0-K:1-A', '0-K:1-P', '0-K:1-Q',\n",
       "       '0-M:1-A', '0-M:1-P', '0-M:1-Q', '0-H:2-L', '0-H:2-M', '0-H:2-Q',\n",
       "       '0-K:2-L', '0-K:2-M', '0-K:2-Q', '0-M:2-L', '0-M:2-M', '0-M:2-Q',\n",
       "       '0-H:3-I', '0-H:3-M', '0-H:3-T', '0-K:3-I', '0-K:3-M', '0-K:3-T',\n",
       "       '0-M:3-I', '0-M:3-M', '0-M:3-T', '1-A:2-L', '1-A:2-M', '1-A:2-Q',\n",
       "       '1-P:2-L', '1-P:2-M', '1-P:2-Q', '1-Q:2-L', '1-Q:2-M', '1-Q:2-Q',\n",
       "       '1-A:3-I', '1-A:3-M', '1-A:3-T', '1-P:3-I', '1-P:3-M', '1-P:3-T',\n",
       "       '1-Q:3-I', '1-Q:3-M', '1-Q:3-T', '2-L:3-I', '2-L:3-M', '2-L:3-T',\n",
       "       '2-M:3-I', '2-M:3-M', '2-M:3-T', '2-Q:3-I', '2-Q:3-M', '2-Q:3-T'],\n",
       "      dtype='<U7')"
      ]
     },
     "execution_count": 19,
     "metadata": {},
     "output_type": "execute_result"
    }
   ],
   "source": [
    "Encoder.feature_names_pairwise"
   ]
  },
  {
   "cell_type": "code",
   "execution_count": 20,
   "id": "bcef6f86-38a1-4eef-a679-540f9a9fbf5a",
   "metadata": {},
   "outputs": [
    {
     "data": {
      "text/plain": [
       "array([-19,   1,   1, -19,   1,   1, -19,   1,   1,   1,   1,   1,   1,\n",
       "         1,   1,   1,   1,   1,   1,   1,   1,   1,   1,   1,   1,   1,\n",
       "         1, -19, -19, -19,   1,   1,   1,   1,   1,   1, -19, -19, -19,\n",
       "         1,   1,   1,   1,   1,   1,   1,   1,   1,   1,   1,   1,   1,\n",
       "         1,   1])"
      ]
     },
     "execution_count": 20,
     "metadata": {},
     "output_type": "execute_result"
    }
   ],
   "source": [
    "np.sum(Encoder.pairwise_codes, axis = 1)"
   ]
  },
  {
   "cell_type": "code",
   "execution_count": 21,
   "id": "af3b2661-a2ce-4cbc-9409-2cab2c1eced4",
   "metadata": {},
   "outputs": [
    {
     "data": {
      "text/plain": [
       "array([  1,   1,   1, -19,   1,   1,   1,   1,   1,   1,   1,   1])"
      ]
     },
     "execution_count": 21,
     "metadata": {},
     "output_type": "execute_result"
    }
   ],
   "source": [
    "np.sum(Encoder.independent_codes, axis = 1)"
   ]
  },
  {
   "cell_type": "code",
   "execution_count": 22,
   "id": "322a7699-dc23-4963-9b20-7f001c455acd",
   "metadata": {},
   "outputs": [
    {
     "data": {
      "text/plain": [
       "361"
      ]
     },
     "execution_count": 22,
     "metadata": {},
     "output_type": "execute_result"
    }
   ],
   "source": [
    "len(np.sum(Encoder.pairwise_base_codes, axis = 0))"
   ]
  },
  {
   "cell_type": "code",
   "execution_count": 23,
   "id": "a4489e55-3e95-478a-97c1-6248ebdcdbab",
   "metadata": {},
   "outputs": [
    {
     "data": {
      "text/plain": [
       "((12, 19), (54, 361))"
      ]
     },
     "execution_count": 23,
     "metadata": {},
     "output_type": "execute_result"
    }
   ],
   "source": [
    "np.shape(Encoder.independent_codes), np.shape(Encoder.pairwise_codes)"
   ]
  },
  {
   "cell_type": "code",
   "execution_count": 24,
   "id": "0d0e904f-dbd7-49f2-864b-ca612ac8b2d5",
   "metadata": {},
   "outputs": [
    {
     "data": {
      "text/plain": [
       "0"
      ]
     },
     "execution_count": 24,
     "metadata": {},
     "output_type": "execute_result"
    }
   ],
   "source": [
    "Encoder.amino_product.index('AA')"
   ]
  },
  {
   "cell_type": "code",
   "execution_count": 25,
   "id": "d2aa5e1f-1ec9-4ff1-8cba-8152cfe00d0f",
   "metadata": {},
   "outputs": [
    {
     "data": {
      "text/plain": [
       "(54, 361)"
      ]
     },
     "execution_count": 25,
     "metadata": {},
     "output_type": "execute_result"
    }
   ],
   "source": [
    "np.shape(Encoder.pairwise_codes)"
   ]
  },
  {
   "cell_type": "code",
   "execution_count": 26,
   "id": "6ca075c0-c2d9-4730-b1ee-5c32de863cc4",
   "metadata": {},
   "outputs": [
    {
     "data": {
      "text/plain": [
       "(12, 19)"
      ]
     },
     "execution_count": 26,
     "metadata": {},
     "output_type": "execute_result"
    }
   ],
   "source": [
    "np.shape(Encoder.independent_codes)"
   ]
  },
  {
   "cell_type": "code",
   "execution_count": 27,
   "id": "2a440b43-2220-45f7-97b3-3657fdfd058b",
   "metadata": {},
   "outputs": [
    {
     "data": {
      "text/plain": [
       "array([1.11022302e-15, 1.11022302e-15, 1.11022302e-15, 0.00000000e+00,\n",
       "       1.33226763e-15, 1.33226763e-15, 1.11022302e-15, 1.11022302e-15,\n",
       "       1.33226763e-15, 1.11022302e-15, 1.11022302e-15, 1.11022302e-15])"
      ]
     },
     "execution_count": 27,
     "metadata": {},
     "output_type": "execute_result"
    }
   ],
   "source": [
    "np.sum(Encoder.independent_codes - np.mean(Encoder.independent_codes, axis = 1)[:, np.newaxis], axis = 1)"
   ]
  },
  {
   "cell_type": "code",
   "execution_count": 28,
   "id": "270fe99d-e8fc-4c07-bc39-9f1b8d0f0bd3",
   "metadata": {},
   "outputs": [
    {
     "data": {
      "text/plain": [
       "array([-19,   1,   1,   1,   1,   1,   1,   1,   1,   1,   1,   1,   1,\n",
       "         1,   1,   1,   1,   1,   1,   1])"
      ]
     },
     "execution_count": 28,
     "metadata": {},
     "output_type": "execute_result"
    }
   ],
   "source": [
    "np.sum(Encoder.single_base_codes, axis = 1)"
   ]
  },
  {
   "cell_type": "code",
   "execution_count": 29,
   "id": "b1dcd1da-1c9f-43da-a0b6-8e41bbad93a5",
   "metadata": {},
   "outputs": [
    {
     "data": {
      "text/plain": [
       "array([  1,   1,   1, -19,   1,   1,   1,   1,   1,   1,   1,   1])"
      ]
     },
     "execution_count": 29,
     "metadata": {},
     "output_type": "execute_result"
    }
   ],
   "source": [
    "np.sum(Encoder.independent_codes, axis = 1)"
   ]
  },
  {
   "cell_type": "code",
   "execution_count": 30,
   "id": "d7eb1fc2-6658-42b8-84c6-3a711e2991f0",
   "metadata": {},
   "outputs": [
    {
     "data": {
      "text/plain": [
       "array([361, -19, -19, -19, -19, -19, -19, -19, -19, -19, -19, -19, -19,\n",
       "       -19, -19, -19, -19, -19, -19, -19, -19,   1,   1,   1,   1,   1,\n",
       "         1,   1,   1,   1,   1,   1,   1,   1,   1,   1,   1,   1,   1,\n",
       "         1, -19,   1,   1,   1,   1,   1,   1,   1,   1,   1,   1,   1,\n",
       "         1,   1,   1,   1,   1,   1,   1,   1, -19,   1,   1,   1,   1,\n",
       "         1,   1,   1,   1,   1,   1,   1,   1,   1,   1,   1,   1,   1,\n",
       "         1,   1, -19,   1,   1,   1,   1,   1,   1,   1,   1,   1,   1,\n",
       "         1,   1,   1,   1,   1,   1,   1,   1,   1, -19,   1,   1,   1,\n",
       "         1,   1,   1,   1,   1,   1,   1,   1,   1,   1,   1,   1,   1,\n",
       "         1,   1,   1, -19,   1,   1,   1,   1,   1,   1,   1,   1,   1,\n",
       "         1,   1,   1,   1,   1,   1,   1,   1,   1,   1, -19,   1,   1,\n",
       "         1,   1,   1,   1,   1,   1,   1,   1,   1,   1,   1,   1,   1,\n",
       "         1,   1,   1,   1, -19,   1,   1,   1,   1,   1,   1,   1,   1,\n",
       "         1,   1,   1,   1,   1,   1,   1,   1,   1,   1,   1, -19,   1,\n",
       "         1,   1,   1,   1,   1,   1,   1,   1,   1,   1,   1,   1,   1,\n",
       "         1,   1,   1,   1,   1, -19,   1,   1,   1,   1,   1,   1,   1,\n",
       "         1,   1,   1,   1,   1,   1,   1,   1,   1,   1,   1,   1, -19,\n",
       "         1,   1,   1,   1,   1,   1,   1,   1,   1,   1,   1,   1,   1,\n",
       "         1,   1,   1,   1,   1,   1, -19,   1,   1,   1,   1,   1,   1,\n",
       "         1,   1,   1,   1,   1,   1,   1,   1,   1,   1,   1,   1,   1,\n",
       "       -19,   1,   1,   1,   1,   1,   1,   1,   1,   1,   1,   1,   1,\n",
       "         1,   1,   1,   1,   1,   1,   1, -19,   1,   1,   1,   1,   1,\n",
       "         1,   1,   1,   1,   1,   1,   1,   1,   1,   1,   1,   1,   1,\n",
       "         1, -19,   1,   1,   1,   1,   1,   1,   1,   1,   1,   1,   1,\n",
       "         1,   1,   1,   1,   1,   1,   1,   1, -19,   1,   1,   1,   1,\n",
       "         1,   1,   1,   1,   1,   1,   1,   1,   1,   1,   1,   1,   1,\n",
       "         1,   1, -19,   1,   1,   1,   1,   1,   1,   1,   1,   1,   1,\n",
       "         1,   1,   1,   1,   1,   1,   1,   1,   1, -19,   1,   1,   1,\n",
       "         1,   1,   1,   1,   1,   1,   1,   1,   1,   1,   1,   1,   1,\n",
       "         1,   1,   1, -19,   1,   1,   1,   1,   1,   1,   1,   1,   1,\n",
       "         1,   1,   1,   1,   1,   1,   1,   1,   1,   1])"
      ]
     },
     "execution_count": 30,
     "metadata": {},
     "output_type": "execute_result"
    }
   ],
   "source": [
    "np.sum(Encoder.pairwise_base_codes, axis = 1)"
   ]
  },
  {
   "cell_type": "markdown",
   "id": "420ff8c3-93a4-43ac-8a37-7bd5f4f843ce",
   "metadata": {},
   "source": [
    "# Now do sparse (elastic net) linear regression to learn back the weights "
   ]
  },
  {
   "cell_type": "code",
   "execution_count": 31,
   "id": "6844401c-b8aa-46d8-b2cc-cd677bf7bb5f",
   "metadata": {},
   "outputs": [],
   "source": [
    "from doe_utils import Encoding_basics, Sequence_encoder_simplex\n",
    "from sklearn.linear_model import Lasso\n",
    "\n",
    "class Fitting_model(Encoding_basics): \n",
    "    \"\"\"\n",
    "    l1 norm fitting model of data, with different penalty for indepednent and pairwise parameters \n",
    "    \"\"\"\n",
    "    def __init__(self, mutation_probs_variable_region_dict): \n",
    "        \"\"\"\n",
    "        I need to SOLD matrix dict to get to the right parameters to fit \n",
    "        \n",
    "        Args: \n",
    "            pass the dict of mutation probs (this is generated by SOLD matrix class, attribute of dict is called mutation_probs_variable_region_indexed) \n",
    "            MUST BE INDEXED BY THE POSITION OF THE MUTATED REGION, not the portein position... thsi is to make sure we can deal with different length proteins \n",
    "\n",
    "            example:\n",
    "            {0: {'D': 0.05, 'K': 0.85, 'M': 0.05, 'Y': 0.05},\n",
    "             1: {'C': 0.05, 'G': 0.05, 'I': 0.05, 'P': 0.85},\n",
    "             2: {'F': 0.05, 'N': 0.05, 'R': 0.85, 'Y': 0.05},\n",
    "             3: {'G': 0.05, 'I': 0.05, 'L': 0.85, 'Q': 0.05},\n",
    "             4: {'A': 0.05, 'E': 0.05, 'R': 0.05, 'W': 0.85},\n",
    "             5: {'A': 0.05, 'D': 0.05, 'I': 0.85, 'K': 0.05}}\n",
    "            where the keys are the index of the mutated regions and the values are dicts of probs of each amino acid\n",
    "        \n",
    "        \"\"\"\n",
    "        super().__init__(mutation_probs_variable_region_dict) \n",
    "\n",
    "\n",
    "    def fit(self, seqs, activities, lambda_I = 0.0001, lambda_P = 0.1): \n",
    "        \"\"\"\n",
    "        Fit seqs to their activities \n",
    "        The seqs are ONLY variable regions seqs concatenated! No point trying to fit regions that don't vary in the SOLD experiment! \n",
    "        Args: \n",
    "            seqs\n",
    "            activities: vector of real values \n",
    "        \"\"\"\n",
    "        assert len(seqs) == len(activities), \"Seqs (X) and activities (y) should be same length vectors\"\n",
    "        self.encoder = Sequence_encoder_simplex(self.mutation_probs_variable_region_dict) \n",
    "        I_encodings, P_encodings = self.encoder.encode_seqs(seqs)\n",
    "        self.features = np.asarray([np.concatenate((np.ravel(indt), np.ravel(pair))) for indt, pair in zip(I_encodings, P_encodings)])  \n",
    "        self.number_of_features = np.prod(self.shape_independent_weights) + np.prod(self.shape_pairwise_weights) \n",
    "        self.independent_indices = np.arange(np.prod(self.shape_independent_weights)) # first few are independent features \n",
    "        self.pairwise_indices = np.arange(np.prod(self.shape_independent_weights), self.number_of_features)  # these a are the pariwise features \n",
    "        beta = cp.Variable(self.number_of_features)\n",
    "        loss = cp.sum_squares(activities - self.features @ beta)    \n",
    "        penalty = (lambda_I * cp.norm1(beta[self.independent_indices]) +\n",
    "                   lambda_P * cp.norm1(beta[self.pairwise_indices]))\n",
    "        objective = cp.Minimize(loss + penalty)\n",
    "        # Define the problem and solve\n",
    "        problem = cp.Problem(objective)\n",
    "        problem.solve()     \n",
    "        predicted_activities = np.dot(self.features, beta.value)\n",
    "        return beta.value, predicted_activities\n",
    "        # baseline = np.mean(responses) \n",
    "        # print(baseline)\n",
    "        # shifted_responses = responses - baseline\n",
    "        # independent_features = I_encodings.reshape(I_encodings.shape[0], -1) \n",
    "        # beta_indendent = cp.Variable(np.shape(independent_features)[1]) \n",
    "        # linear_fit_loss = cp.sum_squares(shifted_responses - independent_features @ beta_indendent)  \n",
    "        # penalty = lambda_I * cp.norm1(beta_indendent)\n",
    "        # objective = cp.Minimize(linear_fit_loss + penalty)\n",
    "        # # Define the problem and solve\n",
    "        # problem = cp.Problem(objective)\n",
    "        # problem.solve()   \n",
    "        # return baseline, beta_indendent.value\n",
    "        # objective = cp.Minimize(loss + penalty)\n",
    "        # beta = cp.Variable(self.number_of_features)\n",
    "        # loss = cp.sum_squares(activities - self.features @ beta)    \n",
    "        # penalty = (lambda_I * cp.norm1(beta[self.independent_indices]) +\n",
    "        #            lambda_P * cp.norm1(beta[self.pairwise_indices]))\n",
    "        # objective = cp.Minimize(loss + penalty)\n",
    "        # # Define the problem and solve\n",
    "        # problem = cp.Problem(objective)\n",
    "        # problem.solve()     \n",
    "        #print(baseline)\n",
    "        # lasso_model = Lasso(alpha=lambda_I, random_state=42)\n",
    "        # lasso_model.fit(self.features, activities)\n",
    "        # #predicted_activities = np.dot(self.features, beta.value) \n",
    "        # predicted_activities = np.dot(self.features, lasso_model.coef_)\n",
    "        # #return beta.value, predicted_activities  \n",
    "        # return lasso_model.coef_, predicted_activities\n",
    "\n",
    "    "
   ]
  },
  {
   "cell_type": "code",
   "execution_count": 32,
   "id": "8060fe09-5b23-43de-92a3-accc43b1e81a",
   "metadata": {},
   "outputs": [],
   "source": [
    "F = Fitting_model(S.mutation_probs_variable_region_indexed)"
   ]
  },
  {
   "cell_type": "code",
   "execution_count": 33,
   "id": "53244238-6717-4628-800d-237ae0a0b107",
   "metadata": {},
   "outputs": [],
   "source": [
    "#baseline, ind = F.fit(seqs, responses) "
   ]
  },
  {
   "cell_type": "code",
   "execution_count": 35,
   "id": "6ffcdbbc-a048-4793-ad38-a2782f8fdef5",
   "metadata": {},
   "outputs": [],
   "source": [
    "#plt.scatter(baseline[F.independent_indices], np.ravel(insilico_model.independent_weights))"
   ]
  },
  {
   "cell_type": "code",
   "execution_count": null,
   "id": "3ae17851-54b8-45e8-a5bd-e84c6cae0443",
   "metadata": {},
   "outputs": [],
   "source": [
    "x = np.linalg.eig(F.features.dot(F.features.T))"
   ]
  },
  {
   "cell_type": "code",
   "execution_count": null,
   "id": "be4d3488-86b5-4f24-8265-bd900bbb2345",
   "metadata": {},
   "outputs": [],
   "source": [
    "A = doe_utils.one_hot_encode(seqs)\n",
    "A = A.reshape(A.shape[0], -1)\n",
    "eigs, vs = np.linalg.eig(A.T.dot(A))"
   ]
  },
  {
   "cell_type": "code",
   "execution_count": null,
   "id": "002385d7-f823-4852-a405-9419c4e6b74e",
   "metadata": {},
   "outputs": [],
   "source": [
    "plt.plot(eigs)\n",
    "plt.yscale('log')"
   ]
  },
  {
   "cell_type": "code",
   "execution_count": null,
   "id": "0cbaae42-d724-494c-994b-dda39063521d",
   "metadata": {},
   "outputs": [],
   "source": [
    "seqs[0]"
   ]
  },
  {
   "cell_type": "code",
   "execution_count": 36,
   "id": "7d824779-bbda-4e3c-842b-2efc05c2551b",
   "metadata": {},
   "outputs": [
    {
     "data": {
      "text/plain": [
       "array(['0-H:1-A', '0-H:1-P', '0-H:1-Q', '0-K:1-A', '0-K:1-P', '0-K:1-Q',\n",
       "       '0-M:1-A', '0-M:1-P', '0-M:1-Q', '0-H:2-L', '0-H:2-M', '0-H:2-Q',\n",
       "       '0-K:2-L', '0-K:2-M', '0-K:2-Q', '0-M:2-L', '0-M:2-M', '0-M:2-Q',\n",
       "       '0-H:3-I', '0-H:3-M', '0-H:3-T', '0-K:3-I', '0-K:3-M', '0-K:3-T',\n",
       "       '0-M:3-I', '0-M:3-M', '0-M:3-T', '1-A:2-L', '1-A:2-M', '1-A:2-Q',\n",
       "       '1-P:2-L', '1-P:2-M', '1-P:2-Q', '1-Q:2-L', '1-Q:2-M', '1-Q:2-Q',\n",
       "       '1-A:3-I', '1-A:3-M', '1-A:3-T', '1-P:3-I', '1-P:3-M', '1-P:3-T',\n",
       "       '1-Q:3-I', '1-Q:3-M', '1-Q:3-T', '2-L:3-I', '2-L:3-M', '2-L:3-T',\n",
       "       '2-M:3-I', '2-M:3-M', '2-M:3-T', '2-Q:3-I', '2-Q:3-M', '2-Q:3-T'],\n",
       "      dtype='<U7')"
      ]
     },
     "execution_count": 36,
     "metadata": {},
     "output_type": "execute_result"
    }
   ],
   "source": [
    "insilico_model.feature_names_pairwise"
   ]
  },
  {
   "cell_type": "code",
   "execution_count": 37,
   "id": "4859b900-8abe-4160-be87-b0fcf0ac5435",
   "metadata": {},
   "outputs": [
    {
     "data": {
      "text/plain": [
       "54"
      ]
     },
     "execution_count": 37,
     "metadata": {},
     "output_type": "execute_result"
    }
   ],
   "source": [
    "len(insilico_model.feature_names_pairwise)"
   ]
  },
  {
   "cell_type": "code",
   "execution_count": 39,
   "id": "df129452-d8ee-4c4c-9e38-02c222bc25ed",
   "metadata": {},
   "outputs": [
    {
     "data": {
      "text/plain": [
       "12"
      ]
     },
     "execution_count": 39,
     "metadata": {},
     "output_type": "execute_result"
    }
   ],
   "source": [
    "len(insilico_model.feature_names_independent)"
   ]
  },
  {
   "cell_type": "code",
   "execution_count": 40,
   "id": "20473f67-6a3f-4d69-a9c8-76772fc1e1df",
   "metadata": {},
   "outputs": [
    {
     "data": {
      "text/plain": [
       "array([-1,  1,  1,  1, -1,  1,  1,  1,  1, -1, -1, -1])"
      ]
     },
     "execution_count": 40,
     "metadata": {},
     "output_type": "execute_result"
    }
   ],
   "source": [
    "np.kron([1, 1, -1], [-1, 1, 1, 1])"
   ]
  },
  {
   "cell_type": "code",
   "execution_count": null,
   "id": "cf98c948-ce82-4bc9-b7e3-d067d28a737e",
   "metadata": {},
   "outputs": [],
   "source": []
  }
 ],
 "metadata": {
  "kernelspec": {
   "display_name": "Python 3 (ipykernel)",
   "language": "python",
   "name": "python3"
  },
  "language_info": {
   "codemirror_mode": {
    "name": "ipython",
    "version": 3
   },
   "file_extension": ".py",
   "mimetype": "text/x-python",
   "name": "python",
   "nbconvert_exporter": "python",
   "pygments_lexer": "ipython3",
   "version": "3.13.5"
  }
 },
 "nbformat": 4,
 "nbformat_minor": 5
}
